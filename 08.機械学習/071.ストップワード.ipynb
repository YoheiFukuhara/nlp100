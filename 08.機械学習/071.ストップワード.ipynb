{
 "cells": [
  {
   "cell_type": "markdown",
   "metadata": {},
   "source": [
    "英語のストップワードのリスト（ストップリスト）を適当に作成せよ．さらに，引数に与えられた単語（文字列）がストップリストに含まれている場合は真，それ以外は偽を返す関数を実装せよ．さらに，その関数に対するテストを記述せよ．\n",
    "\n",
    "https://qiita.com/segavvy/items/007ed0523bf4e79e12fb\n",
    "\n",
    "\n",
    "- you're のような代名詞の場合は、Stop wordにあるので単純に削除可能\n",
    "- I'm のように一部ないものもあるし、代名詞以外(country'sなど)は記号で分割してあげてsのような接尾辞を除く\n",
    "- 記号はストップワードと意味合い違う"
   ]
  },
  {
   "cell_type": "code",
   "execution_count": 4,
   "metadata": {},
   "outputs": [],
   "source": [
    "from nltk.corpus import stopwords\n",
    "from nltk.tokenize import RegexpTokenizer"
   ]
  },
  {
   "cell_type": "code",
   "execution_count": 2,
   "metadata": {},
   "outputs": [],
   "source": [
    "# download only once\n",
    "#import nltk\n",
    "#nltk.download()\n",
    "#nltk.download('punkt')"
   ]
  },
  {
   "cell_type": "code",
   "execution_count": 5,
   "metadata": {},
   "outputs": [],
   "source": [
    "# nltkのstop wordsは'を含んでいるため'を分割しない(nltk)\n",
    "tokenizer = RegexpTokenizer(\"[\\w']+\")"
   ]
  },
  {
   "cell_type": "code",
   "execution_count": 6,
   "metadata": {},
   "outputs": [
    {
     "name": "stdout",
     "output_type": "stream",
     "text": [
      "{'been', 'yourselves', 'ma', 'her', 'very', 'out', 'after', 'their', 'through', 'more', 'themselves', 'same', 'between', 'he', 'we', 'whom', 'were', 'has', 'wasn', 'hasn', 'ours', 'ain', 'now', \"doesn't\", 'did', 'while', 'yours', 'myself', 'where', 'll', 'your', \"mightn't\", 'but', 'y', 'as', 'shan', 'for', 'me', 'those', 'should', \"should've\", \"you're\", 'an', 'be', 've', 'didn', 'd', 'doesn', 'was', 'when', 'or', \"needn't\", 'they', 'theirs', 'hers', 'once', 'being', 'so', 'into', 'haven', \"won't\", 'am', \"couldn't\", \"you'll\", 'both', 'if', 'any', \"haven't\", 'from', 't', 'this', 'down', \"aren't\", 'about', 'don', 'until', \"wasn't\", \"you'd\", 'such', 'by', 'just', 'of', 'she', 'nor', 'having', 'against', 'at', 'and', \"shouldn't\", 'does', 'most', 'weren', 'doing', 'o', \"you've\", 'all', 'before', \"weren't\", 'its', 'these', 'too', 'no', 'because', 'do', 'few', 'mustn', 'further', 'can', 'will', 'other', 'in', 'herself', 'himself', 'had', 's', 'hadn', 'own', 'his', \"mustn't\", 'that', 're', 'is', 'some', 'with', 'under', 'have', \"isn't\", 'itself', 'aren', \"it's\", 'not', 'off', \"she's\", 'couldn', 'yourself', 'are', 'you', 'what', \"hasn't\", 'then', 'to', 'needn', 'over', \"wouldn't\", 'shouldn', 'how', \"shan't\", 'on', 'which', 'than', 'mightn', 'isn', 'why', 'above', 'the', 'i', 'it', \"don't\", \"didn't\", 'here', 'there', 'during', 'ourselves', 'below', 'only', \"hadn't\", 'him', 'who', 'wouldn', 'a', \"that'll\", 'won', 'our', 'm', 'again', 'them', 'each', 'my', 'up'}\n"
     ]
    }
   ],
   "source": [
    "stop_words = set(stopwords.words('english'))\n",
    "print(stop_words)"
   ]
  },
  {
   "cell_type": "code",
   "execution_count": 7,
   "metadata": {},
   "outputs": [],
   "source": [
    "def is_stopword(str):\n",
    "    # 元データは基本的に全小文字化されているのでlowerは入れない\n",
    "    return True if len([word for word in tokenizer.tokenize(str) if word in stop_words]) > 0 else False"
   ]
  },
  {
   "cell_type": "code",
   "execution_count": 8,
   "metadata": {},
   "outputs": [
    {
     "name": "stdout",
     "output_type": "stream",
     "text": [
      "0 True ['nothing', 'more', 'substantial', 'than', 'a', 'fitfully', 'clever', 'doodle']\n",
      "1 True ['if', 'anything', 'the', 'film', 'is', 'doing', 'something', 'of', 'a', 'public', 'service', 'shedding', 'light', 'on', 'a', 'group', 'of', 'extremely', 'talented', 'musicians', 'who', 'might', 'otherwise', 'go', 'unnoticed', 'and', 'underappreciated', 'by', 'music', 'fans']\n",
      "2 True ['a', 'worthy', 'idea', 'but', 'the', 'uninspired', 'scripts', 'acting', 'and', 'direction', 'never', 'rise', 'above', 'the', 'level', 'of', 'an', 'after', 'school', 'tv', 'special']\n",
      "3 True ['it', 'may', 'be', 'a', 'prize', 'winner', 'but', 'teacher', 'is', 'a', 'bomb']\n",
      "4 True ['an', 'amalgam', 'of', 'the', 'fugitive', 'blade', 'runner', 'and', 'total', 'recall', 'only', 'without', 'much', 'energy', 'or', 'tension']\n",
      "5 True ['a', 'fast', 'funny', 'highly', 'enjoyable', 'movie']\n",
      "6 True ['been', 'there', 'done', 'that', 'a', 'thousand', 'times', 'already', 'and', 'better']\n",
      "7 True ['with', 'minimal', 'imagination', 'you', 'could', 'restage', 'the', 'whole', 'thing', 'in', 'your', 'bathtub']\n",
      "8 True ['its', 'rawness', 'and', 'vitality', 'give', 'it', 'considerable', 'punch']\n",
      "9 True ['fear', 'dot', 'com', 'is', 'more', 'frustrating', 'than', 'a', 'modem', 'that', 'disconnects', 'every', '10', 'seconds']\n",
      "10 True ['you', 'might', 'want', 'to', 'take', 'a', 'reality', 'check', 'before', 'you', 'pay', 'the', 'full', 'ticket', 'price', 'to', 'see', 'simone', 'and', 'consider', 'a', 'dvd', 'rental', 'instead']\n",
      "11 True ['there', 'are', 'more', 'shots', 'of', 'children', 'smiling', 'for', 'the', 'camera', 'than', 'typical', 'documentary', 'footage', 'which', 'hurts', 'the', 'overall', 'impact', 'of', 'the', 'film', \"it's\", 'makes', 'a', 'better', 'travelogue', 'than', 'movie']\n",
      "12 True ['the', 'ingenious', 'construction', 'adapted', 'by', 'david', 'hare', 'from', 'michael', \"cunningham's\", 'novel', 'constantly', 'flows', 'forwards', 'and', 'back', 'weaving', 'themes', 'among', 'three', 'strands', 'which', 'allow', 'us', 'to', 'view', 'events', 'as', 'if', 'through', 'a', 'prism']\n",
      "13 True ['skins', 'has', 'a', 'desolate', 'air', 'but', 'eyre', 'a', 'native', 'american', 'raised', 'by', 'white', 'parents', 'manages', 'to', 'infuse', 'the', 'rocky', 'path', 'to', 'sibling', 'reconciliation', 'with', 'flashes', 'of', 'warmth', 'and', 'gentle', 'humor']\n",
      "14 True ['one', 'of', 'those', 'films', 'that', 'started', 'with', 'a', 'great', 'premise', 'and', 'then', 'just', 'fell', 'apart']\n",
      "15 True ['enough', 'trivializes', 'an', 'important', 'crisis', 'reduces', 'it', 'to', 'an', 'almost', 'comic', 'embarrassment']\n",
      "16 True [\"it's\", 'not', 'going', 'to', 'be', \"everyone's\", 'bag', 'of', 'popcorn', 'but', 'it', 'definitely', 'gives', 'you', 'something', 'to', 'chew', 'on']\n",
      "17 True ['tadpole', 'may', 'be', 'one', 'of', 'the', 'most', 'appealing', 'movies', 'ever', 'made', 'about', 'an', 'otherwise', 'appalling', 'and', 'downright', 'creepy', 'subject', 'a', 'teenage', 'boy', 'in', 'love', 'with', 'his', 'stepmother']\n",
      "18 True ['once', 'kim', 'begins', 'to', 'overplay', 'the', 'shock', 'tactics', 'and', 'bait', 'and', 'tackle', 'metaphors', 'you', 'may', 'decide', \"it's\", 'too', 'high', 'a', 'price', 'to', 'pay', 'for', 'a', 'shimmering', 'picture', 'postcard']\n",
      "19 True ['remember', 'when', 'bond', 'had', 'more', 'glamour', 'than', 'clamor', 'no', 'more']\n",
      "20 True ['a', 'laughable', 'or', 'rather', 'unlaughable', 'excuse', 'for', 'a', 'film']\n",
      "21 False ['laughably', 'irredeemably', 'awful']\n",
      "22 True ['director', 'kapur', 'is', 'a', 'filmmaker', 'with', 'a', 'real', 'flair', 'for', 'epic', 'landscapes', 'and', 'adventure', 'and', 'this', 'is', 'a', 'better', 'film', 'than', 'his', 'earlier', 'english', 'language', 'movie', 'the', 'overpraised', 'elizabeth']\n",
      "23 True ['though', 'moonlight', 'mile', 'is', 'replete', 'with', 'acclaimed', 'actors', 'and', 'actresses', 'and', 'tackles', 'a', 'subject', \"that's\", 'potentially', 'moving', 'the', 'movie', 'is', 'too', 'predictable', 'and', 'too', 'self', 'conscious', 'to', 'reach', 'a', 'level', 'of', 'high', 'drama']\n",
      "24 True ['the', 'execution', 'is', 'so', 'pedestrian', 'that', 'the', 'most', 'positive', 'comment', 'we', 'can', 'make', 'is', 'that', 'rob', 'schneider', 'actually', 'turns', 'in', 'a', 'pretty', 'convincing', 'performance', 'as', 'a', 'prissy', 'teenage', 'girl']\n",
      "25 True ['reign', 'of', 'fire', 'is', 'hardly', 'the', 'most', 'original', 'fantasy', 'film', 'ever', 'made', 'beyond', 'road', 'warrior', 'it', 'owes', 'enormous', 'debts', 'to', 'aliens', 'and', 'every', 'previous', 'dragon', 'drama', 'but', 'that', 'barely', 'makes', 'it', 'any', 'less', 'entertaining']\n",
      "26 False ['truly', 'terrible']\n",
      "27 True ['as', 'original', 'and', 'insightful', 'as', 'last', \"week's\", 'episode', 'of', 'behind', 'the', 'music']\n",
      "28 True ['from', 'the', 'opening', 'strains', 'of', 'the', 'average', 'white', \"band's\", 'pick', 'up', 'the', 'pieces', 'you', 'can', 'feel', 'the', 'love']\n",
      "29 True ['secretary', 'is', 'owned', 'by', 'its', 'costars', 'spader', 'and', 'gyllenhaal', 'maggie', 'g', 'makes', 'an', 'amazing', 'breakthrough', 'in', 'her', 'first', 'starring', 'role', 'and', 'eats', 'up', 'the', 'screen']\n",
      "30 True ['expands', 'the', 'limits', 'of', 'what', 'a', 'film', 'can', 'be', 'taking', 'us', 'into', 'the', 'lives', 'of', 'women', 'to', 'whom', 'we', 'might', 'not', 'give', 'a', 'second', 'look', 'if', 'we', 'passed', 'them', 'on', 'the', 'street']\n",
      "31 True ['familiar', 'and', 'predictable', 'and', '4', '5ths', 'of', 'it', 'might', 'as', 'well', 'have', 'come', 'from', 'a', 'xerox', 'machine', 'rather', 'than', 'writer', 'director', 'franc', \"reyes'\", 'word', 'processor']\n",
      "32 True ['goofy', 'nutty', 'consistently', 'funny', 'and', 'educational']\n",
      "33 True ['on', 'its', 'own', \"it's\", 'not', 'very', 'interesting', 'as', 'a', 'remake', \"it's\", 'a', 'pale', 'imitation']\n",
      "34 True ['an', 'infectious', 'cultural', 'fable', 'with', 'a', 'tasty', 'balance', 'of', 'family', 'drama', 'and', 'frenetic', 'comedy']\n",
      "35 True ['a', 'mix', 'of', 'gritty', 'realism', 'crisp', 'storytelling', 'and', 'radiant', 'compassion', 'that', 'effortlessly', 'draws', 'you', 'in']\n",
      "36 True [\"cho's\", 'fans', 'are', 'sure', 'to', 'be', 'entertained', \"it's\", 'only', 'fair', 'in', 'the', 'interest', 'of', 'full', 'disclosure', 'to', 'say', 'that', 'on', 'the', 'basis', 'of', 'this', 'film', 'alone', \"i'm\", 'not', 'one', 'of', 'them']\n",
      "37 True ['most', 'of', 'the', 'things', 'that', 'made', 'the', 'original', 'men', 'in', 'black', 'such', 'a', 'pleasure', 'are', 'still', 'there']\n",
      "38 True ['murderous', 'maids', 'has', 'a', 'lot', 'going', 'for', 'it', 'not', 'least', 'the', 'brilliant', 'performances', 'by', 'testud', 'and', 'parmentier']\n",
      "39 True ['winds', 'up', 'being', 'both', 'revelatory', 'and', 'narcissistic', 'achieving', 'some', 'honest', 'insight', 'into', 'relationships', 'that', 'most', 'high', 'concept', 'films', 'candy', 'coat', 'with', 'pat', 'storylines', 'precious', 'circumstances', 'and', 'beautiful', 'stars']\n",
      "40 True ['using', 'a', 'stock', 'plot', 'about', 'a', 'boy', 'injects', 'just', 'enough', 'freshness', 'into', 'the', 'proceedings', 'to', 'provide', 'an', 'enjoyable', '100', 'minutes', 'in', 'a', 'movie', 'theater']\n"
     ]
    }
   ],
   "source": [
    "with open('./sentiment2.txt') as file:\n",
    "    for i, line in enumerate(file):\n",
    "        print(i, is_stopword(line), tokenizer.tokenize(line)[1:])\n",
    "        if i == 40:\n",
    "            break"
   ]
  },
  {
   "cell_type": "code",
   "execution_count": null,
   "metadata": {},
   "outputs": [],
   "source": []
  }
 ],
 "metadata": {
  "kernelspec": {
   "display_name": "Python 3",
   "language": "python",
   "name": "python3"
  },
  "language_info": {
   "codemirror_mode": {
    "name": "ipython",
    "version": 3
   },
   "file_extension": ".py",
   "mimetype": "text/x-python",
   "name": "python",
   "nbconvert_exporter": "python",
   "pygments_lexer": "ipython3",
   "version": "3.6.8"
  }
 },
 "nbformat": 4,
 "nbformat_minor": 4
}
