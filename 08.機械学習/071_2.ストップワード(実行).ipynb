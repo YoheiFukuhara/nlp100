{
 "cells": [
  {
   "cell_type": "markdown",
   "metadata": {},
   "source": [
    "英語のストップワードのリスト（ストップリスト）を適当に作成せよ．さらに，引数に与えられた単語（文字列）がストップリストに含まれている場合は真，それ以外は偽を返す関数を実装せよ．さらに，その関数に対するテストを記述せよ．"
   ]
  },
  {
   "cell_type": "code",
   "execution_count": 1,
   "metadata": {},
   "outputs": [],
   "source": [
    "from nltk.corpus import stopwords\n",
    "import stanfordnlp"
   ]
  },
  {
   "cell_type": "code",
   "execution_count": 2,
   "metadata": {},
   "outputs": [],
   "source": [
    "# 速くするためにタプルとして定義\n",
    "STOP_WORDS = set(stopwords.words('english'))"
   ]
  },
  {
   "cell_type": "code",
   "execution_count": 3,
   "metadata": {},
   "outputs": [],
   "source": [
    "# Universal POS tags に準拠していそう\n",
    "# https://universaldependencies.org/u/pos/\n",
    "EXC_POS = {'PUNCT',   # 句読点\n",
    "           'X',       # その他\n",
    "           'SYM',     # 記号\n",
    "           'PART',    # 助詞('sなど)\n",
    "           'NUM'}     # 番号"
   ]
  },
  {
   "cell_type": "code",
   "execution_count": 4,
   "metadata": {},
   "outputs": [
    {
     "name": "stdout",
     "output_type": "stream",
     "text": [
      "Use device: cpu\n",
      "---\n",
      "Loading: tokenize\n",
      "With settings: \n",
      "{'model_path': '/home/i348221/stanfordnlp_resources/en_ewt_models/en_ewt_tokenizer.pt', 'lang': 'en', 'shorthand': 'en_ewt', 'mode': 'predict'}\n",
      "---\n",
      "Loading: pos\n",
      "With settings: \n",
      "{'model_path': '/home/i348221/stanfordnlp_resources/en_ewt_models/en_ewt_tagger.pt', 'pretrain_path': '/home/i348221/stanfordnlp_resources/en_ewt_models/en_ewt.pretrain.pt', 'lang': 'en', 'shorthand': 'en_ewt', 'mode': 'predict'}\n",
      "---\n",
      "Loading: lemma\n",
      "With settings: \n",
      "{'model_path': '/home/i348221/stanfordnlp_resources/en_ewt_models/en_ewt_lemmatizer.pt', 'lang': 'en', 'shorthand': 'en_ewt', 'mode': 'predict'}\n",
      "Building an attentional Seq2Seq model...\n",
      "Using a Bi-LSTM encoder\n",
      "Using soft attention for LSTM.\n",
      "Finetune all embeddings.\n",
      "[Running seq2seq lemmatizer with edit classifier]\n",
      "Done loading processors!\n",
      "---\n"
     ]
    }
   ],
   "source": [
    "# プロセッサをデフォルトの全指定にすると遅かったので最低限に絞る\n",
    "# https://stanfordnlp.github.io/stanfordnlp/processors.html\n",
    "nlp = stanfordnlp.Pipeline(processors='tokenize,pos,lemma')"
   ]
  },
  {
   "cell_type": "code",
   "execution_count": 5,
   "metadata": {},
   "outputs": [],
   "source": [
    "def is_stopword(word):\n",
    "    return True if word.lemma in STOP_WORDS \\\n",
    "                  or word.upos in EXC_POS \\\n",
    "                else False"
   ]
  },
  {
   "cell_type": "code",
   "execution_count": 6,
   "metadata": {},
   "outputs": [
    {
     "name": "stdout",
     "output_type": "stream",
     "text": [
      "0 +1 a chick flick for guys .\n",
      "\n",
      "a DET a True\n",
      "chick NOUN chick False\n",
      "flick NOUN flick False\n",
      "for ADP for True\n",
      "guys NOUN guy False\n",
      ". PUNCT . True\n",
      "1 +1 an impressive if flawed effort that indicates real talent .\n",
      "\n",
      "an DET a True\n",
      "impressive ADJ impressive False\n",
      "if SCONJ if True\n",
      "flawed VERB flaw False\n",
      "effort NOUN effort False\n",
      "that PRON that True\n",
      "indicates VERB indicate False\n",
      "real ADJ real False\n",
      "talent NOUN talent False\n",
      ". PUNCT . True\n",
      "2 +1 displaying about equal amounts of naiveté , passion and talent , beneath clouds establishes sen as a filmmaker of considerable potential .\n",
      "\n",
      "displaying VERB displaying False\n",
      "about ADP about True\n",
      "equal ADJ equal False\n",
      "amounts NOUN amount False\n",
      "of ADP of True\n",
      "naiveté NOUN naiveté False\n",
      ", PUNCT , True\n",
      "passion NOUN passion False\n",
      "and CCONJ and True\n",
      "talent NOUN talent False\n",
      ", PUNCT , True\n",
      "beneath ADP beneath False\n",
      "clouds NOUN cloud False\n",
      "establishes VERB establish False\n",
      "sen NOUN sen False\n",
      "as ADP as True\n",
      "a DET a True\n",
      "filmmaker NOUN filmmaker False\n",
      "of ADP of True\n",
      "considerable ADJ considerable False\n",
      "potential NOUN potential False\n",
      ". PUNCT . True\n"
     ]
    }
   ],
   "source": [
    "with open('./sentiment.txt') as file:\n",
    "    for i, line in enumerate(file):\n",
    "        \n",
    "        # 最初の3文字はネガポジを示すだけなのでnlp処理しない(少しでも速くする)\n",
    "        doc = nlp(line[3:])\n",
    "        print(i, line)\n",
    "        for sentence in doc.sentences:\n",
    "            for word in sentence.words:\n",
    "                print(word.text, word.upos, word.lemma, is_stopword(word))\n",
    "        \n",
    "        if i == 2:\n",
    "            break"
   ]
  },
  {
   "cell_type": "code",
   "execution_count": null,
   "metadata": {},
   "outputs": [],
   "source": []
  }
 ],
 "metadata": {
  "kernelspec": {
   "display_name": "Python 3",
   "language": "python",
   "name": "python3"
  },
  "language_info": {
   "codemirror_mode": {
    "name": "ipython",
    "version": 3
   },
   "file_extension": ".py",
   "mimetype": "text/x-python",
   "name": "python",
   "nbconvert_exporter": "python",
   "pygments_lexer": "ipython3",
   "version": "3.6.8"
  }
 },
 "nbformat": 4,
 "nbformat_minor": 4
}
