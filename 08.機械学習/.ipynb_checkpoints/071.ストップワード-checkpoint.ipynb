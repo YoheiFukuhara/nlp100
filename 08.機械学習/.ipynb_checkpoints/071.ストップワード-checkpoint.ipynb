{
 "cells": [
  {
   "cell_type": "markdown",
   "metadata": {},
   "source": [
    "英語のストップワードのリスト（ストップリスト）を適当に作成せよ．さらに，引数に与えられた単語（文字列）がストップリストに含まれている場合は真，それ以外は偽を返す関数を実装せよ．さらに，その関数に対するテストを記述せよ．\n",
    "\n",
    "https://qiita.com/segavvy/items/007ed0523bf4e79e12fb\n",
    "\n",
    "\n",
    "- you're のような代名詞の場合は、Stop wordにあるので単純に削除可能\n",
    "- I'm のように一部ないものもあるし、代名詞以外(country'sなど)は記号で分割してあげてsのような接尾辞を除く\n",
    "- 記号はストップワードと意味合い違う"
   ]
  },
  {
   "cell_type": "code",
   "execution_count": 1,
   "metadata": {},
   "outputs": [],
   "source": [
    "from nltk.corpus import stopwords\n",
    "from nltk.tokenize import RegexpTokenizer"
   ]
  },
  {
   "cell_type": "code",
   "execution_count": 2,
   "metadata": {},
   "outputs": [],
   "source": [
    "# download only once\n",
    "#import nltk\n",
    "#nltk.download()\n",
    "#nltk.download('punkt')"
   ]
  },
  {
   "cell_type": "code",
   "execution_count": 3,
   "metadata": {},
   "outputs": [],
   "source": [
    "# nltkのstop wordsは'を含んでいるため'を分割しない(nltk)\n",
    "tokenizer = RegexpTokenizer(\"[\\w']+\")"
   ]
  },
  {
   "cell_type": "code",
   "execution_count": 4,
   "metadata": {},
   "outputs": [
    {
     "name": "stdout",
     "output_type": "stream",
     "text": [
      "{'mightn', 'yours', \"you'd\", 'shan', 'why', 'and', 'over', 'between', 'wouldn', 'there', 'again', 'on', \"wouldn't\", 'own', 'through', 'her', 'each', 'she', 'just', 'nor', 'doing', 'weren', 'had', \"mustn't\", 'an', 'very', \"wasn't\", 'in', 'themselves', 'down', 'so', 'theirs', 'am', 'to', 'few', 'they', 'any', 'mustn', 'him', 'be', 'myself', 'me', \"didn't\", 'has', 'aren', 'haven', 'which', 'is', 'have', 'don', 'should', 'its', 'or', 'them', 'after', 'whom', 've', 'a', 'are', 'o', 'because', \"doesn't\", 'now', \"won't\", 'further', 'himself', 'yourselves', 'for', 'during', 'couldn', \"isn't\", 'both', 'as', 'ma', 'needn', 'more', 'ours', \"aren't\", 're', 'your', 'my', \"you've\", 'being', 'until', 'did', 'only', 'll', 'ain', \"shan't\", \"it's\", 'does', 'off', 'can', 'from', 'herself', 'with', \"haven't\", 's', \"hasn't\", 'his', 'm', 'here', 'this', 'then', \"don't\", 'didn', 'he', 'it', 'our', 'below', \"she's\", 'y', \"weren't\", 'were', 'hadn', 'those', 'was', 'before', 'when', 'out', 'wasn', 'how', 'who', 'some', 'but', 'if', 'the', 'about', 'won', 'at', 'of', 'once', \"couldn't\", 'by', \"shouldn't\", 'i', 'd', \"mightn't\", 'such', \"you're\", 'been', \"you'll\", 'against', 'yourself', 'most', 'what', 'do', 'itself', 'ourselves', 'all', 'hers', 'not', 'will', 't', 'having', 'under', 'no', 'other', 'you', 'hasn', \"needn't\", 'up', \"that'll\", 'into', 'where', 'these', 'doesn', \"should've\", 'isn', 'their', 'too', 'while', \"hadn't\", 'same', 'shouldn', 'that', 'than', 'we', 'above'}\n"
     ]
    }
   ],
   "source": [
    "stop_words = set(stopwords.words('english'))\n",
    "print(stop_words)"
   ]
  },
  {
   "cell_type": "code",
   "execution_count": 19,
   "metadata": {},
   "outputs": [],
   "source": [
    "def is_stopword(str):\n",
    "    # 元データは基本的に全小文字化されているのでlowerは入れない\n",
    "    if len([word for word in tokenizer.tokenize(str) if word in stop_words]) > 0:\n",
    "        return True\n",
    "    else:\n",
    "        return False"
   ]
  },
  {
   "cell_type": "code",
   "execution_count": 20,
   "metadata": {},
   "outputs": [
    {
     "name": "stdout",
     "output_type": "stream",
     "text": [
      "0 True [\"it's\", 'not', 'original', 'enough']\n",
      "1 True ['gibney', 'and', 'jarecki', 'just', 'want', 'to', 'string', 'the', 'bastard', 'up']\n",
      "2 True ['an', 'overstylized', 'puréed', 'mélange', 'of', 'sex', 'psychology', 'drugs', 'and', 'philosophy', 'sometimes', 'entertaining', 'sometimes', 'indulgent', 'but', 'never', 'less', 'than', 'pure', 'wankery']\n",
      "3 True [\"woo's\", 'fights', 'have', 'a', 'distinct', 'flair', 'his', 'warriors', 'collide', 'in', 'balletic', 'explosion', 'that', 'implies', 'an', 'underlying', 'order', 'throughout', 'the', 'chaos']\n",
      "4 True ['one', 'of', 'the', 'most', 'depressing', 'movie', 'going', 'experiences', 'i', 'can', 'think', 'of', 'is', 'to', 'sit', 'through', 'about', '90', 'minutes', 'of', 'a', 'so', 'called', \"'comedy'\", 'and', 'not', 'laugh', 'once']\n",
      "5 True ['best', 'described', 'as', 'i', 'know', 'what', 'you', 'did', 'last', 'winter']\n",
      "6 True ['as', 'a', 'science', 'fiction', 'movie', 'minority', 'report', 'astounds']\n",
      "7 True ['the', \"auteur's\", 'ear', 'for', 'the', 'way', 'fears', 'and', 'slights', 'are', 'telegraphed', 'in', 'the', 'most', 'blithe', 'exchanges', 'gives', 'the', 'film', 'its', 'lingering', 'tug']\n",
      "8 True [\"costner's\", 'warm', 'milk', 'persona', 'is', 'just', 'as', 'ill', 'fitting', 'as', \"shadyac's\", 'perfunctory', 'directing', 'chops', 'and', 'some', 'of', 'the', 'more', 'overtly', 'silly', 'dialogue', 'would', 'sink', 'laurence', 'olivier']\n",
      "9 True ['what', 'was', 'once', 'original', 'has', 'been', 'co', 'opted', 'so', 'frequently', 'that', 'it', 'now', 'seems', 'pedestrian']\n",
      "10 True ['waydowntown', 'may', 'not', 'be', 'an', 'important', 'movie', 'or', 'even', 'a', 'good', 'one', 'but', 'it', 'provides', 'a', 'nice', 'change', 'of', 'mindless', 'pace', 'in', 'collision', 'with', 'the', 'hot', 'oscar', 'season', 'currently', 'underway']\n",
      "11 True ['apuestas', 'fuertes', 'para', 'el', 'futuro', 'del', 'director', 'y', 'apuestas', 'bien', 'fundadas', 'pues', 'la', 'suerte', 'ya', 'la', 'tiene', 'y', 'la', 'cinta', 'lo', 'comprueba']\n",
      "12 True ['trailer', 'park', 'magnolia', 'too', 'long', 'too', 'cutesy', 'too', 'sure', 'of', 'its', 'own', 'importance', 'and', 'possessed', 'of', 'that', 'peculiar', 'tension', 'of', 'being', 'too', 'dense', 'about', 'nothing', 'at', 'all']\n",
      "13 True ['birthday', 'girl', 'is', 'an', \"actor's\", 'movie', 'first', 'and', 'foremost']\n",
      "14 True ['director', 'rob', 'marshall', 'went', 'out', 'gunning', 'to', 'make', 'a', 'great', 'one']\n",
      "15 True ['this', 'is', 'a', 'movie', 'filled', 'with', 'unlikable', 'spiteful', 'idiots', 'whether', 'or', 'not', 'their', 'friendship', 'is', 'salvaged', 'makes', 'no', 'difference', 'in', 'the', 'least']\n",
      "16 True ['at', 'the', 'end', 'when', 'the', 'now', 'computerized', 'yoda', 'finally', 'reveals', 'his', 'martial', 'artistry', 'the', 'film', 'ascends', 'to', 'a', 'kinetic', 'life', 'so', 'teeming', 'that', 'even', 'cranky', 'adults', 'may', 'rediscover', 'the', 'quivering', 'kid', 'inside']\n",
      "17 True ['by', 'the', 'time', 'the', 'surprise', 'ending', 'is', 'revealed', 'interest', 'cannot', 'be', 'revived']\n",
      "18 False ['extremely', 'bad']\n",
      "19 True ['was', 'i', 'scared', 'only', 'at', 'the', 'prospect', 'of', \"beck's\", 'next', 'project', \"let's\", 'see', 'a', 'haunted', 'house', 'a', 'haunted', 'ship', \"what's\", 'next', 'ghost', 'blimp']\n",
      "20 True ['spinning', 'a', 'web', 'of', 'dazzling', 'entertainment', 'may', 'be', 'overstating', 'it', 'but', 'spider', 'man', 'certainly', 'delivers', 'the', 'goods']\n",
      "21 True ['borrows', 'a', 'bit', 'from', 'the', 'classics', 'wait', 'until', 'dark', 'and', 'extremities', 'but', 'in', 'terms', 'of', 'its', 'style', 'the', 'movie', 'is', 'in', 'a', 'class', 'by', 'itself']\n",
      "22 True ['as', 'the', 'story', 'moves', 'inexorably', 'through', 'its', 'seven', 'day', 'timeframe', 'the', 'picture', 'becomes', 'increasingly', 'mesmerizing']\n",
      "23 True ['just', 'about', 'all', 'of', 'the', 'film', 'is', 'confusing', 'on', 'one', 'level', 'or', 'another', 'making', 'ararat', 'far', 'more', 'demanding', 'than', 'it', 'needs', 'to', 'be']\n",
      "24 True ['as', 'relationships', 'shift', 'director', 'robert', 'j', 'siegel', 'allows', 'the', 'characters', 'to', 'inhabit', 'their', 'world', 'without', 'cleaving', 'to', 'a', 'narrative', 'arc']\n",
      "25 True [\"hollywood's\", 'answer', 'to', 'an', 'air', 'ball']\n",
      "26 True ['too', 'many', 'improbabilities', 'and', 'rose', 'colored', 'situations', 'temper', 'what', \"could've\", 'been', 'an', 'impacting', 'film']\n",
      "27 True ['stevens', 'is', 'so', 'stoked', 'to', 'make', 'an', 'important', 'film', 'about', 'human', 'infidelity', 'and', 'happenstance', 'that', 'he', 'tosses', 'a', 'kitchen', 'sink', 'onto', 'a', 'story', 'already', 'overladen', 'with', 'plot', 'conceits']\n",
      "28 True ['the', 'movie', 'is', 'like', 'a', 'year', 'late', 'for', 'tapping', 'into', 'our', 'reality', 'tv', 'obsession', 'and', 'even', 'tardier', 'for', 'exploiting', 'the', 'novelty', 'of', 'the', 'webcast']\n",
      "29 True ['an', 'energetic', 'violent', 'movie', 'with', 'a', 'momentum', 'that', 'never', 'lets', 'up']\n",
      "30 True [\"here's\", 'a', 'case', 'of', 'two', 'actors', 'who', 'do', 'everything', 'humanly', 'possible', 'to', 'create', 'characters', 'who', 'are', 'sweet', 'and', 'believable', 'and', 'are', 'defeated', 'by', 'a', 'screenplay', 'that', 'forces', 'them', 'into', 'bizarre', 'implausible', 'behavior']\n",
      "31 True ['cuba', 'gooding', 'jr', 'valiantly', 'mugs', 'his', 'way', 'through', 'snow', 'dogs', 'but', 'even', 'his', 'boisterous', 'energy', 'fails', 'to', 'spark', 'this', 'leaden', 'comedy']\n",
      "32 True ['a', 'celebration', 'of', 'quirkiness', 'eccentricity', 'and', 'certain', \"individuals'\", 'tendency', 'to', 'let', 'it', 'all', 'hang', 'out', 'and', 'damn', 'the', 'consequences']\n",
      "33 True ['it', 'should', 'be', 'interesting', 'it', 'should', 'be', 'poignant', 'it', 'turns', 'out', 'to', 'be', 'affected', 'and', 'boring']\n",
      "34 True ['this', 'submarine', 'drama', 'earns', 'the', 'right', 'to', 'be', 'favorably', 'compared', 'to', 'das', 'boot']\n",
      "35 True ['the', 'kind', 'of', 'sense', 'of', 'humor', 'that', 'derives', 'from', 'a', \"workman's\", 'grasp', 'of', 'pun', 'and', 'entendre', 'and', 'its', 'attendant', 'need', 'to', 'constantly', 'draw', 'attention', 'to', 'itself']\n",
      "36 True ['gently', 'humorous', 'and', 'touching']\n",
      "37 True ['the', 'phone', 'rings', 'and', 'a', 'voice', 'tells', 'you', \"you've\", 'got', 'seven', 'days', 'left', 'to', 'live', 'then', 'you', 'get', 'another', 'phone', 'call', 'warning', 'you', 'that', 'if', 'the', 'video', \"isn't\", 'back', 'at', 'blockbuster', 'before', 'midnight', \"you're\", 'going', 'to', 'face', 'frightening', 'late', 'fees', 'o', 'k', 'not', 'really']\n",
      "38 True ['plays', 'like', 'a', 'volatile', 'and', 'overlong', 'w', 'magazine', 'fashion', 'spread']\n",
      "39 True ['my', 'goodness', 'queen', 'latifah', 'has', 'a', 'lot', 'to', 'offer', 'and', 'she', 'seemed', 'to', 'have', 'no', 'problem', 'flaunting', 'her', 'natural', 'gifts', 'she', 'must', 'have', 'a', 'very', 'strong', 'back']\n",
      "40 True ['kids', 'five', 'and', 'up', 'will', 'be', 'delighted', 'with', 'the', 'fast', 'funny', 'and', 'even', 'touching', 'story', 'parents', 'may', 'even', 'find', 'that', 'it', 'goes', 'by', 'quickly', 'because', 'it', 'has', 'some', 'of', 'the', 'funniest', 'jokes', 'of', 'any', 'movie', 'this', 'year', 'including', 'those', 'intended', 'for', 'adults']\n"
     ]
    }
   ],
   "source": [
    "with open('./sentiment.txt') as file:\n",
    "    for i, line in enumerate(file):\n",
    "        print(i, is_stopword(line), tokenizer.tokenize(line)[1:])\n",
    "        if i == 40:\n",
    "            break"
   ]
  },
  {
   "cell_type": "code",
   "execution_count": null,
   "metadata": {},
   "outputs": [],
   "source": []
  }
 ],
 "metadata": {
  "kernelspec": {
   "display_name": "Python 3",
   "language": "python",
   "name": "python3"
  },
  "language_info": {
   "codemirror_mode": {
    "name": "ipython",
    "version": 3
   },
   "file_extension": ".py",
   "mimetype": "text/x-python",
   "name": "python",
   "nbconvert_exporter": "python",
   "pygments_lexer": "ipython3",
   "version": "3.6.8"
  }
 },
 "nbformat": 4,
 "nbformat_minor": 4
}
