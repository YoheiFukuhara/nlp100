{
 "cells": [
  {
   "cell_type": "raw",
   "metadata": {},
   "source": [
    "73で学習したロジスティック回帰モデルを用い，与えられた文の極性ラベル（正例なら\"+1\"，負例なら\"-1\"）と，その予測確率を計算するプログラムを実装せよ．"
   ]
  },
  {
   "cell_type": "code",
   "execution_count": 1,
   "metadata": {},
   "outputs": [],
   "source": [
    "import csv\n",
    "\n",
    "import pandas as pd\n",
    "import numpy as np\n",
    "from sklearn.feature_extraction.text import CountVectorizer, TfidfVectorizer\n",
    "from sklearn.linear_model import LogisticRegression\n",
    "from sklearn.model_selection import GridSearchCV, train_test_split\n",
    "from sklearn.pipeline import Pipeline\n",
    "from sklearn.base import BaseEstimator, TransformerMixin"
   ]
  },
  {
   "cell_type": "code",
   "execution_count": 2,
   "metadata": {},
   "outputs": [],
   "source": [
    "# 単語ベクトル化をGridSearchCVで使うのためのクラス\n",
    "class myVectorizer(BaseEstimator, TransformerMixin):\n",
    "    def __init__(self, method='tfidf', min_df=0.0005, max_df=0.10):\n",
    "        self.method = method\n",
    "        self.min_df = min_df\n",
    "        self.max_df = max_df\n",
    "\n",
    "    def fit(self, x, y=None):\n",
    "        if self.method == 'tfidf':\n",
    "            self.vectorizer = TfidfVectorizer(min_df=self.min_df, max_df=self.max_df)\n",
    "        else:\n",
    "            self.vectorizer = CountVectorizer(min_df=self.min_df, max_df=self.max_df)\n",
    "        self.vectorizer.fit(x)\n",
    "        return self\n",
    "\n",
    "    def transform(self, x, y=None):\n",
    "        return self.vectorizer.transform(x)"
   ]
  },
  {
   "cell_type": "code",
   "execution_count": 3,
   "metadata": {},
   "outputs": [],
   "source": [
    "# GridSearchCV用パラメータ\n",
    "PARAMETERS = [\n",
    "    {\n",
    "        'vectorizer__method':['tfidf', 'count'], \n",
    "        'vectorizer__min_df': [0.0003, 0.0004], \n",
    "        'vectorizer__max_df': [0.07, 0.10], \n",
    "        'classifier__C': [1, 3],    #10も試したが遅いだけでSCORE低い\n",
    "        'classifier__solver': ['newton-cg', 'liblinear']},\n",
    "    ]\n",
    "\n",
    "# 時間がかかるので下記を省略\n",
    "#        'vectorizer__min_df': [0.0003, 0.0004, 0.0005, 0.0006], \n",
    "#        'classifier__solver': ['newton-cg', 'lbfgs', 'liblinear', 'sag', 'saga']},"
   ]
  },
  {
   "cell_type": "code",
   "execution_count": 4,
   "metadata": {},
   "outputs": [],
   "source": [
    "# ファイル読込\n",
    "def read_csv_column(col):\n",
    "    with open('./sentiment_stem.txt') as file:\n",
    "        reader = csv.reader(file, delimiter='\\t')\n",
    "        header = next(reader)\n",
    "        return [row[col] for row in reader]    "
   ]
  },
  {
   "cell_type": "code",
   "execution_count": 5,
   "metadata": {},
   "outputs": [],
   "source": [
    "x_all = read_csv_column(1)\n",
    "y_all = read_csv_column(0)\n",
    "x_train, x_test, y_train, y_test = train_test_split(x_all, y_all)"
   ]
  },
  {
   "cell_type": "code",
   "execution_count": 6,
   "metadata": {},
   "outputs": [],
   "source": [
    "def train(x_train, y_train, file):\n",
    "    pipline = Pipeline([('vectorizer', myVectorizer()), ('classifier', LogisticRegression())])\n",
    "    \n",
    "    # clf は classificationの略\n",
    "    clf = GridSearchCV(\n",
    "            pipline, # \n",
    "            PARAMETERS,           # 最適化したいパラメータセット \n",
    "            cv = 5)               # 交差検定の回数\n",
    "    \n",
    "    clf.fit(x_train, y_train)\n",
    "    pd.DataFrame.from_dict(clf.cv_results_).to_csv(file)\n",
    "    \n",
    "    print('Grid Search Best parameters:', clf.best_params_)\n",
    "    print('Grid Search Best validation score:', clf.best_score_)\n",
    "    print('Grid Search Best training score:', clf.best_estimator_.score(x_train, y_train))\n",
    "    \n",
    "    return clf.best_estimator_"
   ]
  },
  {
   "cell_type": "code",
   "execution_count": 7,
   "metadata": {},
   "outputs": [],
   "source": [
    "def validate(estimator, x_test, y_test):\n",
    "    \n",
    "    for i, (x, y) in enumerate(zip(x_test, y_test)):\n",
    "        y_pred = estimator.predict_proba([x])\n",
    "        if y == np.argmax(y_pred).astype( str ):\n",
    "            if y == '1':\n",
    "                result = 'TP:正解がPositiveで予測もPositive'\n",
    "            else:\n",
    "                result = 'TN:正解がNegativeで予測もNegative'\n",
    "        else:\n",
    "            if y == '1':\n",
    "                result = 'FN:正解がPositiveで予測はNegative'\n",
    "            else:\n",
    "                result = 'FP:正解がNegativeで予測はPositive'\n",
    "        print(result, y_pred, x)\n",
    "        if i == 29:\n",
    "            break"
   ]
  },
  {
   "cell_type": "code",
   "execution_count": 8,
   "metadata": {},
   "outputs": [
    {
     "name": "stdout",
     "output_type": "stream",
     "text": [
      "Grid Search Best parameters: {'classifier__C': 3, 'classifier__solver': 'newton-cg', 'vectorizer__max_df': 0.07, 'vectorizer__method': 'tfidf', 'vectorizer__min_df': 0.0003}\n",
      "Grid Search Best validation score: 0.746248124062031\n",
      "Grid Search Best training score: 0.896448224112056\n",
      "CPU times: user 46.5 s, sys: 487 ms, total: 47 s\n",
      "Wall time: 48.7 s\n"
     ]
    }
   ],
   "source": [
    "%%time\n",
    "estimator = train(x_train, y_train, 'gs_result.csv')"
   ]
  },
  {
   "cell_type": "code",
   "execution_count": 9,
   "metadata": {},
   "outputs": [
    {
     "name": "stdout",
     "output_type": "stream",
     "text": [
      "FN:正解がPositiveで予測はNegative [[0.68516093 0.31483907]] star colleg kid subject matter adult get temptat flesh unleash slightli craze overtli determin young woman night swim turn ocean troubl\n",
      "TP:正解がPositiveで予測もPositive [[0.41581474 0.58418526]] find way tell simpl stori perhap simplest stori way seem compel even origin\n",
      "TN:正解がNegativeで予測もNegative [[0.74596613 0.25403387]] film place realli dabbl around never gain much momentum\n",
      "TN:正解がNegativeで予測もNegative [[0.72326093 0.27673907]] find grow frustrat detach vincent becom abhorr\n",
      "FN:正解がPositiveで予測はNegative [[0.72997442 0.27002558]] emperor new cloth begin simpl plan well least plan\n",
      "TN:正解がNegativeで予測もNegative [[0.78781904 0.21218096]] stitch bad manner ugli destruct littl cute factor mind ugli problem charact loveabl otherwis\n",
      "TP:正解がPositiveで予測もPositive [[0.3774083 0.6225917]] make sever adapt writer work armenian canadian director atom egoyan broach origin treatment deepli person subject\n",
      "TN:正解がNegativeで予測もNegative [[0.84168067 0.15831933]] stupor solemn film\n",
      "FP:正解がNegativeで予測はPositive [[0.35887701 0.64112299]] enough throwaway refer faith rainbow plant smile button face segment populac make walk rememb nich hit\n",
      "TP:正解がPositiveで予測もPositive [[0.32291974 0.67708026]] film enthral whole famili\n",
      "TP:正解がPositiveで予測もPositive [[0.43829664 0.56170336]] wit sever greek american wed happili victim none testifi compar accuraci ms vardalo memori insight\n",
      "FN:正解がPositiveで予測はNegative [[0.57079179 0.42920821]] flaw also stretch impact moment awe wrap charact make choic\n",
      "TN:正解がNegativeで予測もNegative [[0.52842572 0.47157428]] close phantom menac comfort\n",
      "TP:正解がPositiveで予測もPositive [[0.42790287 0.57209713]] jackson doubtless reserv darkest hour return king long greater sens urgenc tower\n",
      "TP:正解がPositiveで予測もPositive [[0.10883968 0.89116032]] greengrass deliv undoubt stylist tour de forc manag element sound cinematographi skill\n",
      "TN:正解がNegativeで予測もNegative [[0.70972672 0.29027328]] loud low budget tire formula film arriv cloak euphem urban drama\n",
      "FN:正解がPositiveで予測はNegative [[0.81615425 0.18384575]] dazzl thing behold long wear somewhat cumbersom goggl theater provid\n",
      "TN:正解がNegativeで予測もNegative [[0.8481802 0.1518198]] piti slapdash disast doa dud frame one\n",
      "TP:正解がPositiveで予測もPositive [[0.40730948 0.59269052]] smart littl indi\n",
      "TN:正解がNegativeで予測もNegative [[0.71296206 0.28703794]] take rob schneider switch bodi funni person\n",
      "TP:正解がPositiveで予測もPositive [[0.33071344 0.66928656]] flaw film admir one tri immers world artist abandon polit mad nearli succeed\n",
      "FN:正解がPositiveで予測はNegative [[0.53559936 0.46440064]] grenier terrif bring unforc rapid fire deliveri toback heidegg nietzsch refer dialogu\n",
      "TP:正解がPositiveで予測もPositive [[0.29032016 0.70967984]] insomnia involv still think\n",
      "TP:正解がPositiveで予測もPositive [[0.23648822 0.76351178]] funni look anoth cultur handl process court marriag\n",
      "TN:正解がNegativeで予測もNegative [[0.6371088 0.3628912]] empti ugli exercis druggi tranc noir trump street credibl\n",
      "TN:正解がNegativeで予測もNegative [[0.5882123 0.4117877]] long slog commit pokemon fan\n",
      "TN:正解がNegativeで予測もNegative [[0.70117695 0.29882305]] real reason see real reason\n",
      "TP:正解がPositiveで予測もPositive [[0.41917741 0.58082259]] no-brain least funni brainer\n",
      "TP:正解がPositiveで予測もPositive [[0.30620276 0.69379724]] movi full surpris biggest secret ballot comedi gentl bite\n",
      "FP:正解がNegativeで予測はPositive [[0.1643495 0.8356505]] showtim hapless victim arrog put togeth wri white man chatti black man give gun movi funni syndrom\n",
      "CPU times: user 27.3 ms, sys: 64.3 ms, total: 91.5 ms\n",
      "Wall time: 76 ms\n"
     ]
    }
   ],
   "source": [
    "%%time\n",
    "validate(estimator, x_test, y_test)"
   ]
  },
  {
   "cell_type": "code",
   "execution_count": null,
   "metadata": {},
   "outputs": [],
   "source": []
  }
 ],
 "metadata": {
  "kernelspec": {
   "display_name": "Python 3",
   "language": "python",
   "name": "python3"
  },
  "language_info": {
   "codemirror_mode": {
    "name": "ipython",
    "version": 3
   },
   "file_extension": ".py",
   "mimetype": "text/x-python",
   "name": "python",
   "nbconvert_exporter": "python",
   "pygments_lexer": "ipython3",
   "version": "3.6.8"
  }
 },
 "nbformat": 4,
 "nbformat_minor": 4
}
