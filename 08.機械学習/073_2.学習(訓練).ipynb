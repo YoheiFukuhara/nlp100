{
 "cells": [
  {
   "cell_type": "code",
   "execution_count": 1,
   "metadata": {},
   "outputs": [],
   "source": [
    "import csv\n",
    "\n",
    "import matplotlib.pyplot as plt\n",
    "import pandas as pd\n",
    "import numpy as np\n",
    "from sklearn.feature_extraction.text import CountVectorizer\n",
    "from sklearn.linear_model import LogisticRegression\n",
    "from sklearn.model_selection import GridSearchCV, train_test_split, learning_curve\n",
    "from sklearn.metrics import classification_report, confusion_matrix, roc_curve, auc, precision_recall_curve"
   ]
  },
  {
   "cell_type": "raw",
   "metadata": {},
   "source": [
    "https://datanerd.hateblo.jp/entry/2017/09/18/201907"
   ]
  },
  {
   "cell_type": "code",
   "execution_count": 2,
   "metadata": {},
   "outputs": [],
   "source": [
    "def read_csv_column(col):\n",
    "    with open('./sentiment_lemma.txt') as file:\n",
    "        reader = csv.reader(file, delimiter='\\t')\n",
    "        header = next(reader)\n",
    "        return [row[col] for row in reader]    "
   ]
  },
  {
   "cell_type": "code",
   "execution_count": 3,
   "metadata": {},
   "outputs": [],
   "source": [
    "x_all = read_csv_column(1)\n",
    "y_all = read_csv_column(0)"
   ]
  },
  {
   "cell_type": "code",
   "execution_count": 4,
   "metadata": {},
   "outputs": [],
   "source": [
    "cv = CountVectorizer(min_df=0.0005, max_df=0.10)\n",
    "# cv = CountVectorizer()"
   ]
  },
  {
   "cell_type": "code",
   "execution_count": 5,
   "metadata": {},
   "outputs": [],
   "source": [
    "x_all_cv = cv.fit_transform(x_all)\n",
    "x_train, x_test, y_train, y_test = train_test_split(x_all_cv, y_all)"
   ]
  },
  {
   "cell_type": "code",
   "execution_count": 6,
   "metadata": {},
   "outputs": [],
   "source": [
    "lr = LogisticRegression()\n",
    "#lr = LogisticRegression(solver='sag', max_iter=10000, verbose=2)"
   ]
  },
  {
   "cell_type": "code",
   "execution_count": 7,
   "metadata": {},
   "outputs": [],
   "source": [
    "tuned_parameters = [\n",
    "    {'C': [1, 1.5, 2, 2.5], 'solver': ['newton-cg']},\n",
    "    {'C': [1, 1.5, 2, 2.5], 'solver': ['lbfgs']},\n",
    "    {'C': [1, 1.5, 2, 2.5], 'solver': ['liblinear'], 'penalty':['l1', 'l2']},\n",
    "    {'C': [1, 1.5, 2, 2.5], 'solver': ['sag']},\n",
    "    {'C': [1, 1.5, 2, 2.5], 'solver': ['saga']}\n",
    "    ]\n",
    "\n",
    "#    {'C': [1, 10, 100], 'solver': ['newton-cg']},\n",
    "#    {'C': [1, 10, 100], 'solver': ['lbfgs']},\n",
    "#    {'C': [1, 10, 100], 'solver': ['liblinear'], 'penalty':['l1', 'l2']},\n",
    "#    {'C': [1, 10, 100], 'solver': ['sag']},\n",
    "#    {'C': [1, 10, 100], 'solver': ['saga']}\n"
   ]
  },
  {
   "cell_type": "code",
   "execution_count": 8,
   "metadata": {},
   "outputs": [],
   "source": [
    "score = 'f1'\n",
    "clf = GridSearchCV(\n",
    "    lr, # 識別器\n",
    "    tuned_parameters, # 最適化したいパラメータセット \n",
    "    cv=5, # 交差検定の回数\n",
    "    scoring='%s_weighted' % score ) # モデルの評価関数の指定"
   ]
  },
  {
   "cell_type": "code",
   "execution_count": 9,
   "metadata": {},
   "outputs": [
    {
     "name": "stderr",
     "output_type": "stream",
     "text": [
      "/home/i348221/Apps/python/venv/py36/lib/python3.6/site-packages/sklearn/linear_model/sag.py:337: ConvergenceWarning: The max_iter was reached which means the coef_ did not converge\n",
      "  \"the coef_ did not converge\", ConvergenceWarning)\n"
     ]
    },
    {
     "name": "stdout",
     "output_type": "stream",
     "text": [
      "CPU times: user 19 s, sys: 0 ns, total: 19 s\n",
      "Wall time: 19.3 s\n"
     ]
    },
    {
     "data": {
      "text/plain": [
       "GridSearchCV(cv=5, error_score='raise-deprecating',\n",
       "             estimator=LogisticRegression(C=1.0, class_weight=None, dual=False,\n",
       "                                          fit_intercept=True,\n",
       "                                          intercept_scaling=1, l1_ratio=None,\n",
       "                                          max_iter=100, multi_class='warn',\n",
       "                                          n_jobs=None, penalty='l2',\n",
       "                                          random_state=None, solver='warn',\n",
       "                                          tol=0.0001, verbose=0,\n",
       "                                          warm_start=False),\n",
       "             iid='warn', n_jobs=None,\n",
       "             param_grid=[{'C': [1, 1.5, 2, 2.5], 'solver': ['newton-cg']},\n",
       "                         {'C': [1, 1.5, 2, 2.5], 'solver': ['lbfgs']},\n",
       "                         {'C': [1, 1.5, 2, 2.5], 'penalty': ['l1', 'l2'],\n",
       "                          'solver': ['liblinear']},\n",
       "                         {'C': [1, 1.5, 2, 2.5], 'solver': ['sag']},\n",
       "                         {'C': [1, 1.5, 2, 2.5], 'solver': ['saga']}],\n",
       "             pre_dispatch='2*n_jobs', refit=True, return_train_score=False,\n",
       "             scoring='f1_weighted', verbose=0)"
      ]
     },
     "execution_count": 9,
     "metadata": {},
     "output_type": "execute_result"
    }
   ],
   "source": [
    "%%time\n",
    "clf.fit(x_train, y_train)"
   ]
  },
  {
   "cell_type": "code",
   "execution_count": 10,
   "metadata": {},
   "outputs": [
    {
     "name": "stdout",
     "output_type": "stream",
     "text": [
      "{'C': 1, 'solver': 'saga'}\n",
      "0.733166977688448\n"
     ]
    }
   ],
   "source": [
    "print(clf.best_params_)\n",
    "print(clf.best_score_)"
   ]
  },
  {
   "cell_type": "code",
   "execution_count": 11,
   "metadata": {},
   "outputs": [],
   "source": [
    "# スコアの一覧を取得\n",
    "gs_result = pd.DataFrame.from_dict(clf.cv_results_)\n",
    "gs_result.to_csv('gs_result.csv')"
   ]
  },
  {
   "cell_type": "code",
   "execution_count": 12,
   "metadata": {},
   "outputs": [
    {
     "data": {
      "text/plain": [
       "3348"
      ]
     },
     "execution_count": 12,
     "metadata": {},
     "output_type": "execute_result"
    }
   ],
   "source": [
    "len(cv.get_feature_names())"
   ]
  },
  {
   "cell_type": "code",
   "execution_count": 13,
   "metadata": {},
   "outputs": [
    {
     "data": {
      "text/plain": [
       "0.7355588897224306"
      ]
     },
     "execution_count": 13,
     "metadata": {},
     "output_type": "execute_result"
    }
   ],
   "source": [
    " # 最高性能のモデルを取得し、テストデータを分類\n",
    "best = clf.best_estimator_\n",
    "y_pred = best.predict(x_test)\n",
    "best.score(x_test, y_test)"
   ]
  },
  {
   "cell_type": "code",
   "execution_count": 14,
   "metadata": {},
   "outputs": [
    {
     "data": {
      "text/plain": [
       "0.8890695347673837"
      ]
     },
     "execution_count": 14,
     "metadata": {},
     "output_type": "execute_result"
    }
   ],
   "source": [
    "best.score(x_train, y_train)"
   ]
  },
  {
   "cell_type": "code",
   "execution_count": 15,
   "metadata": {},
   "outputs": [
    {
     "name": "stdout",
     "output_type": "stream",
     "text": [
      "              precision    recall  f1-score   support\n",
      "\n",
      "           0       0.73      0.74      0.74      1341\n",
      "           1       0.74      0.73      0.73      1325\n",
      "\n",
      "    accuracy                           0.74      2666\n",
      "   macro avg       0.74      0.74      0.74      2666\n",
      "weighted avg       0.74      0.74      0.74      2666\n",
      "\n"
     ]
    }
   ],
   "source": [
    "print(classification_report(y_test, y_pred))"
   ]
  },
  {
   "cell_type": "code",
   "execution_count": 16,
   "metadata": {},
   "outputs": [
    {
     "name": "stdout",
     "output_type": "stream",
     "text": [
      "[[998 343]\n",
      " [362 963]]\n"
     ]
    }
   ],
   "source": [
    "print(confusion_matrix(y_test, y_pred))"
   ]
  },
  {
   "cell_type": "code",
   "execution_count": 17,
   "metadata": {},
   "outputs": [
    {
     "name": "stderr",
     "output_type": "stream",
     "text": [
      "/home/i348221/Apps/python/venv/py36/lib/python3.6/site-packages/sklearn/linear_model/sag.py:337: ConvergenceWarning: The max_iter was reached which means the coef_ did not converge\n",
      "  \"the coef_ did not converge\", ConvergenceWarning)\n"
     ]
    }
   ],
   "source": [
    "training_sizes, train_scores, test_scores = learning_curve(best,\n",
    "                                                x_all_cv, y_all, cv=10,\n",
    "                                                scoring='%s_weighted' % score,\n",
    "                                                train_sizes=[0.3, 0.4, 0.5, 0.6, 0.7, 0.8, 0.9, 1.0])"
   ]
  },
  {
   "cell_type": "code",
   "execution_count": 18,
   "metadata": {},
   "outputs": [
    {
     "data": {
      "text/plain": [
       "<matplotlib.legend.Legend at 0x7f6fd65c30f0>"
      ]
     },
     "execution_count": 18,
     "metadata": {},
     "output_type": "execute_result"
    },
    {
     "data": {
      "image/png": "[encoded data removed]",
      "text/plain": [
       "<Figure size 432x288 with 1 Axes>"
      ]
     },
     "metadata": {
      "needs_background": "light"
     },
     "output_type": "display_data"
    }
   ],
   "source": [
    "plt.plot(training_sizes, train_scores.mean(axis=1), label=\"training scores\")\n",
    "plt.plot(training_sizes, test_scores.mean(axis=1), label=\"test scores\")\n",
    "plt.legend(loc=\"best\")"
   ]
  },
  {
   "cell_type": "code",
   "execution_count": 19,
   "metadata": {},
   "outputs": [
    {
     "name": "stdout",
     "output_type": "stream",
     "text": [
      "(2666, 2)\n",
      "[0.15605878 0.37548264 0.64914281 ... 0.24165175 0.85868162 0.94793768]\n"
     ]
    }
   ],
   "source": [
    "y_pred = best.predict_proba(x_test)\n",
    "print(y_pred.shape)\n",
    "print(y_pred[:,1])"
   ]
  },
  {
   "cell_type": "code",
   "execution_count": 20,
   "metadata": {},
   "outputs": [
    {
     "data": {
      "image/png": "[encoded data removed]",
      "text/plain": [
       "<Figure size 432x288 with 1 Axes>"
      ]
     },
     "metadata": {
      "needs_background": "light"
     },
     "output_type": "display_data"
    }
   ],
   "source": [
    "# FPR, TPR(, しきい値) を算出\n",
    "fpr, tpr, thresholds = roc_curve(y_test, y_pred[:,1], pos_label='1')\n",
    "#fpr, tpr, thresholds = roc_curve(np.array(y_test), np.array(y_pred[:,1]), pos_label=1)\n",
    "\n",
    "# ついでにAUCも\n",
    "auc = auc(fpr, tpr)\n",
    "\n",
    "# ROC曲線をプロット\n",
    "plt.plot(fpr, tpr, label='ROC curve (area = %.2f)'%auc)\n",
    "plt.legend()\n",
    "plt.title('ROC curve')\n",
    "plt.xlabel('False Positive Rate')\n",
    "plt.ylabel('True Positive Rate')\n",
    "plt.grid(True)"
   ]
  },
  {
   "cell_type": "code",
   "execution_count": 21,
   "metadata": {},
   "outputs": [],
   "source": [
    "# ある閾値の時の適合率、再現率, 閾値の値を取得\n",
    "precisions, recalls, thresholds = precision_recall_curve(y_test, y_pred[:,1], pos_label='1')"
   ]
  },
  {
   "cell_type": "code",
   "execution_count": 22,
   "metadata": {},
   "outputs": [
    {
     "data": {
      "image/png": "[encoded data removed]",
      "text/plain": [
       "<Figure size 432x288 with 1 Axes>"
      ]
     },
     "metadata": {
      "needs_background": "light"
     },
     "output_type": "display_data"
    }
   ],
   "source": [
    "# 0から1まで0.05刻みで○をプロット\n",
    "for i in range(21):\n",
    "    close_point = np.argmin(np.abs(thresholds - (i * 0.05)))\n",
    "    plt.plot(precisions[close_point], recalls[close_point], 'o')\n",
    "# 適合率-再現率曲線\n",
    "plt.plot(precisions, recalls)\n",
    "plt.xlabel('Precision')\n",
    "plt.ylabel('Recall')\n",
    " \n",
    "plt.show()"
   ]
  },
  {
   "cell_type": "code",
   "execution_count": null,
   "metadata": {},
   "outputs": [],
   "source": []
  }
 ],
 "metadata": {
  "kernelspec": {
   "display_name": "Python 3",
   "language": "python",
   "name": "python3"
  },
  "language_info": {
   "codemirror_mode": {
    "name": "ipython",
    "version": 3
   },
   "file_extension": ".py",
   "mimetype": "text/x-python",
   "name": "python",
   "nbconvert_exporter": "python",
   "pygments_lexer": "ipython3",
   "version": "3.6.8"
  }
 },
 "nbformat": 4,
 "nbformat_minor": 4
}
