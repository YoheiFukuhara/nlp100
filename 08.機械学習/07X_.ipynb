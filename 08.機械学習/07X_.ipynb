{
 "cells": [
  {
   "cell_type": "raw",
   "metadata": {},
   "source": [
    "72で抽出した素性を用いて，ロジスティック回帰モデルを学習せよ．"
   ]
  },
  {
   "cell_type": "code",
   "execution_count": 1,
   "metadata": {},
   "outputs": [],
   "source": [
    "import csv\n",
    "\n",
    "import matplotlib.pyplot as plt\n",
    "import pandas as pd\n",
    "import numpy as np\n",
    "from sklearn.feature_extraction.text import CountVectorizer, TfidfVectorizer\n",
    "from sklearn.linear_model import LogisticRegression\n",
    "from sklearn.model_selection import GridSearchCV, train_test_split, learning_curve\n",
    "from sklearn.metrics import classification_report, confusion_matrix, roc_curve, auc, precision_recall_curve\n",
    "from sklearn.pipeline import Pipeline\n",
    "\n",
    "from sklearn.base import BaseEstimator, TransformerMixin"
   ]
  },
  {
   "cell_type": "code",
   "execution_count": 2,
   "metadata": {},
   "outputs": [],
   "source": [
    "# https://qiita.com/_takoika/items/89a7e42dd0dc964d0e29\n",
    "# https://qiita.com/issakuss/items/d30303e200756980ae45\n",
    "class myVectorizer(BaseEstimator, TransformerMixin):\n",
    "    def __init__(self, method='tfidf', min_df=0.0005, max_df=0.10):\n",
    "        self.method = method\n",
    "        self.min_df = min_df\n",
    "        self.max_df = max_df\n",
    "\n",
    "    def fit(self, x, y=None):\n",
    "        if self.method == 'tfidf':\n",
    "            self.vectorizer = TfidfVectorizer(min_df=self.min_df, max_df=self.max_df)\n",
    "        else:\n",
    "            self.vectorizer = CountVectorizer(min_df=self.min_df, max_df=self.max_df)\n",
    "        self.vectorizer.fit(x)\n",
    "        return self\n",
    "\n",
    "    def transform(self, x, y=None):\n",
    "        return self.vectorizer.transform(x)"
   ]
  },
  {
   "cell_type": "code",
   "execution_count": 3,
   "metadata": {},
   "outputs": [],
   "source": [
    "PARAMETERS = [\n",
    "    {\n",
    "        'vectorizer__method':['tfidf', 'count'], \n",
    "        'vectorizer__min_df': [0.0004, 0.0005], \n",
    "        'vectorizer__max_df': [0.07, 0.10], \n",
    "        'classifier__C': [1, 3],    #10も試したが遅いだけでSCORE低い\n",
    "        'classifier__solver': ['newton-cg', 'liblinear']},\n",
    "    ]\n",
    "\n",
    "# 時間がかかるので下記を省略\n",
    "#        'vectorizer__min_df': [0.0004, 0.0005, 0.0006], \n",
    "#        'classifier__solver': ['newton-cg', 'lbfgs', 'liblinear', 'sag', 'saga']},"
   ]
  },
  {
   "cell_type": "code",
   "execution_count": 4,
   "metadata": {},
   "outputs": [],
   "source": [
    "def read_csv_column(col):\n",
    "    with open('./sentiment_stem.txt') as file:\n",
    "        reader = csv.reader(file, delimiter='\\t')\n",
    "        header = next(reader)\n",
    "        return [row[col] for row in reader]    "
   ]
  },
  {
   "cell_type": "code",
   "execution_count": 5,
   "metadata": {},
   "outputs": [],
   "source": [
    "x_all = read_csv_column(1)\n",
    "y_all = read_csv_column(0)\n",
    "x_train, x_test, y_train, y_test = train_test_split(x_all, y_all)"
   ]
  },
  {
   "cell_type": "code",
   "execution_count": 6,
   "metadata": {},
   "outputs": [],
   "source": [
    "def train(x_train, y_train, file):\n",
    "    pipline = Pipeline([('vectorizer', myVectorizer()), ('classifier', LogisticRegression())])\n",
    "    \n",
    "    # clf は classificationの略\n",
    "    clf = GridSearchCV(\n",
    "            pipline, # \n",
    "            PARAMETERS,           # 最適化したいパラメータセット \n",
    "            cv = 5)               # 交差検定の回数\n",
    "    \n",
    "    clf.fit(x_train, y_train)\n",
    "    pd.DataFrame.from_dict(clf.cv_results_).to_csv(file)\n",
    "\n",
    "    output_coef(clf.best_estimator_)\n",
    "\n",
    "    print('Grid Search Best parameters:', clf.best_params_)\n",
    "    print('Grid Search Best validation score:', clf.best_score_)\n",
    "    print('Grid Search Best training score:', clf.best_estimator_.score(x_train, y_train))\n",
    "    return clf.best_estimator_"
   ]
  },
  {
   "cell_type": "code",
   "execution_count": 16,
   "metadata": {},
   "outputs": [],
   "source": [
    "def output_coef(estimator):\n",
    "    vec = estimator.named_steps['vectorizer']\n",
    "    clf = estimator.named_steps['classifier']\n",
    "\n",
    "    coef_df = pd.DataFrame([clf.coef_[0]]).T.rename(columns={0: 'Coefficients'})\n",
    "    coef_df.index = vec.vectorizer.get_feature_names()\n",
    "    coef_sort = coef_df.sort_values('Coefficients')\n",
    "    coef_sort[:10].plot.barh()\n",
    "    coef_sort.tail(10).plot.barh()"
   ]
  },
  {
   "cell_type": "code",
   "execution_count": 8,
   "metadata": {},
   "outputs": [],
   "source": [
    "def validate(estimator, x_test, y_test):\n",
    "    y_pred = estimator.predict(x_test)\n",
    "    print('\\n', classification_report(y_test, y_pred))\n",
    "    print('\\n', confusion_matrix(y_test, y_pred))\n",
    "    \n",
    "    for i, (x, y) in enumerate(zip(x_test, y_test)):\n",
    "        y_pred = estimator.predict_proba([x])\n",
    "        if y == np.argmax(y_pred).astype( str ):\n",
    "            if y == '1':\n",
    "                result = 'TP:正解がPositiveで予測もPositive'\n",
    "            else:\n",
    "                result = 'TN:正解がNegativeで予測もNegative'\n",
    "        else:\n",
    "            if y == '1':\n",
    "                result = 'FN:正解がPositiveで予測はNegative'\n",
    "            else:\n",
    "                result = 'FP:正解がNegativeで予測はPositive'\n",
    "        print(result, y_pred, x)\n",
    "        if i == 29:\n",
    "            break"
   ]
  },
  {
   "cell_type": "code",
   "execution_count": 9,
   "metadata": {},
   "outputs": [],
   "source": [
    "def output_graphs(estimator, x_all, y_all, x_test, y_test):\n",
    "    output_learning_curve(estimator, x_all, y_all)\n",
    "    \n",
    "    y_pred = estimator.predict_proba(x_test)\n",
    "    \n",
    "    output_roc(y_test, y_pred)\n",
    "    \n",
    "    output_pr_curve(y_test, y_pred)"
   ]
  },
  {
   "cell_type": "code",
   "execution_count": 10,
   "metadata": {},
   "outputs": [],
   "source": [
    "def output_learning_curve(estimator, x_all, y_all):\n",
    "    training_sizes, train_scores, test_scores = learning_curve(estimator,\n",
    "                                                               x_all, y_all, cv=5,\n",
    "                                                               train_sizes=[0.3, 0.4, 0.5, 0.6, 0.7, 0.8, 0.9, 1.0])\n",
    "    plt.plot(training_sizes, train_scores.mean(axis=1), label=\"training scores\")\n",
    "    plt.plot(training_sizes, test_scores.mean(axis=1), label=\"test scores\")\n",
    "    plt.legend(loc=\"best\")\n",
    "    plt.show()"
   ]
  },
  {
   "cell_type": "code",
   "execution_count": 11,
   "metadata": {},
   "outputs": [],
   "source": [
    "def output_roc(y_test, y_pred):\n",
    "    # FPR, TPR(, しきい値) を算出\n",
    "    fpr, tpr, thresholds = roc_curve(y_test, y_pred[:,1], pos_label='1')\n",
    "\n",
    "    # ついでにAUCも\n",
    "    auc_ = auc(fpr, tpr)\n",
    "\n",
    "    # ROC曲線をプロット\n",
    "    plt.plot(fpr, tpr, label='ROC curve (area = %.2f)'%auc_)\n",
    "    plt.legend()\n",
    "    plt.title('ROC curve')\n",
    "    plt.xlabel('False Positive Rate')\n",
    "    plt.ylabel('True Positive Rate')\n",
    "    plt.grid(True)\n",
    "    plt.show()    "
   ]
  },
  {
   "cell_type": "code",
   "execution_count": 12,
   "metadata": {},
   "outputs": [],
   "source": [
    "def output_pr_curve(y_test, y_pred):\n",
    "    # ある閾値の時の適合率、再現率, 閾値の値を取得\n",
    "    precisions, recalls, thresholds = precision_recall_curve(y_test, y_pred[:,1], pos_label='1')\n",
    "    \n",
    "    # 0から1まで0.05刻みで○をプロット\n",
    "    for i in range(21):\n",
    "        close_point = np.argmin(np.abs(thresholds - (i * 0.05)))\n",
    "        plt.plot(precisions[close_point], recalls[close_point], 'o')\n",
    "\n",
    "    # 適合率-再現率曲線\n",
    "    plt.plot(precisions, recalls)\n",
    "    plt.xlabel('Precision')\n",
    "    plt.ylabel('Recall')\n",
    " \n",
    "    plt.show()"
   ]
  },
  {
   "cell_type": "code",
   "execution_count": null,
   "metadata": {},
   "outputs": [],
   "source": [
    "%%time\n",
    "estimator = train(x_train, y_train, 'gs_result.csv')"
   ]
  },
  {
   "cell_type": "code",
   "execution_count": 14,
   "metadata": {},
   "outputs": [
    {
     "ename": "NameError",
     "evalue": "name 'estimator' is not defined",
     "output_type": "error",
     "traceback": [
      "\u001b[0;31m---------------------------------------------------------------------------\u001b[0m",
      "\u001b[0;31mNameError\u001b[0m                                 Traceback (most recent call last)",
      "\u001b[0;32m<timed eval>\u001b[0m in \u001b[0;36m<module>\u001b[0;34m\u001b[0m\n",
      "\u001b[0;31mNameError\u001b[0m: name 'estimator' is not defined"
     ]
    }
   ],
   "source": [
    "%%time\n",
    "validate(estimator, x_test, y_test)"
   ]
  },
  {
   "cell_type": "code",
   "execution_count": 15,
   "metadata": {},
   "outputs": [
    {
     "ename": "NameError",
     "evalue": "name 'estimator' is not defined",
     "output_type": "error",
     "traceback": [
      "\u001b[0;31m---------------------------------------------------------------------------\u001b[0m",
      "\u001b[0;31mNameError\u001b[0m                                 Traceback (most recent call last)",
      "\u001b[0;32m<timed eval>\u001b[0m in \u001b[0;36m<module>\u001b[0;34m\u001b[0m\n",
      "\u001b[0;31mNameError\u001b[0m: name 'estimator' is not defined"
     ]
    }
   ],
   "source": [
    "%%time\n",
    "output_graphs(estimator, x_all, y_all, x_test, y_test)"
   ]
  },
  {
   "cell_type": "code",
   "execution_count": null,
   "metadata": {},
   "outputs": [],
   "source": []
  }
 ],
 "metadata": {
  "kernelspec": {
   "display_name": "Python 3",
   "language": "python",
   "name": "python3"
  },
  "language_info": {
   "codemirror_mode": {
    "name": "ipython",
    "version": 3
   },
   "file_extension": ".py",
   "mimetype": "text/x-python",
   "name": "python",
   "nbconvert_exporter": "python",
   "pygments_lexer": "ipython3",
   "version": "3.6.8"
  }
 },
 "nbformat": 4,
 "nbformat_minor": 4
}
