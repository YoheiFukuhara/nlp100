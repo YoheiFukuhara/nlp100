{
 "cells": [
  {
   "cell_type": "raw",
   "metadata": {},
   "source": [
    "73で学習したロジスティック回帰モデルの中で，重みの高い素性トップ10と，重みの低い素性トップ10を確認せよ．"
   ]
  },
  {
   "cell_type": "code",
   "execution_count": 1,
   "metadata": {},
   "outputs": [],
   "source": [
    "import csv\n",
    "\n",
    "import pandas as pd\n",
    "import matplotlib.pyplot as plt\n",
    "import numpy as np\n",
    "from sklearn.feature_extraction.text import CountVectorizer, TfidfVectorizer\n",
    "from sklearn.linear_model import LogisticRegression\n",
    "from sklearn.model_selection import GridSearchCV, train_test_split\n",
    "from sklearn.pipeline import Pipeline\n",
    "from sklearn.base import BaseEstimator, TransformerMixin"
   ]
  },
  {
   "cell_type": "code",
   "execution_count": 2,
   "metadata": {},
   "outputs": [],
   "source": [
    "# 単語ベクトル化をGridSearchCVで使うのためのクラス\n",
    "class myVectorizer(BaseEstimator, TransformerMixin):\n",
    "    def __init__(self, method='tfidf', min_df=0.0005, max_df=0.10):\n",
    "        self.method = method\n",
    "        self.min_df = min_df\n",
    "        self.max_df = max_df\n",
    "\n",
    "    def fit(self, x, y=None):\n",
    "        if self.method == 'tfidf':\n",
    "            self.vectorizer = TfidfVectorizer(min_df=self.min_df, max_df=self.max_df)\n",
    "        else:\n",
    "            self.vectorizer = CountVectorizer(min_df=self.min_df, max_df=self.max_df)\n",
    "        self.vectorizer.fit(x)\n",
    "        return self\n",
    "\n",
    "    def transform(self, x, y=None):\n",
    "        return self.vectorizer.transform(x)"
   ]
  },
  {
   "cell_type": "code",
   "execution_count": 3,
   "metadata": {},
   "outputs": [],
   "source": [
    "# GridSearchCV用パラメータ\n",
    "PARAMETERS = [\n",
    "    {\n",
    "        'vectorizer__method':['tfidf', 'count'], \n",
    "        'vectorizer__min_df': [0.0003, 0.0004], \n",
    "        'vectorizer__max_df': [0.07, 0.10], \n",
    "        'classifier__C': [1, 3],    #10も試したが遅いだけでSCORE低い\n",
    "        'classifier__solver': ['newton-cg', 'liblinear']},\n",
    "    ]\n",
    "\n",
    "# 時間がかかるので下記を省略\n",
    "#        'vectorizer__min_df': [0.0003, 0.0004, 0.0005, 0.0006], \n",
    "#        'classifier__solver': ['newton-cg', 'lbfgs', 'liblinear', 'sag', 'saga']},"
   ]
  },
  {
   "cell_type": "code",
   "execution_count": 4,
   "metadata": {},
   "outputs": [],
   "source": [
    "# ファイル読込\n",
    "def read_csv_column(col):\n",
    "    with open('./sentiment_stem.txt') as file:\n",
    "        reader = csv.reader(file, delimiter='\\t')\n",
    "        header = next(reader)\n",
    "        return [row[col] for row in reader]    "
   ]
  },
  {
   "cell_type": "code",
   "execution_count": 5,
   "metadata": {},
   "outputs": [],
   "source": [
    "x_all = read_csv_column(1)\n",
    "y_all = read_csv_column(0)\n",
    "x_train, x_test, y_train, y_test = train_test_split(x_all, y_all)"
   ]
  },
  {
   "cell_type": "code",
   "execution_count": 6,
   "metadata": {},
   "outputs": [],
   "source": [
    "# 訓練\n",
    "def train(x_train, y_train, file):\n",
    "    pipline = Pipeline([('vectorizer', myVectorizer()), ('classifier', LogisticRegression())])\n",
    "    \n",
    "    # clf は classificationの略\n",
    "    clf = GridSearchCV(\n",
    "            pipline, # \n",
    "            PARAMETERS,           # 最適化したいパラメータセット \n",
    "            cv = 5)               # 交差検定の回数\n",
    "    \n",
    "    clf.fit(x_train, y_train)\n",
    "    pd.DataFrame.from_dict(clf.cv_results_).to_csv(file)\n",
    "\n",
    "    print('Grid Search Best parameters:', clf.best_params_)\n",
    "    print('Grid Search Best validation score:', clf.best_score_)\n",
    "    print('Grid Search Best training score:', clf.best_estimator_.score(x_train, y_train))\n",
    "    \n",
    "    # 素性の重み出力\n",
    "    output_coef(clf.best_estimator_)\n",
    "    \n",
    "    return clf.best_estimator_"
   ]
  },
  {
   "cell_type": "code",
   "execution_count": 7,
   "metadata": {},
   "outputs": [],
   "source": [
    "# 素性の重み出力\n",
    "def output_coef(estimator):\n",
    "    vec = estimator.named_steps['vectorizer']\n",
    "    clf = estimator.named_steps['classifier']\n",
    "\n",
    "    coef_df = pd.DataFrame([clf.coef_[0]]).T.rename(columns={0: 'Coefficients'})\n",
    "    coef_df.index = vec.vectorizer.get_feature_names()\n",
    "    coef_sort = coef_df.sort_values('Coefficients')\n",
    "    coef_sort[:10].plot.barh()\n",
    "    coef_sort.tail(10).plot.barh()"
   ]
  },
  {
   "cell_type": "code",
   "execution_count": 8,
   "metadata": {},
   "outputs": [],
   "source": [
    "# 評価\n",
    "def validate(estimator, x_test, y_test):\n",
    "    \n",
    "    for i, (x, y) in enumerate(zip(x_test, y_test)):\n",
    "        y_pred = estimator.predict_proba([x])\n",
    "        if y == np.argmax(y_pred).astype( str ):\n",
    "            if y == '1':\n",
    "                result = 'TP:正解がPositiveで予測もPositive'\n",
    "            else:\n",
    "                result = 'TN:正解がNegativeで予測もNegative'\n",
    "        else:\n",
    "            if y == '1':\n",
    "                result = 'FN:正解がPositiveで予測はNegative'\n",
    "            else:\n",
    "                result = 'FP:正解がNegativeで予測はPositive'\n",
    "        print(result, y_pred, x)\n",
    "        if i == 29:\n",
    "            break"
   ]
  },
  {
   "cell_type": "code",
   "execution_count": 9,
   "metadata": {},
   "outputs": [
    {
     "name": "stdout",
     "output_type": "stream",
     "text": [
      "Grid Search Best parameters: {'classifier__C': 1, 'classifier__solver': 'newton-cg', 'vectorizer__max_df': 0.1, 'vectorizer__method': 'tfidf', 'vectorizer__min_df': 0.0003}\n",
      "Grid Search Best validation score: 0.7482491245622811\n",
      "Grid Search Best training score: 0.8676838419209605\n",
      "CPU times: user 55.7 s, sys: 461 ms, total: 56.2 s\n",
      "Wall time: 57.7 s\n"
     ]
    },
    {
     "data": {
      "image/png": "[encoded data removed]",
      "text/plain": [
       "<Figure size 432x288 with 1 Axes>"
      ]
     },
     "metadata": {
      "needs_background": "light"
     },
     "output_type": "display_data"
    },
    {
     "data": {
      "image/png": "[encoded data removed]",
      "text/plain": [
       "<Figure size 432x288 with 1 Axes>"
      ]
     },
     "metadata": {
      "needs_background": "light"
     },
     "output_type": "display_data"
    }
   ],
   "source": [
    "%%time\n",
    "estimator = train(x_train, y_train, 'gs_result.csv')"
   ]
  },
  {
   "cell_type": "code",
   "execution_count": 10,
   "metadata": {},
   "outputs": [
    {
     "name": "stdout",
     "output_type": "stream",
     "text": [
      "TN:正解がNegativeで予測もNegative [[0.59697513 0.40302487]] full wrong choic shake head disbelief worri classic oliv parker intend mangl next time\n",
      "FN:正解がPositiveで予測はNegative [[0.58297706 0.41702294]] provid nail bite suspens credibl charact reli technolog moment techniqu pretenti dialogu\n",
      "TN:正解がNegativeで予測もNegative [[0.59026702 0.40973298]] classifi altern realiti movi work much better deal realiti\n",
      "TP:正解がPositiveで予測もPositive [[0.47428752 0.52571248]] ingeni film comedi john malkovich\n",
      "TP:正解がPositiveで予測もPositive [[0.28947656 0.71052344]] shimmeringli love come age portrait shot art wateri tone blue green brown\n",
      "TP:正解がPositiveで予測もPositive [[0.19447222 0.80552778]] safe conduct long movi minut fill time drama romanc tragedi braveri polit intrigu partisan sabotag viva le resist\n",
      "TN:正解がNegativeで予測もNegative [[0.57953836 0.42046164]] movi spend time schneider newcom mcadam even perform interest funnier\n",
      "TN:正解がNegativeで予測もNegative [[0.56019392 0.43980608]] year old mysteri constantli interrupt elizabeth hurley bath suit\n",
      "FP:正解がNegativeで予測はPositive [[0.42285668 0.57714332]] slow unev ride pretti tatter old carousel\n",
      "TP:正解がPositiveで予測もPositive [[0.33742711 0.66257289]] see inch televis screen local multiplex edg seat educ antic steve irwin priceless entertain\n",
      "FN:正解がPositiveで予測はNegative [[0.61329703 0.38670297]] alreadi see citi sea varieti titl worth anoth visit\n",
      "FP:正解がNegativeで予測はPositive [[0.2532448 0.7467552]] humor hing belief knee crotch elbow face spit eye inher funni\n",
      "FN:正解がPositiveで予測はNegative [[0.690309 0.309691]] surfac silli comedi scotland pa forgett clever adapt bard tragic play\n",
      "TN:正解がNegativeで予測もNegative [[0.69606066 0.30393934]] know suppos take serious shake thought undercov brother miss opportun strongli present profound social commentari\n",
      "TP:正解がPositiveで予測もPositive [[0.1267807 0.8732193]] quietli move look back iranian american\n",
      "FP:正解がNegativeで予測はPositive [[0.35509008 0.64490992]] tuck famili movi go\n",
      "TN:正解がNegativeで予測もNegative [[0.72709959 0.27290041]] aspir piquant realli achiev sort ridicul sour\n",
      "FP:正解がNegativeで予測はPositive [[0.10543491 0.89456509]] hard care film propos epic tragedi plight callow rich boy forc choos beauti self satisfi year old girlfriend equal beauti self satisfi year old mistress\n",
      "TN:正解がNegativeで予測もNegative [[0.84158454 0.15841546]] chaotic self indulg remark ugli look seri pretenti aw student film string togeth featur length horror\n",
      "TP:正解がPositiveで予測もPositive [[0.15691883 0.84308117]] manag deliv fair bit vampir fun\n",
      "FN:正解がPositiveで予測はNegative [[0.7834798 0.2165202]] ali graduat littl screen big far less pain open scene encount amor terrier\n",
      "TN:正解がNegativeで予測もNegative [[0.64503531 0.35496469]] sentiment mess never ring true\n",
      "TP:正解がPositiveで予測もPositive [[0.08560204 0.91439796]] touch drama old age grief tour de forc perform michel piccoli\n",
      "FN:正解がPositiveで予測はNegative [[0.54703416 0.45296584]] personaj enfrentado propio deseo miedo prejuicio\n",
      "TN:正解がNegativeで予測もNegative [[0.54463863 0.45536137]] overwrought taiwanes soaper peopl mix relationship\n",
      "TP:正解がPositiveで予測もPositive [[0.29472121 0.70527879]] droll well act charact drive comedi unexpect deposit feel\n",
      "TN:正解がNegativeで予測もNegative [[0.63741522 0.36258478]] director hoffman writer kline agent serv detent\n",
      "TN:正解がNegativeで予測もNegative [[0.74310281 0.25689719]] make titl dodg one\n",
      "TN:正解がNegativeで予測もNegative [[0.67826581 0.32173419]] pictur errat central charact\n",
      "TN:正解がNegativeで予測もNegative [[0.68020908 0.31979092]] undercov brother go far enough silli black genr spoof\n",
      "CPU times: user 30.6 ms, sys: 40.6 ms, total: 71.2 ms\n",
      "Wall time: 56.2 ms\n"
     ]
    }
   ],
   "source": [
    "%%time\n",
    "validate(estimator, x_test, y_test)"
   ]
  },
  {
   "cell_type": "code",
   "execution_count": null,
   "metadata": {},
   "outputs": [],
   "source": []
  }
 ],
 "metadata": {
  "kernelspec": {
   "display_name": "Python 3",
   "language": "python",
   "name": "python3"
  },
  "language_info": {
   "codemirror_mode": {
    "name": "ipython",
    "version": 3
   },
   "file_extension": ".py",
   "mimetype": "text/x-python",
   "name": "python",
   "nbconvert_exporter": "python",
   "pygments_lexer": "ipython3",
   "version": "3.6.8"
  }
 },
 "nbformat": 4,
 "nbformat_minor": 4
}
