{
 "cells": [
  {
   "cell_type": "raw",
   "metadata": {},
   "source": [
    "73で学習したロジスティック回帰モデルの中で，重みの高い素性トップ10と，重みの低い素性トップ10を確認せよ．"
   ]
  },
  {
   "cell_type": "code",
   "execution_count": 1,
   "metadata": {},
   "outputs": [],
   "source": [
    "import csv\n",
    "\n",
    "import pandas as pd\n",
    "import matplotlib.pyplot as plt\n",
    "import numpy as np\n",
    "from sklearn.feature_extraction.text import CountVectorizer, TfidfVectorizer\n",
    "from sklearn.linear_model import LogisticRegression\n",
    "from sklearn.model_selection import GridSearchCV, train_test_split\n",
    "from sklearn.pipeline import Pipeline\n",
    "from sklearn.base import BaseEstimator, TransformerMixin"
   ]
  },
  {
   "cell_type": "code",
   "execution_count": 2,
   "metadata": {},
   "outputs": [],
   "source": [
    "# 単語ベクトル化をGridSearchCVで使うのためのクラス\n",
    "class myVectorizer(BaseEstimator, TransformerMixin):\n",
    "    def __init__(self, method='tfidf', min_df=0.0005, max_df=0.10):\n",
    "        self.method = method\n",
    "        self.min_df = min_df\n",
    "        self.max_df = max_df\n",
    "\n",
    "    def fit(self, x, y=None):\n",
    "        if self.method == 'tfidf':\n",
    "            self.vectorizer = TfidfVectorizer(min_df=self.min_df, max_df=self.max_df)\n",
    "        else:\n",
    "            self.vectorizer = CountVectorizer(min_df=self.min_df, max_df=self.max_df)\n",
    "        self.vectorizer.fit(x)\n",
    "        return self\n",
    "\n",
    "    def transform(self, x, y=None):\n",
    "        return self.vectorizer.transform(x)"
   ]
  },
  {
   "cell_type": "code",
   "execution_count": 3,
   "metadata": {},
   "outputs": [],
   "source": [
    "# GridSearchCV用パラメータ\n",
    "PARAMETERS = [\n",
    "    {\n",
    "        'vectorizer__method':['tfidf', 'count'], \n",
    "        'vectorizer__min_df': [0.0003, 0.0004], \n",
    "        'vectorizer__max_df': [0.07, 0.10], \n",
    "        'classifier__C': [1, 3],    #10も試したが遅いだけでSCORE低い\n",
    "        'classifier__solver': ['newton-cg', 'liblinear']},\n",
    "    ]\n",
    "\n",
    "# 時間がかかるので下記を省略\n",
    "#        'vectorizer__min_df': [0.0003, 0.0004, 0.0005, 0.0006], \n",
    "#        'classifier__solver': ['newton-cg', 'lbfgs', 'liblinear', 'sag', 'saga']},"
   ]
  },
  {
   "cell_type": "code",
   "execution_count": 4,
   "metadata": {},
   "outputs": [],
   "source": [
    "# ファイル読込\n",
    "def read_csv_column(col):\n",
    "    with open('./sentiment_stem.txt') as file:\n",
    "        reader = csv.reader(file, delimiter='\\t')\n",
    "        header = next(reader)\n",
    "        return [row[col] for row in reader]    "
   ]
  },
  {
   "cell_type": "code",
   "execution_count": 5,
   "metadata": {},
   "outputs": [],
   "source": [
    "x_all = read_csv_column(1)\n",
    "y_all = read_csv_column(0)\n",
    "x_train, x_test, y_train, y_test = train_test_split(x_all, y_all)"
   ]
  },
  {
   "cell_type": "code",
   "execution_count": 6,
   "metadata": {},
   "outputs": [],
   "source": [
    "# 訓練\n",
    "def train(x_train, y_train, file):\n",
    "    pipline = Pipeline([('vectorizer', myVectorizer()), ('classifier', LogisticRegression())])\n",
    "    \n",
    "    # clf は classificationの略\n",
    "    clf = GridSearchCV(\n",
    "            pipline, # \n",
    "            PARAMETERS,           # 最適化したいパラメータセット \n",
    "            cv = 5)               # 交差検定の回数\n",
    "    \n",
    "    clf.fit(x_train, y_train)\n",
    "    pd.DataFrame.from_dict(clf.cv_results_).to_csv(file)\n",
    "    \n",
    "    # 素性の重み出力\n",
    "    output_coef(clf.best_estimator_)\n",
    "    \n",
    "    return clf.best_estimator_"
   ]
  },
  {
   "cell_type": "code",
   "execution_count": 7,
   "metadata": {},
   "outputs": [],
   "source": [
    "# 素性の重み出力\n",
    "def output_coef(estimator):\n",
    "    vec = estimator.named_steps['vectorizer']\n",
    "    clf = estimator.named_steps['classifier']\n",
    "\n",
    "    coef_df = pd.DataFrame([clf.coef_[0]]).T.rename(columns={0: 'Coefficients'})\n",
    "    coef_df.index = vec.vectorizer.get_feature_names()\n",
    "    coef_sort = coef_df.sort_values('Coefficients')\n",
    "    coef_sort[:10].plot.barh()\n",
    "    coef_sort.tail(10).plot.barh()"
   ]
  },
  {
   "cell_type": "code",
   "execution_count": 8,
   "metadata": {},
   "outputs": [],
   "source": [
    "# 評価\n",
    "def validate(estimator, x_test, y_test):\n",
    "    \n",
    "    for i, (x, y) in enumerate(zip(x_test, y_test)):\n",
    "        y_pred = estimator.predict_proba([x])\n",
    "        if y == np.argmax(y_pred).astype( str ):\n",
    "            if y == '1':\n",
    "                result = 'TP:正解がPositiveで予測もPositive'\n",
    "            else:\n",
    "                result = 'TN:正解がNegativeで予測もNegative'\n",
    "        else:\n",
    "            if y == '1':\n",
    "                result = 'FN:正解がPositiveで予測はNegative'\n",
    "            else:\n",
    "                result = 'FP:正解がNegativeで予測はPositive'\n",
    "        print(result, y_pred, x)\n",
    "        if i == 29:\n",
    "            break"
   ]
  },
  {
   "cell_type": "code",
   "execution_count": 9,
   "metadata": {},
   "outputs": [
    {
     "name": "stdout",
     "output_type": "stream",
     "text": [
      "CPU times: user 45.9 s, sys: 229 ms, total: 46.1 s\n",
      "Wall time: 46.2 s\n"
     ]
    },
    {
     "data": {
      "image/png": "[encoded data removed]",
      "text/plain": [
       "<Figure size 432x288 with 1 Axes>"
      ]
     },
     "metadata": {
      "needs_background": "light"
     },
     "output_type": "display_data"
    },
    {
     "data": {
      "image/png": "[encoded data removed]",
      "text/plain": [
       "<Figure size 432x288 with 1 Axes>"
      ]
     },
     "metadata": {
      "needs_background": "light"
     },
     "output_type": "display_data"
    }
   ],
   "source": [
    "%%time\n",
    "estimator = train(x_train, y_train, 'gs_result.csv')"
   ]
  },
  {
   "cell_type": "code",
   "execution_count": 10,
   "metadata": {},
   "outputs": [
    {
     "name": "stdout",
     "output_type": "stream",
     "text": [
      "TP:正解がPositiveで予測もPositive [[0.34743553 0.65256447]] begin convent thriller evolv gorgeous atmospher medit life chang chanc encount\n",
      "TP:正解がPositiveで予測もPositive [[0.07948157 0.92051843]] film immens enjoy thank great perform steve buscemi rosario dawson\n",
      "TP:正解がPositiveで予測もPositive [[0.22336682 0.77663318]] breath surpris new life familiar amalgam genr add true human complex stock charact\n",
      "FP:正解がNegativeで予測はPositive [[0.31154339 0.68845661]] pleasur stick tune\n",
      "TN:正解がNegativeで予測もNegative [[0.53964942 0.46035058]] bit themat meat bone queen dam origin ann rice novel dictat gener movi emphas style charact substanc\n",
      "FP:正解がNegativeで予測はPositive [[0.30590841 0.69409159]] base david leavitt stori film share writer usual blend observ clever facil coincid slightli noxiou precious\n",
      "TN:正解がNegativeで予測もNegative [[0.60855142 0.39144858]] whimsic predict time travel fabl marr will singl minded\n",
      "TP:正解がPositiveで予測もPositive [[0.18026477 0.81973523]] emot raw strike nerv ever famili trauma\n",
      "TP:正解がPositiveで予測もPositive [[0.32076669 0.67923331]] thoroughli engross ultim tragic\n",
      "FN:正解がPositiveで予測はNegative [[0.62513127 0.37486873]] reminisc alfr hitchcock thriller scari part sign occur wait thing happen\n",
      "TP:正解がPositiveで予測もPositive [[0.350516 0.649484]] tonal shift jolt wen messag profound thought deliv thorough transit make film cohes\n",
      "TP:正解がPositiveで予測もPositive [[0.31783462 0.68216538]] engag constant fit laughter find surpris much care stori end walk satisfi also somewhat touch\n",
      "TN:正解がNegativeで予測もNegative [[0.86444671 0.13555329]] film start promisingli end predict far clich realli work\n",
      "TP:正解がPositiveで予測もPositive [[0.28898475 0.71101525]] strike larg celebratori film sens isol permeat bastion individu ikea world\n",
      "TN:正解がNegativeで予測もNegative [[0.58866193 0.41133807]] total overwrought deepli bias wholli design make feel guilti ignor filmmak clearli believ greatest musician time\n",
      "FP:正解がNegativeで予測はPositive [[0.18754526 0.81245474]] moment film surpris delight\n",
      "FP:正解がNegativeで予測はPositive [[0.36334194 0.63665806]] fight scene fun grow tediou\n",
      "TP:正解がPositiveで予測もPositive [[0.19034211 0.80965789]] intim contempl marvel messi life\n",
      "FP:正解がNegativeで予測はPositive [[0.46395061 0.53604939]] nearli fundament take grant film mishandl\n",
      "TP:正解がPositiveで予測もPositive [[0.38466223 0.61533777]] film well worth see talk sing head\n",
      "TP:正解がPositiveで予測もPositive [[0.39360749 0.60639251]] claud chabrol thriller thrill okay\n",
      "TP:正解がPositiveで予測もPositive [[0.24186732 0.75813268]] ingeni entertain thriller see quit long time\n",
      "TN:正解がNegativeで予測もNegative [[0.88569087 0.11430913]] stiflingli unfunni unorigin mess\n",
      "TN:正解がNegativeで予測もNegative [[0.71944478 0.28055522]] scare prospect beck next project let see haunt hous haunt ship next ghost blimp\n",
      "FN:正解がPositiveで予測はNegative [[0.66795024 0.33204976]] cremast come warn seriou film buff\n",
      "TP:正解がPositiveで予測もPositive [[0.31146279 0.68853721]] admir dark first script brent hanley paxton make directori featur debut strong measur work\n",
      "TP:正解がPositiveで予測もPositive [[0.36509013 0.63490987]] short masterpiec challeng one\n",
      "TP:正解がPositiveで予測もPositive [[0.49129222 0.50870778]] new zealand come age movi realli rich lusciou care\n",
      "FN:正解がPositiveで予測はNegative [[0.6891436 0.3108564]] ye good rememb fact even better\n",
      "TN:正解がNegativeで予測もNegative [[0.73385419 0.26614581]] melani eventu slug yanke bad former murphi brown pop rees back\n",
      "CPU times: user 42.1 ms, sys: 24.5 ms, total: 66.6 ms\n",
      "Wall time: 62.1 ms\n"
     ]
    }
   ],
   "source": [
    "%%time\n",
    "validate(estimator, x_test, y_test)"
   ]
  },
  {
   "cell_type": "code",
   "execution_count": null,
   "metadata": {},
   "outputs": [],
   "source": []
  }
 ],
 "metadata": {
  "kernelspec": {
   "display_name": "Python 3",
   "language": "python",
   "name": "python3"
  },
  "language_info": {
   "codemirror_mode": {
    "name": "ipython",
    "version": 3
   },
   "file_extension": ".py",
   "mimetype": "text/x-python",
   "name": "python",
   "nbconvert_exporter": "python",
   "pygments_lexer": "ipython3",
   "version": "3.6.8"
  }
 },
 "nbformat": 4,
 "nbformat_minor": 4
}
