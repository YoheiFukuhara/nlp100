{
 "cells": [
  {
   "cell_type": "raw",
   "metadata": {},
   "source": [
    "ロジスティック回帰モデルの分類の閾値を変化させることで，適合率-再現率グラフを描画せよ．"
   ]
  },
  {
   "cell_type": "code",
   "execution_count": 1,
   "metadata": {},
   "outputs": [],
   "source": [
    "import csv\n",
    "\n",
    "import pandas as pd\n",
    "import matplotlib.pyplot as plt\n",
    "import numpy as np\n",
    "from sklearn.feature_extraction.text import CountVectorizer, TfidfVectorizer\n",
    "from sklearn.linear_model import LogisticRegression\n",
    "from sklearn.model_selection import GridSearchCV, train_test_split, learning_curve\n",
    "from sklearn.metrics import classification_report, confusion_matrix, roc_curve, auc, precision_recall_curve\n",
    "from sklearn.pipeline import Pipeline\n",
    "from sklearn.base import BaseEstimator, TransformerMixin"
   ]
  },
  {
   "cell_type": "code",
   "execution_count": 2,
   "metadata": {},
   "outputs": [],
   "source": [
    "# 単語ベクトル化をGridSearchCVで使うのためのクラス\n",
    "class myVectorizer(BaseEstimator, TransformerMixin):\n",
    "    def __init__(self, method='tfidf', min_df=0.0005, max_df=0.10):\n",
    "        self.method = method\n",
    "        self.min_df = min_df\n",
    "        self.max_df = max_df\n",
    "\n",
    "    def fit(self, x, y=None):\n",
    "        if self.method == 'tfidf':\n",
    "            self.vectorizer = TfidfVectorizer(min_df=self.min_df, max_df=self.max_df)\n",
    "        else:\n",
    "            self.vectorizer = CountVectorizer(min_df=self.min_df, max_df=self.max_df)\n",
    "        self.vectorizer.fit(x)\n",
    "        return self\n",
    "\n",
    "    def transform(self, x, y=None):\n",
    "        return self.vectorizer.transform(x)"
   ]
  },
  {
   "cell_type": "code",
   "execution_count": 3,
   "metadata": {},
   "outputs": [],
   "source": [
    "# GridSearchCV用パラメータ\n",
    "PARAMETERS = [\n",
    "    {\n",
    "        'vectorizer__method':['tfidf', 'count'], \n",
    "        'vectorizer__min_df': [0.0003, 0.0004], \n",
    "        'vectorizer__max_df': [0.07, 0.10], \n",
    "        'classifier__C': [1, 3],    #10も試したが遅いだけでSCORE低い\n",
    "        'classifier__solver': ['newton-cg', 'liblinear']},\n",
    "    ]\n",
    "\n",
    "# 時間がかかるので下記を省略\n",
    "#        'vectorizer__min_df': [0.0003, 0.0004, 0.0005, 0.0006], \n",
    "#        'classifier__solver': ['newton-cg', 'lbfgs', 'liblinear', 'sag', 'saga']},"
   ]
  },
  {
   "cell_type": "code",
   "execution_count": 4,
   "metadata": {},
   "outputs": [],
   "source": [
    "# ファイル読込\n",
    "def read_csv_column(col):\n",
    "    with open('./sentiment_stem.txt') as file:\n",
    "        reader = csv.reader(file, delimiter='\\t')\n",
    "        header = next(reader)\n",
    "        return [row[col] for row in reader]    "
   ]
  },
  {
   "cell_type": "code",
   "execution_count": 5,
   "metadata": {},
   "outputs": [],
   "source": [
    "x_all = read_csv_column(1)\n",
    "y_all = read_csv_column(0)\n",
    "x_train, x_test, y_train, y_test = train_test_split(x_all, y_all)"
   ]
  },
  {
   "cell_type": "code",
   "execution_count": 6,
   "metadata": {},
   "outputs": [],
   "source": [
    "# 訓練\n",
    "def train(x_train, y_train, file):\n",
    "    pipline = Pipeline([('vectorizer', myVectorizer()), ('classifier', LogisticRegression())])\n",
    "    \n",
    "    # clf は classificationの略\n",
    "    clf = GridSearchCV(\n",
    "            pipline, # \n",
    "            PARAMETERS,           # 最適化したいパラメータセット \n",
    "            cv = 5)               # 交差検定の回数\n",
    "    \n",
    "    clf.fit(x_train, y_train)\n",
    "    pd.DataFrame.from_dict(clf.cv_results_).to_csv(file)\n",
    "    \n",
    "    print('Grid Search Best parameters:', clf.best_params_)\n",
    "    print('Grid Search Best validation score:', clf.best_score_)\n",
    "    print('Grid Search Best training score:', clf.best_estimator_.score(x_train, y_train))\n",
    "    \n",
    "    # 素性の重み出力\n",
    "    output_coef(clf.best_estimator_)\n",
    "\n",
    "    return clf.best_estimator_"
   ]
  },
  {
   "cell_type": "code",
   "execution_count": 7,
   "metadata": {},
   "outputs": [],
   "source": [
    "# 素性の重み出力\n",
    "def output_coef(estimator):\n",
    "    vec = estimator.named_steps['vectorizer']\n",
    "    clf = estimator.named_steps['classifier']\n",
    "\n",
    "    coef_df = pd.DataFrame([clf.coef_[0]]).T.rename(columns={0: 'Coefficients'})\n",
    "    coef_df.index = vec.vectorizer.get_feature_names()\n",
    "    coef_sort = coef_df.sort_values('Coefficients')\n",
    "    coef_sort[:10].plot.barh()\n",
    "    coef_sort.tail(10).plot.barh()"
   ]
  },
  {
   "cell_type": "code",
   "execution_count": 8,
   "metadata": {},
   "outputs": [],
   "source": [
    "# 評価\n",
    "def validate(estimator, x_test, y_test):\n",
    "    \n",
    "    for i, (x, y) in enumerate(zip(x_test, y_test)):\n",
    "        y_pred = estimator.predict_proba([x])\n",
    "        if y == np.argmax(y_pred).astype( str ):\n",
    "            if y == '1':\n",
    "                result = 'TP:正解がPositiveで予測もPositive'\n",
    "            else:\n",
    "                result = 'TN:正解がNegativeで予測もNegative'\n",
    "        else:\n",
    "            if y == '1':\n",
    "                result = 'FN:正解がPositiveで予測はNegative'\n",
    "            else:\n",
    "                result = 'FP:正解がNegativeで予測はPositive'\n",
    "        print(result, y_pred, x)\n",
    "        if i == 9:\n",
    "            break\n",
    "            \n",
    "    # TSV一覧出力\n",
    "    # 正解のラベル，予測されたラベル，予測確率をタブ区切り形式で出力せよ．\n",
    "    y_pred = estimator.predict(x_test)\n",
    "    y_prob = estimator.predict_proba(x_test)\n",
    "\n",
    "    results = pd.DataFrame([y_test, y_pred, y_prob.T[1], x_test]).T.rename(columns={ 0: '正解', 1 : '予測', 2: '予測確率(ポジティブ)', 3 :'単語列'})\n",
    "    results.to_csv('./predict.txt' , sep='\\t')\n",
    "    \n",
    "    print('\\n', classification_report(y_test, y_pred))\n",
    "    print('\\n', confusion_matrix(y_test, y_pred))    "
   ]
  },
  {
   "cell_type": "code",
   "execution_count": 9,
   "metadata": {},
   "outputs": [],
   "source": [
    "# グラフ出力\n",
    "def output_graphs(estimator, x_all, y_all, x_test, y_test):\n",
    "    \n",
    "    # 学習曲線出力\n",
    "    output_learning_curve(estimator, x_all, y_all)\n",
    "    \n",
    "    y_pred = estimator.predict_proba(x_test)\n",
    "    \n",
    "    # ROC曲線出力\n",
    "    output_roc(y_test, y_pred)\n",
    "    \n",
    "    # 適合率-再現率グラフ出力\n",
    "    output_pr_curve(y_test, y_pred)"
   ]
  },
  {
   "cell_type": "code",
   "execution_count": 10,
   "metadata": {},
   "outputs": [],
   "source": [
    "# 学習曲線出力\n",
    "def output_learning_curve(estimator, x_all, y_all):\n",
    "    training_sizes, train_scores, test_scores = learning_curve(estimator,\n",
    "                                                               x_all, y_all, cv=5,\n",
    "                                                               train_sizes=[0.3, 0.4, 0.5, 0.6, 0.7, 0.8, 0.9, 1.0])\n",
    "    plt.plot(training_sizes, train_scores.mean(axis=1), label=\"training scores\")\n",
    "    plt.plot(training_sizes, test_scores.mean(axis=1), label=\"test scores\")\n",
    "    plt.legend(loc=\"best\")\n",
    "    plt.show()"
   ]
  },
  {
   "cell_type": "code",
   "execution_count": 11,
   "metadata": {},
   "outputs": [],
   "source": [
    "# ROC曲線出力\n",
    "def output_roc(y_test, y_pred):\n",
    "    # FPR, TPR(, しきい値) を算出\n",
    "    fpr, tpr, thresholds = roc_curve(y_test, y_pred[:,1], pos_label='1')\n",
    "\n",
    "    # ついでにAUCも\n",
    "    auc_ = auc(fpr, tpr)\n",
    "\n",
    "    # ROC曲線をプロット\n",
    "    plt.plot(fpr, tpr, label='ROC curve (area = %.2f)'%auc_)\n",
    "    plt.legend()\n",
    "    plt.title('ROC curve')\n",
    "    plt.xlabel('False Positive Rate')\n",
    "    plt.ylabel('True Positive Rate')\n",
    "    plt.grid(True)\n",
    "    plt.show()    "
   ]
  },
  {
   "cell_type": "code",
   "execution_count": 12,
   "metadata": {},
   "outputs": [],
   "source": [
    "# 適合率-再現率グラフ出力\n",
    "def output_pr_curve(y_test, y_pred):\n",
    "    # ある閾値の時の適合率、再現率, 閾値の値を取得\n",
    "    precisions, recalls, thresholds = precision_recall_curve(y_test, y_pred[:,1], pos_label='1')\n",
    "    \n",
    "    # 0から1まで0.05刻みで○をプロット\n",
    "    for i in range(21):\n",
    "        close_point = np.argmin(np.abs(thresholds - (i * 0.05)))\n",
    "        plt.plot(precisions[close_point], recalls[close_point], 'o')\n",
    "\n",
    "    # 適合率-再現率曲線\n",
    "    plt.plot(precisions, recalls)\n",
    "    plt.xlabel('Precision')\n",
    "    plt.ylabel('Recall')\n",
    " \n",
    "    plt.show()"
   ]
  },
  {
   "cell_type": "code",
   "execution_count": 13,
   "metadata": {},
   "outputs": [
    {
     "name": "stdout",
     "output_type": "stream",
     "text": [
      "Grid Search Best parameters: {'classifier__C': 1, 'classifier__solver': 'newton-cg', 'vectorizer__max_df': 0.07, 'vectorizer__method': 'tfidf', 'vectorizer__min_df': 0.0003}\n",
      "Grid Search Best validation score: 0.7540020010005003\n",
      "Grid Search Best training score: 0.8661830915457729\n",
      "CPU times: user 1min 37s, sys: 1.05 s, total: 1min 38s\n",
      "Wall time: 1min 41s\n"
     ]
    },
    {
     "data": {
      "image/png": "[encoded data removed]",
      "text/plain": [
       "<Figure size 432x288 with 1 Axes>"
      ]
     },
     "metadata": {
      "needs_background": "light"
     },
     "output_type": "display_data"
    },
    {
     "data": {
      "image/png": "[encoded data removed]",
      "text/plain": [
       "<Figure size 432x288 with 1 Axes>"
      ]
     },
     "metadata": {
      "needs_background": "light"
     },
     "output_type": "display_data"
    }
   ],
   "source": [
    "%%time\n",
    "estimator = train(x_train, y_train, 'gs_result.csv')"
   ]
  },
  {
   "cell_type": "code",
   "execution_count": 14,
   "metadata": {},
   "outputs": [
    {
     "name": "stdout",
     "output_type": "stream",
     "text": [
      "TP:正解がPositiveで予測もPositive [[0.2807429 0.7192571]] stori surfac deep visual envelop sound blue crush make surprisingli decent flick worth summertim look see\n",
      "TN:正解がNegativeで予測もNegative [[0.56444635 0.43555365]] expect get assum bar expect rais sixth grade height\n",
      "TN:正解がNegativeで予測もNegative [[0.5563689 0.4436311]] empti shell epic rather real deal\n",
      "TN:正解がNegativeで予測もNegative [[0.6403686 0.3596314]] distinctli sub-par like drow viewer boredom send shiver spine\n",
      "TN:正解がNegativeで予測もNegative [[0.71145668 0.28854332]] anyway reason anoth crush turn dire drama partway get stupid maudlin bad thank love comed moment sever fine perform total loss\n",
      "TN:正解がNegativeで予測もNegative [[0.71168772 0.28831228]] spend stuff get buck greasi littl vidgam pit theater lobbi\n",
      "FP:正解がNegativeで予測はPositive [[0.35659174 0.64340826]] admir recommend overstay natur run time\n",
      "TN:正解がNegativeで予測もNegative [[0.75853409 0.24146591]] chuckl least complet miss mani come amazingli lifelik tara reid act skill compar cardboard cutout\n",
      "TN:正解がNegativeで予測もNegative [[0.64978192 0.35021808]] virtual interest element audienc focu chelsea wall tripl espresso endur challeng\n",
      "TP:正解がPositiveで予測もPositive [[0.17366541 0.82633459]] thoroughli engag surprisingli touch british comedi\n",
      "\n",
      "               precision    recall  f1-score   support\n",
      "\n",
      "           0       0.78      0.75      0.76      1348\n",
      "           1       0.75      0.78      0.77      1318\n",
      "\n",
      "    accuracy                           0.76      2666\n",
      "   macro avg       0.76      0.76      0.76      2666\n",
      "weighted avg       0.76      0.76      0.76      2666\n",
      "\n",
      "\n",
      " [[1012  336]\n",
      " [ 292 1026]]\n",
      "CPU times: user 902 ms, sys: 49 ms, total: 951 ms\n",
      "Wall time: 931 ms\n"
     ]
    }
   ],
   "source": [
    "%%time\n",
    "validate(estimator, x_test, y_test)"
   ]
  },
  {
   "cell_type": "code",
   "execution_count": 15,
   "metadata": {},
   "outputs": [
    {
     "data": {
      "image/png": "[encoded data removed]",
      "text/plain": [
       "<Figure size 432x288 with 1 Axes>"
      ]
     },
     "metadata": {
      "needs_background": "light"
     },
     "output_type": "display_data"
    },
    {
     "data": {
      "image/png": "[encoded data removed]",
      "text/plain": [
       "<Figure size 432x288 with 1 Axes>"
      ]
     },
     "metadata": {
      "needs_background": "light"
     },
     "output_type": "display_data"
    },
    {
     "data": {
      "image/png": "[encoded data removed]",
      "text/plain": [
       "<Figure size 432x288 with 1 Axes>"
      ]
     },
     "metadata": {
      "needs_background": "light"
     },
     "output_type": "display_data"
    },
    {
     "name": "stdout",
     "output_type": "stream",
     "text": [
      "CPU times: user 26.3 s, sys: 312 ms, total: 26.6 s\n",
      "Wall time: 26.8 s\n"
     ]
    }
   ],
   "source": [
    "%%time\n",
    "output_graphs(estimator, x_all, y_all, x_test, y_test)"
   ]
  }
 ],
 "metadata": {
  "kernelspec": {
   "display_name": "Python 3",
   "language": "python",
   "name": "python3"
  },
  "language_info": {
   "codemirror_mode": {
    "name": "ipython",
    "version": 3
   },
   "file_extension": ".py",
   "mimetype": "text/x-python",
   "name": "python",
   "nbconvert_exporter": "python",
   "pygments_lexer": "ipython3",
   "version": "3.6.8"
  }
 },
 "nbformat": 4,
 "nbformat_minor": 4
}
