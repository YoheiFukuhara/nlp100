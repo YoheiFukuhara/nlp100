{
 "cells": [
  {
   "cell_type": "raw",
   "metadata": {},
   "source": [
    "76の出力を受け取り，予測の正解率，正例に関する適合率，再現率，F1スコアを求めるプログラムを作成せよ．"
   ]
  },
  {
   "cell_type": "code",
   "execution_count": 1,
   "metadata": {},
   "outputs": [],
   "source": [
    "import csv\n",
    "\n",
    "import pandas as pd\n",
    "import matplotlib.pyplot as plt\n",
    "import numpy as np\n",
    "from sklearn.feature_extraction.text import CountVectorizer, TfidfVectorizer\n",
    "from sklearn.linear_model import LogisticRegression\n",
    "from sklearn.model_selection import GridSearchCV, train_test_split\n",
    "from sklearn.metrics import classification_report, confusion_matrix\n",
    "from sklearn.pipeline import Pipeline\n",
    "from sklearn.base import BaseEstimator, TransformerMixin"
   ]
  },
  {
   "cell_type": "code",
   "execution_count": 2,
   "metadata": {},
   "outputs": [],
   "source": [
    "# 単語ベクトル化をGridSearchCVで使うのためのクラス\n",
    "class myVectorizer(BaseEstimator, TransformerMixin):\n",
    "    def __init__(self, method='tfidf', min_df=0.0005, max_df=0.10):\n",
    "        self.method = method\n",
    "        self.min_df = min_df\n",
    "        self.max_df = max_df\n",
    "\n",
    "    def fit(self, x, y=None):\n",
    "        if self.method == 'tfidf':\n",
    "            self.vectorizer = TfidfVectorizer(min_df=self.min_df, max_df=self.max_df)\n",
    "        else:\n",
    "            self.vectorizer = CountVectorizer(min_df=self.min_df, max_df=self.max_df)\n",
    "        self.vectorizer.fit(x)\n",
    "        return self\n",
    "\n",
    "    def transform(self, x, y=None):\n",
    "        return self.vectorizer.transform(x)"
   ]
  },
  {
   "cell_type": "code",
   "execution_count": 3,
   "metadata": {},
   "outputs": [],
   "source": [
    "# GridSearchCV用パラメータ\n",
    "PARAMETERS = [\n",
    "    {\n",
    "        'vectorizer__method':['tfidf', 'count'], \n",
    "        'vectorizer__min_df': [0.0003, 0.0004], \n",
    "        'vectorizer__max_df': [0.07, 0.10], \n",
    "        'classifier__C': [1, 3],    #10も試したが遅いだけでSCORE低い\n",
    "        'classifier__solver': ['newton-cg', 'liblinear']},\n",
    "    ]\n",
    "\n",
    "# 時間がかかるので下記を省略\n",
    "#        'vectorizer__min_df': [0.0003, 0.0004, 0.0005, 0.0006], \n",
    "#        'classifier__solver': ['newton-cg', 'lbfgs', 'liblinear', 'sag', 'saga']},"
   ]
  },
  {
   "cell_type": "code",
   "execution_count": 4,
   "metadata": {},
   "outputs": [],
   "source": [
    "# ファイル読込\n",
    "def read_csv_column(col):\n",
    "    with open('./sentiment_stem.txt') as file:\n",
    "        reader = csv.reader(file, delimiter='\\t')\n",
    "        header = next(reader)\n",
    "        return [row[col] for row in reader]    "
   ]
  },
  {
   "cell_type": "code",
   "execution_count": 5,
   "metadata": {},
   "outputs": [],
   "source": [
    "x_all = read_csv_column(1)\n",
    "y_all = read_csv_column(0)\n",
    "x_train, x_test, y_train, y_test = train_test_split(x_all, y_all)"
   ]
  },
  {
   "cell_type": "code",
   "execution_count": 6,
   "metadata": {},
   "outputs": [],
   "source": [
    "# 訓練\n",
    "def train(x_train, y_train, file):\n",
    "    pipline = Pipeline([('vectorizer', myVectorizer()), ('classifier', LogisticRegression())])\n",
    "    \n",
    "    # clf は classificationの略\n",
    "    clf = GridSearchCV(\n",
    "            pipline, # \n",
    "            PARAMETERS,           # 最適化したいパラメータセット \n",
    "            cv = 5)               # 交差検定の回数\n",
    "    \n",
    "    clf.fit(x_train, y_train)\n",
    "    pd.DataFrame.from_dict(clf.cv_results_).to_csv(file)\n",
    "    \n",
    "    print('Grid Search Best parameters:', clf.best_params_)\n",
    "    print('Grid Search Best validation score:', clf.best_score_)\n",
    "    print('Grid Search Best training score:', clf.best_estimator_.score(x_train, y_train))\n",
    "    \n",
    "    # 素性の重み出力\n",
    "    output_coef(clf.best_estimator_)\n",
    "\n",
    "    return clf.best_estimator_"
   ]
  },
  {
   "cell_type": "code",
   "execution_count": 7,
   "metadata": {},
   "outputs": [],
   "source": [
    "# 素性の重み出力\n",
    "def output_coef(estimator):\n",
    "    vec = estimator.named_steps['vectorizer']\n",
    "    clf = estimator.named_steps['classifier']\n",
    "\n",
    "    coef_df = pd.DataFrame([clf.coef_[0]]).T.rename(columns={0: 'Coefficients'})\n",
    "    coef_df.index = vec.vectorizer.get_feature_names()\n",
    "    coef_sort = coef_df.sort_values('Coefficients')\n",
    "    coef_sort[:10].plot.barh()\n",
    "    coef_sort.tail(10).plot.barh()"
   ]
  },
  {
   "cell_type": "code",
   "execution_count": 8,
   "metadata": {},
   "outputs": [],
   "source": [
    "# 評価\n",
    "def validate(estimator, x_test, y_test):\n",
    "    \n",
    "    for i, (x, y) in enumerate(zip(x_test, y_test)):\n",
    "        y_pred = estimator.predict_proba([x])\n",
    "        if y == np.argmax(y_pred).astype( str ):\n",
    "            if y == '1':\n",
    "                result = 'TP:正解がPositiveで予測もPositive'\n",
    "            else:\n",
    "                result = 'TN:正解がNegativeで予測もNegative'\n",
    "        else:\n",
    "            if y == '1':\n",
    "                result = 'FN:正解がPositiveで予測はNegative'\n",
    "            else:\n",
    "                result = 'FP:正解がNegativeで予測はPositive'\n",
    "        print(result, y_pred, x)\n",
    "        if i == 9:\n",
    "            break\n",
    "            \n",
    "    # TSV一覧出力\n",
    "    # 正解のラベル，予測されたラベル，予測確率をタブ区切り形式で出力せよ．\n",
    "    y_pred = estimator.predict(x_test)\n",
    "    y_prob = estimator.predict_proba(x_test)\n",
    "\n",
    "    results = pd.DataFrame([y_test, y_pred, y_prob.T[1], x_test]).T.rename(columns={ 0: '正解', 1 : '予測', 2: '予測確率(ポジティブ)', 3 :'単語列'})\n",
    "    results.to_csv('./predict.txt' , sep='\\t')\n",
    "    \n",
    "    print('\\n', classification_report(y_test, y_pred))\n",
    "    print('\\n', confusion_matrix(y_test, y_pred))    "
   ]
  },
  {
   "cell_type": "code",
   "execution_count": 9,
   "metadata": {},
   "outputs": [
    {
     "name": "stdout",
     "output_type": "stream",
     "text": [
      "Grid Search Best parameters: {'classifier__C': 3, 'classifier__solver': 'liblinear', 'vectorizer__max_df': 0.1, 'vectorizer__method': 'tfidf', 'vectorizer__min_df': 0.0003}\n",
      "Grid Search Best validation score: 0.7543771885942971\n",
      "Grid Search Best training score: 0.8980740370185093\n",
      "CPU times: user 42.6 s, sys: 411 ms, total: 43.1 s\n",
      "Wall time: 43.9 s\n"
     ]
    },
    {
     "data": {
      "image/png": "[encoded data removed]",
      "text/plain": [
       "<Figure size 432x288 with 1 Axes>"
      ]
     },
     "metadata": {
      "needs_background": "light"
     },
     "output_type": "display_data"
    },
    {
     "data": {
      "image/png": "[encoded data removed]",
      "text/plain": [
       "<Figure size 432x288 with 1 Axes>"
      ]
     },
     "metadata": {
      "needs_background": "light"
     },
     "output_type": "display_data"
    }
   ],
   "source": [
    "%%time\n",
    "estimator = train(x_train, y_train, 'gs_result.csv')"
   ]
  },
  {
   "cell_type": "code",
   "execution_count": 10,
   "metadata": {},
   "outputs": [
    {
     "name": "stdout",
     "output_type": "stream",
     "text": [
      "TP:正解がPositiveで予測もPositive [[0.16565482 0.83434518]] fuller sure call gutsi time exhilar movi great yarn\n",
      "TN:正解がNegativeで予測もNegative [[0.70315111 0.29684889]] script judgment sens weight way way\n",
      "TN:正解がNegativeで予測もNegative [[0.74200022 0.25799978]] low rent frame\n",
      "FN:正解がPositiveで予測はNegative [[0.60990829 0.39009171]] cuarón creat substant movi sever clich movi structur road movi come age movi teenag sex comedi\n",
      "TP:正解がPositiveで予測もPositive [[0.17650173 0.82349827]] brosnan perform evelyn come heart\n",
      "TN:正解がNegativeで予測もNegative [[0.75268685 0.24731315]] movi fail portray literarili talent notori subject much dirti old man\n",
      "FP:正解がNegativeで予測はPositive [[0.40207635 0.59792365]] drama uninspir even stori immers love lust sin keep attent\n",
      "TN:正解がNegativeで予測もNegative [[0.92441463 0.07558537]] sit crummi wannab hip crime comedi refer incessantli old movi rent movi instead let alon seek respect new one\n",
      "TP:正解がPositiveで予測もPositive [[0.0262054 0.9737946]] part steven glide solid perform witti dialogu\n",
      "FN:正解がPositiveで予測はNegative [[0.669708 0.330292]] mostli goldbach let complic charact unruli confus human\n",
      "\n",
      "               precision    recall  f1-score   support\n",
      "\n",
      "           0       0.75      0.73      0.74      1351\n",
      "           1       0.73      0.75      0.74      1315\n",
      "\n",
      "    accuracy                           0.74      2666\n",
      "   macro avg       0.74      0.74      0.74      2666\n",
      "weighted avg       0.74      0.74      0.74      2666\n",
      "\n",
      "\n",
      " [[992 359]\n",
      " [329 986]]\n",
      "CPU times: user 312 ms, sys: 44.1 ms, total: 357 ms\n",
      "Wall time: 348 ms\n"
     ]
    }
   ],
   "source": [
    "%%time\n",
    "validate(estimator, x_test, y_test)"
   ]
  },
  {
   "cell_type": "code",
   "execution_count": null,
   "metadata": {},
   "outputs": [],
   "source": []
  }
 ],
 "metadata": {
  "kernelspec": {
   "display_name": "Python 3",
   "language": "python",
   "name": "python3"
  },
  "language_info": {
   "codemirror_mode": {
    "name": "ipython",
    "version": 3
   },
   "file_extension": ".py",
   "mimetype": "text/x-python",
   "name": "python",
   "nbconvert_exporter": "python",
   "pygments_lexer": "ipython3",
   "version": "3.6.8"
  }
 },
 "nbformat": 4,
 "nbformat_minor": 4
}
