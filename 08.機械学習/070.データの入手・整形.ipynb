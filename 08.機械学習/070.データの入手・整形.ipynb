{
 "cells": [
  {
   "cell_type": "markdown",
   "metadata": {},
   "source": [
    "文に関する極性分析の正解データを用い，以下の要領で正解データ（sentiment.txt）を作成せよ．\n",
    "\n",
    "- rt-polarity.posの各行の先頭に\"+1 \"という文字列を追加する（極性ラベル\"+1\"とスペースに続けて肯定的な文の内容が続く）\n",
    "- rt-polarity.negの各行の先頭に\"-1 \"という文字列を追加する（極性ラベル\"-1\"とスペースに続けて否定的な文の内容が続く）\n",
    "- 上述1と2の内容を結合（concatenate）し，行をランダムに並び替える\n",
    "\n",
    "sentiment.txtを作成したら，正例（肯定的な文）の数と負例（否定的な文）の数を確認せよ．\n",
    "\n",
    "参考記事[「素人の言語処理100本ノック:70」]'https://qiita.com/segavvy/items/0e91fe02088b875a386a)"
   ]
  },
  {
   "cell_type": "code",
   "execution_count": 1,
   "metadata": {},
   "outputs": [],
   "source": [
    "import codecs\n",
    "import random"
   ]
  },
  {
   "cell_type": "code",
   "execution_count": 2,
   "metadata": {},
   "outputs": [],
   "source": [
    "FNAME_SMT = 'sentiment.txt'\n",
    "pos_prefix = '+1'\n",
    "neg_prefix = '-1'\n",
    "\n",
    "result = []"
   ]
  },
  {
   "cell_type": "code",
   "execution_count": 3,
   "metadata": {},
   "outputs": [],
   "source": [
    "# ファイル読込\n",
    "def read_file(fname, prefix):\n",
    "    with codecs.open(fname, encoding='cp1252') as file:  # Encodingは Windows-1252\n",
    "        return ['{0} {1}'.format(prefix, line.strip()) for line in file]"
   ]
  },
  {
   "cell_type": "code",
   "execution_count": 4,
   "metadata": {},
   "outputs": [],
   "source": [
    "# ポジティブ読込\n",
    "result.extend(read_file('./rt-polaritydata/rt-polarity.pos', pos_prefix))"
   ]
  },
  {
   "cell_type": "code",
   "execution_count": 5,
   "metadata": {},
   "outputs": [],
   "source": [
    "# ネガティブ読込\n",
    "result.extend(read_file('./rt-polaritydata/rt-polarity.neg', neg_prefix))"
   ]
  },
  {
   "cell_type": "code",
   "execution_count": 6,
   "metadata": {},
   "outputs": [],
   "source": [
    "random.shuffle(result)"
   ]
  },
  {
   "cell_type": "code",
   "execution_count": 7,
   "metadata": {},
   "outputs": [],
   "source": [
    "with open(FNAME_SMT, 'w') as file_out:\n",
    "    file_out.write('\\n'.join(result))"
   ]
  },
  {
   "cell_type": "code",
   "execution_count": 8,
   "metadata": {},
   "outputs": [
    {
     "name": "stdout",
     "output_type": "stream",
     "text": [
      "pos:5331, neg:5331\n"
     ]
    }
   ],
   "source": [
    "# 数の確認\n",
    "cnt_pos = 0\n",
    "cnt_neg = 0\n",
    "with open(FNAME_SMT) as file:\n",
    "    for line in file:\n",
    "        if line.startswith(pos_prefix):\n",
    "            cnt_pos += 1\n",
    "        elif line.startswith(neg_prefix):\n",
    "            cnt_neg += 1\n",
    "\n",
    "print('pos:{}, neg:{}'.format(cnt_pos, cnt_neg))"
   ]
  }
 ],
 "metadata": {
  "kernelspec": {
   "display_name": "Python 3",
   "language": "python",
   "name": "python3"
  },
  "language_info": {
   "codemirror_mode": {
    "name": "ipython",
    "version": 3
   },
   "file_extension": ".py",
   "mimetype": "text/x-python",
   "name": "python",
   "nbconvert_exporter": "python",
   "pygments_lexer": "ipython3",
   "version": "3.6.8"
  }
 },
 "nbformat": 4,
 "nbformat_minor": 4
}
