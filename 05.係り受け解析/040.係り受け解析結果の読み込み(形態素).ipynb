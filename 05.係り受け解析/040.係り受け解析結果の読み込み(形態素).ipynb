{
 "cells": [
  {
   "cell_type": "code",
   "execution_count": 1,
   "metadata": {},
   "outputs": [],
   "source": [
    "# https://qiita.com/segavvy/items/2f686cfb0065c8cbe698#%E5%87%BA%E6%9D%A5%E4%B8%8A%E3%81%8C%E3%81%A3%E3%81%9F%E3%82%B3%E3%83%BC%E3%83%89\n",
    "\n",
    "import re\n",
    "\n",
    "class Morph:\n",
    "    def __init__(self, surface, base, pos, pos1):\n",
    "        self.surface = surface # 表層形(surface)\n",
    "        self.base    = base    # 基本形(base)\n",
    "        self.pos     = pos     # 品詞(pos)\n",
    "        self.pos1    = pos1    # 品詞細分類1(pos1)\n",
    "        \n",
    "    def __str__(self):\n",
    "        '''オブジェクトの文字列表現'''\n",
    "        return 'surface[{}]\\tbase[{}]\\tpos[{}]\\tpos1[{}]'\\\n",
    "            .format(self.surface, self.base, self.pos, self.pos1)"
   ]
  },
  {
   "cell_type": "code",
   "execution_count": 6,
   "metadata": {},
   "outputs": [],
   "source": [
    "def neko_lines():\n",
    "    with open('./neko.txt.cabocha3', encoding='utf-8') as neko_cabocha:\n",
    "    \n",
    "        morphs_sentence = []\n",
    "    \n",
    "        for line in neko_cabocha:\n",
    "            if line[:3] == 'EOS':\n",
    "                yield morphs_sentence\n",
    "                morphs_sentence = []\n",
    "\n",
    "            elif line[:1] != '*':\n",
    "                \n",
    "                #タブとカンマで分割\n",
    "                cols = re.split('\\t|,', line)\n",
    "\n",
    "                morphs_sentence.append(Morph(\n",
    "                        cols[0],    # 表層形(surface)\n",
    "                        cols[7],    # 基本形(base)\n",
    "                        cols[1],    # 品詞(pos)\n",
    "                        cols[2]     # 品詞細分類1(pos1)\n",
    "                    ))\n",
    "\n",
    "        raise StopIteration"
   ]
  },
  {
   "cell_type": "code",
   "execution_count": 7,
   "metadata": {},
   "outputs": [
    {
     "name": "stdout",
     "output_type": "stream",
     "text": [
      "surface[　]\tbase[　]\tpos[記号]\tpos1[空白]\n",
      "surface[吾輩]\tbase[吾輩]\tpos[名詞]\tpos1[代名詞]\n",
      "surface[は]\tbase[は]\tpos[助詞]\tpos1[係助詞]\n",
      "surface[猫]\tbase[猫]\tpos[名詞]\tpos1[一般]\n",
      "surface[で]\tbase[だ]\tpos[助動詞]\tpos1[*]\n",
      "surface[ある]\tbase[ある]\tpos[助動詞]\tpos1[*]\n",
      "surface[。]\tbase[。]\tpos[記号]\tpos1[句点]\n"
     ]
    }
   ],
   "source": [
    "# 1文ずつリスト作成(iを1から開始するためにenumerate使用)\n",
    "for i, morphs in enumerate(neko_lines(), 1):\n",
    "\n",
    "    # 3文目を表示\n",
    "    if i == 3:\n",
    "        for morph in morphs:\n",
    "            print(morph)\n",
    "        break"
   ]
  },
  {
   "cell_type": "code",
   "execution_count": null,
   "metadata": {},
   "outputs": [],
   "source": []
  }
 ],
 "metadata": {
  "kernelspec": {
   "display_name": "Python 3",
   "language": "python",
   "name": "python3"
  },
  "language_info": {
   "codemirror_mode": {
    "name": "ipython",
    "version": 3
   },
   "file_extension": ".py",
   "mimetype": "text/x-python",
   "name": "python",
   "nbconvert_exporter": "python",
   "pygments_lexer": "ipython3",
   "version": "3.6.6"
  }
 },
 "nbformat": 4,
 "nbformat_minor": 2
}
