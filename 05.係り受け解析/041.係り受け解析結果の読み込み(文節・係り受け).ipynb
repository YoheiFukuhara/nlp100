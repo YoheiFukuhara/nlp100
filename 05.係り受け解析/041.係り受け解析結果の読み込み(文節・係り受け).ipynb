{
 "cells": [
  {
   "cell_type": "markdown",
   "metadata": {},
   "source": [
    "40に加えて，文節を表すクラスChunkを実装せよ．このクラスは形態素（Morphオブジェクト）のリスト（morphs），係り先文節インデックス番号（dst），係り元文節インデックス番号のリスト（srcs）をメンバ変数に持つこととする．さらに，入力テキストのCaboChaの解析結果を読み込み，１文をChunkオブジェクトのリストとして表現し，8文目の文節の文字列と係り先を表示せよ．第5章の残りの問題では，ここで作ったプログラムを活用せよ．"
   ]
  },
  {
   "cell_type": "code",
   "execution_count": 1,
   "metadata": {},
   "outputs": [],
   "source": [
    "import re"
   ]
  },
  {
   "cell_type": "code",
   "execution_count": 2,
   "metadata": {},
   "outputs": [],
   "source": [
    "# 区切り文字\n",
    "separator = re.compile('\\t|,')\n",
    "\n",
    "# 係り受け\n",
    "dependancy = re.compile(r'''(?:\\*\\s\\d+\\s) # キャプチャ対象外\n",
    "                            (-?\\d+)       # 数字(係り先)\n",
    "                          ''', re.VERBOSE)"
   ]
  },
  {
   "cell_type": "code",
   "execution_count": 3,
   "metadata": {},
   "outputs": [],
   "source": [
    "class Morph:\n",
    "    def __init__(self, line):\n",
    "        \n",
    "        #タブとカンマで分割\n",
    "        cols = separator.split(line)\n",
    "        \n",
    "        self.surface = cols[0] # 表層形(surface)\n",
    "        self.base = cols[7]    # 基本形(base)\n",
    "        self.pos = cols[1]     # 品詞(pos)\n",
    "        self.pos1 = cols[2]    # 品詞細分類1(pos1)"
   ]
  },
  {
   "cell_type": "code",
   "execution_count": 4,
   "metadata": {},
   "outputs": [],
   "source": [
    "class Chunk:\n",
    "    def __init__(self, morphs, dst):\n",
    "        self.morphs = morphs\n",
    "        self.srcs = []   # 係り元文節インデックス番号のリスト\n",
    "        self.dst  = dst  # 係り先文節インデックス番号\n",
    "        self.phrase = ''.join([morph.surface for morph in morphs]) # 文節"
   ]
  },
  {
   "cell_type": "code",
   "execution_count": 5,
   "metadata": {},
   "outputs": [],
   "source": [
    "# 係り元を代入し、Chunkリストを文のリストを追加\n",
    "def append_sentence(chunks, sentences):\n",
    "    \n",
    "    # 係り元を代入\n",
    "    for i, chunk in enumerate(chunks):\n",
    "        if chunk.dst != -1:\n",
    "            chunks[chunk.dst].srcs.append(i)\n",
    "    sentences.append(chunks)\n",
    "    return sentences, []"
   ]
  },
  {
   "cell_type": "markdown",
   "metadata": {},
   "source": [
    "カラム\t意味\n",
    "1\t先頭カラムは*。係り受け解析結果であることを示す。\n",
    "2\t文節番号（0から始まる整数）\n",
    "3\t係り先番号＋D\n",
    "4\t主辞/機能語の位置と任意の個数の素性列\n",
    "5\t係り関係のスコア。係りやすさの度合で、一般に大きな値ほど係りやすい。"
   ]
  },
  {
   "cell_type": "code",
   "execution_count": 6,
   "metadata": {},
   "outputs": [
    {
     "name": "stdout",
     "output_type": "stream",
     "text": [
      "CPU times: user 106 µs, sys: 0 ns, total: 106 µs\n",
      "Wall time: 117 µs\n"
     ]
    }
   ],
   "source": [
    "%time\n",
    "\n",
    "morphs = []\n",
    "chunks = []\n",
    "sentences = []\n",
    "\n",
    "with open('./neko.txt.cabocha') as f:\n",
    "    \n",
    "    for line in f:\n",
    "        dependancies = dependancy.match(line)\n",
    "        \n",
    "        # EOSまたは係り受け解析結果でない場合\n",
    "        if not (line == 'EOS\\n' or dependancies):\n",
    "            morphs.append(Morph(line))\n",
    "            \n",
    "        # EOSまたは係り受け解析結果で、形態素解析結果がある場合\n",
    "        elif len(morphs) > 0:\n",
    "            chunks.append(Chunk(morphs, dst))\n",
    "            morphs = []\n",
    "       \n",
    "        # 係り受け結果の場合\n",
    "        if dependancies:\n",
    "            dst = int(dependancies.group(1))\n",
    "        \n",
    "        # EOSで係り受け結果がある場合\n",
    "        if line == 'EOS\\n' and len(chunks) > 0:\n",
    "            sentences, chunks = append_sentence(chunks, sentences)"
   ]
  },
  {
   "cell_type": "code",
   "execution_count": 7,
   "metadata": {},
   "outputs": [
    {
     "name": "stdout",
     "output_type": "stream",
     "text": [
      "0: この, 係り先:1, 係り元:[]\n",
      "1: 書生というのは, 係り先:7, 係り元:[0]\n",
      "2: 時々, 係り先:4, 係り元:[]\n",
      "3: 我々を, 係り先:4, 係り元:[]\n",
      "4: 捕えて, 係り先:5, 係り元:[2, 3]\n",
      "5: 煮て, 係り先:6, 係り元:[4]\n",
      "6: 食うという, 係り先:7, 係り元:[5]\n",
      "7: 話である。, 係り先:-1, 係り元:[1, 6]\n"
     ]
    }
   ],
   "source": [
    "for i, chunk in enumerate(sentences[7]):\n",
    "    print('{}: {}, 係り先:{}, 係り元:{}'.format(i, chunk.phrase, chunk.dst, chunk.srcs))"
   ]
  },
  {
   "cell_type": "code",
   "execution_count": null,
   "metadata": {},
   "outputs": [],
   "source": []
  }
 ],
 "metadata": {
  "kernelspec": {
   "display_name": "Python 3",
   "language": "python",
   "name": "python3"
  },
  "language_info": {
   "codemirror_mode": {
    "name": "ipython",
    "version": 3
   },
   "file_extension": ".py",
   "mimetype": "text/x-python",
   "name": "python",
   "nbconvert_exporter": "python",
   "pygments_lexer": "ipython3",
   "version": "3.8.1"
  }
 },
 "nbformat": 4,
 "nbformat_minor": 4
}
