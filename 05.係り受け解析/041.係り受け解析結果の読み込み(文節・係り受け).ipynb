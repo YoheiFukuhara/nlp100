{
 "cells": [
  {
   "cell_type": "code",
   "execution_count": 1,
   "metadata": {},
   "outputs": [],
   "source": [
    "# https://qiita.com/segavvy/items/003e8b7e0f132f4fde1b\n",
    "\n",
    "import re\n",
    "\n",
    "class Morph:\n",
    "    def __init__(self, surface, base, pos, pos1):\n",
    "        self.surface = surface # 表層形(surface)\n",
    "        self.base    = base    # 基本形(base)\n",
    "        self.pos     = pos     # 品詞(pos)\n",
    "        self.pos1    = pos1    # 品詞細分類1(pos1)\n",
    "        \n",
    "    def __str__(self):\n",
    "        '''オブジェクトの文字列表現'''\n",
    "        return 'surface[{}]\\tbase[{}]\\tpos[{}]\\tpos1[{}]'\\\n",
    "            .format(self.surface, self.base, self.pos, self.pos1)"
   ]
  },
  {
   "cell_type": "markdown",
   "metadata": {},
   "source": [
    "カラム\t意味\n",
    "1\t先頭カラムは*。係り受け解析結果であることを示す。\n",
    "2\t文節番号（0から始まる整数）\n",
    "3\t係り先番号＋D\n",
    "4\t主辞/機能語の位置と任意の個数の素性列\n",
    "5\t係り関係のスコア。係りやすさの度合で、一般に大きな値ほど係りやすい。"
   ]
  },
  {
   "cell_type": "code",
   "execution_count": 2,
   "metadata": {},
   "outputs": [],
   "source": [
    "class Chunk:\n",
    "    def __init__(self):\n",
    "        '''初期化'''\n",
    "        self.morphs = []\n",
    "        self.srcs   = []   # 係り元文節インデックス番号のリスト\n",
    "        self.dst    = -1   # 係り先文節インデックス番号(初期値:-1, 係り先がない場合は-1のまま)\n",
    "        \n",
    "    def __str__(self):\n",
    "        '''オブジェクトの文字列表現'''\n",
    "        surface = ''\n",
    "        for morph in self.morphs:\n",
    "            surface += morph.surface\n",
    "        return '{}\\tsrcs{}\\tdst[{}]'.format(surface, self.srcs, self.dst)"
   ]
  },
  {
   "cell_type": "code",
   "execution_count": 33,
   "metadata": {},
   "outputs": [],
   "source": [
    "def neko_lines():\n",
    "    with open('./neko.txt.cabocha3', encoding='utf-8') as neko_cabocha:\n",
    "    \n",
    "        chunks = dict()     # idxをkeyにChunkを格納\n",
    "        \n",
    "        for line in neko_cabocha:\n",
    "            if line[:3] == 'EOS':\n",
    "                \n",
    "                # Chunkのリストを返す\n",
    "                if len(chunks) > 0:\n",
    "\n",
    "                    # chunksをkeyでソートし、valueのみ取り出し\n",
    "                    sorted_tuple = sorted(chunks.items(), key=lambda x: x[0])\n",
    "                    yield list(zip(*sorted_tuple))[1]  #[1]がリストのvalue部分\n",
    "                    chunks.clear()\n",
    "\n",
    "                else:\n",
    "                    yield []\n",
    "                    \n",
    "            # 先頭が*の行は係り受け解析結果なので、Chunkを作成\n",
    "            elif line[0] == '*':\n",
    "\n",
    "                # Chunkのインデックス番号と係り先のインデックス番号取得\n",
    "                cols = re.split('\\s|D', line)\n",
    "                idx = int(cols[1]) # Chunkのインデックス番号\n",
    "                dst = int(cols[2]) # 係り先文節インデックス番号\n",
    "\n",
    "                # Chunkを生成（なければ）し、係り先のインデックス番号セット\n",
    "                if idx not in chunks:\n",
    "                    chunks[idx] = Chunk()\n",
    "                chunks[idx].dst = dst\n",
    "\n",
    "                # 係り先のChunkを生成（なければ）し、係り元インデックス番号追加\n",
    "                if dst != -1:\n",
    "                    if dst not in chunks:\n",
    "                        chunks[dst] = Chunk()\n",
    "                    chunks[dst].srcs.append(idx) # 係り元は複数あるのでappend\n",
    "                    \n",
    "            else:\n",
    "                \n",
    "                #タブとカンマで分割\n",
    "                cols = re.split('\\t|,', line)\n",
    "\n",
    "                chunks[idx].morphs.append(Morph(\n",
    "                        cols[0],    # 表層形(surface)\n",
    "                        cols[7],    # 基本形(base)\n",
    "                        cols[1],    # 品詞(pos)\n",
    "                        cols[2]     # 品詞細分類1(pos1)\n",
    "                    ))\n",
    "\n",
    "        raise StopIteration"
   ]
  },
  {
   "cell_type": "code",
   "execution_count": 34,
   "metadata": {},
   "outputs": [
    {
     "name": "stdout",
     "output_type": "stream",
     "text": [
      "[0]吾輩は\tsrcs[]\tdst[5]\n",
      "[1]ここで\tsrcs[]\tdst[2]\n",
      "[2]始めて\tsrcs[1]\tdst[3]\n",
      "[3]人間という\tsrcs[2]\tdst[4]\n",
      "[4]ものを\tsrcs[3]\tdst[5]\n",
      "[5]見た。\tsrcs[0, 4]\tdst[-1]\n"
     ]
    }
   ],
   "source": [
    "# 1文ずつリスト作成(iを1から開始するためにenumerate使用)\n",
    "for i, chunks in enumerate(neko_lines(), 1):\n",
    "    \n",
    "    # 8文目を表示\n",
    "    if i == 8:\n",
    "        for j, chunk in enumerate(chunks):\n",
    "            print('[{}]{}'.format(j, chunk))\n",
    "        break"
   ]
  },
  {
   "cell_type": "code",
   "execution_count": null,
   "metadata": {},
   "outputs": [],
   "source": []
  }
 ],
 "metadata": {
  "kernelspec": {
   "display_name": "Python 3",
   "language": "python",
   "name": "python3"
  },
  "language_info": {
   "codemirror_mode": {
    "name": "ipython",
    "version": 3
   },
   "file_extension": ".py",
   "mimetype": "text/x-python",
   "name": "python",
   "nbconvert_exporter": "python",
   "pygments_lexer": "ipython3",
   "version": "3.6.6"
  }
 },
 "nbformat": 4,
 "nbformat_minor": 2
}
