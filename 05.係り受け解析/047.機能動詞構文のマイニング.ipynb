{
 "cells": [
  {
   "cell_type": "markdown",
   "metadata": {},
   "source": [
    "動詞のヲ格にサ変接続名詞が入っている場合のみに着目したい．46のプログラムを以下の仕様を満たすように改変せよ．\n",
    "\n",
    "- 「サ変接続名詞+を（助詞）」で構成される文節が動詞に係る場合のみを対象とする\n",
    "- 述語は「サ変接続名詞+を+動詞の基本形」とし，文節中に複数の動詞があるときは，最左の動詞を用いる\n",
    "- 述語に係る助詞（文節）が複数あるときは，すべての助詞をスペース区切りで辞書順に並べる\n",
    "- 述語に係る文節が複数ある場合は，すべての項をスペース区切りで並べる（助詞の並び順と揃えよ）\n",
    "\n",
    "例えば「別段くるにも及ばんさと、主人は手紙に返事をする。」という文から，以下の出力が得られるはずである．\n",
    "\n",
    "```\n",
    "返事をする      と に は        及ばんさと 手紙に 主人は\n",
    "```\n",
    "\n",
    "このプログラムの出力をファイルに保存し，以下の事項をUNIXコマンドを用いて確認せよ．\n",
    "\n",
    "- コーパス中で頻出する述語（サ変接続名詞+を+動詞）\n",
    "- コーパス中で頻出する述語と助詞パターン"
   ]
  },
  {
   "cell_type": "code",
   "execution_count": 1,
   "metadata": {},
   "outputs": [],
   "source": [
    "import re"
   ]
  },
  {
   "cell_type": "code",
   "execution_count": 2,
   "metadata": {},
   "outputs": [],
   "source": [
    "# 区切り文字\n",
    "separator = re.compile('\\t|,')\n",
    "\n",
    "# 係り受け\n",
    "dependancy = re.compile(r'''(?:\\*\\s\\d+\\s) # キャプチャ対象外\n",
    "                            (-?\\d+)       # 数字(係り先)\n",
    "                          ''', re.VERBOSE)"
   ]
  },
  {
   "cell_type": "code",
   "execution_count": 3,
   "metadata": {},
   "outputs": [],
   "source": [
    "class Morph:\n",
    "    def __init__(self, line):\n",
    "        \n",
    "        #タブとカンマで分割\n",
    "        cols = separator.split(line)\n",
    "        \n",
    "        self.surface = cols[0] # 表層形(surface)\n",
    "        self.base = cols[7]    # 基本形(base)\n",
    "        self.pos = cols[1]     # 品詞(pos)\n",
    "        self.pos1 = cols[2]    # 品詞細分類1(pos1)"
   ]
  },
  {
   "cell_type": "code",
   "execution_count": 4,
   "metadata": {},
   "outputs": [],
   "source": [
    "class Chunk:\n",
    "    def __init__(self, morphs, dst):\n",
    "        self.morphs = morphs\n",
    "        self.srcs = []   # 係り元文節インデックス番号のリスト\n",
    "        self.dst  = dst  # 係り先文節インデックス番号\n",
    "        \n",
    "        self.phrase = ''\n",
    "        self.verb = ''\n",
    "        self.joshi = ''\n",
    "        self.sahen = '' # サ変+を+動詞のパターン対象か否か\n",
    "        \n",
    "        for i, morph in enumerate(morphs):\n",
    "            if morph.pos != '記号':\n",
    "                self.phrase += morph.surface # 記号以外の場合文節作成\n",
    "                self.joshi = ''  # 記号を除いた最終行の助詞を取得するため、記号以外の場合はブランク\n",
    "            \n",
    "            if morph.pos == '動詞' and self.verb == '':\n",
    "                self.verb = morph.base\n",
    "            \n",
    "            if morphs[-1].pos == '助詞':\n",
    "                self.joshi = morphs[-1].base\n",
    "                \n",
    "            try:\n",
    "                if morph.pos1 == 'サ変接続' and \\\n",
    "                   morphs[i+1].surface == 'を':\n",
    "                    self.sahen = morph.surface + morphs[i+1].surface\n",
    "            except IndexError:\n",
    "                pass"
   ]
  },
  {
   "cell_type": "code",
   "execution_count": 5,
   "metadata": {},
   "outputs": [],
   "source": [
    "# 係り元を代入し、Chunkリストを文のリストを追加\n",
    "def append_sentence(chunks, sentences):\n",
    "    \n",
    "    # 係り元を代入\n",
    "    for i, chunk in enumerate(chunks):\n",
    "        if chunk.dst != -1:\n",
    "            chunks[chunk.dst].srcs.append(i)\n",
    "    sentences.append(chunks)\n",
    "    return sentences, []"
   ]
  },
  {
   "cell_type": "code",
   "execution_count": 6,
   "metadata": {},
   "outputs": [
    {
     "name": "stdout",
     "output_type": "stream",
     "text": [
      "CPU times: user 3 µs, sys: 1 µs, total: 4 µs\n",
      "Wall time: 5.48 µs\n"
     ]
    }
   ],
   "source": [
    "%time\n",
    "\n",
    "morphs = []\n",
    "chunks = []\n",
    "sentences = []\n",
    "\n",
    "with open('./neko.txt.cabocha') as f:\n",
    "    \n",
    "    for line in f:\n",
    "        dependancies = dependancy.match(line)\n",
    "        \n",
    "        # EOSまたは係り受け解析結果でない場合\n",
    "        if not (line == 'EOS\\n' or dependancies):\n",
    "            morphs.append(Morph(line))\n",
    "            \n",
    "        # EOSまたは係り受け解析結果で、形態素解析結果がある場合\n",
    "        elif len(morphs) > 0:\n",
    "            chunks.append(Chunk(morphs, dst))\n",
    "            morphs = []\n",
    "       \n",
    "        # 係り受け結果の場合\n",
    "        if dependancies:\n",
    "            dst = int(dependancies.group(1))\n",
    "        \n",
    "        # EOSで係り受け結果がある場合\n",
    "        if line == 'EOS\\n' and len(chunks) > 0:\n",
    "            sentences, chunks = append_sentence(chunks, sentences)"
   ]
  },
  {
   "cell_type": "code",
   "execution_count": 7,
   "metadata": {},
   "outputs": [],
   "source": [
    "def output_file(out_file, sahen, sentence, chunk):\n",
    "    # 係り元助詞のリストを作成\n",
    "    sources = [[sentence[source].joshi, sentence[source].phrase] \\\n",
    "                for source in chunk.srcs if sentence[source].joshi != '']\n",
    "    \n",
    "    if len(sources) > 0:\n",
    "        sources.sort()\n",
    "        joshi = ' '.join([row[0] for row in sources])\n",
    "        phrase = ' '.join([row[1] for row in sources])\n",
    "        out_file.write(('{}\\t{}\\t{}\\n'.format(sahen, joshi, phrase)))"
   ]
  },
  {
   "cell_type": "code",
   "execution_count": 8,
   "metadata": {},
   "outputs": [
    {
     "name": "stdout",
     "output_type": "stream",
     "text": [
      "CPU times: user 28.3 ms, sys: 11 µs, total: 28.3 ms\n",
      "Wall time: 27.1 ms\n"
     ]
    }
   ],
   "source": [
    "%%time\n",
    "with open('./047.result_python.txt', 'w') as out_file:\n",
    "    for sentence in sentences:\n",
    "        for chunk in sentence:\n",
    "            \n",
    "            if chunk.sahen != '' and \\\n",
    "               chunk.dst != -1 and \\\n",
    "               sentence[chunk.dst].verb != '':\n",
    "                output_file(out_file, chunk.sahen+sentence[chunk.dst].verb, \n",
    "                            sentence, sentence[chunk.dst])"
   ]
  },
  {
   "cell_type": "code",
   "execution_count": 9,
   "metadata": {},
   "outputs": [],
   "source": [
    "# 述語でソートして重複除去し、その件数でソート\n",
    "!cut --fields=1 047.result_python.txt | sort | uniq --count \\\n",
    "| sort --numeric-sort --reverse > 047.result_unix1.txt\n",
    "\n",
    "# 述語と助詞でソートして重複除去し、その件数でソート\n",
    "!cut --fields=1,2 047.result_python.txt | sort | uniq --count \\\n",
    "| sort --numeric-sort --reverse > 047.result_unix2.txt"
   ]
  },
  {
   "cell_type": "code",
   "execution_count": null,
   "metadata": {},
   "outputs": [],
   "source": []
  }
 ],
 "metadata": {
  "kernelspec": {
   "display_name": "Python 3",
   "language": "python",
   "name": "python3"
  },
  "language_info": {
   "codemirror_mode": {
    "name": "ipython",
    "version": 3
   },
   "file_extension": ".py",
   "mimetype": "text/x-python",
   "name": "python",
   "nbconvert_exporter": "python",
   "pygments_lexer": "ipython3",
   "version": "3.8.1"
  }
 },
 "nbformat": 4,
 "nbformat_minor": 4
}
