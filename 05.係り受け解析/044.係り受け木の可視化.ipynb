{
 "cells": [
  {
   "cell_type": "markdown",
   "metadata": {},
   "source": [
    "与えられた文の係り受け木を有向グラフとして可視化せよ．可視化には，係り受け木をDOT言語に変換し，Graphvizを用いるとよい．また，Pythonから有向グラフを直接的に可視化するには，pydotを使うとよい．"
   ]
  },
  {
   "cell_type": "code",
   "execution_count": 1,
   "metadata": {},
   "outputs": [],
   "source": [
    "import re\n",
    "\n",
    "import pydot"
   ]
  },
  {
   "cell_type": "code",
   "execution_count": 2,
   "metadata": {},
   "outputs": [],
   "source": [
    "class Morph:\n",
    "    def __init__(self, surface, pos):\n",
    "        self.surface = surface # 表層形(surface)\n",
    "        self.pos     = pos     # 品詞(pos)"
   ]
  },
  {
   "cell_type": "code",
   "execution_count": 3,
   "metadata": {},
   "outputs": [],
   "source": [
    "class Chunk:\n",
    "    def __init__(self):\n",
    "        self.morphs = []\n",
    "        self.srcs   = []   # 係り元文節インデックス番号のリスト\n",
    "        self.dst    = -1   # 係り先文節インデックス番号(初期値:-1, 係り先がない場合は-1のまま)\n",
    "        \n",
    "    def output_surface(self):\n",
    "        surface = ''\n",
    "        for morph in self.morphs:\n",
    "            \n",
    "            # 記号を除外\n",
    "            if morph.pos != '記号':\n",
    "                surface += morph.surface\n",
    "        return surface"
   ]
  },
  {
   "cell_type": "code",
   "execution_count": 4,
   "metadata": {},
   "outputs": [],
   "source": [
    "def parse_lines(tree_list):\n",
    "    chunks = dict()     # idxをkeyにChunkを格納\n",
    "        \n",
    "    for line in tree_list:\n",
    "        if line[:3] == 'EOS':\n",
    "                \n",
    "            # Chunkのリストを返す\n",
    "            if len(chunks) > 0:\n",
    "\n",
    "                # chunksをkeyでソートし、valueのみ取り出し\n",
    "                sorted_tuple = sorted(chunks.items(), key=lambda x: x[0])\n",
    "                return list(zip(*sorted_tuple))[1]  #[1]がリストのvalue部分\n",
    "                chunks.clear()\n",
    "\n",
    "            else:\n",
    "                return []\n",
    "                \n",
    "        # 先頭が*の行は係り受け解析結果なので、Chunkを作成\n",
    "        elif line[0] == '*':\n",
    "\n",
    "            # Chunkのインデックス番号と係り先のインデックス番号取得\n",
    "            cols = re.split('\\s|D', line)\n",
    "            idx = int(cols[1]) # Chunkのインデックス番号\n",
    "            dst = int(cols[2]) # 係り先文節インデックス番号\n",
    "\n",
    "            # Chunkを生成（なければ）し、係り先のインデックス番号セット\n",
    "            if idx not in chunks:\n",
    "                chunks[idx] = Chunk()\n",
    "            chunks[idx].dst = dst\n",
    "\n",
    "            # 係り先のChunkを生成（なければ）し、係り元インデックス番号追加\n",
    "            if dst != -1:\n",
    "                if dst not in chunks:\n",
    "                    chunks[dst] = Chunk()\n",
    "                chunks[dst].srcs.append(idx) # 係り元は複数あるのでappend\n",
    "                \n",
    "        else:\n",
    "            \n",
    "            #タブとカンマで分割\n",
    "            cols = re.split('\\t|,', line)\n",
    "\n",
    "            chunks[idx].morphs.append(Morph(\n",
    "                    cols[0],    # 表層形(surface)\n",
    "                    cols[1]     # 品詞(pos)\n",
    "                ))"
   ]
  },
  {
   "cell_type": "code",
   "execution_count": 5,
   "metadata": {},
   "outputs": [],
   "source": [
    "# 構文解析\n",
    "parser = CaboCha.Parser()\n",
    "tree = parser.parse('言ってあったか言ってなかったかどっちだったかちゃんと覚えていないけど、確かこの間手巻きパーティをやった時にちょこっと言った気がしなくもなきにしもあらずで多分言ったんじゃないかな、とココまで考えてみたけど、まあ言ってようが言っていまいがそこまで問題ないよね、と思うに至った次第です。')\n",
    "#tree = parser.parse('今日の天気は晴れでしたが、明日の天気は悪くなるそうです。')"
   ]
  },
  {
   "cell_type": "code",
   "execution_count": 6,
   "metadata": {},
   "outputs": [],
   "source": [
    "# Stringのlistに分解\n",
    "tree_string = tree.toString(CaboCha.FORMAT_LATTICE)\n",
    "tree_list = tree_string.splitlines()\n",
    "\n",
    "# 係り受けを整理\n",
    "chunks = parse_lines(tree_list)"
   ]
  },
  {
   "cell_type": "code",
   "execution_count": 8,
   "metadata": {},
   "outputs": [],
   "source": [
    "# 係り先があるものをpydotに渡す形式に変更\n",
    "edges = []\n",
    "for i, chunk in enumerate(chunks):\n",
    "    if chunk.dst != -1:\n",
    "\n",
    "        # 記号を除いた表層形をチェック、空なら除外\n",
    "        src = chunk.output_surface()\n",
    "        dst = chunks[chunk.dst].output_surface()\n",
    "        if src != '' and dst != '':\n",
    "            edges.append(((i, src), (chunk.dst, dst)))"
   ]
  },
  {
   "cell_type": "code",
   "execution_count": 9,
   "metadata": {},
   "outputs": [],
   "source": [
    "# pydotで有向グラフとして画像保存\n",
    "if len(edges) > 0:\n",
    "    graph = pydot.graph_from_edges(edges, directed=True)\n",
    "    graph.write_png('result.png')"
   ]
  },
  {
   "cell_type": "code",
   "execution_count": null,
   "metadata": {},
   "outputs": [],
   "source": []
  }
 ],
 "metadata": {
  "kernelspec": {
   "display_name": "Python 3",
   "language": "python",
   "name": "python3"
  },
  "language_info": {
   "codemirror_mode": {
    "name": "ipython",
    "version": 3
   },
   "file_extension": ".py",
   "mimetype": "text/x-python",
   "name": "python",
   "nbconvert_exporter": "python",
   "pygments_lexer": "ipython3",
   "version": "3.8.1"
  }
 },
 "nbformat": 4,
 "nbformat_minor": 4
}
