{
 "cells": [
  {
   "cell_type": "markdown",
   "metadata": {},
   "source": [
    "係り元の文節と係り先の文節のテキストをタブ区切り形式ですべて抽出せよ．ただし，句読点などの記号は出力しないようにせよ．"
   ]
  },
  {
   "cell_type": "code",
   "execution_count": 1,
   "metadata": {},
   "outputs": [],
   "source": [
    "import re"
   ]
  },
  {
   "cell_type": "code",
   "execution_count": 2,
   "metadata": {},
   "outputs": [],
   "source": [
    "# 区切り文字\n",
    "separator = re.compile('\\t|,')\n",
    "\n",
    "# 係り受け\n",
    "dependancy = re.compile(r'''(?:\\*\\s\\d+\\s) # キャプチャ対象外\n",
    "                            (-?\\d+)       # 数字(係り先)\n",
    "                          ''', re.VERBOSE)"
   ]
  },
  {
   "cell_type": "code",
   "execution_count": 3,
   "metadata": {},
   "outputs": [],
   "source": [
    "class Morph:\n",
    "    def __init__(self, line):\n",
    "        \n",
    "        #タブとカンマで分割\n",
    "        cols = separator.split(line)\n",
    "        \n",
    "        self.surface = cols[0] # 表層形(surface)\n",
    "        self.base = cols[7]    # 基本形(base)\n",
    "        self.pos = cols[1]     # 品詞(pos)\n",
    "        self.pos1 = cols[2]    # 品詞細分類1(pos1)"
   ]
  },
  {
   "cell_type": "code",
   "execution_count": 4,
   "metadata": {},
   "outputs": [],
   "source": [
    "class Chunk:\n",
    "    def __init__(self, morphs, dst):\n",
    "        self.morphs = morphs\n",
    "        self.srcs = []   # 係り元文節インデックス番号のリスト\n",
    "        self.dst  = dst  # 係り先文節インデックス番号\n",
    "        self.phrase = ''.join([morph.surface for morph in morphs if morph.pos!= '記号']) # 文節"
   ]
  },
  {
   "cell_type": "code",
   "execution_count": 5,
   "metadata": {},
   "outputs": [],
   "source": [
    "# 係り元を代入し、Chunkリストを文のリストを追加\n",
    "def append_sentence(chunks, sentences):\n",
    "    \n",
    "    # 係り元を代入\n",
    "    for i, chunk in enumerate(chunks):\n",
    "        if chunk.dst != -1:\n",
    "            chunks[chunk.dst].srcs.append(i)\n",
    "    sentences.append(chunks)\n",
    "    return sentences, []"
   ]
  },
  {
   "cell_type": "code",
   "execution_count": 6,
   "metadata": {},
   "outputs": [
    {
     "name": "stdout",
     "output_type": "stream",
     "text": [
      "CPU times: user 3 µs, sys: 1e+03 ns, total: 4 µs\n",
      "Wall time: 6.91 µs\n"
     ]
    }
   ],
   "source": [
    "%time\n",
    "\n",
    "morphs = []\n",
    "chunks = []\n",
    "sentences = []\n",
    "\n",
    "with open('./neko.txt.cabocha') as f:\n",
    "    \n",
    "    for line in f:\n",
    "        dependancies = dependancy.match(line)\n",
    "        \n",
    "        # EOSまたは係り受け解析結果でない場合\n",
    "        if not (line == 'EOS\\n' or dependancies):\n",
    "            morphs.append(Morph(line))\n",
    "            \n",
    "        # EOSまたは係り受け解析結果で、形態素解析結果がある場合\n",
    "        elif len(morphs) > 0:\n",
    "            chunks.append(Chunk(morphs, dst))\n",
    "            morphs = []\n",
    "       \n",
    "        # 係り受け結果の場合\n",
    "        if dependancies:\n",
    "            dst = int(dependancies.group(1))\n",
    "        \n",
    "        # EOSで係り受け結果がある場合\n",
    "        if line == 'EOS\\n' and len(chunks) > 0:\n",
    "            sentences, chunks = append_sentence(chunks, sentences)"
   ]
  },
  {
   "cell_type": "code",
   "execution_count": 7,
   "metadata": {},
   "outputs": [
    {
     "name": "stdout",
     "output_type": "stream",
     "text": [
      "----- 0 -----\n",
      "----- 1 -----\n",
      "----- 2 -----\n",
      "0:名前は\t無い\n",
      "1:まだ\t無い\n",
      "----- 3 -----\n",
      "0:どこで\t生れた\n",
      "1:生れた\tかとんと\n",
      "2:かとんと\tつかぬ\n",
      "3:見当が\tつかぬ\n",
      "----- 4 -----\n",
      "0:何でも\t薄暗い\n",
      "1:薄暗い\t泣いて\n",
      "2:じめじめ\t泣いて\n",
      "3:した所で\t泣いて\n",
      "4:ニャーニャー\t泣いて\n",
      "5:泣いて\t記憶している\n",
      "6:いた事だけは\t記憶している\n",
      "----- 5 -----\n",
      "0:吾輩は\t見た\n",
      "1:ここで\t始めて\n",
      "2:始めて\t人間という\n",
      "3:人間という\tものを\n",
      "4:ものを\t見た\n",
      "----- 6 -----\n",
      "0:しかも\tそうだ\n",
      "1:あとで\t聞くと\n",
      "2:聞くと\tそうだ\n",
      "3:それは\tそうだ\n",
      "4:書生という\t人間中で\n",
      "5:人間中で\t種族であった\n",
      "6:一番\t獰悪な\n",
      "7:獰悪な\t種族であった\n",
      "8:種族であった\tそうだ\n"
     ]
    }
   ],
   "source": [
    "for si, sentence in enumerate(sentences):\n",
    "    print('-----', si, '-----')\n",
    "    for ci, chunk in enumerate(sentence):\n",
    "        if chunk.dst != -1:\n",
    "            print('{}:{}\\t{}'.format(ci, chunk.phrase, sentence[chunk.dst].phrase))\n",
    "    \n",
    "    # 多いので制限\n",
    "    if si > 5:\n",
    "        break"
   ]
  },
  {
   "cell_type": "code",
   "execution_count": null,
   "metadata": {},
   "outputs": [],
   "source": []
  }
 ],
 "metadata": {
  "kernelspec": {
   "display_name": "Python 3",
   "language": "python",
   "name": "python3"
  },
  "language_info": {
   "codemirror_mode": {
    "name": "ipython",
    "version": 3
   },
   "file_extension": ".py",
   "mimetype": "text/x-python",
   "name": "python",
   "nbconvert_exporter": "python",
   "pygments_lexer": "ipython3",
   "version": "3.8.1"
  }
 },
 "nbformat": 4,
 "nbformat_minor": 4
}
