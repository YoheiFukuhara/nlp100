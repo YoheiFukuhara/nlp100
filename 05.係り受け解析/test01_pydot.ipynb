{
 "cells": [
  {
   "cell_type": "code",
   "execution_count": 16,
   "metadata": {},
   "outputs": [],
   "source": [
    "import CaboCha\n",
    "import pydot"
   ]
  },
  {
   "cell_type": "code",
   "execution_count": 40,
   "metadata": {},
   "outputs": [],
   "source": [
    "edges=[(u'あ',2), (u'あ',3), (u'あ',4), (3,4)]\n",
    "g=pydot.graph_from_edges(edges)\n",
    "g.write_png('graph_from_edges_dot.png', prog='dot') "
   ]
  },
  {
   "cell_type": "code",
   "execution_count": 17,
   "metadata": {},
   "outputs": [],
   "source": [
    "DEFAULT_NODE_ATTRS = {'fontname':'msgothic.ttc', 'fontsize':9}"
   ]
  },
  {
   "cell_type": "code",
   "execution_count": 33,
   "metadata": {},
   "outputs": [],
   "source": [
    "def graph_from_edges2(edge_list, directed=False,\n",
    "         node_prefix='', node_attrs={}):\n",
    "\n",
    "    \"\"\"\n",
    "    graph_from_edge でグラフを作成してから、\n",
    "    指定された属性またはデフォルト属性を持つノードを追加する。\n",
    "    \"\"\"\n",
    "\n",
    "    graph = pydot.graph_from_edges(edge_list,\n",
    "             node_prefix, directed)\n",
    "\n",
    "    if node_attrs == {}:\n",
    "        node_attrs = DEFAULT_NODE_ATTRS\n",
    "\n",
    "    # 属性用にノードを作って、属性を反映する。\n",
    "    node = pydot.Node('node')\n",
    "    for n, v in node_attrs.items():\n",
    "        node.__setattr__(n, v)\n",
    "\n",
    "# グラフのノードリストの先頭にに挿入する。\n",
    "    print(dir(graph))\n",
    "    node_list = graph.get_node_list()\n",
    "    node_list.insert(0, node)\n",
    "#    graph.sorted_graph_elements.insert(0, node)\n",
    "    # print \"here %s\" % (node.to_string())\n",
    "\n",
    "    return graph"
   ]
  },
  {
   "cell_type": "code",
   "execution_count": 34,
   "metadata": {},
   "outputs": [],
   "source": [
    "# ここからテストで使ってみる\n",
    "\n",
    "# エッジのリストを定義して、\n",
    "\n",
    "edges=[(u'私', u'食べる'),\n",
    "       (u'私', u'遊ぶ'),\n",
    "       (u'食べる', u'野菜'),\n",
    "       (u'食べる', u'肉'),\n",
    "       (u'遊ぶ', 'Python'),\n",
    "       ('Python', 'pydot'),\n",
    "       ('pydot', 'pyparsing'),\n",
    "       ('pydot', 'Graphviz'),\n",
    "       ]"
   ]
  },
  {
   "cell_type": "code",
   "execution_count": 35,
   "metadata": {},
   "outputs": [
    {
     "name": "stdout",
     "output_type": "stream",
     "text": [
      "['__class__', '__delattr__', '__dict__', '__dir__', '__doc__', '__eq__', '__format__', '__ge__', '__get_attribute__', '__getattribute__', '__getstate__', '__gt__', '__hash__', '__init__', '__init_subclass__', '__le__', '__lt__', '__module__', '__ne__', '__new__', '__reduce__', '__reduce_ex__', '__repr__', '__setattr__', '__setstate__', '__sizeof__', '__str__', '__subclasshook__', '__weakref__', 'add_edge', 'add_node', 'add_subgraph', 'create', 'create_attribute_methods', 'create_canon', 'create_cmap', 'create_cmapx', 'create_cmapx_np', 'create_dia', 'create_dot', 'create_fig', 'create_gd', 'create_gd2', 'create_gif', 'create_hpgl', 'create_imap', 'create_imap_np', 'create_ismap', 'create_jpe', 'create_jpeg', 'create_jpg', 'create_mif', 'create_mp', 'create_pcl', 'create_pdf', 'create_pic', 'create_plain', 'create_plain-ext', 'create_png', 'create_ps', 'create_ps2', 'create_svg', 'create_svgz', 'create_vml', 'create_vmlz', 'create_vrml', 'create_vtx', 'create_wbmp', 'create_xdot', 'create_xlib', 'del_edge', 'del_node', 'formats', 'get', 'get_Damping', 'get_K', 'get_URL', 'get_aspect', 'get_attributes', 'get_bb', 'get_bgcolor', 'get_center', 'get_charset', 'get_clusterrank', 'get_colorscheme', 'get_comment', 'get_compound', 'get_concentrate', 'get_defaultdist', 'get_dim', 'get_dimen', 'get_diredgeconstraints', 'get_dpi', 'get_edge', 'get_edge_defaults', 'get_edge_list', 'get_edges', 'get_epsilon', 'get_esep', 'get_fontcolor', 'get_fontname', 'get_fontnames', 'get_fontpath', 'get_fontsize', 'get_graph_defaults', 'get_graph_type', 'get_id', 'get_label', 'get_labeljust', 'get_labelloc', 'get_landscape', 'get_layers', 'get_layersep', 'get_layout', 'get_levels', 'get_levelsgap', 'get_lheight', 'get_lp', 'get_lwidth', 'get_margin', 'get_maxiter', 'get_mclimit', 'get_mindist', 'get_mode', 'get_model', 'get_mosek', 'get_name', 'get_next_sequence_number', 'get_node', 'get_node_defaults', 'get_node_list', 'get_nodes', 'get_nodesep', 'get_nojustify', 'get_normalize', 'get_nslimit', 'get_nslimit1', 'get_ordering', 'get_orientation', 'get_outputorder', 'get_overlap', 'get_overlap_scaling', 'get_pack', 'get_packmode', 'get_pad', 'get_page', 'get_pagedir', 'get_parent_graph', 'get_quadtree', 'get_quantum', 'get_rank', 'get_rankdir', 'get_ranksep', 'get_ratio', 'get_remincross', 'get_repulsiveforce', 'get_resolution', 'get_root', 'get_rotate', 'get_searchsize', 'get_sep', 'get_sequence', 'get_showboxes', 'get_simplify', 'get_size', 'get_smoothing', 'get_sortv', 'get_splines', 'get_start', 'get_strict', 'get_stylesheet', 'get_subgraph', 'get_subgraph_list', 'get_subgraphs', 'get_suppress_disconnected', 'get_target', 'get_top_graph_type', 'get_truecolor', 'get_type', 'get_viewport', 'get_voro_margin', 'obj_dict', 'prog', 'set', 'set_Damping', 'set_K', 'set_URL', 'set_aspect', 'set_bb', 'set_bgcolor', 'set_center', 'set_charset', 'set_clusterrank', 'set_colorscheme', 'set_comment', 'set_compound', 'set_concentrate', 'set_defaultdist', 'set_dim', 'set_dimen', 'set_diredgeconstraints', 'set_dpi', 'set_edge_defaults', 'set_epsilon', 'set_esep', 'set_fontcolor', 'set_fontname', 'set_fontnames', 'set_fontpath', 'set_fontsize', 'set_graph_defaults', 'set_id', 'set_label', 'set_labeljust', 'set_labelloc', 'set_landscape', 'set_layers', 'set_layersep', 'set_layout', 'set_levels', 'set_levelsgap', 'set_lheight', 'set_lp', 'set_lwidth', 'set_margin', 'set_maxiter', 'set_mclimit', 'set_mindist', 'set_mode', 'set_model', 'set_mosek', 'set_name', 'set_node_defaults', 'set_nodesep', 'set_nojustify', 'set_normalize', 'set_nslimit', 'set_nslimit1', 'set_ordering', 'set_orientation', 'set_outputorder', 'set_overlap', 'set_overlap_scaling', 'set_pack', 'set_packmode', 'set_pad', 'set_page', 'set_pagedir', 'set_parent_graph', 'set_prog', 'set_quadtree', 'set_quantum', 'set_rank', 'set_rankdir', 'set_ranksep', 'set_ratio', 'set_remincross', 'set_repulsiveforce', 'set_resolution', 'set_root', 'set_rotate', 'set_searchsize', 'set_sep', 'set_sequence', 'set_shape_files', 'set_showboxes', 'set_simplify', 'set_size', 'set_smoothing', 'set_sortv', 'set_splines', 'set_start', 'set_strict', 'set_stylesheet', 'set_suppress_disconnected', 'set_target', 'set_truecolor', 'set_type', 'set_viewport', 'set_voro_margin', 'shape_files', 'to_string', 'write', 'write_canon', 'write_cmap', 'write_cmapx', 'write_cmapx_np', 'write_dia', 'write_dot', 'write_fig', 'write_gd', 'write_gd2', 'write_gif', 'write_hpgl', 'write_imap', 'write_imap_np', 'write_ismap', 'write_jpe', 'write_jpeg', 'write_jpg', 'write_mif', 'write_mp', 'write_pcl', 'write_pdf', 'write_pic', 'write_plain', 'write_plain-ext', 'write_png', 'write_ps', 'write_ps2', 'write_raw', 'write_svg', 'write_svgz', 'write_vml', 'write_vmlz', 'write_vrml', 'write_vtx', 'write_wbmp', 'write_xdot', 'write_xlib']\n"
     ]
    }
   ],
   "source": [
    "# 何も指定しないでデフォルト出力でグラフを生成\n",
    "# graph_from_edges と同じ使い方\n",
    "\n",
    "g=graph_from_edges2(edges)\n",
    "\n",
    "\n",
    "# 1番目のグラフを出力\n",
    "g.write_png('test3.png', prog='dot')"
   ]
  },
  {
   "cell_type": "code",
   "execution_count": null,
   "metadata": {},
   "outputs": [],
   "source": []
  },
  {
   "cell_type": "code",
   "execution_count": null,
   "metadata": {},
   "outputs": [],
   "source": []
  }
 ],
 "metadata": {
  "kernelspec": {
   "display_name": "Python 3",
   "language": "python",
   "name": "python3"
  },
  "language_info": {
   "codemirror_mode": {
    "name": "ipython",
    "version": 3
   },
   "file_extension": ".py",
   "mimetype": "text/x-python",
   "name": "python",
   "nbconvert_exporter": "python",
   "pygments_lexer": "ipython3",
   "version": "3.7.0"
  }
 },
 "nbformat": 4,
 "nbformat_minor": 2
}
