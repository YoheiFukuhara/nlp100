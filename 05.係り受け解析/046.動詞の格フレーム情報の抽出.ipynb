{
 "cells": [
  {
   "cell_type": "markdown",
   "metadata": {},
   "source": [
    "45のプログラムを改変し，述語と格パターンに続けて項（述語に係っている文節そのもの）をタブ区切り形式で出力せよ．45の仕様に加えて，以下の仕様を満たすようにせよ．\n",
    "\n",
    "- 項は述語に係っている文節の単語列とする（末尾の助詞を取り除く必要はない）\n",
    "- 述語に係る文節が複数あるときは，助詞と同一の基準・順序でスペース区切りで並べる\n",
    "\n",
    "「吾輩はここで始めて人間というものを見た」という例文（neko.txt.cabochaの8文目）を考える． この文は「始める」と「見る」の２つの動詞を含み，「始める」に係る文節は「ここで」，「見る」に係る文節は「吾輩は」と「ものを」と解析された場合は，次のような出力になるはずである．\n",
    "\n",
    "```\n",
    "始める  で      ここで\n",
    "見る    は を   吾輩は ものを\n",
    "```"
   ]
  },
  {
   "cell_type": "code",
   "execution_count": 1,
   "metadata": {},
   "outputs": [],
   "source": [
    "import re"
   ]
  },
  {
   "cell_type": "code",
   "execution_count": 2,
   "metadata": {},
   "outputs": [],
   "source": [
    "# 区切り文字\n",
    "separator = re.compile('\\t|,')\n",
    "\n",
    "# 係り受け\n",
    "dependancy = re.compile(r'''(?:\\*\\s\\d+\\s) # キャプチャ対象外\n",
    "                            (-?\\d+)       # 数字(係り先)\n",
    "                          ''', re.VERBOSE)"
   ]
  },
  {
   "cell_type": "code",
   "execution_count": 3,
   "metadata": {},
   "outputs": [],
   "source": [
    "class Morph:\n",
    "    def __init__(self, line):\n",
    "        \n",
    "        #タブとカンマで分割\n",
    "        cols = separator.split(line)\n",
    "        \n",
    "        self.surface = cols[0] # 表層形(surface)\n",
    "        self.base = cols[7]    # 基本形(base)\n",
    "        self.pos = cols[1]     # 品詞(pos)\n",
    "        self.pos1 = cols[2]    # 品詞細分類1(pos1)"
   ]
  },
  {
   "cell_type": "code",
   "execution_count": 4,
   "metadata": {},
   "outputs": [],
   "source": [
    "class Chunk:\n",
    "    def __init__(self, morphs, dst):\n",
    "        self.morphs = morphs\n",
    "        self.srcs = []   # 係り元文節インデックス番号のリスト\n",
    "        self.dst  = dst  # 係り先文節インデックス番号\n",
    "        \n",
    "        self.phrase = ''\n",
    "        self.verb = ''\n",
    "        self.joshi = ''\n",
    "        \n",
    "        for morph in morphs:            \n",
    "            if morph.pos != '記号':\n",
    "                self.phrase += morph.surface # 記号以外の場合文節作成\n",
    "                self.joshi = ''  # 記号を除いた最終行の助詞を取得するため、記号以外の場合はブランク\n",
    "            if morph.pos == '動詞':\n",
    "                self.verb = morph.base\n",
    "            if morph.pos == '助詞':\n",
    "                self.joshi = morph.base"
   ]
  },
  {
   "cell_type": "code",
   "execution_count": 5,
   "metadata": {},
   "outputs": [],
   "source": [
    "# 係り元を代入し、Chunkリストを文のリストを追加\n",
    "def append_sentence(chunks, sentences):\n",
    "    \n",
    "    # 係り元を代入\n",
    "    for i, chunk in enumerate(chunks):\n",
    "        if chunk.dst != -1:\n",
    "            chunks[chunk.dst].srcs.append(i)\n",
    "    sentences.append(chunks)\n",
    "    return sentences, []"
   ]
  },
  {
   "cell_type": "code",
   "execution_count": 6,
   "metadata": {},
   "outputs": [
    {
     "name": "stdout",
     "output_type": "stream",
     "text": [
      "CPU times: user 3 µs, sys: 3 µs, total: 6 µs\n",
      "Wall time: 14.3 µs\n"
     ]
    }
   ],
   "source": [
    "%time\n",
    "\n",
    "morphs = []\n",
    "chunks = []\n",
    "sentences = []\n",
    "\n",
    "with open('./neko.txt.cabocha') as f:\n",
    "    \n",
    "    for line in f:\n",
    "        dependancies = dependancy.match(line)\n",
    "        \n",
    "        # EOSまたは係り受け解析結果でない場合\n",
    "        if not (line == 'EOS\\n' or dependancies):\n",
    "            morphs.append(Morph(line))\n",
    "            \n",
    "        # EOSまたは係り受け解析結果で、形態素解析結果がある場合\n",
    "        elif len(morphs) > 0:\n",
    "            chunks.append(Chunk(morphs, dst))\n",
    "            morphs = []\n",
    "       \n",
    "        # 係り受け結果の場合\n",
    "        if dependancies:\n",
    "            dst = int(dependancies.group(1))\n",
    "        \n",
    "        # EOSで係り受け結果がある場合\n",
    "        if line == 'EOS\\n' and len(chunks) > 0:\n",
    "            sentences, chunks = append_sentence(chunks, sentences)"
   ]
  },
  {
   "cell_type": "code",
   "execution_count": 7,
   "metadata": {},
   "outputs": [],
   "source": [
    "def output_file(out_file, sentence, chunk):\n",
    "    # 係り元助詞のリストを作成\n",
    "    sources = [[sentence[source].joshi, sentence[source].phrase] \\\n",
    "                for source in chunk.srcs if sentence[source].joshi != '']\n",
    "            \n",
    "    if len(sources) > 0:\n",
    "        sources.sort()\n",
    "        joshi = ' '.join([row[0] for row in sources])\n",
    "        phrase = ' '.join([row[1] for row in sources])\n",
    "        out_file.write(('{}\\t{}\\t{}\\n'.format(chunk.verb, joshi, phrase)))"
   ]
  },
  {
   "cell_type": "code",
   "execution_count": 8,
   "metadata": {},
   "outputs": [
    {
     "name": "stdout",
     "output_type": "stream",
     "text": [
      "CPU times: user 248 ms, sys: 33.8 ms, total: 282 ms\n",
      "Wall time: 316 ms\n"
     ]
    }
   ],
   "source": [
    "%%time\n",
    "with open('./046.result_python.txt', 'w') as out_file:\n",
    "    for sentence in sentences:\n",
    "        for chunk in sentence:\n",
    "            if chunk.verb != '' and len(chunk.srcs) > 0:\n",
    "                output_file(out_file, sentence, chunk)"
   ]
  }
 ],
 "metadata": {
  "kernelspec": {
   "display_name": "Python 3",
   "language": "python",
   "name": "python3"
  },
  "language_info": {
   "codemirror_mode": {
    "name": "ipython",
    "version": 3
   },
   "file_extension": ".py",
   "mimetype": "text/x-python",
   "name": "python",
   "nbconvert_exporter": "python",
   "pygments_lexer": "ipython3",
   "version": "3.8.1"
  }
 },
 "nbformat": 4,
 "nbformat_minor": 4
}
