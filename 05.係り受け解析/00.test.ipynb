{
 "cells": [
  {
   "cell_type": "code",
   "execution_count": 5,
   "metadata": {},
   "outputs": [],
   "source": [
    "from pprint import pprint"
   ]
  },
  {
   "cell_type": "code",
   "execution_count": 9,
   "metadata": {},
   "outputs": [
    {
     "name": "stdout",
     "output_type": "stream",
     "text": [
      "[[1, 20], [2, 30], [3, 10]]\n"
     ]
    }
   ],
   "source": [
    "list_ = [[2, 30], [1, 20], [3, 10]]\n",
    "list_.sort()\n",
    "pprint(list_)"
   ]
  },
  {
   "cell_type": "code",
   "execution_count": 14,
   "metadata": {},
   "outputs": [
    {
     "name": "stdout",
     "output_type": "stream",
     "text": [
      "[[4, 5], [5, 6], [6, 7], [7, 8], [8, 9], [9, 10]]\n"
     ]
    }
   ],
   "source": [
    "list_2d = [[i, i+1] \\\n",
    "           for i in range(10) if i > 3]\n",
    "print(list_2d)"
   ]
  },
  {
   "cell_type": "code",
   "execution_count": 19,
   "metadata": {},
   "outputs": [
    {
     "ename": "SyntaxError",
     "evalue": "invalid syntax (<ipython-input-19-6f2c81b92c3e>, line 1)",
     "output_type": "error",
     "traceback": [
      "\u001b[0;36m  File \u001b[0;32m\"<ipython-input-19-6f2c81b92c3e>\"\u001b[0;36m, line \u001b[0;32m1\u001b[0m\n\u001b[0;31m    list_2d[].[0]\u001b[0m\n\u001b[0m            ^\u001b[0m\n\u001b[0;31mSyntaxError\u001b[0m\u001b[0;31m:\u001b[0m invalid syntax\n"
     ]
    }
   ],
   "source": [
    "list_2d[].[0]"
   ]
  },
  {
   "cell_type": "code",
   "execution_count": 1,
   "metadata": {},
   "outputs": [
    {
     "name": "stdout",
     "output_type": "stream",
     "text": [
      "attrs==19.3.0\n",
      "backcall==0.1.0\n",
      "bleach==3.1.0\n",
      "cycler==0.10.0\n",
      "decorator==4.4.1\n",
      "defusedxml==0.6.0\n",
      "entrypoints==0.3\n",
      "ipykernel==5.1.4\n",
      "ipython==7.12.0\n",
      "ipython-genutils==0.2.0\n",
      "jedi==0.16.0\n",
      "Jinja2==2.11.1\n",
      "json5==0.9.0\n",
      "jsonschema==3.2.0\n",
      "jupyter-client==5.3.4\n",
      "jupyter-core==4.6.1\n",
      "jupyterlab==1.2.6\n",
      "jupyterlab-server==1.0.6\n",
      "kiwisolver==1.1.0\n",
      "MarkupSafe==1.1.1\n",
      "matplotlib==3.1.3\n",
      "mecab-python3==0.996.3\n",
      "mistune==0.8.4\n",
      "nbconvert==5.6.1\n",
      "nbformat==5.0.4\n",
      "notebook==6.0.3\n",
      "numpy==1.18.1\n",
      "pandas==1.0.1\n",
      "pandocfilters==1.4.2\n",
      "parso==0.6.1\n",
      "pexpect==4.8.0\n",
      "pickleshare==0.7.5\n",
      "prometheus-client==0.7.1\n",
      "prompt-toolkit==3.0.3\n",
      "ptyprocess==0.6.0\n",
      "pydot==1.4.1\n",
      "Pygments==2.5.2\n",
      "pyparsing==2.4.6\n",
      "pyrsistent==0.15.7\n",
      "python-dateutil==2.8.1\n",
      "pytz==2019.3\n",
      "pyzmq==18.1.1\n",
      "Send2Trash==1.5.0\n",
      "six==1.14.0\n",
      "terminado==0.8.3\n",
      "testpath==0.4.4\n",
      "tornado==6.0.3\n",
      "traitlets==4.3.3\n",
      "wcwidth==0.1.8\n",
      "webencodings==0.5.1\n"
     ]
    }
   ],
   "source": [
    "! pip freeze"
   ]
  },
  {
   "cell_type": "code",
   "execution_count": null,
   "metadata": {},
   "outputs": [],
   "source": []
  }
 ],
 "metadata": {
  "kernelspec": {
   "display_name": "Python 3",
   "language": "python",
   "name": "python3"
  },
  "language_info": {
   "codemirror_mode": {
    "name": "ipython",
    "version": 3
   },
   "file_extension": ".py",
   "mimetype": "text/x-python",
   "name": "python",
   "nbconvert_exporter": "python",
   "pygments_lexer": "ipython3",
   "version": "3.8.1"
  }
 },
 "nbformat": 4,
 "nbformat_minor": 4
}
