{
 "cells": [
  {
   "cell_type": "code",
   "execution_count": 1,
   "metadata": {},
   "outputs": [],
   "source": [
    "import subprocess"
   ]
  },
  {
   "cell_type": "code",
   "execution_count": 2,
   "metadata": {},
   "outputs": [
    {
     "data": {
      "text/plain": [
       "0"
      ]
     },
     "execution_count": 2,
     "metadata": {},
     "output_type": "execute_result"
    }
   ],
   "source": [
    "cmd = \"ls -l\"\n",
    "subprocess.call(cmd.split())"
   ]
  },
  {
   "cell_type": "code",
   "execution_count": 7,
   "metadata": {},
   "outputs": [
    {
     "name": "stdout",
     "output_type": "stream",
     "text": [
      "00.test.ipynb\n",
      "040.係り受け解析結果の読み込み(形態素).ipynb\n",
      "041.係り受け解析結果の読み込み(文節・係り受け).ipynb\n",
      "042.係り元と係り先の文節の表示.ipynb\n",
      "043.名詞を含む文節が動詞を含む文節に係るものを抽出.ipynb\n",
      "044.係り受け木の可視化.ipynb\n",
      "045_all.txt\n",
      "045_result.txt\n",
      "045_shell.sh\n",
      "045_する.txt\n",
      "045_与える.txt\n",
      "045.動詞の格パターンの抽出.ipynb\n",
      "045_見る.txt\n",
      "046_result.txt\n",
      "046.動詞の格フレーム情報の抽出.ipynb\n",
      "047_result.txt\n",
      "047.機能動詞構文のマイニング.ipynb\n",
      "neko.txt.cabocha\n",
      "neko.txt.cabocha3\n",
      "result.png\n",
      "test01_pydot.ipynb\n",
      "test.ipynb\n",
      "第5章_係り受け解析.ipynb\n",
      "\n"
     ]
    }
   ],
   "source": [
    "proc = subprocess.run(['cabocha', '-f1', ], stdout=subprocess.PIPE, stderr=subprocess.PIPE)\n",
    "print(proc.stdout.decode(\"utf8\"))"
   ]
  },
  {
   "cell_type": "code",
   "execution_count": 12,
   "metadata": {},
   "outputs": [
    {
     "name": "stdout",
     "output_type": "stream",
     "text": [
      "* 0 1D 0/1 0.000000\n",
      "私\t名詞,代名詞,一般,*,*,*,私,ワタシ,ワタシ\n",
      "は\t助詞,係助詞,*,*,*,*,は,ハ,ワ\n",
      "* 1 -1D 0/2 0.000000\n",
      "神\t名詞,一般,*,*,*,*,神,カミ,カミ\n",
      "で\t助動詞,*,*,*,特殊・ダ,連用形,だ,デ,デ\n",
      "ある\t助動詞,*,*,*,五段・ラ行アル,基本形,ある,アル,アル\n",
      "EOS\n",
      "\n"
     ]
    }
   ],
   "source": [
    "print(subprocess.check_output(\"echo \\\"私は神である\\\" | cabocha -f1\", shell=True).decode(\"utf-8\"))\n",
    "#! cabocha -f1 ../04.形態素解析/neko.txt -o neko.txt.cabocha"
   ]
  },
  {
   "cell_type": "code",
   "execution_count": null,
   "metadata": {},
   "outputs": [],
   "source": []
  }
 ],
 "metadata": {
  "kernelspec": {
   "display_name": "Python 3",
   "language": "python",
   "name": "python3"
  },
  "language_info": {
   "codemirror_mode": {
    "name": "ipython",
    "version": 3
   },
   "file_extension": ".py",
   "mimetype": "text/x-python",
   "name": "python",
   "nbconvert_exporter": "python",
   "pygments_lexer": "ipython3",
   "version": "3.8.1"
  }
 },
 "nbformat": 4,
 "nbformat_minor": 4
}
