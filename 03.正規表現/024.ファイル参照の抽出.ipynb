{
 "cells": [
  {
   "cell_type": "markdown",
   "metadata": {
    "colab_type": "text",
    "id": "Q3BWg2WMtMEb"
   },
   "source": [
    "記事から参照されているメディアファイルをすべて抜き出せ\n",
    "https://ja.wikipedia.org/wiki/Help:%E6%97%A9%E8%A6%8B%E8%A1%A8"
   ]
  },
  {
   "cell_type": "code",
   "execution_count": 1,
   "metadata": {
    "colab": {
     "autoexec": {
      "startup": false,
      "wait_interval": 0
     },
     "base_uri": "https://localhost:8080/",
     "height": 37
    },
    "colab_type": "code",
    "executionInfo": {
     "elapsed": 712,
     "status": "ok",
     "timestamp": 1530796876382,
     "user": {
      "displayName": "fuku2986",
      "photoUrl": "https://lh3.googleusercontent.com/a/default-user=s128",
      "userId": "111229342394766192341"
     },
     "user_tz": -540
    },
    "id": "r0qpQeBqs4dC",
    "outputId": "723d9368-7219-49ee-c835-dc00eaad73bf"
   },
   "outputs": [],
   "source": [
    "import re\n",
    "from pprint import pprint\n",
    "\n",
    "import pandas as pd"
   ]
  },
  {
   "cell_type": "code",
   "execution_count": 2,
   "metadata": {
    "colab": {
     "autoexec": {
      "startup": false,
      "wait_interval": 0
     },
     "base_uri": "https://localhost:8080/",
     "height": 37
    },
    "colab_type": "code",
    "executionInfo": {
     "elapsed": 604,
     "status": "ok",
     "timestamp": 1530796969231,
     "user": {
      "displayName": "fuku2986",
      "photoUrl": "https://lh3.googleusercontent.com/a/default-user=s128",
      "userId": "111229342394766192341"
     },
     "user_tz": -540
    },
    "id": "irEP7hn5vm2L",
    "outputId": "277913d2-18d5-4cff-b2ad-0485de2ef43a"
   },
   "outputs": [],
   "source": [
    "def extract_by_title(title):\n",
    "    df_wiki = pd.read_json('jawiki-country.json', lines=True)\n",
    "    return df_wiki[(df_wiki['title'] == title)]['text'].values[0]"
   ]
  },
  {
   "cell_type": "code",
   "execution_count": 3,
   "metadata": {
    "colab": {
     "autoexec": {
      "startup": false,
      "wait_interval": 0
     },
     "base_uri": "https://localhost:8080/",
     "height": 9655
    },
    "colab_type": "code",
    "executionInfo": {
     "elapsed": 1141,
     "status": "ok",
     "timestamp": 1530797224033,
     "user": {
      "displayName": "fuku2986",
      "photoUrl": "https://lh3.googleusercontent.com/a/default-user=s128",
      "userId": "111229342394766192341"
     },
     "user_tz": -540
    },
    "id": "q9aImez8CQYr",
    "outputId": "a58a73fd-5936-482a-f611-63b3d5a2866a"
   },
   "outputs": [],
   "source": [
    "wiki_body = extract_by_title('イギリス')"
   ]
  },
  {
   "cell_type": "code",
   "execution_count": 5,
   "metadata": {
    "colab": {
     "autoexec": {
      "startup": false,
      "wait_interval": 0
     },
     "base_uri": "https://localhost:8080/",
     "height": 635
    },
    "colab_type": "code",
    "executionInfo": {
     "elapsed": 667,
     "status": "ok",
     "timestamp": 1530798756708,
     "user": {
      "displayName": "fuku2986",
      "photoUrl": "https://lh3.googleusercontent.com/a/default-user=s128",
      "userId": "111229342394766192341"
     },
     "user_tz": -540
    },
    "id": "SDnBDlWBEg9W",
    "outputId": "9d147c8b-5e97-4b76-f7c3-03dc1e95bf50"
   },
   "outputs": [
    {
     "name": "stdout",
     "output_type": "stream",
     "text": [
      "['Royal Coat of Arms of the United Kingdom.svg',\n",
      " 'Battle of Waterloo 1815.PNG',\n",
      " 'The British Empire.png',\n",
      " 'Uk topo en.jpg',\n",
      " 'BenNevis2005.jpg',\n",
      " 'Elizabeth II greets NASA GSFC employees, May 8, 2007 edit.jpg',\n",
      " 'Palace of Westminster, London - Feb 2007.jpg',\n",
      " 'David Cameron and Barack Obama at the G20 Summit in Toronto.jpg',\n",
      " 'Soldiers Trooping the Colour, 16th June 2007.jpg',\n",
      " 'Scotland Parliament Holyrood.jpg',\n",
      " 'London.bankofengland.arp.jpg',\n",
      " 'City of London skyline from London City Hall - Oct 2008.jpg',\n",
      " 'Oil platform in the North SeaPros.jpg',\n",
      " 'Eurostar at St Pancras Jan 2008.jpg',\n",
      " 'Heathrow T5.jpg',\n",
      " 'Anglospeak.svg',\n",
      " 'CHANDOS3.jpg',\n",
      " 'The Fabs.JPG',\n",
      " 'PalaceOfWestminsterAtNight.jpg',\n",
      " 'Westminster Abbey - West Door.jpg',\n",
      " 'Edinburgh Cockburn St dsc06789.jpg',\n",
      " 'Canterbury Cathedral - Portal Nave Cross-spire.jpeg',\n",
      " 'Kew Gardens Palm House, London - July 2009.jpg',\n",
      " '2005-06-27 - United Kingdom - England - London - Greenwich.jpg',\n",
      " 'Stonehenge2007 07 30.jpg',\n",
      " 'Yard2.jpg',\n",
      " 'Durham Kathedrale Nahaufnahme.jpg',\n",
      " 'Roman Baths in Bath Spa, England - July 2006.jpg',\n",
      " 'Fountains Abbey view02 2005-08-27.jpg',\n",
      " 'Blenheim Palace IMG 3673.JPG',\n",
      " 'Liverpool Pier Head by night.jpg',\n",
      " \"Hadrian's Wall view near Greenhead.jpg\",\n",
      " 'London Tower (1).JPG',\n",
      " 'Wembley Stadium, illuminated.jpg']\n"
     ]
    }
   ],
   "source": [
    "# rを先頭にするとraw string でエスケープシーケンス無視\n",
    "# 3重クォートで途中改行無視\n",
    "# re.VERBOSEオプションを使うことによって、空白とコメント無視\n",
    "# 非貪欲マッチにすることで、短い文字列を検索\n",
    "pprint(re.findall(r'''\n",
    "                  (?:File|ファイル)   # 非キャプチャ、'File'か'ファイル'\n",
    "                  :                  # 非キャプチャ\n",
    "                  (.+?)              # キャプチャ対象、任意の文字1文字以上、非貪欲\n",
    "                  \\|                 # 非キャプチャ、|をエスケープ\n",
    "                  ''', wiki_body, re.VERBOSE))"
   ]
  },
  {
   "cell_type": "code",
   "execution_count": null,
   "metadata": {
    "colab": {
     "autoexec": {
      "startup": false,
      "wait_interval": 0
     }
    },
    "colab_type": "code",
    "id": "_qsXxAkbM7au"
   },
   "outputs": [],
   "source": []
  }
 ],
 "metadata": {
  "colab": {
   "collapsed_sections": [],
   "default_view": {},
   "name": "024.ファイル参照の抽出.ipynb",
   "provenance": [
    {
     "file_id": "1W_3xr1ih_1M_qXjbosPoigS_5oz4VO86",
     "timestamp": 1530796809179
    },
    {
     "file_id": "1rYq3lxVmzDOvkBxizmM_VN_B2g4EVBzI",
     "timestamp": 1530710273511
    },
    {
     "file_id": "17-lO8vrzqWNO5Nfi02HRZwqCpP7YoytL",
     "timestamp": 1530616724666
    },
    {
     "file_id": "1Tce9R_1bc17hYbF0ZWxV3pt3jEyBqvK_",
     "timestamp": 1530418285635
    }
   ],
   "version": "0.3.2",
   "views": {}
  },
  "kernelspec": {
   "display_name": "Python 3",
   "language": "python",
   "name": "python3"
  },
  "language_info": {
   "codemirror_mode": {
    "name": "ipython",
    "version": 3
   },
   "file_extension": ".py",
   "mimetype": "text/x-python",
   "name": "python",
   "nbconvert_exporter": "python",
   "pygments_lexer": "ipython3",
   "version": "3.6.8"
  }
 },
 "nbformat": 4,
 "nbformat_minor": 4
}
