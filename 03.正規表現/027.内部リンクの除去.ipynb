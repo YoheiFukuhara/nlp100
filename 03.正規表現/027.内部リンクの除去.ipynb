{
 "cells": [
  {
   "cell_type": "markdown",
   "metadata": {
    "colab_type": "text",
    "id": "Q3BWg2WMtMEb"
   },
   "source": [
    "26の処理に加えて，テンプレートの値からMediaWikiの内部リンクマークアップを除去し，テキストに変換せよ（参考: マークアップ早見表）．\n",
    "https://ja.wikipedia.org/wiki/Help:%E6%97%A9%E8%A6%8B%E8%A1%A8"
   ]
  },
  {
   "cell_type": "code",
   "execution_count": 1,
   "metadata": {
    "colab": {
     "autoexec": {
      "startup": false,
      "wait_interval": 0
     }
    },
    "colab_type": "code",
    "id": "r0qpQeBqs4dC"
   },
   "outputs": [],
   "source": [
    "from collections import OrderedDict\n",
    "from pprint import pprint\n",
    "import re\n",
    "\n",
    "import pandas as pd"
   ]
  },
  {
   "cell_type": "code",
   "execution_count": 2,
   "metadata": {
    "colab": {
     "autoexec": {
      "startup": false,
      "wait_interval": 0
     },
     "base_uri": "https://localhost:8080/",
     "height": 78,
     "resources": {
      "http://localhost:8080/nbextensions/google.colab/files.js": {
       "data": "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",
       "headers": [
        [
         "content-type",
         "application/javascript"
        ]
       ],
       "ok": true,
       "status": 200,
       "status_text": ""
      }
     }
    },
    "colab_type": "code",
    "executionInfo": {
     "elapsed": 82888,
     "status": "ok",
     "timestamp": 1531085123980,
     "user": {
      "displayName": "fuku2986",
      "photoUrl": "https://lh3.googleusercontent.com/a/default-user=s128",
      "userId": "111229342394766192341"
     },
     "user_tz": -540
    },
    "id": "pd5WeUqQtGWs",
    "outputId": "11116186-7234-4112-ff7a-cdd52efa38ac"
   },
   "outputs": [],
   "source": [
    "def extract_by_title(title):\n",
    "    df_wiki = pd.read_json('jawiki-country.json', lines=True)\n",
    "    return df_wiki[(df_wiki['title'] == title)]['text'].values[0]"
   ]
  },
  {
   "cell_type": "code",
   "execution_count": 3,
   "metadata": {
    "colab": {
     "autoexec": {
      "startup": false,
      "wait_interval": 0
     }
    },
    "colab_type": "code",
    "id": "q9aImez8CQYr"
   },
   "outputs": [],
   "source": [
    "wiki_body = extract_by_title('イギリス')"
   ]
  },
  {
   "cell_type": "code",
   "execution_count": 4,
   "metadata": {
    "colab": {
     "autoexec": {
      "startup": false,
      "wait_interval": 0
     }
    },
    "colab_type": "code",
    "id": "SDnBDlWBEg9W"
   },
   "outputs": [],
   "source": [
    "# rを先頭にするとraw string でエスケープシーケンス無視\n",
    "# 3重クォートで途中改行無視\n",
    "# re.VERBOSEオプションを使うことによって、空白とコメント無視\n",
    "# re.MULTILINEで複数行に対して検索\n",
    "# re.DOTALLで改行もワイルドカード対象\n",
    "# 非貪欲マッチにすることで、短い文字列を検索\n",
    "basic = re.search(r'''\n",
    "                    ^\\{\\{基礎情報.*?\\n  #検索語句(\\はエスケープ処理)、非キャプチャ、非貪欲\n",
    "                    (.*?)              #任意の文字列\n",
    "                    \\}\\}               #検索語句(\\はエスケープ処理)\n",
    "                    $                  #文字列の末尾\n",
    "                    ''', wiki_body, re.MULTILINE+re.VERBOSE+re.DOTALL)"
   ]
  },
  {
   "cell_type": "code",
   "execution_count": 5,
   "metadata": {
    "colab": {
     "autoexec": {
      "startup": false,
      "wait_interval": 0
     },
     "base_uri": "https://localhost:8080/",
     "height": 55
    },
    "colab_type": "code",
    "executionInfo": {
     "elapsed": 534,
     "status": "ok",
     "timestamp": 1531085280662,
     "user": {
      "displayName": "fuku2986",
      "photoUrl": "https://lh3.googleusercontent.com/a/default-user=s128",
      "userId": "111229342394766192341"
     },
     "user_tz": -540
    },
    "id": "Ttj3-0QXq6FF",
    "outputId": "6ac3f348-4552-41fc-c7c2-1f8a186cb309"
   },
   "outputs": [],
   "source": [
    "# rを先頭にするとraw string でエスケープシーケンス無視\n",
    "# 3重クォートで途中改行無視\n",
    "# re.VERBOSEオプションを使うことによって、空白とコメント無視\n",
    "# re.MULTILINEで複数行に対して検索\n",
    "# re.DOTALLで改行もワイルドカード対象\n",
    "# 非貪欲マッチにすることで、短い文字列を検索\n",
    "templates = OrderedDict(re.findall(r'''\n",
    "                          ^\\|         # \\はエスケープ処理、非キャプチャ\n",
    "                          (.+?)       # キャプチャ対象(key)、非貪欲\n",
    "                          \\s*         # 空白文字0文字以上\n",
    "                          =           # 検索語句、非キャプチャ\n",
    "                          \\s*         # 空白文字0文字以上\n",
    "                          (.+?)       # キャプチャ対象(Value)、非貪欲\n",
    "                          (?:         # キャプチャ対象外のグループ開始\n",
    "                            (?=\\n\\|)  # 改行(\\n)+'|'の手前(肯定の先読み)\n",
    "                          | (?=\\n$)   # または、改行(\\n)+終端の手前(肯定の先読み)\n",
    "                          )           # キャプチャ対象外のグループ終了\n",
    "                         ''', basic.group(1), re.MULTILINE+re.VERBOSE+re.DOTALL))"
   ]
  },
  {
   "cell_type": "code",
   "execution_count": 6,
   "metadata": {
    "colab": {
     "autoexec": {
      "startup": false,
      "wait_interval": 0
     },
     "base_uri": "https://localhost:8080/",
     "height": 55
    },
    "colab_type": "code",
    "executionInfo": {
     "elapsed": 503,
     "status": "ok",
     "timestamp": 1531085281264,
     "user": {
      "displayName": "fuku2986",
      "photoUrl": "https://lh3.googleusercontent.com/a/default-user=s128",
      "userId": "111229342394766192341"
     },
     "user_tz": -540
    },
    "id": "Wst86qI8xJNj",
    "outputId": "2999704a-68a2-45a6-964c-111bc855b02f"
   },
   "outputs": [],
   "source": [
    "# マークアップ除去\n",
    "def remove_markup(string):\n",
    "    \n",
    "    # 強調マークアップの除去\n",
    "    replaced = re.sub(r'''\n",
    "                       (\\'{2,5})   # 2〜5個の'（マークアップの開始）\n",
    "                       (.*?)       # 任意の1文字以上（対象の文字列）\n",
    "                       (\\1)        # 1番目のキャプチャと同じ（マークアップの終了）\n",
    "                       ''', r'\\2', string, flags=re.MULTILINE+re.VERBOSE)\n",
    "\n",
    "    # 内部リンクの除去\n",
    "    replaced = re.sub(r'''\n",
    "        \\[\\[             # '[['(マークアップ開始)\n",
    "        (?:              # キャプチャ対象外のグループ開始\n",
    "            [^|]*?       # '|'以外の文字0文字以上、非貪欲\n",
    "            \\|           # '|'\n",
    "        )??              # グループ終了、このグループが0か1出現、非貪欲\n",
    "        (                # グループ開始、キャプチャ対象\n",
    "          (?!Category:)  # 否定の先読(含んだ場合は対象外としている)\n",
    "          ([^|]*?)    # '|'以外が0文字以上、非貪欲(表示対象の文字列)\n",
    "        )\n",
    "        \\]\\]        # ']]'（マークアップ終了）\n",
    "        ''', r'\\1', replaced, flags=re.MULTILINE+re.VERBOSE)\n",
    "    \n",
    "    return replaced"
   ]
  },
  {
   "cell_type": "code",
   "execution_count": 7,
   "metadata": {
    "colab": {
     "autoexec": {
      "startup": false,
      "wait_interval": 0
     },
     "base_uri": "https://localhost:8080/",
     "height": 1074
    },
    "colab_type": "code",
    "executionInfo": {
     "elapsed": 532,
     "status": "ok",
     "timestamp": 1531085281876,
     "user": {
      "displayName": "fuku2986",
      "photoUrl": "https://lh3.googleusercontent.com/a/default-user=s128",
      "userId": "111229342394766192341"
     },
     "user_tz": -540
    },
    "id": "rjXWim7NsNit",
    "outputId": "56a15282-44c2-4a12-f8f2-c5aefc9bdcb1"
   },
   "outputs": [
    {
     "name": "stdout",
     "output_type": "stream",
     "text": [
      "2 公式国名\n",
      "変更前\t {{lang|en|United Kingdom of Great Britain and Northern Ireland}}<ref>英語以外での正式国名:<br/>\n",
      "*{{lang|gd|An Rìoghachd Aonaichte na Breatainn Mhòr agus Eirinn mu Thuath}}（[[スコットランド・ゲール語]]）<br/>\n",
      "*{{lang|cy|Teyrnas Gyfunol Prydain Fawr a Gogledd Iwerddon}}（[[ウェールズ語]]）<br/>\n",
      "*{{lang|ga|Ríocht Aontaithe na Breataine Móire agus Tuaisceart na hÉireann}}（[[アイルランド語]]）<br/>\n",
      "*{{lang|kw|An Rywvaneth Unys a Vreten Veur hag Iwerdhon Glédh}}（[[コーンウォール語]]）<br/>\n",
      "*{{lang|sco|Unitit Kinrick o Great Breetain an Northren Ireland}}（[[スコットランド語]]）<br/>\n",
      "**{{lang|sco|Claught Kängrick o Docht Brätain an Norlin Airlann}}、{{lang|sco|Unitet Kängdom o Great Brittain an Norlin Airlann}}（アルスター・スコットランド語）</ref>\n",
      "変更後\t {{lang|en|United Kingdom of Great Britain and Northern Ireland}}<ref>英語以外での正式国名:<br/>\n",
      "*{{lang|gd|An Rìoghachd Aonaichte na Breatainn Mhòr agus Eirinn mu Thuath}}（スコットランド・ゲール語）<br/>\n",
      "*{{lang|cy|Teyrnas Gyfunol Prydain Fawr a Gogledd Iwerddon}}（ウェールズ語）<br/>\n",
      "*{{lang|ga|Ríocht Aontaithe na Breataine Móire agus Tuaisceart na hÉireann}}（アイルランド語）<br/>\n",
      "*{{lang|kw|An Rywvaneth Unys a Vreten Veur hag Iwerdhon Glédh}}（コーンウォール語）<br/>\n",
      "*{{lang|sco|Unitit Kinrick o Great Breetain an Northren Ireland}}（スコットランド語）<br/>\n",
      "**{{lang|sco|Claught Kängrick o Docht Brätain an Norlin Airlann}}、{{lang|sco|Unitet Kängdom o Great Brittain an Norlin Airlann}}（アルスター・スコットランド語）</ref>\n",
      "----\n",
      "5 国章リンク\n",
      "変更前\t （[[イギリスの国章|国章]]）\n",
      "変更後\t （国章）\n",
      "----\n",
      "6 標語\n",
      "変更前\t {{lang|fr|Dieu et mon droit}}<br/>（[[フランス語]]:神と私の権利）\n",
      "変更後\t {{lang|fr|Dieu et mon droit}}<br/>（フランス語:神と私の権利）\n",
      "----\n",
      "7 国歌\n",
      "変更前\t [[女王陛下万歳|神よ女王陛下を守り給え]]\n",
      "変更後\t 神よ女王陛下を守り給え\n",
      "----\n",
      "9 公用語\n",
      "変更前\t [[英語]]（事実上）\n",
      "変更後\t 英語（事実上）\n",
      "----\n",
      "10 首都\n",
      "変更前\t [[ロンドン]]\n",
      "変更後\t ロンドン\n",
      "----\n",
      "12 元首等肩書\n",
      "変更前\t [[イギリスの君主|女王]]\n",
      "変更後\t 女王\n",
      "----\n",
      "13 元首等氏名\n",
      "変更前\t [[エリザベス2世]]\n",
      "変更後\t エリザベス2世\n",
      "----\n",
      "14 首相等肩書\n",
      "変更前\t [[イギリスの首相|首相]]\n",
      "変更後\t 首相\n",
      "----\n",
      "15 首相等氏名\n",
      "変更前\t [[デーヴィッド・キャメロン]]\n",
      "変更後\t デーヴィッド・キャメロン\n",
      "----\n",
      "35 確立形態1\n",
      "変更前\t [[イングランド王国]]／[[スコットランド王国]]<br />（両国とも[[連合法 (1707年)|1707年連合法]]まで）\n",
      "変更後\t イングランド王国／スコットランド王国<br />（両国とも1707年連合法まで）\n",
      "----\n",
      "36 確立年月日1\n",
      "変更前\t [[927年]]／[[843年]]\n",
      "変更後\t 927年／843年\n",
      "----\n",
      "37 確立形態2\n",
      "変更前\t [[グレートブリテン王国]]建国<br />（[[連合法 (1707年)|1707年連合法]]）\n",
      "変更後\t グレートブリテン王国建国<br />（1707年連合法）\n",
      "----\n",
      "38 確立年月日2\n",
      "変更前\t [[1707年]]\n",
      "変更後\t 1707年\n",
      "----\n",
      "39 確立形態3\n",
      "変更前\t [[グレートブリテン及びアイルランド連合王国]]建国<br />（[[連合法 (1800年)|1800年連合法]]）\n",
      "変更後\t グレートブリテン及びアイルランド連合王国建国<br />（1800年連合法）\n",
      "----\n",
      "40 確立年月日3\n",
      "変更前\t [[1801年]]\n",
      "変更後\t 1801年\n",
      "----\n",
      "41 確立形態4\n",
      "変更前\t 現在の国号「'''グレートブリテン及び北アイルランド連合王国'''」に変更\n",
      "変更後\t 現在の国号「グレートブリテン及び北アイルランド連合王国」に変更\n",
      "----\n",
      "42 確立年月日4\n",
      "変更前\t [[1927年]]\n",
      "変更後\t 1927年\n",
      "----\n",
      "43 通貨\n",
      "変更前\t [[スターリング・ポンド|UKポンド]] (&pound;)\n",
      "変更後\t UKポンド (&pound;)\n",
      "----\n",
      "48 ccTLD\n",
      "変更前\t [[.uk]] / [[.gb]]<ref>使用は.ukに比べ圧倒的少数。</ref>\n",
      "変更後\t .uk / .gb<ref>使用は.ukに比べ圧倒的少数。</ref>\n",
      "----\n"
     ]
    }
   ],
   "source": [
    "for i, (key, value) in enumerate(templates.items()):\n",
    "    replaced = remove_markup(value)\n",
    "    templates[key] = replaced\n",
    "    \n",
    "    # 変わったものを表示\n",
    "    if value != replaced:\n",
    "        print(i, key) \n",
    "        print('変更前\\t', value)\n",
    "        print('変更後\\t', replaced)\n",
    "        print('----')"
   ]
  },
  {
   "cell_type": "code",
   "execution_count": 8,
   "metadata": {
    "colab": {
     "autoexec": {
      "startup": false,
      "wait_interval": 0
     }
    },
    "colab_type": "code",
    "id": "_qsXxAkbM7au"
   },
   "outputs": [
    {
     "name": "stdout",
     "output_type": "stream",
     "text": [
      "OrderedDict([('略名', 'イギリス'),\n",
      "             ('日本語国名', 'グレートブリテン及び北アイルランド連合王国'),\n",
      "             ('公式国名',\n",
      "              '{{lang|en|United Kingdom of Great Britain and Northern '\n",
      "              'Ireland}}<ref>英語以外での正式国名:<br/>\\n'\n",
      "              '*{{lang|gd|An Rìoghachd Aonaichte na Breatainn Mhòr agus Eirinn '\n",
      "              'mu Thuath}}（スコットランド・ゲール語）<br/>\\n'\n",
      "              '*{{lang|cy|Teyrnas Gyfunol Prydain Fawr a Gogledd '\n",
      "              'Iwerddon}}（ウェールズ語）<br/>\\n'\n",
      "              '*{{lang|ga|Ríocht Aontaithe na Breataine Móire agus Tuaisceart '\n",
      "              'na hÉireann}}（アイルランド語）<br/>\\n'\n",
      "              '*{{lang|kw|An Rywvaneth Unys a Vreten Veur hag Iwerdhon '\n",
      "              'Glédh}}（コーンウォール語）<br/>\\n'\n",
      "              '*{{lang|sco|Unitit Kinrick o Great Breetain an Northren '\n",
      "              'Ireland}}（スコットランド語）<br/>\\n'\n",
      "              '**{{lang|sco|Claught Kängrick o Docht Brätain an Norlin '\n",
      "              'Airlann}}、{{lang|sco|Unitet Kängdom o Great Brittain an Norlin '\n",
      "              'Airlann}}（アルスター・スコットランド語）</ref>'),\n",
      "             ('国旗画像', 'Flag of the United Kingdom.svg'),\n",
      "             ('国章画像',\n",
      "              '[[ファイル:Royal Coat of Arms of the United '\n",
      "              'Kingdom.svg|85px|イギリスの国章]]'),\n",
      "             ('国章リンク', '（国章）'),\n",
      "             ('標語', '{{lang|fr|Dieu et mon droit}}<br/>（フランス語:神と私の権利）'),\n",
      "             ('国歌', '神よ女王陛下を守り給え'),\n",
      "             ('位置画像', 'Location_UK_EU_Europe_001.svg'),\n",
      "             ('公用語', '英語（事実上）'),\n",
      "             ('首都', 'ロンドン'),\n",
      "             ('最大都市', 'ロンドン'),\n",
      "             ('元首等肩書', '女王'),\n",
      "             ('元首等氏名', 'エリザベス2世'),\n",
      "             ('首相等肩書', '首相'),\n",
      "             ('首相等氏名', 'デーヴィッド・キャメロン'),\n",
      "             ('面積順位', '76'),\n",
      "             ('面積大きさ', '1 E11'),\n",
      "             ('面積値', '244,820'),\n",
      "             ('水面積率', '1.3%'),\n",
      "             ('人口統計年', '2011'),\n",
      "             ('人口順位', '22'),\n",
      "             ('人口大きさ', '1 E7'),\n",
      "             ('人口値',\n",
      "              '63,181,775<ref>[http://esa.un.org/unpd/wpp/Excel-Data/population.htm '\n",
      "              'United Nations Department of Economic and Social '\n",
      "              'Affairs>Population Division>Data>Population>Total '\n",
      "              'Population]</ref>'),\n",
      "             ('人口密度値', '246'),\n",
      "             ('GDP統計年元', '2012'),\n",
      "             ('GDP値元',\n",
      "              '1兆5478億<ref '\n",
      "              'name=\"imf-statistics-gdp\">[http://www.imf.org/external/pubs/ft/weo/2012/02/weodata/weorept.aspx?pr.x=70&pr.y=13&sy=2010&ey=2012&scsm=1&ssd=1&sort=country&ds=.&br=1&c=112&s=NGDP%2CNGDPD%2CPPPGDP%2CPPPPC&grp=0&a= '\n",
      "              'IMF>Data and Statistics>World Economic Outlook Databases>By '\n",
      "              'Countrise>United Kingdom]</ref>'),\n",
      "             ('GDP統計年MER', '2012'),\n",
      "             ('GDP順位MER', '5'),\n",
      "             ('GDP値MER', '2兆4337億<ref name=\"imf-statistics-gdp\" />'),\n",
      "             ('GDP統計年', '2012'),\n",
      "             ('GDP順位', '6'),\n",
      "             ('GDP値', '2兆3162億<ref name=\"imf-statistics-gdp\" />'),\n",
      "             ('GDP/人', '36,727<ref name=\"imf-statistics-gdp\" />'),\n",
      "             ('建国形態', '建国'),\n",
      "             ('確立形態1', 'イングランド王国／スコットランド王国<br />（両国とも1707年連合法まで）'),\n",
      "             ('確立年月日1', '927年／843年'),\n",
      "             ('確立形態2', 'グレートブリテン王国建国<br />（1707年連合法）'),\n",
      "             ('確立年月日2', '1707年'),\n",
      "             ('確立形態3', 'グレートブリテン及びアイルランド連合王国建国<br />（1800年連合法）'),\n",
      "             ('確立年月日3', '1801年'),\n",
      "             ('確立形態4', '現在の国号「グレートブリテン及び北アイルランド連合王国」に変更'),\n",
      "             ('確立年月日4', '1927年'),\n",
      "             ('通貨', 'UKポンド (&pound;)'),\n",
      "             ('通貨コード', 'GBP'),\n",
      "             ('時間帯', '±0'),\n",
      "             ('夏時間', '+1'),\n",
      "             ('ISO 3166-1', 'GB / GBR'),\n",
      "             ('ccTLD', '.uk / .gb<ref>使用は.ukに比べ圧倒的少数。</ref>'),\n",
      "             ('国際電話番号', '44'),\n",
      "             ('注記', '<references />')])\n"
     ]
    }
   ],
   "source": [
    "pprint(templates)"
   ]
  },
  {
   "cell_type": "code",
   "execution_count": null,
   "metadata": {},
   "outputs": [],
   "source": []
  }
 ],
 "metadata": {
  "colab": {
   "collapsed_sections": [],
   "default_view": {},
   "name": "027.内部リンクの除去.ipynb",
   "provenance": [
    {
     "file_id": "17v-4xK_EPSaPIU60f6XN_LC-JUh40xfN",
     "timestamp": 1530950520953
    },
    {
     "file_id": "1rixD9pdIaF1HQLdkP0z1jGDPOTA48MIx",
     "timestamp": 1530948324772
    },
    {
     "file_id": "1tdSegkRUiT2MFZAQXxqQcCbx8jjxcg7c",
     "timestamp": 1530798888152
    },
    {
     "file_id": "1W_3xr1ih_1M_qXjbosPoigS_5oz4VO86",
     "timestamp": 1530796809179
    },
    {
     "file_id": "1rYq3lxVmzDOvkBxizmM_VN_B2g4EVBzI",
     "timestamp": 1530710273511
    },
    {
     "file_id": "17-lO8vrzqWNO5Nfi02HRZwqCpP7YoytL",
     "timestamp": 1530616724666
    },
    {
     "file_id": "1Tce9R_1bc17hYbF0ZWxV3pt3jEyBqvK_",
     "timestamp": 1530418285635
    }
   ],
   "version": "0.3.2",
   "views": {}
  },
  "kernelspec": {
   "display_name": "Python 3",
   "language": "python",
   "name": "python3"
  },
  "language_info": {
   "codemirror_mode": {
    "name": "ipython",
    "version": 3
   },
   "file_extension": ".py",
   "mimetype": "text/x-python",
   "name": "python",
   "nbconvert_exporter": "python",
   "pygments_lexer": "ipython3",
   "version": "3.6.8"
  }
 },
 "nbformat": 4,
 "nbformat_minor": 4
}
