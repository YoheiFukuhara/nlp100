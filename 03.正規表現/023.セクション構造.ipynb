{
 "cells": [
  {
   "cell_type": "markdown",
   "metadata": {
    "colab_type": "text",
    "id": "Q3BWg2WMtMEb"
   },
   "source": [
    "記事中に含まれるセクション名とそのレベル（例えば\"== セクション名 ==\"なら1）を表示せよ\n",
    "https://ja.wikipedia.org/wiki/Help:%E6%97%A9%E8%A6%8B%E8%A1%A8"
   ]
  },
  {
   "cell_type": "code",
   "execution_count": 2,
   "metadata": {
    "colab": {
     "autoexec": {
      "startup": false,
      "wait_interval": 0
     }
    },
    "colab_type": "code",
    "id": "r0qpQeBqs4dC"
   },
   "outputs": [],
   "source": [
    "import re\n",
    "\n",
    "import pandas as pd"
   ]
  },
  {
   "cell_type": "code",
   "execution_count": 3,
   "metadata": {
    "colab": {
     "autoexec": {
      "startup": false,
      "wait_interval": 0
     }
    },
    "colab_type": "code",
    "id": "irEP7hn5vm2L"
   },
   "outputs": [],
   "source": [
    "def extract_by_title(title):\n",
    "    df_wiki = pd.read_json('jawiki-country.json', lines=True)\n",
    "    return df_wiki[(df_wiki['title'] == title)]['text'].values[0]"
   ]
  },
  {
   "cell_type": "code",
   "execution_count": 4,
   "metadata": {
    "colab": {
     "autoexec": {
      "startup": false,
      "wait_interval": 0
     }
    },
    "colab_type": "code",
    "id": "q9aImez8CQYr"
   },
   "outputs": [],
   "source": [
    "wiki_body = extract_by_title('イギリス')"
   ]
  },
  {
   "cell_type": "code",
   "execution_count": 10,
   "metadata": {
    "colab": {
     "autoexec": {
      "startup": false,
      "wait_interval": 0
     }
    },
    "colab_type": "code",
    "id": "_qsXxAkbM7au"
   },
   "outputs": [
    {
     "name": "stdout",
     "output_type": "stream",
     "text": [
      "国名(1)\n",
      "歴史(1)\n",
      "地理(1)\n",
      "\t気候(2)\n",
      "政治(1)\n",
      "外交と軍事(1)\n",
      "地方行政区分(1)\n",
      "\t主要都市(2)\n",
      "科学技術(1)\n",
      "経済(1)\n",
      "\t鉱業(2)\n",
      "\t農業(2)\n",
      "\t貿易(2)\n",
      "\t通貨(2)\n",
      "\t企業(2)\n",
      "交通(1)\n",
      "\t道路(2)\n",
      "\t鉄道(2)\n",
      "\t海運(2)\n",
      "\t航空(2)\n",
      "通信(1)\n",
      "国民(1)\n",
      "\t言語(2)\n",
      "\t宗教(2)\n",
      "\t婚姻(2)\n",
      "\t教育(2)\n",
      "文化(1)\n",
      "\t食文化(2)\n",
      "\t文学(2)\n",
      "\t哲学(2)\n",
      "\t音楽(2)\n",
      "\t\tイギリスのポピュラー音楽(3)\n",
      "\t映画(2)\n",
      "\tコメディ(2)\n",
      "\t国花(2)\n",
      "\t世界遺産(2)\n",
      "\t祝祭日(2)\n",
      "スポーツ(1)\n",
      "\tサッカー(2)\n",
      "\t競馬(2)\n",
      "\tモータースポーツ(2)\n",
      "脚注(1)\n",
      "関連項目(1)\n",
      "外部リンク(1)\n"
     ]
    }
   ],
   "source": [
    "# rを先頭にするとraw string でエスケープシーケンス無視\n",
    "# 3重クォートで途中改行無視\n",
    "# re.VERBOSEオプションを使うことによって、空白とコメント無視\n",
    "# re.MULTILINEで複数行に対して検索\n",
    "# 非貪欲マッチにすることで、短い文字列を検索\n",
    "sections = re.findall(r'''\n",
    "                      ^         # 文字列の先頭\n",
    "                      (={2,})   # キャプチャ対象、2個以上の'='\n",
    "                      \\s*       # 非キャプチャ、余分な0個以上の空白（'哲学'や'婚姻'の前後に余分な空白があるので除去）\n",
    "                      (.+?)     # キャプチャ対象、任意の文字が1文字以上、非貪欲（以降の条件の巻き込み防止）\n",
    "                      \\s*       # 余分な0個以上の空白\n",
    "                      \\1        # 後方参照、1番目のキャプチャ対象(={2,})と同じ内容\n",
    "                      $         # 行末\n",
    "                      ''', wiki_body, re.MULTILINE+re.VERBOSE)\n",
    "sections = pattern.findall(wiki_body)\n",
    "\n",
    "for section in sections:\n",
    "    level = len(section[0]) - 1    # '='の数-1\n",
    "    print('{indent}{sect}({level})'.format(\n",
    "        indent='\\t'*(level-1), sect=section[1], level=level))"
   ]
  },
  {
   "cell_type": "code",
   "execution_count": null,
   "metadata": {},
   "outputs": [],
   "source": []
  }
 ],
 "metadata": {
  "colab": {
   "collapsed_sections": [],
   "default_view": {},
   "name": "023.セクション構造.ipynb",
   "provenance": [
    {
     "file_id": "1rYq3lxVmzDOvkBxizmM_VN_B2g4EVBzI",
     "timestamp": 1530710273511
    },
    {
     "file_id": "17-lO8vrzqWNO5Nfi02HRZwqCpP7YoytL",
     "timestamp": 1530616724666
    },
    {
     "file_id": "1Tce9R_1bc17hYbF0ZWxV3pt3jEyBqvK_",
     "timestamp": 1530418285635
    }
   ],
   "version": "0.3.2",
   "views": {}
  },
  "kernelspec": {
   "display_name": "Python 3",
   "language": "python",
   "name": "python3"
  },
  "language_info": {
   "codemirror_mode": {
    "name": "ipython",
    "version": 3
   },
   "file_extension": ".py",
   "mimetype": "text/x-python",
   "name": "python",
   "nbconvert_exporter": "python",
   "pygments_lexer": "ipython3",
   "version": "3.6.8"
  }
 },
 "nbformat": 4,
 "nbformat_minor": 4
}
