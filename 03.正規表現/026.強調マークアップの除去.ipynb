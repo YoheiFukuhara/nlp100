{
 "cells": [
  {
   "cell_type": "markdown",
   "metadata": {
    "colab_type": "text",
    "id": "Q3BWg2WMtMEb"
   },
   "source": [
    "25の処理時に，テンプレートの値からMediaWikiの強調マークアップ（弱い強調，強調，強い強調のすべて）を除去してテキストに変換せよ（参考: マークアップ早見表）．\n",
    "https://ja.wikipedia.org/wiki/Help:%E6%97%A9%E8%A6%8B%E8%A1%A8"
   ]
  },
  {
   "cell_type": "code",
   "execution_count": 1,
   "metadata": {
    "colab": {
     "autoexec": {
      "startup": false,
      "wait_interval": 0
     },
     "base_uri": "https://localhost:8080/",
     "height": 37
    },
    "colab_type": "code",
    "executionInfo": {
     "elapsed": 789,
     "status": "ok",
     "timestamp": 1530948372427,
     "user": {
      "displayName": "fuku2986",
      "photoUrl": "https://lh3.googleusercontent.com/a/default-user=s128",
      "userId": "111229342394766192341"
     },
     "user_tz": -540
    },
    "id": "r0qpQeBqs4dC",
    "outputId": "e64dba36-af7a-4d48-edf7-46e125821eb6"
   },
   "outputs": [],
   "source": [
    "from collections import OrderedDict\n",
    "from pprint import pprint\n",
    "import re\n",
    "\n",
    "import pandas as pd"
   ]
  },
  {
   "cell_type": "code",
   "execution_count": 2,
   "metadata": {
    "colab": {
     "autoexec": {
      "startup": false,
      "wait_interval": 0
     },
     "base_uri": "https://localhost:8080/",
     "height": 37
    },
    "colab_type": "code",
    "executionInfo": {
     "elapsed": 789,
     "status": "ok",
     "timestamp": 1530948448553,
     "user": {
      "displayName": "fuku2986",
      "photoUrl": "https://lh3.googleusercontent.com/a/default-user=s128",
      "userId": "111229342394766192341"
     },
     "user_tz": -540
    },
    "id": "irEP7hn5vm2L",
    "outputId": "833856db-f960-4477-bac9-5fd9d3aa5bb1"
   },
   "outputs": [],
   "source": [
    "def extract_by_title(title):\n",
    "    df_wiki = pd.read_json('jawiki-country.json', lines=True)\n",
    "    return df_wiki[(df_wiki['title'] == title)]['text'].values[0]"
   ]
  },
  {
   "cell_type": "code",
   "execution_count": 3,
   "metadata": {
    "colab": {
     "autoexec": {
      "startup": false,
      "wait_interval": 0
     },
     "base_uri": "https://localhost:8080/",
     "height": 37
    },
    "colab_type": "code",
    "executionInfo": {
     "elapsed": 1060,
     "status": "ok",
     "timestamp": 1530948456945,
     "user": {
      "displayName": "fuku2986",
      "photoUrl": "https://lh3.googleusercontent.com/a/default-user=s128",
      "userId": "111229342394766192341"
     },
     "user_tz": -540
    },
    "id": "q9aImez8CQYr",
    "outputId": "5c9924c9-bf69-4fc6-d016-251e2e6f233e"
   },
   "outputs": [],
   "source": [
    "wiki_body = extract_by_title('イギリス')"
   ]
  },
  {
   "cell_type": "code",
   "execution_count": 4,
   "metadata": {
    "colab": {
     "autoexec": {
      "startup": false,
      "wait_interval": 0
     },
     "base_uri": "https://localhost:8080/",
     "height": 17
    },
    "colab_type": "code",
    "executionInfo": {
     "elapsed": 632,
     "status": "ok",
     "timestamp": 1530948990134,
     "user": {
      "displayName": "fuku2986",
      "photoUrl": "https://lh3.googleusercontent.com/a/default-user=s128",
      "userId": "111229342394766192341"
     },
     "user_tz": -540
    },
    "id": "SDnBDlWBEg9W",
    "outputId": "0016b246-e5c5-4dbf-d40b-5287ac41f0a3"
   },
   "outputs": [],
   "source": [
    "# rを先頭にするとraw string でエスケープシーケンス無視\n",
    "# 3重クォートで途中改行無視\n",
    "# re.VERBOSEオプションを使うことによって、空白とコメント無視\n",
    "# 非貪欲マッチにすることで、短い文字列を検索\n",
    "basic = re.findall(r'''\n",
    "                    ^\\{\\{基礎情報.*?\\n  #検索語句(\\はエスケープ処理)、非キャプチャ、非貪欲\n",
    "                    (.*?)              #任意の文字列\n",
    "                    \\}\\}               #検索語句(\\はエスケープ処理)\n",
    "                    $                  #文字列の末尾\n",
    "                    ''', wiki_body, re.MULTILINE+re.VERBOSE+re.DOTALL)"
   ]
  },
  {
   "cell_type": "code",
   "execution_count": 5,
   "metadata": {
    "colab": {
     "autoexec": {
      "startup": false,
      "wait_interval": 0
     },
     "base_uri": "https://localhost:8080/",
     "height": 55
    },
    "colab_type": "code",
    "executionInfo": {
     "elapsed": 661,
     "status": "ok",
     "timestamp": 1530950108128,
     "user": {
      "displayName": "fuku2986",
      "photoUrl": "https://lh3.googleusercontent.com/a/default-user=s128",
      "userId": "111229342394766192341"
     },
     "user_tz": -540
    },
    "id": "Ttj3-0QXq6FF",
    "outputId": "62b5ca63-294a-4b50-e9d6-aeb46d9c7cb4"
   },
   "outputs": [],
   "source": [
    "# rを先頭にするとraw string でエスケープシーケンス無視\n",
    "# 3重クォートで途中改行無視\n",
    "# re.VERBOSEオプションを使うことによって、空白とコメント無視\n",
    "templates = OrderedDict(re.findall(r'''\n",
    "                          ^\\|         # \\はエスケープ処理、非キャプチャ\n",
    "                          (.+?)       # キャプチャ対象(key)、非貪欲\n",
    "                          \\s*         # 空白文字0文字以上\n",
    "                          =           # 検索語句、非キャプチャ\n",
    "                          \\s*         # 空白文字0文字以上\n",
    "                          (.+?)       # キャプチャ対象(Value)、非貪欲\n",
    "                          (?:         # キャプチャ対象外のグループ開始\n",
    "                            (?=\\n\\|)  # 改行(\\n)+'|'の手前(肯定の先読み)\n",
    "                          | (?=\\n$)   # または、改行(\\n)+終端の手前(肯定の先読み)\n",
    "                          )           # キャプチャ対象外のグループ終了\n",
    "                         ''', basic[0], re.MULTILINE+re.VERBOSE+re.DOTALL))"
   ]
  },
  {
   "cell_type": "code",
   "execution_count": 6,
   "metadata": {},
   "outputs": [],
   "source": [
    "# マークアップ除去\n",
    "def remove_markup(string):\n",
    "    \n",
    "    # 強調マークアップの除去\n",
    "    replaced = re.sub(r'''\n",
    "                       (\\'{2,5})   # 2〜5個の'（マークアップの開始）\n",
    "                       (.*?)       # 任意の1文字以上（対象の文字列）\n",
    "                       (\\1)        # 1番目のキャプチャと同じ（マークアップの終了）\n",
    "                       ''', r'\\2', string, flags=re.MULTILINE+re.VERBOSE)\n",
    "    return replaced"
   ]
  },
  {
   "cell_type": "code",
   "execution_count": 7,
   "metadata": {},
   "outputs": [
    {
     "name": "stdout",
     "output_type": "stream",
     "text": [
      "41 確立形態4\n",
      "変更前\t 現在の国号「'''グレートブリテン及び北アイルランド連合王国'''」に変更\n",
      "変更後\t 現在の国号「グレートブリテン及び北アイルランド連合王国」に変更\n",
      "----\n"
     ]
    }
   ],
   "source": [
    "for i, (key, value) in enumerate(templates.items()):\n",
    "    replaced = remove_markup(value)\n",
    "    templates[key] = replaced\n",
    "    \n",
    "    # 変わったものを表示\n",
    "    if value != replaced:\n",
    "        print(i, key) \n",
    "        print('変更前\\t', value)\n",
    "        print('変更後\\t', replaced)\n",
    "        print('----')"
   ]
  },
  {
   "cell_type": "code",
   "execution_count": 8,
   "metadata": {
    "colab": {
     "autoexec": {
      "startup": false,
      "wait_interval": 0
     },
     "base_uri": "https://localhost:8080/",
     "height": 1025
    },
    "colab_type": "code",
    "executionInfo": {
     "elapsed": 661,
     "status": "ok",
     "timestamp": 1530950292541,
     "user": {
      "displayName": "fuku2986",
      "photoUrl": "https://lh3.googleusercontent.com/a/default-user=s128",
      "userId": "111229342394766192341"
     },
     "user_tz": -540
    },
    "id": "rjXWim7NsNit",
    "outputId": "a890cc5f-a615-4eb6-8cf6-d632028ae7f6"
   },
   "outputs": [
    {
     "name": "stdout",
     "output_type": "stream",
     "text": [
      "OrderedDict([('略名', 'イギリス'),\n",
      "             ('日本語国名', 'グレートブリテン及び北アイルランド連合王国'),\n",
      "             ('公式国名',\n",
      "              '{{lang|en|United Kingdom of Great Britain and Northern '\n",
      "              'Ireland}}<ref>英語以外での正式国名:<br/>\\n'\n",
      "              '*{{lang|gd|An Rìoghachd Aonaichte na Breatainn Mhòr agus Eirinn '\n",
      "              'mu Thuath}}（[[スコットランド・ゲール語]]）<br/>\\n'\n",
      "              '*{{lang|cy|Teyrnas Gyfunol Prydain Fawr a Gogledd '\n",
      "              'Iwerddon}}（[[ウェールズ語]]）<br/>\\n'\n",
      "              '*{{lang|ga|Ríocht Aontaithe na Breataine Móire agus Tuaisceart '\n",
      "              'na hÉireann}}（[[アイルランド語]]）<br/>\\n'\n",
      "              '*{{lang|kw|An Rywvaneth Unys a Vreten Veur hag Iwerdhon '\n",
      "              'Glédh}}（[[コーンウォール語]]）<br/>\\n'\n",
      "              '*{{lang|sco|Unitit Kinrick o Great Breetain an Northren '\n",
      "              'Ireland}}（[[スコットランド語]]）<br/>\\n'\n",
      "              '**{{lang|sco|Claught Kängrick o Docht Brätain an Norlin '\n",
      "              'Airlann}}、{{lang|sco|Unitet Kängdom o Great Brittain an Norlin '\n",
      "              'Airlann}}（アルスター・スコットランド語）</ref>'),\n",
      "             ('国旗画像', 'Flag of the United Kingdom.svg'),\n",
      "             ('国章画像',\n",
      "              '[[ファイル:Royal Coat of Arms of the United '\n",
      "              'Kingdom.svg|85px|イギリスの国章]]'),\n",
      "             ('国章リンク', '（[[イギリスの国章|国章]]）'),\n",
      "             ('標語', '{{lang|fr|Dieu et mon droit}}<br/>（[[フランス語]]:神と私の権利）'),\n",
      "             ('国歌', '[[女王陛下万歳|神よ女王陛下を守り給え]]'),\n",
      "             ('位置画像', 'Location_UK_EU_Europe_001.svg'),\n",
      "             ('公用語', '[[英語]]（事実上）'),\n",
      "             ('首都', '[[ロンドン]]'),\n",
      "             ('最大都市', 'ロンドン'),\n",
      "             ('元首等肩書', '[[イギリスの君主|女王]]'),\n",
      "             ('元首等氏名', '[[エリザベス2世]]'),\n",
      "             ('首相等肩書', '[[イギリスの首相|首相]]'),\n",
      "             ('首相等氏名', '[[デーヴィッド・キャメロン]]'),\n",
      "             ('面積順位', '76'),\n",
      "             ('面積大きさ', '1 E11'),\n",
      "             ('面積値', '244,820'),\n",
      "             ('水面積率', '1.3%'),\n",
      "             ('人口統計年', '2011'),\n",
      "             ('人口順位', '22'),\n",
      "             ('人口大きさ', '1 E7'),\n",
      "             ('人口値',\n",
      "              '63,181,775<ref>[http://esa.un.org/unpd/wpp/Excel-Data/population.htm '\n",
      "              'United Nations Department of Economic and Social '\n",
      "              'Affairs>Population Division>Data>Population>Total '\n",
      "              'Population]</ref>'),\n",
      "             ('人口密度値', '246'),\n",
      "             ('GDP統計年元', '2012'),\n",
      "             ('GDP値元',\n",
      "              '1兆5478億<ref '\n",
      "              'name=\"imf-statistics-gdp\">[http://www.imf.org/external/pubs/ft/weo/2012/02/weodata/weorept.aspx?pr.x=70&pr.y=13&sy=2010&ey=2012&scsm=1&ssd=1&sort=country&ds=.&br=1&c=112&s=NGDP%2CNGDPD%2CPPPGDP%2CPPPPC&grp=0&a= '\n",
      "              'IMF>Data and Statistics>World Economic Outlook Databases>By '\n",
      "              'Countrise>United Kingdom]</ref>'),\n",
      "             ('GDP統計年MER', '2012'),\n",
      "             ('GDP順位MER', '5'),\n",
      "             ('GDP値MER', '2兆4337億<ref name=\"imf-statistics-gdp\" />'),\n",
      "             ('GDP統計年', '2012'),\n",
      "             ('GDP順位', '6'),\n",
      "             ('GDP値', '2兆3162億<ref name=\"imf-statistics-gdp\" />'),\n",
      "             ('GDP/人', '36,727<ref name=\"imf-statistics-gdp\" />'),\n",
      "             ('建国形態', '建国'),\n",
      "             ('確立形態1',\n",
      "              '[[イングランド王国]]／[[スコットランド王国]]<br />（両国とも[[連合法 '\n",
      "              '(1707年)|1707年連合法]]まで）'),\n",
      "             ('確立年月日1', '[[927年]]／[[843年]]'),\n",
      "             ('確立形態2', '[[グレートブリテン王国]]建国<br />（[[連合法 (1707年)|1707年連合法]]）'),\n",
      "             ('確立年月日2', '[[1707年]]'),\n",
      "             ('確立形態3',\n",
      "              '[[グレートブリテン及びアイルランド連合王国]]建国<br />（[[連合法 (1800年)|1800年連合法]]）'),\n",
      "             ('確立年月日3', '[[1801年]]'),\n",
      "             ('確立形態4', '現在の国号「グレートブリテン及び北アイルランド連合王国」に変更'),\n",
      "             ('確立年月日4', '[[1927年]]'),\n",
      "             ('通貨', '[[スターリング・ポンド|UKポンド]] (&pound;)'),\n",
      "             ('通貨コード', 'GBP'),\n",
      "             ('時間帯', '±0'),\n",
      "             ('夏時間', '+1'),\n",
      "             ('ISO 3166-1', 'GB / GBR'),\n",
      "             ('ccTLD', '[[.uk]] / [[.gb]]<ref>使用は.ukに比べ圧倒的少数。</ref>'),\n",
      "             ('国際電話番号', '44'),\n",
      "             ('注記', '<references />')])\n"
     ]
    }
   ],
   "source": [
    "pprint(templates)"
   ]
  },
  {
   "cell_type": "code",
   "execution_count": null,
   "metadata": {
    "colab": {
     "autoexec": {
      "startup": false,
      "wait_interval": 0
     }
    },
    "colab_type": "code",
    "id": "_qsXxAkbM7au"
   },
   "outputs": [],
   "source": []
  }
 ],
 "metadata": {
  "colab": {
   "collapsed_sections": [],
   "default_view": {},
   "name": "026.強調マークアップの除去.ipynb",
   "provenance": [
    {
     "file_id": "1rixD9pdIaF1HQLdkP0z1jGDPOTA48MIx",
     "timestamp": 1530948324772
    },
    {
     "file_id": "1tdSegkRUiT2MFZAQXxqQcCbx8jjxcg7c",
     "timestamp": 1530798888152
    },
    {
     "file_id": "1W_3xr1ih_1M_qXjbosPoigS_5oz4VO86",
     "timestamp": 1530796809179
    },
    {
     "file_id": "1rYq3lxVmzDOvkBxizmM_VN_B2g4EVBzI",
     "timestamp": 1530710273511
    },
    {
     "file_id": "17-lO8vrzqWNO5Nfi02HRZwqCpP7YoytL",
     "timestamp": 1530616724666
    },
    {
     "file_id": "1Tce9R_1bc17hYbF0ZWxV3pt3jEyBqvK_",
     "timestamp": 1530418285635
    }
   ],
   "version": "0.3.2",
   "views": {}
  },
  "kernelspec": {
   "display_name": "Python 3",
   "language": "python",
   "name": "python3"
  },
  "language_info": {
   "codemirror_mode": {
    "name": "ipython",
    "version": 3
   },
   "file_extension": ".py",
   "mimetype": "text/x-python",
   "name": "python",
   "nbconvert_exporter": "python",
   "pygments_lexer": "ipython3",
   "version": "3.6.8"
  }
 },
 "nbformat": 4,
 "nbformat_minor": 4
}
