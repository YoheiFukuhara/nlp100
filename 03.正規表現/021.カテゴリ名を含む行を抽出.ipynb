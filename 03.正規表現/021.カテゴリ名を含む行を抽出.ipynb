{
 "cells": [
  {
   "cell_type": "markdown",
   "metadata": {
    "colab_type": "text",
    "id": "Q3BWg2WMtMEb"
   },
   "source": [
    "記事中でカテゴリ名を宣言している行を抽出せよ"
   ]
  },
  {
   "cell_type": "code",
   "execution_count": 1,
   "metadata": {
    "colab": {
     "autoexec": {
      "startup": false,
      "wait_interval": 0
     }
    },
    "colab_type": "code",
    "id": "r0qpQeBqs4dC"
   },
   "outputs": [],
   "source": [
    "from pprint import pprint\n",
    "import re\n",
    "\n",
    "import pandas as pd"
   ]
  },
  {
   "cell_type": "code",
   "execution_count": 2,
   "metadata": {
    "colab": {
     "autoexec": {
      "startup": false,
      "wait_interval": 0
     }
    },
    "colab_type": "code",
    "id": "irEP7hn5vm2L"
   },
   "outputs": [],
   "source": [
    "def extract_by_title(title):\n",
    "    df_wiki = pd.read_json('jawiki-country.json', lines=True)\n",
    "    return df_wiki[(df_wiki['title'] == title)]['text'].values[0]"
   ]
  },
  {
   "cell_type": "code",
   "execution_count": 3,
   "metadata": {
    "colab": {
     "autoexec": {
      "startup": false,
      "wait_interval": 0
     },
     "base_uri": "https://localhost:8080/",
     "height": 868
    },
    "colab_type": "code",
    "executionInfo": {
     "elapsed": 594,
     "status": "error",
     "timestamp": 1530710433913,
     "user": {
      "displayName": "fuku2986",
      "photoUrl": "https://lh3.googleusercontent.com/a/default-user=s128",
      "userId": "111229342394766192341"
     },
     "user_tz": -540
    },
    "id": "q9aImez8CQYr",
    "outputId": "aba6b539-6d5a-4fbf-f917-bed6927da4cd"
   },
   "outputs": [],
   "source": [
    "wiki_body = extract_by_title('イギリス')"
   ]
  },
  {
   "cell_type": "code",
   "execution_count": 4,
   "metadata": {},
   "outputs": [
    {
     "name": "stdout",
     "output_type": "stream",
     "text": [
      "['[[Category:イギリス|*]]',\n",
      " '[[Category:英連邦王国|*]]',\n",
      " '[[Category:G8加盟国]]',\n",
      " '[[Category:欧州連合加盟国]]',\n",
      " '[[Category:海洋国家]]',\n",
      " '[[Category:君主国]]',\n",
      " '[[Category:島国|くれいとふりてん]]',\n",
      " '[[Category:1801年に設立された州・地域]]']\n"
     ]
    }
   ],
   "source": [
    "# rを先頭にするとraw string でエスケープシーケンス無視\n",
    "# 3重クォートで途中改行無視\n",
    "# re.VERBOSEオプションを使うことによって、空白とコメント無視\n",
    "# re.MULTILINEで複数行に対して検索\n",
    "pprint(re.findall(r'''\n",
    "                     ^                  # 文字列の先頭(なくても結果は変わらないが入れておく)\n",
    "                     (                  # グループ化開始\n",
    "                     .*                 # 任意の文字列0文字以上\n",
    "                     \\[\\[Category:      # 検索語句(\\はエスケープ処理)\n",
    "                     .*                 # 任意の文字列0文字以上\n",
    "                     \\]\\]               # 検索語句(\\はエスケープ処理)\n",
    "                     .*                 # 任意の文字列0文字以上\n",
    "                     )                  # グループ化終了\n",
    "                     $                  # 文字列の末尾(なくても結果は変わらないが入れておく)\n",
    "                     ''', wiki_body, re.MULTILINE+re.VERBOSE))"
   ]
  },
  {
   "cell_type": "code",
   "execution_count": null,
   "metadata": {},
   "outputs": [],
   "source": []
  }
 ],
 "metadata": {
  "colab": {
   "collapsed_sections": [],
   "default_view": {},
   "name": "021.カテゴリ名を含む行を抽出.ipynb",
   "provenance": [
    {
     "file_id": "1Tce9R_1bc17hYbF0ZWxV3pt3jEyBqvK_",
     "timestamp": 1530418285635
    }
   ],
   "version": "0.3.2",
   "views": {}
  },
  "kernelspec": {
   "display_name": "Python 3",
   "language": "python",
   "name": "python3"
  },
  "language_info": {
   "codemirror_mode": {
    "name": "ipython",
    "version": 3
   },
   "file_extension": ".py",
   "mimetype": "text/x-python",
   "name": "python",
   "nbconvert_exporter": "python",
   "pygments_lexer": "ipython3",
   "version": "3.6.8"
  }
 },
 "nbformat": 4,
 "nbformat_minor": 4
}
