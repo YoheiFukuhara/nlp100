{
 "cells": [
  {
   "cell_type": "code",
   "execution_count": 2,
   "metadata": {},
   "outputs": [],
   "source": [
    "import re"
   ]
  },
  {
   "cell_type": "code",
   "execution_count": null,
   "metadata": {},
   "outputs": [],
   "source": [
    "\n"
   ]
  },
  {
   "cell_type": "code",
   "execution_count": 146,
   "metadata": {},
   "outputs": [],
   "source": [
    "def remove_link(string):\n",
    "# 内部リンクの除去\n",
    "    replaced = re.sub(r'''\n",
    "        \\[\\[        # '[['(マークアップの開始)\n",
    "        (?:         # キャプチャ対象外のグループ開始\n",
    "            [^|]*?  # '|'以外の文字が0文字以上、非貪欲\n",
    "            \\|      # '|'\n",
    "        )??         # グループ終了、このグループが0か1出現、非貪欲\n",
    "        (\n",
    "            (?!Category:)\n",
    "            ([^|]*?)    # キャプチャ対象、'|'以外が0文字以上、非貪欲（表示対象の文字列）\n",
    "        )\n",
    "        \\]\\]        # ']]'（マークアップの終了）\n",
    "        ''', r'\\1', string, flags=re.MULTILINE+re.VERBOSE)\n",
    "    print(replaced)"
   ]
  },
  {
   "cell_type": "code",
   "execution_count": 147,
   "metadata": {},
   "outputs": [
    {
     "name": "stdout",
     "output_type": "stream",
     "text": [
      "1066年にウィリアム征服王 (William the\n",
      "[[Category:1801年に設立された州・地域]]\n",
      "1801年に設立された州・地域\n"
     ]
    }
   ],
   "source": [
    "remove_link('[[1066年]]に[[ウィリアム1世 (イングランド王)|ウィリアム征服王]] (William the')\n",
    "remove_link('[[Category:1801年に設立された州・地域]]')\n",
    "remove_link('[[1801年に設立された州・地域]]')"
   ]
  },
  {
   "cell_type": "code",
   "execution_count": 101,
   "metadata": {},
   "outputs": [
    {
     "name": "stdout",
     "output_type": "stream",
     "text": [
      "['eg@']\n"
     ]
    }
   ],
   "source": [
    "test = '[[Category:1801年に設立された州・地域[[eg@]]'\n",
    "print(re.findall(r'''\n",
    "                  \\[\\[\n",
    "                  (?!Cat)\n",
    "                  (eg.)\n",
    "                  ''', test, re.VERBOSE\n",
    "))"
   ]
  },
  {
   "cell_type": "code",
   "execution_count": 18,
   "metadata": {},
   "outputs": [],
   "source": [
    "regex = re.compile('Hel')\n",
    "result = regex.match('Hellow python')"
   ]
  },
  {
   "cell_type": "code",
   "execution_count": 19,
   "metadata": {},
   "outputs": [
    {
     "name": "stdout",
     "output_type": "stream",
     "text": [
      "<_sre.SRE_Match object; span=(0, 3), match='Hel'>\n",
      "Hel\n"
     ]
    }
   ],
   "source": [
    "print(result)\n",
    "print(result.group())"
   ]
  },
  {
   "cell_type": "code",
   "execution_count": 20,
   "metadata": {},
   "outputs": [
    {
     "name": "stdout",
     "output_type": "stream",
     "text": [
      "a\tb\n",
      "A\tB\n",
      "a\\tb\\nA\\tB\n"
     ]
    }
   ],
   "source": [
    "print('a\\tb\\nA\\tB')\n",
    "print(r'a\\tb\\nA\\tB')"
   ]
  },
  {
   "cell_type": "code",
   "execution_count": 24,
   "metadata": {},
   "outputs": [
    {
     "data": {
      "text/plain": [
       "'変更済 対象外 変更済'"
      ]
     },
     "execution_count": 24,
     "metadata": {},
     "output_type": "execute_result"
    }
   ],
   "source": [
    "re.sub(r'変更対象', '変更済', '変更対象 対象外 変更対象')"
   ]
  },
  {
   "cell_type": "code",
   "execution_count": 27,
   "metadata": {},
   "outputs": [
    {
     "name": "stdout",
     "output_type": "stream",
     "text": [
      "['B91235']\n",
      "['A01234', 'C01234']\n",
      "['A0123', 'C0123']\n",
      "['B9123']\n"
     ]
    }
   ],
   "source": [
    "string = 'A01234 B91235 C01234'\n",
    "\n",
    "# 肯定の先読みアサーション(Positive Lookahead Assertions)\n",
    "print(re.findall(r'..123(?=5).', string))\n",
    "\n",
    "# 否定の先読みアサーション(Negative Lookahead Assertions)\n",
    "print(re.findall(r'..123(?!5).', string))\n",
    "\n",
    "# 肯定の後読みアサーション(Positive Lookbehind Assertions)\n",
    "print(re.findall(r'..(?<=0)123', string))\n",
    "\n",
    "# 否定の後読みアサーション(Negative Lookbehind Assertions)\n",
    "print(re.findall(r'..(?<!0)123', string))"
   ]
  },
  {
   "cell_type": "code",
   "execution_count": 29,
   "metadata": {},
   "outputs": [
    {
     "name": "stdout",
     "output_type": "stream",
     "text": [
      "['ab']\n"
     ]
    }
   ],
   "source": [
    "print(re.findall(r'''(ab).\\1''', 'abcabc abddd'))"
   ]
  },
  {
   "cell_type": "code",
   "execution_count": 25,
   "metadata": {},
   "outputs": [
    {
     "name": "stdout",
     "output_type": "stream",
     "text": [
      "[('1st', '2nd'), ('1st', '2nd')]\n",
      "<class 'tuple'>\n"
     ]
    }
   ],
   "source": [
    "print(re.findall(r'''(1st)(2nd)''', '1st2nd1st2nd'))\n",
    "result = re.findall(r'''(1st)(2nd)''', '1st2nd1st2nd')\n",
    "print(type(result[0]))"
   ]
  },
  {
   "cell_type": "code",
   "execution_count": null,
   "metadata": {},
   "outputs": [],
   "source": []
  }
 ],
 "metadata": {
  "kernelspec": {
   "display_name": "Python 3",
   "language": "python",
   "name": "python3"
  },
  "language_info": {
   "codemirror_mode": {
    "name": "ipython",
    "version": 3
   },
   "file_extension": ".py",
   "mimetype": "text/x-python",
   "name": "python",
   "nbconvert_exporter": "python",
   "pygments_lexer": "ipython3",
   "version": "3.6.8"
  }
 },
 "nbformat": 4,
 "nbformat_minor": 4
}
