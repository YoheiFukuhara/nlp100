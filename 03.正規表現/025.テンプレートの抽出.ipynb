{
 "cells": [
  {
   "cell_type": "markdown",
   "metadata": {
    "colab_type": "text",
    "id": "Q3BWg2WMtMEb"
   },
   "source": [
    "記事中に含まれる「基礎情報」テンプレートのフィールド名と値を抽出し，辞書オブジェクトとして格納せよ\n",
    "https://ja.wikipedia.org/wiki/Help:%E6%97%A9%E8%A6%8B%E8%A1%A8"
   ]
  },
  {
   "cell_type": "code",
   "execution_count": 1,
   "metadata": {
    "colab": {
     "autoexec": {
      "startup": false,
      "wait_interval": 0
     },
     "base_uri": "https://localhost:8080/",
     "height": 17
    },
    "colab_type": "code",
    "executionInfo": {
     "elapsed": 736,
     "status": "ok",
     "timestamp": 1530884527164,
     "user": {
      "displayName": "fuku2986",
      "photoUrl": "https://lh3.googleusercontent.com/a/default-user=s128",
      "userId": "111229342394766192341"
     },
     "user_tz": -540
    },
    "id": "r0qpQeBqs4dC",
    "outputId": "4c8c9c92-e881-442e-8c2b-35b170fca6c7"
   },
   "outputs": [],
   "source": [
    "from collections import OrderedDict\n",
    "from pprint import pprint\n",
    "import re\n",
    "\n",
    "import pandas as pd"
   ]
  },
  {
   "cell_type": "code",
   "execution_count": 2,
   "metadata": {
    "colab": {
     "autoexec": {
      "startup": false,
      "wait_interval": 0
     },
     "base_uri": "https://localhost:8080/",
     "height": 17
    },
    "colab_type": "code",
    "executionInfo": {
     "elapsed": 651,
     "status": "ok",
     "timestamp": 1530884728848,
     "user": {
      "displayName": "fuku2986",
      "photoUrl": "https://lh3.googleusercontent.com/a/default-user=s128",
      "userId": "111229342394766192341"
     },
     "user_tz": -540
    },
    "id": "irEP7hn5vm2L",
    "outputId": "deb125b6-02b1-4085-9bb7-ff3bb8fcb553"
   },
   "outputs": [],
   "source": [
    "def extract_by_title(title):\n",
    "    df_wiki = pd.read_json('jawiki-country.json', lines=True)\n",
    "    return df_wiki[(df_wiki['title'] == title)]['text'].values[0]"
   ]
  },
  {
   "cell_type": "code",
   "execution_count": 3,
   "metadata": {
    "colab": {
     "autoexec": {
      "startup": false,
      "wait_interval": 0
     },
     "base_uri": "https://localhost:8080/",
     "height": 17
    },
    "colab_type": "code",
    "executionInfo": {
     "elapsed": 1100,
     "status": "ok",
     "timestamp": 1530884730229,
     "user": {
      "displayName": "fuku2986",
      "photoUrl": "https://lh3.googleusercontent.com/a/default-user=s128",
      "userId": "111229342394766192341"
     },
     "user_tz": -540
    },
    "id": "q9aImez8CQYr",
    "outputId": "246b2964-5ed9-4a96-f695-55bc6ab22737"
   },
   "outputs": [],
   "source": [
    "wiki_body = extract_by_title('イギリス')"
   ]
  },
  {
   "cell_type": "code",
   "execution_count": 4,
   "metadata": {},
   "outputs": [
    {
     "name": "stdout",
     "output_type": "stream",
     "text": [
      "('|略名 = イギリス\\n'\n",
      " '|日本語国名 = グレートブリテン及び北アイルランド連合王国\\n'\n",
      " '|公式国名 = {{lang|en|United Kingdom of Great Britain and Northern '\n",
      " 'Ireland}}<ref>英語以外での正式国名:<br/>\\n'\n",
      " '*{{lang|gd|An Rìoghachd Aonaichte na Breatainn Mhòr agus Eirinn mu '\n",
      " 'Thuath}}（[[スコットランド・ゲール語]]）<br/>\\n'\n",
      " '*{{lang|cy|Teyrnas Gyfunol Prydain Fawr a Gogledd '\n",
      " 'Iwerddon}}（[[ウェールズ語]]）<br/>\\n'\n",
      " '*{{lang|ga|Ríocht Aontaithe na Breataine Móire agus Tuaisceart na '\n",
      " 'hÉireann}}（[[アイルランド語]]）<br/>\\n'\n",
      " '*{{lang|kw|An Rywvaneth Unys a Vreten Veur hag Iwerdhon '\n",
      " 'Glédh}}（[[コーンウォール語]]）<br/>\\n'\n",
      " '*{{lang|sco|Unitit Kinrick o Great Breetain an Northren '\n",
      " 'Ireland}}（[[スコットランド語]]）<br/>\\n'\n",
      " '**{{lang|sco|Claught Kängrick o Docht Brätain an Norlin '\n",
      " 'Airlann}}、{{lang|sco|Unitet Kängdom o Great Brittain an Norlin '\n",
      " 'Airlann}}（アルスター・スコットランド語）</ref>\\n'\n",
      " '|国旗画像 = Flag of the United Kingdom.svg\\n'\n",
      " '|国章画像 = [[ファイル:Royal Coat of Arms of the United Kingdom.svg|85px|イギリスの国章]]\\n'\n",
      " '|国章リンク = （[[イギリスの国章|国章]]）\\n'\n",
      " '|標語 = {{lang|fr|Dieu et mon droit}}<br/>（[[フランス語]]:神と私の権利）\\n'\n",
      " '|国歌 = [[女王陛下万歳|神よ女王陛下を守り給え]]\\n'\n",
      " '|位置画像 = Location_UK_EU_Europe_001.svg\\n'\n",
      " '|公用語 = [[英語]]（事実上）\\n'\n",
      " '|首都 = [[ロンドン]]\\n'\n",
      " '|最大都市 = ロンドン\\n'\n",
      " '|元首等肩書 = [[イギリスの君主|女王]]\\n'\n",
      " '|元首等氏名 = [[エリザベス2世]]\\n'\n",
      " '|首相等肩書 = [[イギリスの首相|首相]]\\n'\n",
      " '|首相等氏名 = [[デーヴィッド・キャメロン]]\\n'\n",
      " '|面積順位 = 76\\n'\n",
      " '|面積大きさ = 1 E11\\n'\n",
      " '|面積値 = 244,820\\n'\n",
      " '|水面積率 = 1.3%\\n'\n",
      " '|人口統計年 = 2011\\n'\n",
      " '|人口順位 = 22\\n'\n",
      " '|人口大きさ = 1 E7\\n'\n",
      " '|人口値 = 63,181,775<ref>[http://esa.un.org/unpd/wpp/Excel-Data/population.htm '\n",
      " 'United Nations Department of Economic and Social Affairs>Population '\n",
      " 'Division>Data>Population>Total Population]</ref>\\n'\n",
      " '|人口密度値 = 246\\n'\n",
      " '|GDP統計年元 = 2012\\n'\n",
      " '|GDP値元 = 1兆5478億<ref '\n",
      " 'name=\"imf-statistics-gdp\">[http://www.imf.org/external/pubs/ft/weo/2012/02/weodata/weorept.aspx?pr.x=70&pr.y=13&sy=2010&ey=2012&scsm=1&ssd=1&sort=country&ds=.&br=1&c=112&s=NGDP%2CNGDPD%2CPPPGDP%2CPPPPC&grp=0&a= '\n",
      " 'IMF>Data and Statistics>World Economic Outlook Databases>By Countrise>United '\n",
      " 'Kingdom]</ref>\\n'\n",
      " '|GDP統計年MER = 2012\\n'\n",
      " '|GDP順位MER = 5\\n'\n",
      " '|GDP値MER = 2兆4337億<ref name=\"imf-statistics-gdp\" />\\n'\n",
      " '|GDP統計年 = 2012\\n'\n",
      " '|GDP順位 = 6\\n'\n",
      " '|GDP値 = 2兆3162億<ref name=\"imf-statistics-gdp\" />\\n'\n",
      " '|GDP/人 = 36,727<ref name=\"imf-statistics-gdp\" />\\n'\n",
      " '|建国形態 = 建国\\n'\n",
      " '|確立形態1 = [[イングランド王国]]／[[スコットランド王国]]<br />（両国とも[[連合法 (1707年)|1707年連合法]]まで）\\n'\n",
      " '|確立年月日1 = [[927年]]／[[843年]]\\n'\n",
      " '|確立形態2 = [[グレートブリテン王国]]建国<br />（[[連合法 (1707年)|1707年連合法]]）\\n'\n",
      " '|確立年月日2 = [[1707年]]\\n'\n",
      " '|確立形態3 = [[グレートブリテン及びアイルランド連合王国]]建国<br />（[[連合法 (1800年)|1800年連合法]]）\\n'\n",
      " '|確立年月日3 = [[1801年]]\\n'\n",
      " \"|確立形態4 = 現在の国号「'''グレートブリテン及び北アイルランド連合王国'''」に変更\\n\"\n",
      " '|確立年月日4 = [[1927年]]\\n'\n",
      " '|通貨 = [[スターリング・ポンド|UKポンド]] (&pound;)\\n'\n",
      " '|通貨コード = GBP\\n'\n",
      " '|時間帯 = ±0\\n'\n",
      " '|夏時間 = +1\\n'\n",
      " '|ISO 3166-1 = GB / GBR\\n'\n",
      " '|ccTLD = [[.uk]] / [[.gb]]<ref>使用は.ukに比べ圧倒的少数。</ref>\\n'\n",
      " '|国際電話番号 = 44\\n'\n",
      " '|注記 = <references />\\n')\n"
     ]
    }
   ],
   "source": [
    "# rを先頭にするとraw string でエスケープシーケンス無視\n",
    "# 3重クォートで途中改行無視\n",
    "# re.VERBOSEオプションを使うことによって、空白とコメント無視\n",
    "# re.MULTILINEで複数行に対して検索\n",
    "# re.DOTALLで改行もワイルドカード対象\n",
    "# 非貪欲マッチにすることで、短い文字列を検索\n",
    "basic = re.search(r'''\n",
    "                    ^\\{\\{基礎情報.*?\\n  #検索語句(\\はエスケープ処理)、非キャプチャ、非貪欲\n",
    "                    (.*?)              #任意の文字列\n",
    "                    \\}\\}               #検索語句(\\はエスケープ処理)\n",
    "                    $                  #文字列の末尾\n",
    "                    ''', wiki_body, re.MULTILINE+re.VERBOSE+re.DOTALL)\n",
    "pprint(basic.group(1))"
   ]
  },
  {
   "cell_type": "code",
   "execution_count": 5,
   "metadata": {},
   "outputs": [
    {
     "name": "stdout",
     "output_type": "stream",
     "text": [
      "OrderedDict([('略名', 'イギリス'),\n",
      "             ('日本語国名', 'グレートブリテン及び北アイルランド連合王国'),\n",
      "             ('公式国名',\n",
      "              '{{lang|en|United Kingdom of Great Britain and Northern '\n",
      "              'Ireland}}<ref>英語以外での正式国名:<br/>\\n'\n",
      "              '*{{lang|gd|An Rìoghachd Aonaichte na Breatainn Mhòr agus Eirinn '\n",
      "              'mu Thuath}}（[[スコットランド・ゲール語]]）<br/>\\n'\n",
      "              '*{{lang|cy|Teyrnas Gyfunol Prydain Fawr a Gogledd '\n",
      "              'Iwerddon}}（[[ウェールズ語]]）<br/>\\n'\n",
      "              '*{{lang|ga|Ríocht Aontaithe na Breataine Móire agus Tuaisceart '\n",
      "              'na hÉireann}}（[[アイルランド語]]）<br/>\\n'\n",
      "              '*{{lang|kw|An Rywvaneth Unys a Vreten Veur hag Iwerdhon '\n",
      "              'Glédh}}（[[コーンウォール語]]）<br/>\\n'\n",
      "              '*{{lang|sco|Unitit Kinrick o Great Breetain an Northren '\n",
      "              'Ireland}}（[[スコットランド語]]）<br/>\\n'\n",
      "              '**{{lang|sco|Claught Kängrick o Docht Brätain an Norlin '\n",
      "              'Airlann}}、{{lang|sco|Unitet Kängdom o Great Brittain an Norlin '\n",
      "              'Airlann}}（アルスター・スコットランド語）</ref>'),\n",
      "             ('国旗画像', 'Flag of the United Kingdom.svg'),\n",
      "             ('国章画像',\n",
      "              '[[ファイル:Royal Coat of Arms of the United '\n",
      "              'Kingdom.svg|85px|イギリスの国章]]'),\n",
      "             ('国章リンク', '（[[イギリスの国章|国章]]）'),\n",
      "             ('標語', '{{lang|fr|Dieu et mon droit}}<br/>（[[フランス語]]:神と私の権利）'),\n",
      "             ('国歌', '[[女王陛下万歳|神よ女王陛下を守り給え]]'),\n",
      "             ('位置画像', 'Location_UK_EU_Europe_001.svg'),\n",
      "             ('公用語', '[[英語]]（事実上）'),\n",
      "             ('首都', '[[ロンドン]]'),\n",
      "             ('最大都市', 'ロンドン'),\n",
      "             ('元首等肩書', '[[イギリスの君主|女王]]'),\n",
      "             ('元首等氏名', '[[エリザベス2世]]'),\n",
      "             ('首相等肩書', '[[イギリスの首相|首相]]'),\n",
      "             ('首相等氏名', '[[デーヴィッド・キャメロン]]'),\n",
      "             ('面積順位', '76'),\n",
      "             ('面積大きさ', '1 E11'),\n",
      "             ('面積値', '244,820'),\n",
      "             ('水面積率', '1.3%'),\n",
      "             ('人口統計年', '2011'),\n",
      "             ('人口順位', '22'),\n",
      "             ('人口大きさ', '1 E7'),\n",
      "             ('人口値',\n",
      "              '63,181,775<ref>[http://esa.un.org/unpd/wpp/Excel-Data/population.htm '\n",
      "              'United Nations Department of Economic and Social '\n",
      "              'Affairs>Population Division>Data>Population>Total '\n",
      "              'Population]</ref>'),\n",
      "             ('人口密度値', '246'),\n",
      "             ('GDP統計年元', '2012'),\n",
      "             ('GDP値元',\n",
      "              '1兆5478億<ref '\n",
      "              'name=\"imf-statistics-gdp\">[http://www.imf.org/external/pubs/ft/weo/2012/02/weodata/weorept.aspx?pr.x=70&pr.y=13&sy=2010&ey=2012&scsm=1&ssd=1&sort=country&ds=.&br=1&c=112&s=NGDP%2CNGDPD%2CPPPGDP%2CPPPPC&grp=0&a= '\n",
      "              'IMF>Data and Statistics>World Economic Outlook Databases>By '\n",
      "              'Countrise>United Kingdom]</ref>'),\n",
      "             ('GDP統計年MER', '2012'),\n",
      "             ('GDP順位MER', '5'),\n",
      "             ('GDP値MER', '2兆4337億<ref name=\"imf-statistics-gdp\" />'),\n",
      "             ('GDP統計年', '2012'),\n",
      "             ('GDP順位', '6'),\n",
      "             ('GDP値', '2兆3162億<ref name=\"imf-statistics-gdp\" />'),\n",
      "             ('GDP/人', '36,727<ref name=\"imf-statistics-gdp\" />'),\n",
      "             ('建国形態', '建国'),\n",
      "             ('確立形態1',\n",
      "              '[[イングランド王国]]／[[スコットランド王国]]<br />（両国とも[[連合法 '\n",
      "              '(1707年)|1707年連合法]]まで）'),\n",
      "             ('確立年月日1', '[[927年]]／[[843年]]'),\n",
      "             ('確立形態2', '[[グレートブリテン王国]]建国<br />（[[連合法 (1707年)|1707年連合法]]）'),\n",
      "             ('確立年月日2', '[[1707年]]'),\n",
      "             ('確立形態3',\n",
      "              '[[グレートブリテン及びアイルランド連合王国]]建国<br />（[[連合法 (1800年)|1800年連合法]]）'),\n",
      "             ('確立年月日3', '[[1801年]]'),\n",
      "             ('確立形態4', \"現在の国号「'''グレートブリテン及び北アイルランド連合王国'''」に変更\"),\n",
      "             ('確立年月日4', '[[1927年]]'),\n",
      "             ('通貨', '[[スターリング・ポンド|UKポンド]] (&pound;)'),\n",
      "             ('通貨コード', 'GBP'),\n",
      "             ('時間帯', '±0'),\n",
      "             ('夏時間', '+1'),\n",
      "             ('ISO 3166-1', 'GB / GBR'),\n",
      "             ('ccTLD', '[[.uk]] / [[.gb]]<ref>使用は.ukに比べ圧倒的少数。</ref>'),\n",
      "             ('国際電話番号', '44'),\n",
      "             ('注記', '<references />')])\n"
     ]
    }
   ],
   "source": [
    "# rを先頭にするとraw string でエスケープシーケンス無視\n",
    "# 3重クォートで途中改行無視\n",
    "# re.VERBOSEオプションを使うことによって、空白とコメント無視\n",
    "# re.MULTILINEで複数行に対して検索\n",
    "# re.DOTALLで改行もワイルドカード対象\n",
    "# 非貪欲マッチにすることで、短い文字列を検索\n",
    "templates = OrderedDict(re.findall(r'''\n",
    "                          ^\\|         # \\はエスケープ処理、非キャプチャ\n",
    "                          (.+?)       # キャプチャ対象(key)、非貪欲\n",
    "                          \\s*         # 空白文字0文字以上\n",
    "                          =           # 検索語句、非キャプチャ\n",
    "                          \\s*         # 空白文字0文字以上\n",
    "                          (.+?)       # キャプチャ対象(Value)、非貪欲\n",
    "                          (?:         # キャプチャ対象外のグループ開始\n",
    "                            (?=\\n\\|)  # 改行(\\n)+'|'の手前(肯定の先読み)\n",
    "                          | (?=\\n$)   # または、改行(\\n)+終端の手前(肯定の先読み)\n",
    "                          )           # キャプチャ対象外のグループ終了\n",
    "                         ''', basic.group(1), re.MULTILINE+re.VERBOSE+re.DOTALL))\n",
    "pprint(templates)"
   ]
  },
  {
   "cell_type": "code",
   "execution_count": null,
   "metadata": {},
   "outputs": [],
   "source": []
  }
 ],
 "metadata": {
  "colab": {
   "collapsed_sections": [],
   "default_view": {},
   "name": "025.テンプレートの抽出.ipynb",
   "provenance": [
    {
     "file_id": "1tdSegkRUiT2MFZAQXxqQcCbx8jjxcg7c",
     "timestamp": 1530798888152
    },
    {
     "file_id": "1W_3xr1ih_1M_qXjbosPoigS_5oz4VO86",
     "timestamp": 1530796809179
    },
    {
     "file_id": "1rYq3lxVmzDOvkBxizmM_VN_B2g4EVBzI",
     "timestamp": 1530710273511
    },
    {
     "file_id": "17-lO8vrzqWNO5Nfi02HRZwqCpP7YoytL",
     "timestamp": 1530616724666
    },
    {
     "file_id": "1Tce9R_1bc17hYbF0ZWxV3pt3jEyBqvK_",
     "timestamp": 1530418285635
    }
   ],
   "version": "0.3.2",
   "views": {}
  },
  "kernelspec": {
   "display_name": "Python 3",
   "language": "python",
   "name": "python3"
  },
  "language_info": {
   "codemirror_mode": {
    "name": "ipython",
    "version": 3
   },
   "file_extension": ".py",
   "mimetype": "text/x-python",
   "name": "python",
   "nbconvert_exporter": "python",
   "pygments_lexer": "ipython3",
   "version": "3.6.8"
  }
 },
 "nbformat": 4,
 "nbformat_minor": 4
}
