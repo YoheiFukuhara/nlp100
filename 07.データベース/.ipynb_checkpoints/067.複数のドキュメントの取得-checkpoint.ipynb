{
 "cells": [
  {
   "cell_type": "raw",
   "metadata": {},
   "source": [
    "特定の（指定した）別名を持つアーティストを検索せよ．"
   ]
  },
  {
   "cell_type": "code",
   "execution_count": 1,
   "metadata": {},
   "outputs": [],
   "source": [
    "import json\n",
    "from pymongo import MongoClient\n",
    "from bson.objectid import ObjectId"
   ]
  },
  {
   "cell_type": "code",
   "execution_count": 2,
   "metadata": {},
   "outputs": [],
   "source": [
    "def support_ObjectId(obj):\n",
    "    '''json.dumps()でObjectIdを処理するための関数\n",
    "    ObjectIdはjsonエンコードできない型なので、文字列型に変換する\n",
    "\n",
    "    戻り値：\n",
    "    ObjectIdから変換した文字列\n",
    "    '''\n",
    "    if isinstance(obj, ObjectId):\n",
    "        return str(obj)     # 文字列として扱う\n",
    "    raise TypeError(repr(obj) + \" is not JSON serializable\")"
   ]
  },
  {
   "cell_type": "code",
   "execution_count": 3,
   "metadata": {},
   "outputs": [],
   "source": [
    "# MongoDBのデータベースtestdbにコレクションartistにアクセス\n",
    "client = MongoClient()\n",
    "db = client.test_database\n",
    "collection = db.artist"
   ]
  },
  {
   "cell_type": "code",
   "execution_count": 7,
   "metadata": {},
   "outputs": [
    {
     "name": "stdin",
     "output_type": "stream",
     "text": [
      "アーティストの別名を入力してください-->  Queen\n"
     ]
    }
   ],
   "source": [
    "# 条件入力\n",
    "clue = input('アーティストの別名を入力してください--> ')"
   ]
  },
  {
   "cell_type": "code",
   "execution_count": 8,
   "metadata": {},
   "outputs": [
    {
     "name": "stdout",
     "output_type": "stream",
     "text": [
      "1件目の内容：\n",
      "{\n",
      "\t\"_id\": \"5dd3f5378a57cd08cfc60828\",\n",
      "\t\"aliases\": [\n",
      "\t\t{\n",
      "\t\t\t\"name\": \"Queen\",\n",
      "\t\t\t\"sort_name\": \"Queen\"\n",
      "\t\t}\n",
      "\t],\n",
      "\t\"area\": \"Japan\",\n",
      "\t\"ended\": true,\n",
      "\t\"gender\": \"Female\",\n",
      "\t\"gid\": \"420ca290-76c5-41af-999e-564d7c71f1a7\",\n",
      "\t\"id\": 701492,\n",
      "\t\"name\": \"Queen\",\n",
      "\t\"sort_name\": \"Queen\",\n",
      "\t\"tags\": [\n",
      "\t\t{\n",
      "\t\t\t\"count\": 1,\n",
      "\t\t\t\"value\": \"kamen rider w\"\n",
      "\t\t},\n",
      "\t\t{\n",
      "\t\t\t\"count\": 1,\n",
      "\t\t\t\"value\": \"related-akb48\"\n",
      "\t\t}\n",
      "\t],\n",
      "\t\"type\": \"Character\"\n",
      "}\n"
     ]
    }
   ],
   "source": [
    "# 検索\n",
    "for i, doc in enumerate(collection.find({'aliases.name': clue}), start=1):\n",
    "\n",
    "    # 整形して表示\n",
    "    print('{}件目の内容：\\n{}'.format(i,\n",
    "        json.dumps(\n",
    "            doc, indent='\\t', ensure_ascii=False,\n",
    "            sort_keys=True, default=support_ObjectId\n",
    "        )\n",
    "    ))"
   ]
  },
  {
   "cell_type": "code",
   "execution_count": null,
   "metadata": {},
   "outputs": [],
   "source": []
  }
 ],
 "metadata": {
  "kernelspec": {
   "display_name": "Python 3",
   "language": "python",
   "name": "python3"
  },
  "language_info": {
   "codemirror_mode": {
    "name": "ipython",
    "version": 3
   },
   "file_extension": ".py",
   "mimetype": "text/x-python",
   "name": "python",
   "nbconvert_exporter": "python",
   "pygments_lexer": "ipython3",
   "version": "3.6.8"
  }
 },
 "nbformat": 4,
 "nbformat_minor": 4
}
