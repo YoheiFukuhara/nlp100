{
 "cells": [
  {
   "cell_type": "markdown",
   "metadata": {},
   "source": [
    "64. MongoDBの構築\n",
    "\n",
    "アーティスト情報（artist.json.gz）をデータベースに登録せよ．さらに，次のフィールドでインデックスを作成せよ: name, aliases.name, tags.value, rating.value"
   ]
  },
  {
   "cell_type": "code",
   "execution_count": 24,
   "metadata": {},
   "outputs": [],
   "source": [
    "import json\n",
    "from pymongo import ASCENDING, MongoClient"
   ]
  },
  {
   "cell_type": "code",
   "execution_count": 17,
   "metadata": {},
   "outputs": [],
   "source": [
    "FNAME = './artist.json'\n",
    "BULK = 50000"
   ]
  },
  {
   "cell_type": "code",
   "execution_count": 18,
   "metadata": {},
   "outputs": [],
   "source": [
    "client = MongoClient()"
   ]
  },
  {
   "cell_type": "code",
   "execution_count": 19,
   "metadata": {},
   "outputs": [
    {
     "data": {
      "text/plain": [
       "['admin', 'config', 'local', 'myNewDatabase', 'test_database', 'testdb']"
      ]
     },
     "execution_count": 19,
     "metadata": {},
     "output_type": "execute_result"
    }
   ],
   "source": [
    "# check db names \n",
    "client.list_database_names()"
   ]
  },
  {
   "cell_type": "code",
   "execution_count": 20,
   "metadata": {},
   "outputs": [],
   "source": [
    "db = client.test_database\n",
    "collection = db.artist\n",
    "collection.drop()"
   ]
  },
  {
   "cell_type": "code",
   "execution_count": 21,
   "metadata": {},
   "outputs": [],
   "source": [
    "def bulk_insert(collection, artists, i):\n",
    "    collection.insert_many(artists)    \n",
    "    print('{} records inserted'.format(i))"
   ]
  },
  {
   "cell_type": "code",
   "execution_count": 22,
   "metadata": {},
   "outputs": [
    {
     "name": "stdout",
     "output_type": "stream",
     "text": [
      "50000 records inserted\n",
      "100000 records inserted\n",
      "150000 records inserted\n",
      "200000 records inserted\n",
      "250000 records inserted\n",
      "300000 records inserted\n",
      "350000 records inserted\n",
      "400000 records inserted\n",
      "450000 records inserted\n",
      "500000 records inserted\n",
      "550000 records inserted\n",
      "600000 records inserted\n",
      "650000 records inserted\n",
      "700000 records inserted\n",
      "750000 records inserted\n",
      "800000 records inserted\n",
      "850000 records inserted\n",
      "900000 records inserted\n",
      "921337 records inserted\n"
     ]
    }
   ],
   "source": [
    "with open(FNAME) as file:\n",
    "    \n",
    "    artists = []\n",
    "    \n",
    "    for i, line in enumerate(file, 1):\n",
    "    \n",
    "        artists.append(json.loads(line))        \n",
    "        if i % BULK == 0:\n",
    "            bulk_insert(collection, artists, i)\n",
    "            artists = []\n",
    "        \n",
    "    else:\n",
    "        bulk_insert(collection, artists, i)"
   ]
  },
  {
   "cell_type": "code",
   "execution_count": 25,
   "metadata": {},
   "outputs": [
    {
     "data": {
      "text/plain": [
       "'rating.value_1'"
      ]
     },
     "execution_count": 25,
     "metadata": {},
     "output_type": "execute_result"
    }
   ],
   "source": [
    "collection.create_index([('name', ASCENDING)])  \n",
    "collection.create_index([('aliases.name', ASCENDING)])  \n",
    "collection.create_index([('tags.value', ASCENDING)])\n",
    "collection.create_index([('rating.value', ASCENDING)])"
   ]
  },
  {
   "cell_type": "code",
   "execution_count": null,
   "metadata": {},
   "outputs": [],
   "source": []
  }
 ],
 "metadata": {
  "kernelspec": {
   "display_name": "Python 3",
   "language": "python",
   "name": "python3"
  },
  "language_info": {
   "codemirror_mode": {
    "name": "ipython",
    "version": 3
   },
   "file_extension": ".py",
   "mimetype": "text/x-python",
   "name": "python",
   "nbconvert_exporter": "python",
   "pygments_lexer": "ipython3",
   "version": "3.6.8"
  }
 },
 "nbformat": 4,
 "nbformat_minor": 4
}
