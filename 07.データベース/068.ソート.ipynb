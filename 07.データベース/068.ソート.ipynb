{
 "cells": [
  {
   "cell_type": "raw",
   "metadata": {},
   "source": [
    "\"dance\"というタグを付与されたアーティストの中でレーティングの投票数が多いアーティスト・トップ10を求めよ．"
   ]
  },
  {
   "cell_type": "code",
   "execution_count": 6,
   "metadata": {},
   "outputs": [],
   "source": [
    "import json\n",
    "from pymongo import DESCENDING, MongoClient\n",
    "from bson.objectid import ObjectId"
   ]
  },
  {
   "cell_type": "code",
   "execution_count": 2,
   "metadata": {},
   "outputs": [],
   "source": [
    "def support_ObjectId(obj):\n",
    "    '''json.dumps()でObjectIdを処理するための関数\n",
    "    ObjectIdはjsonエンコードできない型なので、文字列型に変換する\n",
    "\n",
    "    戻り値：\n",
    "    ObjectIdから変換した文字列\n",
    "    '''\n",
    "    if isinstance(obj, ObjectId):\n",
    "        return str(obj)     # 文字列として扱う\n",
    "    raise TypeError(repr(obj) + \" is not JSON serializable\")"
   ]
  },
  {
   "cell_type": "code",
   "execution_count": 3,
   "metadata": {},
   "outputs": [],
   "source": [
    "# MongoDBのデータベースtestdbにコレクションartistにアクセス\n",
    "client = MongoClient()\n",
    "db = client.test_database\n",
    "collection = db.artist"
   ]
  },
  {
   "cell_type": "code",
   "execution_count": 4,
   "metadata": {},
   "outputs": [],
   "source": [
    "# 検索\n",
    "results = collection.find({'tags.value': 'dance'})"
   ]
  },
  {
   "cell_type": "code",
   "execution_count": 7,
   "metadata": {},
   "outputs": [
    {
     "data": {
      "text/plain": [
       "<pymongo.cursor.Cursor at 0x7f9e6b1ff9b0>"
      ]
     },
     "execution_count": 7,
     "metadata": {},
     "output_type": "execute_result"
    }
   ],
   "source": [
    "# ソート\n",
    "results.sort('rating.count', DESCENDING)"
   ]
  },
  {
   "cell_type": "code",
   "execution_count": 8,
   "metadata": {},
   "outputs": [
    {
     "name": "stdout",
     "output_type": "stream",
     "text": [
      "Madonna(id:89)\t26\n",
      "Björk(id:1022)\t23\n",
      "The Prodigy(id:44954)\t23\n",
      "Rihanna(id:262731)\t15\n",
      "Britney Spears(id:791)\t13\n",
      "Maroon 5(id:66179)\t11\n",
      "Adam Lambert(id:627661)\t7\n",
      "Fatboy Slim(id:255)\t7\n",
      "Basement Jaxx(id:1060)\t6\n",
      "Cornershop(id:798)\t5\n"
     ]
    }
   ],
   "source": [
    "# 10件表示\n",
    "for doc in results.limit(10):\n",
    "\n",
    "    if 'rating' in doc:\n",
    "        rating = doc['rating']['count']\n",
    "    else:\n",
    "        rating = '(none)'       # ratingがないドキュメントもあるので\n",
    "\n",
    "    print('{}(id:{})\\t{}'.format(doc['name'], doc['id'], rating))"
   ]
  },
  {
   "cell_type": "code",
   "execution_count": null,
   "metadata": {},
   "outputs": [],
   "source": []
  }
 ],
 "metadata": {
  "kernelspec": {
   "display_name": "Python 3",
   "language": "python",
   "name": "python3"
  },
  "language_info": {
   "codemirror_mode": {
    "name": "ipython",
    "version": 3
   },
   "file_extension": ".py",
   "mimetype": "text/x-python",
   "name": "python",
   "nbconvert_exporter": "python",
   "pygments_lexer": "ipython3",
   "version": "3.6.8"
  }
 },
 "nbformat": 4,
 "nbformat_minor": 4
}
