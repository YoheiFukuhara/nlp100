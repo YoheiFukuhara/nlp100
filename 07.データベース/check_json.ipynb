{
 "cells": [
  {
   "cell_type": "code",
   "execution_count": 2,
   "metadata": {},
   "outputs": [],
   "source": [
    "import pandas as pd"
   ]
  },
  {
   "cell_type": "code",
   "execution_count": 8,
   "metadata": {},
   "outputs": [],
   "source": [
    "df_f = pd.read_json('artist.json', lines=True, chunksize=10000)"
   ]
  },
  {
   "cell_type": "code",
   "execution_count": 9,
   "metadata": {},
   "outputs": [
    {
     "name": "stdout",
     "output_type": "stream",
     "text": [
      "<pandas.io.json.json.JsonReader object at 0x7f20736e66d8>\n"
     ]
    }
   ],
   "source": [
    "print(df_f)"
   ]
  },
  {
   "cell_type": "code",
   "execution_count": 10,
   "metadata": {},
   "outputs": [
    {
     "name": "stdout",
     "output_type": "stream",
     "text": [
      "<class 'pandas.core.frame.DataFrame'> (10000, 13)\n",
      "<class 'pandas.core.frame.DataFrame'> (10000, 13)\n",
      "<class 'pandas.core.frame.DataFrame'> (10000, 13)\n",
      "<class 'pandas.core.frame.DataFrame'> (10000, 13)\n",
      "<class 'pandas.core.frame.DataFrame'> (10000, 13)\n",
      "<class 'pandas.core.frame.DataFrame'> (10000, 13)\n",
      "<class 'pandas.core.frame.DataFrame'> (10000, 13)\n",
      "<class 'pandas.core.frame.DataFrame'> (10000, 13)\n",
      "<class 'pandas.core.frame.DataFrame'> (10000, 13)\n",
      "<class 'pandas.core.frame.DataFrame'> (10000, 13)\n",
      "<class 'pandas.core.frame.DataFrame'> (10000, 13)\n",
      "<class 'pandas.core.frame.DataFrame'> (10000, 13)\n",
      "<class 'pandas.core.frame.DataFrame'> (10000, 13)\n",
      "<class 'pandas.core.frame.DataFrame'> (10000, 13)\n",
      "<class 'pandas.core.frame.DataFrame'> (10000, 13)\n",
      "<class 'pandas.core.frame.DataFrame'> (10000, 13)\n",
      "<class 'pandas.core.frame.DataFrame'> (10000, 13)\n",
      "<class 'pandas.core.frame.DataFrame'> (10000, 13)\n",
      "<class 'pandas.core.frame.DataFrame'> (10000, 13)\n",
      "<class 'pandas.core.frame.DataFrame'> (10000, 13)\n",
      "<class 'pandas.core.frame.DataFrame'> (10000, 13)\n",
      "<class 'pandas.core.frame.DataFrame'> (10000, 13)\n",
      "<class 'pandas.core.frame.DataFrame'> (10000, 13)\n",
      "<class 'pandas.core.frame.DataFrame'> (10000, 13)\n",
      "<class 'pandas.core.frame.DataFrame'> (10000, 13)\n",
      "<class 'pandas.core.frame.DataFrame'> (10000, 13)\n",
      "<class 'pandas.core.frame.DataFrame'> (10000, 13)\n",
      "<class 'pandas.core.frame.DataFrame'> (10000, 13)\n",
      "<class 'pandas.core.frame.DataFrame'> (10000, 13)\n",
      "<class 'pandas.core.frame.DataFrame'> (10000, 13)\n",
      "<class 'pandas.core.frame.DataFrame'> (10000, 13)\n",
      "<class 'pandas.core.frame.DataFrame'> (10000, 13)\n",
      "<class 'pandas.core.frame.DataFrame'> (10000, 13)\n",
      "<class 'pandas.core.frame.DataFrame'> (10000, 13)\n",
      "<class 'pandas.core.frame.DataFrame'> (10000, 13)\n",
      "<class 'pandas.core.frame.DataFrame'> (10000, 13)\n",
      "<class 'pandas.core.frame.DataFrame'> (10000, 13)\n",
      "<class 'pandas.core.frame.DataFrame'> (10000, 13)\n",
      "<class 'pandas.core.frame.DataFrame'> (10000, 13)\n",
      "<class 'pandas.core.frame.DataFrame'> (10000, 13)\n",
      "<class 'pandas.core.frame.DataFrame'> (10000, 13)\n",
      "<class 'pandas.core.frame.DataFrame'> (10000, 13)\n",
      "<class 'pandas.core.frame.DataFrame'> (10000, 13)\n",
      "<class 'pandas.core.frame.DataFrame'> (10000, 13)\n",
      "<class 'pandas.core.frame.DataFrame'> (10000, 13)\n",
      "<class 'pandas.core.frame.DataFrame'> (10000, 13)\n",
      "<class 'pandas.core.frame.DataFrame'> (10000, 13)\n",
      "<class 'pandas.core.frame.DataFrame'> (10000, 13)\n",
      "<class 'pandas.core.frame.DataFrame'> (10000, 13)\n",
      "<class 'pandas.core.frame.DataFrame'> (10000, 13)\n",
      "<class 'pandas.core.frame.DataFrame'> (10000, 13)\n",
      "<class 'pandas.core.frame.DataFrame'> (10000, 13)\n",
      "<class 'pandas.core.frame.DataFrame'> (10000, 13)\n",
      "<class 'pandas.core.frame.DataFrame'> (10000, 13)\n",
      "<class 'pandas.core.frame.DataFrame'> (10000, 13)\n",
      "<class 'pandas.core.frame.DataFrame'> (10000, 13)\n",
      "<class 'pandas.core.frame.DataFrame'> (10000, 13)\n",
      "<class 'pandas.core.frame.DataFrame'> (10000, 13)\n",
      "<class 'pandas.core.frame.DataFrame'> (10000, 13)\n",
      "<class 'pandas.core.frame.DataFrame'> (10000, 13)\n",
      "<class 'pandas.core.frame.DataFrame'> (10000, 13)\n",
      "<class 'pandas.core.frame.DataFrame'> (10000, 13)\n",
      "<class 'pandas.core.frame.DataFrame'> (10000, 13)\n",
      "<class 'pandas.core.frame.DataFrame'> (10000, 13)\n",
      "<class 'pandas.core.frame.DataFrame'> (10000, 13)\n",
      "<class 'pandas.core.frame.DataFrame'> (10000, 13)\n",
      "<class 'pandas.core.frame.DataFrame'> (10000, 13)\n",
      "<class 'pandas.core.frame.DataFrame'> (10000, 13)\n",
      "<class 'pandas.core.frame.DataFrame'> (10000, 13)\n",
      "<class 'pandas.core.frame.DataFrame'> (10000, 13)\n",
      "<class 'pandas.core.frame.DataFrame'> (10000, 13)\n",
      "<class 'pandas.core.frame.DataFrame'> (10000, 13)\n",
      "<class 'pandas.core.frame.DataFrame'> (10000, 13)\n",
      "<class 'pandas.core.frame.DataFrame'> (10000, 13)\n",
      "<class 'pandas.core.frame.DataFrame'> (10000, 13)\n",
      "<class 'pandas.core.frame.DataFrame'> (10000, 13)\n",
      "<class 'pandas.core.frame.DataFrame'> (10000, 13)\n",
      "<class 'pandas.core.frame.DataFrame'> (10000, 13)\n",
      "<class 'pandas.core.frame.DataFrame'> (10000, 13)\n",
      "<class 'pandas.core.frame.DataFrame'> (10000, 13)\n",
      "<class 'pandas.core.frame.DataFrame'> (10000, 13)\n",
      "<class 'pandas.core.frame.DataFrame'> (10000, 13)\n",
      "<class 'pandas.core.frame.DataFrame'> (10000, 13)\n",
      "<class 'pandas.core.frame.DataFrame'> (10000, 13)\n",
      "<class 'pandas.core.frame.DataFrame'> (10000, 13)\n",
      "<class 'pandas.core.frame.DataFrame'> (10000, 13)\n",
      "<class 'pandas.core.frame.DataFrame'> (10000, 13)\n",
      "<class 'pandas.core.frame.DataFrame'> (10000, 13)\n",
      "<class 'pandas.core.frame.DataFrame'> (10000, 13)\n",
      "<class 'pandas.core.frame.DataFrame'> (10000, 13)\n",
      "<class 'pandas.core.frame.DataFrame'> (10000, 13)\n",
      "<class 'pandas.core.frame.DataFrame'> (10000, 13)\n",
      "<class 'pandas.core.frame.DataFrame'> (1337, 13)\n"
     ]
    }
   ],
   "source": [
    "for r in df_f:\n",
    "    print(type(r), r.shape)"
   ]
  },
  {
   "cell_type": "code",
   "execution_count": 11,
   "metadata": {},
   "outputs": [
    {
     "name": "stdout",
     "output_type": "stream",
     "text": [
      "<class 'pandas.core.frame.DataFrame'>\n",
      "RangeIndex: 1337 entries, 920000 to 921336\n",
      "Data columns (total 13 columns):\n",
      "aliases      111 non-null object\n",
      "area         863 non-null object\n",
      "begin        369 non-null object\n",
      "end          63 non-null object\n",
      "ended        1337 non-null bool\n",
      "gender       772 non-null object\n",
      "gid          1337 non-null object\n",
      "id           1337 non-null int64\n",
      "name         1337 non-null object\n",
      "rating       16 non-null object\n",
      "sort_name    1337 non-null object\n",
      "tags         54 non-null object\n",
      "type         1172 non-null object\n",
      "dtypes: bool(1), int64(1), object(11)\n",
      "memory usage: 126.7+ KB\n",
      "None\n"
     ]
    }
   ],
   "source": [
    "print(r.info())"
   ]
  },
  {
   "cell_type": "code",
   "execution_count": null,
   "metadata": {},
   "outputs": [],
   "source": []
  }
 ],
 "metadata": {
  "kernelspec": {
   "display_name": "Python 3",
   "language": "python",
   "name": "python3"
  },
  "language_info": {
   "codemirror_mode": {
    "name": "ipython",
    "version": 3
   },
   "file_extension": ".py",
   "mimetype": "text/x-python",
   "name": "python",
   "nbconvert_exporter": "python",
   "pygments_lexer": "ipython3",
   "version": "3.7.2"
  }
 },
 "nbformat": 4,
 "nbformat_minor": 2
}
