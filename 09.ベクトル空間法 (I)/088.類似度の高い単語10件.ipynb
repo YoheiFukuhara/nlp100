{
 "cells": [
  {
   "cell_type": "markdown",
   "metadata": {},
   "source": [
    "85で得た単語の意味ベクトルを読み込み，\"England\"とコサイン類似度が高い10語と，その類似度を出力せよ．"
   ]
  },
  {
   "cell_type": "code",
   "execution_count": 1,
   "metadata": {},
   "outputs": [],
   "source": [
    "import numpy as np\n",
    "import pandas as pd"
   ]
  },
  {
   "cell_type": "code",
   "execution_count": 2,
   "metadata": {},
   "outputs": [
    {
     "name": "stdout",
     "output_type": "stream",
     "text": [
      "matrix_x300 Shape: (388836, 300)\n"
     ]
    }
   ],
   "source": [
    "# 保存時に引数を指定しなかったので'arr_0'に格納されている\n",
    "matrix_x300 = np.load('085.matrix_x300.npz')['arr_0']\n",
    "\n",
    "print('matrix_x300 Shape:', matrix_x300.shape)"
   ]
  },
  {
   "cell_type": "code",
   "execution_count": 3,
   "metadata": {},
   "outputs": [],
   "source": [
    "group_t = pd.read_pickle('./083_group_t.zip')"
   ]
  },
  {
   "cell_type": "code",
   "execution_count": 4,
   "metadata": {},
   "outputs": [],
   "source": [
    "# 'Englandの単語ベクトルを読み込み、ノルムも計算\n",
    "v1 = matrix_x300[group_t.index.get_loc('England')]\n",
    "v1_norm = np.linalg.norm(v1)"
   ]
  },
  {
   "cell_type": "code",
   "execution_count": 5,
   "metadata": {},
   "outputs": [],
   "source": [
    "# コサイン類似度計算\n",
    "def get_cos_similarity(v2):\n",
    "    \n",
    "    # ベクトルが全てゼロの場合は-1を返す\n",
    "    if np.count_nonzero(v2) == 0:\n",
    "        return -1\n",
    "    else:\n",
    "        return np.dot(v1, v2) / (v1_norm * np.linalg.norm(v2))"
   ]
  },
  {
   "cell_type": "code",
   "execution_count": 6,
   "metadata": {},
   "outputs": [
    {
     "name": "stdout",
     "output_type": "stream",
     "text": [
      "Cosign Similarity result array shape: (388836,)\n",
      "CPU times: user 10.2 s, sys: 435 ms, total: 10.6 s\n",
      "Wall time: 11.7 s\n"
     ]
    }
   ],
   "source": [
    "%%time\n",
    "# apply_along_axisだと内包表記より遅い\n",
    "cos_sim = np.apply_along_axis(get_cos_similarity, 1, matrix_x300)\n",
    "print('Cosign Similarity result array shape:', cos_sim.shape)"
   ]
  },
  {
   "cell_type": "code",
   "execution_count": 7,
   "metadata": {},
   "outputs": [
    {
     "name": "stdout",
     "output_type": "stream",
     "text": [
      "Cosign Similarity result length: 388836\n",
      "CPU times: user 4.69 s, sys: 533 ms, total: 5.23 s\n",
      "Wall time: 5.45 s\n"
     ]
    }
   ],
   "source": [
    "%%time\n",
    "# apply_along_axisより速い\n",
    "cos_sim = [get_cos_similarity(matrix_x300[i]) for i in range(len(group_t))]\n",
    "print('Cosign Similarity result length:', len(cos_sim))"
   ]
  },
  {
   "cell_type": "code",
   "execution_count": 8,
   "metadata": {},
   "outputs": [],
   "source": [
    "# インデックスを残してソート\n",
    "cos_sim_sorted = np.argsort(cos_sim)"
   ]
  },
  {
   "cell_type": "code",
   "execution_count": 9,
   "metadata": {},
   "outputs": [
    {
     "name": "stdout",
     "output_type": "stream",
     "text": [
      "England\t1.0000000000000002\n",
      "Scotland\t0.6364961613062289\n",
      "Italy\t0.6033905306935802\n",
      "Wales\t0.5961887337227456\n",
      "Australia\t0.5953277272306978\n",
      "Spain\t0.5752511915429617\n",
      "Japan\t0.5611603300967408\n",
      "France\t0.5547284075334182\n",
      "Germany\t0.5539239745925412\n",
      "United_Kingdom\t0.5225684232409136\n",
      "Cheshire\t0.5125286144779688\n"
     ]
    }
   ],
   "source": [
    "# 昇順でソートされた配列の1番最後から-11(-12)までを1件ずつ出力(トップはEngland自身)\n",
    "for index in cos_sim_sorted[:-12:-1]:\n",
    "    print('{}\\t{}'.format(group_t.index[index], cos_sim[index]))"
   ]
  },
  {
   "cell_type": "code",
   "execution_count": null,
   "metadata": {},
   "outputs": [],
   "source": []
  }
 ],
 "metadata": {
  "kernelspec": {
   "display_name": "Python 3",
   "language": "python",
   "name": "python3"
  },
  "language_info": {
   "codemirror_mode": {
    "name": "ipython",
    "version": 3
   },
   "file_extension": ".py",
   "mimetype": "text/x-python",
   "name": "python",
   "nbconvert_exporter": "python",
   "pygments_lexer": "ipython3",
   "version": "3.6.8"
  }
 },
 "nbformat": 4,
 "nbformat_minor": 4
}
