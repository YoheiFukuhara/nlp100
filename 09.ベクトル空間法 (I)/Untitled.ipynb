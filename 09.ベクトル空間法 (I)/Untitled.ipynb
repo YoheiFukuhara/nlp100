{
 "cells": [
  {
   "cell_type": "code",
   "execution_count": 1,
   "metadata": {},
   "outputs": [],
   "source": [
    "import re"
   ]
  },
  {
   "cell_type": "code",
   "execution_count": 2,
   "metadata": {},
   "outputs": [],
   "source": [
    "# 先頭と末尾の記号除去の正規表現(末尾は改行コードも)\n",
    "reg_sym = re.compile(r'^[.,!?;:\\(\\)\\[\\]\\'\"]+|[.,!?;:\\(\\)\\[\\]\\'\"\\n]+$')"
   ]
  },
  {
   "cell_type": "code",
   "execution_count": 6,
   "metadata": {},
   "outputs": [],
   "source": [
    "line = 'However \"B. nutans\" (Nodding Banksia) appears to be rather less closely related to the other species in series \"Abietinae\" than are \"Banksia dryandroides\" (Dryandra-leaved Banksia) and the members of \"B.\" ser. \"Grandes\".'"
   ]
  },
  {
   "cell_type": "code",
   "execution_count": 8,
   "metadata": {},
   "outputs": [],
   "source": [
    "tokens = [reg_sym.sub('', chunk) for chunk in line.split(' ') if len(reg_sym.sub('', chunk)) > 0]"
   ]
  },
  {
   "cell_type": "code",
   "execution_count": 10,
   "metadata": {},
   "outputs": [
    {
     "name": "stdout",
     "output_type": "stream",
     "text": [
      "['However', 'B.\\xa0nutans', 'Nodding', 'Banksia', 'appears', 'to', 'be', 'rather', 'less', 'closely', 'related', 'to', 'the', 'other', 'species', 'in', 'series', 'Abietinae', 'than', 'are', 'Banksia', 'dryandroides', 'Dryandra-leaved', 'Banksia', 'and', 'the', 'members', 'of', 'B.\"\\xa0ser', 'Grandes']\n"
     ]
    }
   ],
   "source": [
    "print(tokens)"
   ]
  },
  {
   "cell_type": "code",
   "execution_count": 9,
   "metadata": {},
   "outputs": [
    {
     "name": "stdout",
     "output_type": "stream",
     "text": [
      "However B. nutans Nodding Banksia appears to be rather less closely related to the other species in series Abietinae than are Banksia dryandroides Dryandra-leaved Banksia and the members of B.\" ser Grandes\n"
     ]
    }
   ],
   "source": [
    "print(*tokens, sep=' ')"
   ]
  },
  {
   "cell_type": "code",
   "execution_count": 14,
   "metadata": {},
   "outputs": [
    {
     "name": "stdout",
     "output_type": "stream",
     "text": [
      "åland islands\n"
     ]
    }
   ],
   "source": [
    "#text\n",
    "print('Åland Islands'.lower())"
   ]
  },
  {
   "cell_type": "code",
   "execution_count": 16,
   "metadata": {},
   "outputs": [],
   "source": [
    "reg_test = re.compile(r'Abc', re.IGNORECASE)"
   ]
  },
  {
   "cell_type": "code",
   "execution_count": 20,
   "metadata": {},
   "outputs": [
    {
     "data": {
      "text/plain": [
       "'pp@p'"
      ]
     },
     "execution_count": 20,
     "metadata": {},
     "output_type": "execute_result"
    }
   ],
   "source": [
    "text = 'ppaBcp'\n",
    "reg_test.sub('@', text)"
   ]
  },
  {
   "cell_type": "code",
   "execution_count": 21,
   "metadata": {},
   "outputs": [
    {
     "data": {
      "text/plain": [
       "'ppaBcp'"
      ]
     },
     "execution_count": 21,
     "metadata": {},
     "output_type": "execute_result"
    }
   ],
   "source": [
    "text"
   ]
  },
  {
   "cell_type": "code",
   "execution_count": null,
   "metadata": {},
   "outputs": [],
   "source": []
  }
 ],
 "metadata": {
  "kernelspec": {
   "display_name": "Python 3",
   "language": "python",
   "name": "python3"
  },
  "language_info": {
   "codemirror_mode": {
    "name": "ipython",
    "version": 3
   },
   "file_extension": ".py",
   "mimetype": "text/x-python",
   "name": "python",
   "nbconvert_exporter": "python",
   "pygments_lexer": "ipython3",
   "version": "3.6.8"
  }
 },
 "nbformat": 4,
 "nbformat_minor": 4
}
