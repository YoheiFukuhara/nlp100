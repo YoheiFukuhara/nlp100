{
 "cells": [
  {
   "cell_type": "code",
   "execution_count": 1,
   "metadata": {},
   "outputs": [],
   "source": [
    "import pandas as pd"
   ]
  },
  {
   "cell_type": "code",
   "execution_count": 1,
   "metadata": {},
   "outputs": [
    {
     "name": "stdout",
     "output_type": "stream",
     "text": [
      "CPU times: user 34 s, sys: 20.1 s, total: 54.1 s\n",
      "Wall time: 1min 22s\n"
     ]
    }
   ],
   "source": [
    "%%time\n",
    "#iterator = pd.read_table('./082.context.txt', header=None, names=['t', 'c'], chunksize=10000)\n",
    "df = pd.read_table('./082.context.txt', header=None, names=['t', 'c'])"
   ]
  },
  {
   "cell_type": "code",
   "execution_count": 3,
   "metadata": {},
   "outputs": [],
   "source": [
    "%%time\n",
    "grouped = df.groupby(['t','c'])['c'].agg('count')"
   ]
  },
  {
   "cell_type": "code",
   "execution_count": null,
   "metadata": {},
   "outputs": [],
   "source": [
    "print(grouped_tc[grouped_tc > 9])"
   ]
  },
  {
   "cell_type": "code",
   "execution_count": null,
   "metadata": {},
   "outputs": [],
   "source": [
    "%%time\n",
    "for i ,[ind , v] in enumerate(grouped_tc.iteritems()):\n",
    "    pass\n",
    "    #print(i, ind, v)\n",
    "#    if i == 3:\n",
    "#        break"
   ]
  },
  {
   "cell_type": "code",
   "execution_count": 25,
   "metadata": {},
   "outputs": [
    {
     "name": "stdout",
     "output_type": "stream",
     "text": [
      "CPU times: user 1min 54s, sys: 24.8 s, total: 2min 18s\n",
      "Wall time: 2min 19s\n"
     ]
    }
   ],
   "source": [
    "%%time\n",
    "pieces = [x.groupby(['t','c'])['c'].agg('count') for x in iterator]"
   ]
  },
  {
   "cell_type": "code",
   "execution_count": 26,
   "metadata": {},
   "outputs": [],
   "source": [
    "agg = pd.concat(pieces).groupby(level=0).sum()"
   ]
  },
  {
   "cell_type": "code",
   "execution_count": 27,
   "metadata": {},
   "outputs": [
    {
     "name": "stdout",
     "output_type": "stream",
     "text": [
      "t\n",
      "#          148\n",
      "#'s         20\n",
      "#0          12\n",
      "#0001       10\n",
      "#008         2\n",
      "          ... \n",
      "ﬁxation      4\n",
      "ﬂats         8\n",
      "ﬂoor         8\n",
      "）           10\n",
      "𝔗            8\n",
      "Name: c, Length: 387669, dtype: int64\n"
     ]
    }
   ],
   "source": [
    "print(agg)"
   ]
  },
  {
   "cell_type": "code",
   "execution_count": 20,
   "metadata": {},
   "outputs": [],
   "source": [
    "chunks = pd.read_csv(\"test.csv\",chunksize=5)\n",
    "pieces = [x.groupby('id')['val'].agg(['sum','count']) for x in chunks]"
   ]
  },
  {
   "cell_type": "code",
   "execution_count": 24,
   "metadata": {},
   "outputs": [
    {
     "name": "stdout",
     "output_type": "stream",
     "text": [
      "    sum  count\n",
      "id            \n",
      "A    80     11\n",
      "B    54      9\n",
      "C    44      6\n"
     ]
    }
   ],
   "source": [
    "agg = pd.concat(pieces).groupby(level=0).sum()\n",
    "print(agg)"
   ]
  },
  {
   "cell_type": "code",
   "execution_count": 100,
   "metadata": {},
   "outputs": [],
   "source": [
    "# %%time\n",
    "for i, row in enumerate(iterator):\n",
    "    #print(row)   \n",
    "    if i == 0:\n",
    "        #grouped_all = pd.DataFrame(row.groupby(['t','c'], sort=False)).reset_index()  #sort False makes faster\n",
    "        grouped_all = pd.DataFrame(row.groupby(['t','c']).size()).reset_index()  #sort False makes faster\n",
    "        \n",
    "    else:\n",
    "        gropued = pd.DataFrame(row.groupby(['t','c']).size()).reset_index()  #sort False makes faster\n",
    "    #print(grouped_all)\n",
    "    #print(type(grouped_all))\n",
    "    #print(dir(grouped_all))\n",
    "  \n",
    "    if i == 1:\n",
    "        grouped_all.to_csv('./test.csv')\n",
    "        break"
   ]
  },
  {
   "cell_type": "code",
   "execution_count": 80,
   "metadata": {},
   "outputs": [
    {
     "data": {
      "text/plain": [
       "t      c        \n",
       "rules  usual        1\n",
       "       This         1\n",
       "       variant      1\n",
       "apply  their        1\n",
       "       all          1\n",
       "                   ..\n",
       "in     operating    1\n",
       "Ghana  93rd         1\n",
       "93rd   Internet     1\n",
       "       hosts        1\n",
       "       operating    1\n",
       "Length: 68950, dtype: int64"
      ]
     },
     "execution_count": 80,
     "metadata": {},
     "output_type": "execute_result"
    }
   ],
   "source": [
    "#print(grouped.groups)\n",
    "#print('')\n",
    "grouped_all.size()\n",
    "#print(grouped.count())"
   ]
  },
  {
   "cell_type": "code",
   "execution_count": 13,
   "metadata": {},
   "outputs": [],
   "source": [
    "import re"
   ]
  },
  {
   "cell_type": "code",
   "execution_count": 14,
   "metadata": {},
   "outputs": [],
   "source": [
    "line = 'formula — k\" = √(\"s\"(\"s\" − \"a\")(\"s\" − \"b\")(\"s\" − \"c'"
   ]
  },
  {
   "cell_type": "code",
   "execution_count": 15,
   "metadata": {},
   "outputs": [],
   "source": [
    "reg_sym = re.compile(r'^[.,!?;:\\(\\)\\[\\]\\'\"]+|[.,!?;:\\(\\)\\[\\]\\'\"\\n]+$')"
   ]
  },
  {
   "cell_type": "code",
   "execution_count": 19,
   "metadata": {},
   "outputs": [],
   "source": [
    "result = []"
   ]
  },
  {
   "cell_type": "code",
   "execution_count": 20,
   "metadata": {},
   "outputs": [],
   "source": [
    "result = [reg_sym.sub('', chunk) for chunk in line.split(' ') if len(reg_sym.sub('', chunk)) > 0]"
   ]
  },
  {
   "cell_type": "code",
   "execution_count": 21,
   "metadata": {},
   "outputs": [
    {
     "name": "stdout",
     "output_type": "stream",
     "text": [
      "['formula\\xa0—', 'k\"\\xa0=\\xa0√(\"s\"(\"s\"\\xa0−\\xa0\"a\")(\"s\"\\xa0−\\xa0\"b\")(\"s\"\\xa0−\\xa0\"c']\n"
     ]
    }
   ],
   "source": [
    "print(result)"
   ]
  },
  {
   "cell_type": "code",
   "execution_count": 22,
   "metadata": {},
   "outputs": [
    {
     "name": "stdout",
     "output_type": "stream",
     "text": [
      "formula —\n",
      "k\" = √(\"s\"(\"s\" − \"a\")(\"s\" − \"b\")(\"s\" − \"c\n"
     ]
    }
   ],
   "source": [
    "for chunk in line.split(' '):\n",
    "    print(chunk)"
   ]
  },
  {
   "cell_type": "code",
   "execution_count": 1,
   "metadata": {},
   "outputs": [
    {
     "name": "stdout",
     "output_type": "stream",
     "text": [
      "absl-py==0.8.1\n",
      "astor==0.8.0\n",
      "attrs==19.3.0\n",
      "backcall==0.1.0\n",
      "bleach==3.1.0\n",
      "cachetools==3.1.1\n",
      "certifi==2019.9.11\n",
      "chardet==3.0.4\n",
      "Click==7.0\n",
      "cloudpickle==1.2.2\n",
      "cycler==0.10.0\n",
      "decorator==4.4.1\n",
      "defusedxml==0.6.0\n",
      "entrypoints==0.3\n",
      "Flask==1.1.1\n",
      "future==0.18.2\n",
      "gast==0.3.2\n",
      "google-auth==1.7.1\n",
      "google-auth-oauthlib==0.4.1\n",
      "google-pasta==0.1.8\n",
      "grpcio==1.25.0\n",
      "h5py==2.10.0\n",
      "hyperas==0.4.1\n",
      "hyperopt==0.2.2\n",
      "idna==2.8\n",
      "importlib-metadata==0.23\n",
      "ipykernel==5.1.3\n",
      "ipython==7.9.0\n",
      "ipython-genutils==0.2.0\n",
      "ipywidgets==7.5.1\n",
      "itsdangerous==1.1.0\n",
      "jedi==0.15.1\n",
      "Jinja2==2.10.3\n",
      "joblib==0.14.0\n",
      "json5==0.8.5\n",
      "jsonschema==3.2.0\n",
      "jupyter==1.0.0\n",
      "jupyter-client==5.3.4\n",
      "jupyter-console==6.0.0\n",
      "jupyter-core==4.6.1\n",
      "jupyterlab==1.2.3\n",
      "jupyterlab-server==1.0.6\n",
      "Keras==2.3.1\n",
      "Keras-Applications==1.0.8\n",
      "Keras-Preprocessing==1.1.0\n",
      "kiwisolver==1.1.0\n",
      "Markdown==3.1.1\n",
      "MarkupSafe==1.1.1\n",
      "matplotlib==3.1.1\n",
      "mecab-python3==0.996.2\n",
      "mistune==0.8.4\n",
      "mock==3.0.5\n",
      "more-itertools==7.2.0\n",
      "nbconvert==5.6.1\n",
      "nbformat==4.4.0\n",
      "nbresuse==0.3.3\n",
      "networkx==2.4\n",
      "nltk==3.4.5\n",
      "notebook==6.0.2\n",
      "numpy==1.17.4\n",
      "oauthlib==3.1.0\n",
      "opencv-python==4.1.1.26\n",
      "opt-einsum==3.1.0\n",
      "pandas==0.25.3\n",
      "pandocfilters==1.4.2\n",
      "parso==0.5.1\n",
      "pbr==5.4.3\n",
      "pdf2image==1.10.0\n",
      "pexpect==4.7.0\n",
      "pickleshare==0.7.5\n",
      "Pillow==6.2.1\n",
      "prometheus-client==0.7.1\n",
      "prompt-toolkit==2.0.10\n",
      "protobuf==3.10.0\n",
      "psutil==5.6.7\n",
      "ptyprocess==0.6.0\n",
      "pyasn1==0.4.8\n",
      "pyasn1-modules==0.2.7\n",
      "Pygments==2.4.2\n",
      "pymongo==3.9.0\n",
      "pyparsing==2.4.5\n",
      "pyrsistent==0.15.5\n",
      "pytesseract==0.3.0\n",
      "python-dateutil==2.8.1\n",
      "pytz==2019.3\n",
      "PyYAML==5.1.2\n",
      "pyzmq==18.1.1\n",
      "qtconsole==4.6.0\n",
      "requests==2.22.0\n",
      "requests-oauthlib==1.3.0\n",
      "rsa==4.0\n",
      "sap-cf-logging==4.1.1\n",
      "scikit-learn==0.21.3\n",
      "scipy==1.3.2\n",
      "Send2Trash==1.5.0\n",
      "six==1.13.0\n",
      "sklearn==0.0\n",
      "stanfordnlp==0.2.0\n",
      "tensorboard==2.0.1\n",
      "tensorflow==2.0.0\n",
      "tensorflow-estimator==2.0.1\n",
      "tensorflow-hub==0.7.0\n",
      "tensorflow-serving-api==2.0.0\n",
      "termcolor==1.1.0\n",
      "terminado==0.8.3\n",
      "testpath==0.4.4\n",
      "torch==1.3.1\n",
      "tornado==6.0.3\n",
      "tqdm==4.38.0\n",
      "traitlets==4.3.3\n",
      "urllib3==1.25.7\n",
      "wcwidth==0.1.7\n",
      "webencodings==0.5.1\n",
      "Werkzeug==0.16.0\n",
      "wget==3.2\n",
      "widgetsnbextension==3.5.1\n",
      "wrapt==1.11.2\n",
      "zipp==0.6.0\n"
     ]
    }
   ],
   "source": [
    "!pip freeze"
   ]
  },
  {
   "cell_type": "code",
   "execution_count": null,
   "metadata": {},
   "outputs": [],
   "source": []
  }
 ],
 "metadata": {
  "kernelspec": {
   "display_name": "Python 3",
   "language": "python",
   "name": "python3"
  },
  "language_info": {
   "codemirror_mode": {
    "name": "ipython",
    "version": 3
   },
   "file_extension": ".py",
   "mimetype": "text/x-python",
   "name": "python",
   "nbconvert_exporter": "python",
   "pygments_lexer": "ipython3",
   "version": "3.6.8"
  }
 },
 "nbformat": 4,
 "nbformat_minor": 4
}
