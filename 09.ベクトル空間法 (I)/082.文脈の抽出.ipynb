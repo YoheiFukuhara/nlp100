{
 "cells": [
  {
   "cell_type": "markdown",
   "metadata": {},
   "source": [
    "81で作成したコーパス中に出現するすべての単語tに関して，単語tと文脈語cのペアをタブ区切り形式ですべて書き出せ．ただし，文脈語の定義は次の通りとする．\n",
    "\n",
    "- ある単語tの前後d単語を文脈語cとして抽出する（ただし，文脈語に単語tそのものは含まない）\n",
    "- 単語tを選ぶ度に，文脈幅dは{1,2,3,4,5}の範囲でランダムに決める．"
   ]
  },
  {
   "cell_type": "code",
   "execution_count": 1,
   "metadata": {},
   "outputs": [],
   "source": [
    "import random"
   ]
  },
  {
   "cell_type": "code",
   "execution_count": 2,
   "metadata": {},
   "outputs": [
    {
     "name": "stdout",
     "output_type": "stream",
     "text": [
      "1 ['Anarchism']\n",
      "65 ['Anarchism', 'is', 'a', 'political', 'philosophy', 'that', 'advocates', 'stateless', 'societies', 'often', 'defined', 'as', 'self-governed', 'voluntary', 'institutions', 'but', 'that', 'several', 'authors', 'have', 'defined', 'as', 'more', 'specific', 'institutions', 'based', 'on', 'non-hierarchical', 'free', 'associations', 'Anarchism', 'holds', 'the', 'state', 'to', 'be', 'undesirable', 'unnecessary', 'or', 'harmful', 'While', 'anti-statism', 'is', 'central', 'anarchism', 'entails', 'opposing', 'authority', 'or', 'hierarchical', 'organisation', 'in', 'the', 'conduct', 'of', 'human', 'relations', 'including', 'but', 'not', 'limited', 'to', 'the', 'state', 'system']\n",
      "114 ['As', 'a', 'subtle', 'and', 'anti-dogmatic', 'philosophy', 'anarchism', 'draws', 'on', 'many', 'currents', 'of', 'thought', 'and', 'strategy', 'Anarchism', 'does', 'not', 'offer', 'a', 'fixed', 'body', 'of', 'doctrine', 'from', 'a', 'single', 'particular', 'world', 'view', 'instead', 'fluxing', 'and', 'flowing', 'as', 'a', 'philosophy', 'There', 'are', 'many', 'types', 'and', 'traditions', 'of', 'anarchism', 'not', 'all', 'of', 'which', 'are', 'mutually', 'exclusive', 'Anarchist', 'schools', 'of', 'thought', 'can', 'differ', 'fundamentally', 'supporting', 'anything', 'from', 'extreme', 'individualism', 'to', 'complete', 'collectivism', 'Strains', 'of', 'anarchism', 'have', 'often', 'been', 'divided', 'into', 'the', 'categories', 'of', 'social', 'and', 'individualist', 'anarchism', 'or', 'similar', 'dual', 'classifications', 'Anarchism', 'is', 'usually', 'considered', 'a', 'radical', 'left-wing', 'ideology', 'and', 'much', 'of', 'anarchist', 'economics', 'and', 'anarchist', 'legal', 'philosophy', 'reflect', 'anti-authoritarian', 'interpretations', 'of', 'communism', 'collectivism', 'syndicalism', 'mutualism', 'or', 'participatory', 'economics']\n",
      "79 ['The', 'central', 'tendency', 'of', 'anarchism', 'as', 'a', 'social', 'movement', 'has', 'been', 'represented', 'by', 'anarcho-communism', 'and', 'anarcho-syndicalism', 'with', 'individualist', 'anarchism', 'being', 'primarily', 'a', 'literary', 'phenomenon', 'which', 'nevertheless', 'did', 'have', 'an', 'impact', 'on', 'the', 'bigger', 'currents', 'and', 'individualists', 'have', 'also', 'participated', 'in', 'large', 'anarchist', 'organisations', 'Many', 'anarchists', 'oppose', 'all', 'forms', 'of', 'aggression', 'supporting', 'self-defense', 'or', 'non-violence', 'anarcho-pacifism', 'while', 'others', 'have', 'supported', 'the', 'use', 'of', 'some', 'coercive', 'measures', 'including', 'violent', 'revolution', 'and', 'propaganda', 'of', 'the', 'deed', 'as', 'means', 'to', 'achieve', 'anarchist', 'ends']\n",
      " Processding line: 252692CPU times: user 7min 15s, sys: 6min 21s, total: 13min 36s\n",
      "Wall time: 12min 42s\n"
     ]
    }
   ],
   "source": [
    "%%time\n",
    "with open('./081.corpus.txt') as file_in, \\\n",
    "     open('./082.context.txt', mode='w') as file_out:\n",
    "    for i, line in enumerate(file_in):\n",
    "        tokens = line.strip().split(' ')\n",
    "        for j in range(len(tokens)):\n",
    "            d = random.randint(1, 5)        # 文脈幅d\n",
    "            \n",
    "            # 前後d語以内の語の列挙\n",
    "            for k in range(max(j - d, 0), min(j + d + 1, len(tokens))):\n",
    "                \n",
    "                # 自分自身の場合は出力しない\n",
    "                if j != k:\n",
    "                    file_out.writelines(tokens[j]+'\\t'+tokens[k]+'\\n')\n",
    "        if i < 4:\n",
    "            print(len(tokens), tokens)\n",
    "        else:\n",
    "            print('\\r Processding line: {0}'.format(i), end='')"
   ]
  },
  {
   "cell_type": "code",
   "execution_count": null,
   "metadata": {},
   "outputs": [],
   "source": []
  }
 ],
 "metadata": {
  "kernelspec": {
   "display_name": "Python 3",
   "language": "python",
   "name": "python3"
  },
  "language_info": {
   "codemirror_mode": {
    "name": "ipython",
    "version": 3
   },
   "file_extension": ".py",
   "mimetype": "text/x-python",
   "name": "python",
   "nbconvert_exporter": "python",
   "pygments_lexer": "ipython3",
   "version": "3.6.8"
  }
 },
 "nbformat": 4,
 "nbformat_minor": 4
}
