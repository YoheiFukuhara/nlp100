{
 "cells": [
  {
   "cell_type": "markdown",
   "metadata": {},
   "source": [
    "85で得た単語の意味ベクトルを読み込み，vec(\"Spain\") - vec(\"Madrid\") + vec(\"Athens\")を計算し，そのベクトルと類似度の高い10語とその類似度を出力せよ．"
   ]
  },
  {
   "cell_type": "code",
   "execution_count": 1,
   "metadata": {},
   "outputs": [],
   "source": [
    "import numpy as np\n",
    "import pandas as pd"
   ]
  },
  {
   "cell_type": "code",
   "execution_count": 2,
   "metadata": {},
   "outputs": [
    {
     "name": "stdout",
     "output_type": "stream",
     "text": [
      "matrix_x300 Shape: (388836, 300)\n"
     ]
    }
   ],
   "source": [
    "# 保存時に引数を指定しなかったので'arr_0'に格納されている\n",
    "matrix_x300 = np.load('085.matrix_x300.npz')['arr_0']\n",
    "\n",
    "print('matrix_x300 Shape:', matrix_x300.shape)"
   ]
  },
  {
   "cell_type": "code",
   "execution_count": 3,
   "metadata": {},
   "outputs": [],
   "source": [
    "group_t = pd.read_pickle('./083_group_t.zip')"
   ]
  },
  {
   "cell_type": "code",
   "execution_count": 4,
   "metadata": {},
   "outputs": [],
   "source": [
    "# 'vec(\"Spain\") - vec(\"Madrid\") + vec(\"Athens\") のベクトル計算\n",
    "vec = matrix_x300[group_t.index.get_loc('Spain')] \\\n",
    "      - matrix_x300[group_t.index.get_loc('Madrid')] \\\n",
    "      + matrix_x300[group_t.index.get_loc('Athens')]\n",
    "vec_norm = np.linalg.norm(vec)"
   ]
  },
  {
   "cell_type": "code",
   "execution_count": 5,
   "metadata": {},
   "outputs": [],
   "source": [
    "# コサイン類似度計算\n",
    "def get_cos_similarity(v2):\n",
    "    \n",
    "    # ベクトルが全てゼロの場合は-1を返す\n",
    "    if np.count_nonzero(v2) == 0:\n",
    "        return -1\n",
    "    else:\n",
    "        return np.dot(vec, v2) / (vec_norm * np.linalg.norm(v2))"
   ]
  },
  {
   "cell_type": "code",
   "execution_count": 6,
   "metadata": {},
   "outputs": [
    {
     "name": "stdout",
     "output_type": "stream",
     "text": [
      "Cosign Similarity result array shape: (388836,)\n",
      "CPU times: user 5.56 s, sys: 70.5 ms, total: 5.63 s\n",
      "Wall time: 5.63 s\n"
     ]
    }
   ],
   "source": [
    "%%time\n",
    "# apply_along_axisだと内包表記より遅い\n",
    "cos_sim = np.apply_along_axis(get_cos_similarity, 1, matrix_x300)\n",
    "print('Cosign Similarity result array shape:', cos_sim.shape)"
   ]
  },
  {
   "cell_type": "code",
   "execution_count": 7,
   "metadata": {},
   "outputs": [
    {
     "name": "stdout",
     "output_type": "stream",
     "text": [
      "Cosign Similarity result length: 388836\n",
      "CPU times: user 2.84 s, sys: 69.4 ms, total: 2.91 s\n",
      "Wall time: 2.91 s\n"
     ]
    }
   ],
   "source": [
    "%%time\n",
    "# apply_along_axisより速い\n",
    "cos_sim = [get_cos_similarity(matrix_x300[i]) for i in range(len(group_t))]\n",
    "print('Cosign Similarity result length:', len(cos_sim))"
   ]
  },
  {
   "cell_type": "code",
   "execution_count": 8,
   "metadata": {},
   "outputs": [],
   "source": [
    "# インデックスを残してソート\n",
    "cos_sim_sorted = np.argsort(cos_sim)"
   ]
  },
  {
   "cell_type": "code",
   "execution_count": 10,
   "metadata": {},
   "outputs": [
    {
     "name": "stdout",
     "output_type": "stream",
     "text": [
      "Spain\t0.8235009403612185\n",
      "Sweden\t0.8173684996295288\n",
      "Austria\t0.7857217646474496\n",
      "Germany\t0.7464749777894045\n",
      "Italy\t0.7453638105605331\n",
      "Belgium\t0.7296388997302754\n",
      "Netherlands\t0.7204055039642917\n",
      "France\t0.710046899274408\n",
      "Denmark\t0.7060901144512757\n",
      "Télévisions\t0.7014669762818871\n",
      "Norway\t0.7000819643688136\n",
      "Greece\t0.6861026924381656\n",
      "Vichy\t0.6820245314196783\n",
      "Great_Britain\t0.6553934478794126\n",
      "Poland\t0.6527725700885995\n",
      "Switzerland\t0.6453953238101237\n",
      "Rome\t0.6346796160969197\n",
      "Finland\t0.6306095771473689\n",
      "Hamburg\t0.6239504302513752\n",
      "Bavaria\t0.6181144512368841\n"
     ]
    }
   ],
   "source": [
    "# 昇順でソートされた配列の1番最後から-11(-12)までを1件ずつ出力\n",
    "for index in cos_sim_sorted[:-21:-1]:\n",
    "    print('{}\\t{}'.format(group_t.index[index], cos_sim[index]))"
   ]
  },
  {
   "cell_type": "code",
   "execution_count": null,
   "metadata": {},
   "outputs": [],
   "source": []
  }
 ],
 "metadata": {
  "kernelspec": {
   "display_name": "Python 3",
   "language": "python",
   "name": "python3"
  },
  "language_info": {
   "codemirror_mode": {
    "name": "ipython",
    "version": 3
   },
   "file_extension": ".py",
   "mimetype": "text/x-python",
   "name": "python",
   "nbconvert_exporter": "python",
   "pygments_lexer": "ipython3",
   "version": "3.6.8"
  }
 },
 "nbformat": 4,
 "nbformat_minor": 4
}
