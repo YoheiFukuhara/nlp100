{
 "cells": [
  {
   "cell_type": "markdown",
   "metadata": {},
   "source": [
    "85で得た単語の意味ベクトルを読み込み，vec(\"Spain\") - vec(\"Madrid\") + vec(\"Athens\")を計算し，そのベクトルと類似度の高い10語とその類似度を出力せよ．"
   ]
  },
  {
   "cell_type": "code",
   "execution_count": 1,
   "metadata": {},
   "outputs": [],
   "source": [
    "import numpy as np\n",
    "import pandas as pd"
   ]
  },
  {
   "cell_type": "code",
   "execution_count": 2,
   "metadata": {},
   "outputs": [
    {
     "name": "stdout",
     "output_type": "stream",
     "text": [
      "matrix_x300 Shape: (388836, 300)\n"
     ]
    }
   ],
   "source": [
    "# 保存時に引数を指定しなかったので'arr_0'に格納されている\n",
    "matrix_x300 = np.load('085.matrix_x300.npz')['arr_0']\n",
    "\n",
    "print('matrix_x300 Shape:', matrix_x300.shape)"
   ]
  },
  {
   "cell_type": "code",
   "execution_count": 3,
   "metadata": {},
   "outputs": [],
   "source": [
    "group_t = pd.read_pickle('./083_group_t.zip')"
   ]
  },
  {
   "cell_type": "code",
   "execution_count": 4,
   "metadata": {},
   "outputs": [],
   "source": [
    "# 'vec(\"Spain\") - vec(\"Madrid\") + vec(\"Athens\") のベクトル計算\n",
    "vec = matrix_x300[group_t.index.get_loc('Spain')] \\\n",
    "      - matrix_x300[group_t.index.get_loc('Madrid')] \\\n",
    "      + matrix_x300[group_t.index.get_loc('Athens')]\n",
    "vec_norm = np.linalg.norm(vec)"
   ]
  },
  {
   "cell_type": "code",
   "execution_count": 5,
   "metadata": {},
   "outputs": [],
   "source": [
    "# コサイン類似度計算\n",
    "def get_cos_similarity(v2):\n",
    "    \n",
    "    # ベクトルが全てゼロの場合は-1を返す\n",
    "    if np.count_nonzero(v2) == 0:\n",
    "        return -1\n",
    "    else:\n",
    "        return np.dot(vec, v2) / (vec_norm * np.linalg.norm(v2))"
   ]
  },
  {
   "cell_type": "code",
   "execution_count": 6,
   "metadata": {},
   "outputs": [
    {
     "name": "stdout",
     "output_type": "stream",
     "text": [
      "Cosign Similarity result array shape: (388836,)\n",
      "CPU times: user 10.2 s, sys: 673 ms, total: 10.8 s\n",
      "Wall time: 12.7 s\n"
     ]
    }
   ],
   "source": [
    "%%time\n",
    "# apply_along_axisだと内包表記より遅い\n",
    "cos_sim = np.apply_along_axis(get_cos_similarity, 1, matrix_x300)\n",
    "print('Cosign Similarity result array shape:', cos_sim.shape)"
   ]
  },
  {
   "cell_type": "code",
   "execution_count": 7,
   "metadata": {},
   "outputs": [
    {
     "name": "stdout",
     "output_type": "stream",
     "text": [
      "Cosign Similarity result length: 388836\n",
      "CPU times: user 3.75 s, sys: 12.4 ms, total: 3.77 s\n",
      "Wall time: 3.77 s\n"
     ]
    }
   ],
   "source": [
    "%%time\n",
    "# apply_along_axisより速い\n",
    "cos_sim = [get_cos_similarity(matrix_x300[i]) for i in range(len(group_t))]\n",
    "print('Cosign Similarity result length:', len(cos_sim))"
   ]
  },
  {
   "cell_type": "code",
   "execution_count": 8,
   "metadata": {},
   "outputs": [],
   "source": [
    "# インデックスを残してソート\n",
    "cos_sim_sorted = np.argsort(cos_sim)"
   ]
  },
  {
   "cell_type": "code",
   "execution_count": 9,
   "metadata": {},
   "outputs": [
    {
     "name": "stdout",
     "output_type": "stream",
     "text": [
      "Spain\t0.8178213952646727\n",
      "Sweden\t0.8071582503798717\n",
      "Austria\t0.7795030693787409\n",
      "Italy\t0.7466099164394225\n",
      "Germany\t0.7429125848677439\n",
      "Belgium\t0.729240312232219\n",
      "Netherlands\t0.7193045612969573\n",
      "Télévisions\t0.7067876635156688\n",
      "Denmark\t0.7062857691945504\n",
      "France\t0.7014078181006329\n",
      "Norway\t0.6996002408435061\n"
     ]
    }
   ],
   "source": [
    "# 昇順でソートされた配列の1番最後から-11(-12)までを1件ずつ出力(トップはEngland自身)\n",
    "for index in cos_sim_sorted[:-12:-1]:\n",
    "    print('{}\\t{}'.format(group_t.index[index], cos_sim[index]))"
   ]
  },
  {
   "cell_type": "code",
   "execution_count": null,
   "metadata": {},
   "outputs": [],
   "source": []
  }
 ],
 "metadata": {
  "kernelspec": {
   "display_name": "Python 3",
   "language": "python",
   "name": "python3"
  },
  "language_info": {
   "codemirror_mode": {
    "name": "ipython",
    "version": 3
   },
   "file_extension": ".py",
   "mimetype": "text/x-python",
   "name": "python",
   "nbconvert_exporter": "python",
   "pygments_lexer": "ipython3",
   "version": "3.6.8"
  }
 },
 "nbformat": 4,
 "nbformat_minor": 4
}
