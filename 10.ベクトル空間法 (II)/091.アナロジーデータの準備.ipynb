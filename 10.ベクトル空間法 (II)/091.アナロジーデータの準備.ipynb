{
 "cells": [
  {
   "cell_type": "markdown",
   "metadata": {},
   "source": [
    "[単語アナロジーの評価データ](https://word2vec.googlecode.com/svn/trunk/questions-words.txt)をダウンロードせよ．このデータ中で\": \"で始まる行はセクション名を表す．例えば，\": capital-common-countries\"という行は，\"capital-common-countries\"というセクションの開始を表している．ダウンロードした評価データの中で，\"family\"というセクションに含まれる評価事例を抜き出してファイルに保存せよ．"
   ]
  },
  {
   "cell_type": "code",
   "execution_count": 1,
   "metadata": {},
   "outputs": [],
   "source": [
    "with open('./questions-words.txt') as file_in, \\\n",
    "       open('./091.analogy_family.txt', 'w') as file_out:\n",
    "\n",
    "    target = False      # 対象のデータ\n",
    "    for line in file_in:\n",
    "\n",
    "        if target:\n",
    "\n",
    "            # 対象データの場合は別のセクションになるまで出力\n",
    "            if line.startswith(': '):\n",
    "                break\n",
    "            print(line.strip(), file=file_out)\n",
    "\n",
    "        elif line.startswith(': family'):\n",
    "\n",
    "            # 対象データ発見\n",
    "            target = True"
   ]
  },
  {
   "cell_type": "code",
   "execution_count": null,
   "metadata": {},
   "outputs": [],
   "source": []
  }
 ],
 "metadata": {
  "kernelspec": {
   "display_name": "Python 3",
   "language": "python",
   "name": "python3"
  },
  "language_info": {
   "codemirror_mode": {
    "name": "ipython",
    "version": 3
   },
   "file_extension": ".py",
   "mimetype": "text/x-python",
   "name": "python",
   "nbconvert_exporter": "python",
   "pygments_lexer": "ipython3",
   "version": "3.6.8"
  }
 },
 "nbformat": 4,
 "nbformat_minor": 4
}
