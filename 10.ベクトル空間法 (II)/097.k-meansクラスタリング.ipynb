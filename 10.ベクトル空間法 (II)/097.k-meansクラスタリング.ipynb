{
 "cells": [
  {
   "cell_type": "markdown",
   "metadata": {},
   "source": [
    "96の単語ベクトルに対して，k-meansクラスタリングをクラスタ数k=5として実行せよ．"
   ]
  },
  {
   "cell_type": "code",
   "execution_count": 1,
   "metadata": {},
   "outputs": [],
   "source": [
    "import pandas as pd\n",
    "from sklearn.cluster import KMeans"
   ]
  },
  {
   "cell_type": "code",
   "execution_count": 2,
   "metadata": {},
   "outputs": [],
   "source": [
    "country_vec = pd.read_pickle('./096.country_vector.zip')"
   ]
  },
  {
   "cell_type": "code",
   "execution_count": 3,
   "metadata": {},
   "outputs": [],
   "source": [
    "# KMeansクラスタリング\n",
    "predicts = KMeans(n_clusters=5).fit_predict(country_vec)"
   ]
  },
  {
   "cell_type": "code",
   "execution_count": 4,
   "metadata": {},
   "outputs": [],
   "source": [
    "country_vec['class'] = predicts"
   ]
  },
  {
   "cell_type": "code",
   "execution_count": 5,
   "metadata": {},
   "outputs": [
    {
     "name": "stdout",
     "output_type": "stream",
     "text": [
      "0 Cluster:Index(['American_Samoa', 'Antigua_and_Barbuda', 'Bosnia_and_Herzegovina',\n",
      "       'Burkina_Faso', 'Cabo_Verde', 'Cayman_Islands',\n",
      "       'Central_African_Republic', 'Christmas_Island', 'Keeling_Islands',\n",
      "       'Cocos_Islands',\n",
      "       ...\n",
      "       'Tokelau', 'Tonga', 'Tunisia', 'Turkmenistan', 'Tuvalu', 'Uzbekistan',\n",
      "       'Vanuatu', 'Yemen', 'Zambia', 'Zimbabwe'],\n",
      "      dtype='object', length=149)\n",
      "1 Cluster:Index(['New_Zealand', 'South_Africa', 'United_Kingdom', 'United_States',\n",
      "       'Australia', 'Canada', 'China', 'India', 'Israel', 'Japan', 'Pakistan',\n",
      "       'Philippines', 'Singapore'],\n",
      "      dtype='object')\n",
      "2 Cluster:Index(['Czech_Republic', 'Hong_Kong', 'People's_Republic_of_China',\n",
      "       'Puerto_Rico', 'Sri_Lanka', 'Great_Britain', 'Northern_Ireland',\n",
      "       'Afghanistan', 'Albania', 'Algeria', 'Angola', 'Armenia', 'Azerbaijan',\n",
      "       'Bangladesh', 'Cambodia', 'Chile', 'Colombia', 'Croatia', 'Cuba',\n",
      "       'Cyprus', 'Estonia', 'Ethiopia', 'Fiji', 'Georgia', 'Ghana',\n",
      "       'Gibraltar', 'Iceland', 'Indonesia', 'Kenya', 'Latvia', 'Lebanon',\n",
      "       'Libya', 'Lithuania', 'Malaysia', 'Malta', 'Mongolia', 'Morocco',\n",
      "       'Nepal', 'Nigeria', 'Panama', 'Peru', 'Senegal', 'Serbia', 'Slovakia',\n",
      "       'Sudan', 'Thailand', 'Turkey', 'Uganda', 'Ukraine', 'Uruguay'],\n",
      "      dtype='object')\n",
      "3 Cluster:Index(['Guinea', 'Jersey', 'Mexico'], dtype='object')\n",
      "4 Cluster:Index(['Argentina', 'Austria', 'Belgium', 'Brazil', 'Bulgaria', 'Denmark',\n",
      "       'Egypt', 'Finland', 'France', 'Germany', 'Greece', 'Hungary', 'Iraq',\n",
      "       'Ireland', 'Italy', 'Netherlands', 'Norway', 'Poland', 'Portugal',\n",
      "       'Romania', 'Spain', 'Sweden', 'Switzerland'],\n",
      "      dtype='object')\n"
     ]
    }
   ],
   "source": [
    "for i in range(5):\n",
    "    print('{} Cluster:{}'.format(i, country_vec[country_vec['class'] == i].index))"
   ]
  },
  {
   "cell_type": "code",
   "execution_count": null,
   "metadata": {},
   "outputs": [],
   "source": []
  }
 ],
 "metadata": {
  "kernelspec": {
   "display_name": "Python 3",
   "language": "python",
   "name": "python3"
  },
  "language_info": {
   "codemirror_mode": {
    "name": "ipython",
    "version": 3
   },
   "file_extension": ".py",
   "mimetype": "text/x-python",
   "name": "python",
   "nbconvert_exporter": "python",
   "pygments_lexer": "ipython3",
   "version": "3.6.8"
  }
 },
 "nbformat": 4,
 "nbformat_minor": 4
}
