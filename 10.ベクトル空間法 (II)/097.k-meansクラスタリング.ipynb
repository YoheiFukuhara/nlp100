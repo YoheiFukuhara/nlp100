{
 "cells": [
  {
   "cell_type": "markdown",
   "metadata": {},
   "source": [
    "96の単語ベクトルに対して，k-meansクラスタリングをクラスタ数k=5として実行せよ．"
   ]
  },
  {
   "cell_type": "code",
   "execution_count": 1,
   "metadata": {},
   "outputs": [],
   "source": [
    "import pandas as pd\n",
    "from sklearn.cluster import KMeans"
   ]
  },
  {
   "cell_type": "code",
   "execution_count": 2,
   "metadata": {},
   "outputs": [
    {
     "name": "stdout",
     "output_type": "stream",
     "text": [
      "<class 'pandas.core.frame.DataFrame'>\n",
      "Index: 238 entries, American_Samoa to Zimbabwe\n",
      "Columns: 300 entries, 0 to 299\n",
      "dtypes: float64(300)\n",
      "memory usage: 559.7+ KB\n",
      "None\n"
     ]
    }
   ],
   "source": [
    "country_vec = pd.read_pickle('./096.country_vector.zip')\n",
    "print(country_vec.info())"
   ]
  },
  {
   "cell_type": "code",
   "execution_count": 3,
   "metadata": {},
   "outputs": [],
   "source": [
    "# K-Meansクラスタリング\n",
    "country_vec['class'] = KMeans(n_clusters=5).fit_predict(country_vec)"
   ]
  },
  {
   "cell_type": "code",
   "execution_count": 4,
   "metadata": {},
   "outputs": [
    {
     "name": "stdout",
     "output_type": "stream",
     "text": [
      "0 Cluster:Index(['New_Zealand', 'United_Kingdom', 'United_States', 'Australia', 'Canada',\n",
      "       'China', 'India', 'Israel', 'Japan', 'Pakistan', 'Philippines',\n",
      "       'Singapore'],\n",
      "      dtype='object')\n",
      "1 Cluster:Index(['American_Samoa', 'Antigua_and_Barbuda', 'Bosnia_and_Herzegovina',\n",
      "       'Burkina_Faso', 'Cabo_Verde', 'Cayman_Islands',\n",
      "       'Central_African_Republic', 'Christmas_Island', 'Keeling_Islands',\n",
      "       'Cocos_Islands',\n",
      "       ...\n",
      "       'Tokelau', 'Tonga', 'Tunisia', 'Turkmenistan', 'Tuvalu', 'Uzbekistan',\n",
      "       'Vanuatu', 'Yemen', 'Zambia', 'Zimbabwe'],\n",
      "      dtype='object', length=152)\n",
      "2 Cluster:Index(['Argentina', 'Austria', 'Belgium', 'Brazil', 'Bulgaria', 'Denmark',\n",
      "       'Egypt', 'Finland', 'France', 'Germany', 'Greece', 'Hungary', 'Ireland',\n",
      "       'Italy', 'Netherlands', 'Norway', 'Poland', 'Portugal', 'Romania',\n",
      "       'Spain', 'Sweden', 'Switzerland'],\n",
      "      dtype='object')\n",
      "3 Cluster:Index(['Guinea', 'Jersey', 'Mexico'], dtype='object')\n",
      "4 Cluster:Index(['Czech_Republic', 'Hong_Kong', 'People's_Republic_of_China',\n",
      "       'Puerto_Rico', 'South_Africa', 'Sri_Lanka', 'Great_Britain',\n",
      "       'Northern_Ireland', 'Afghanistan', 'Albania', 'Algeria', 'Angola',\n",
      "       'Armenia', 'Azerbaijan', 'Bangladesh', 'Cambodia', 'Chile', 'Colombia',\n",
      "       'Croatia', 'Cuba', 'Cyprus', 'Ethiopia', 'Fiji', 'Georgia', 'Ghana',\n",
      "       'Iceland', 'Indonesia', 'Iraq', 'Kenya', 'Latvia', 'Lebanon', 'Libya',\n",
      "       'Lithuania', 'Malaysia', 'Malta', 'Mongolia', 'Morocco', 'Nepal',\n",
      "       'Nigeria', 'Panama', 'Peru', 'Serbia', 'Slovakia', 'Sudan', 'Thailand',\n",
      "       'Turkey', 'Uganda', 'Ukraine', 'Uruguay'],\n",
      "      dtype='object')\n"
     ]
    }
   ],
   "source": [
    "for i in range(5):\n",
    "    print('{} Cluster:{}'.format(i, country_vec[country_vec['class'] == i].index))"
   ]
  },
  {
   "cell_type": "code",
   "execution_count": null,
   "metadata": {},
   "outputs": [],
   "source": []
  }
 ],
 "metadata": {
  "kernelspec": {
   "display_name": "Python 3",
   "language": "python",
   "name": "python3"
  },
  "language_info": {
   "codemirror_mode": {
    "name": "ipython",
    "version": 3
   },
   "file_extension": ".py",
   "mimetype": "text/x-python",
   "name": "python",
   "nbconvert_exporter": "python",
   "pygments_lexer": "ipython3",
   "version": "3.6.8"
  }
 },
 "nbformat": 4,
 "nbformat_minor": 4
}
