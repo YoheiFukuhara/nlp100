{
 "cells": [
  {
   "cell_type": "markdown",
   "metadata": {},
   "source": [
    "92で作ったデータを用い，各モデルのアナロジータスクの正解率を求めよ．"
   ]
  },
  {
   "cell_type": "code",
   "execution_count": 1,
   "metadata": {},
   "outputs": [],
   "source": [
    "import pandas as pd"
   ]
  },
  {
   "cell_type": "code",
   "execution_count": 1,
   "metadata": {},
   "outputs": [],
   "source": [
    "def calc_accuracy(file):\n",
    "    df = pd.read_table(file, header=None, usecols=[3, 4, 5], names=['word4', 'result', 'similarity'])\n",
    "    print(df.info())\n",
    "    print('Total records:', len(df))\n",
    "    print('Available records:', (df['similarity'] != -1).sum())\n",
    "    print('Correct records:', (df['word4'] == df['result']).sum())\n",
    "    print('Accuracy', (df['word4'] == df['result']).sum() / (df['similarity'] != -1).sum())"
   ]
  },
  {
   "cell_type": "code",
   "execution_count": 2,
   "metadata": {},
   "outputs": [
    {
     "name": "stdout",
     "output_type": "stream",
     "text": [
      "<class 'pandas.core.frame.DataFrame'>\n",
      "RangeIndex: 506 entries, 0 to 505\n",
      "Data columns (total 3 columns):\n",
      "word4         506 non-null object\n",
      "result        462 non-null object\n",
      "similarity    504 non-null float64\n",
      "dtypes: float64(1), object(2)\n",
      "memory usage: 12.0+ KB\n",
      "None\n",
      "Total records: 506\n",
      "Available records: 462\n",
      "Correct records: 114\n",
      "Accuracy 0.24675324675324675\n"
     ]
    }
   ],
   "source": [
    "calc_accuracy('092.analogy_word2vec_1.txt')"
   ]
  },
  {
   "cell_type": "code",
   "execution_count": 3,
   "metadata": {},
   "outputs": [
    {
     "name": "stdout",
     "output_type": "stream",
     "text": [
      "<class 'pandas.core.frame.DataFrame'>\n",
      "RangeIndex: 506 entries, 0 to 505\n",
      "Data columns (total 3 columns):\n",
      "word4         506 non-null object\n",
      "result        400 non-null object\n",
      "similarity    506 non-null float64\n",
      "dtypes: float64(1), object(2)\n",
      "memory usage: 12.0+ KB\n",
      "None\n",
      "Total records: 506\n",
      "Available records: 400\n",
      "Correct records: 231\n",
      "Accuracy 0.5775\n"
     ]
    }
   ],
   "source": [
    "calc_accuracy('092.analogy_word2vec_2.txt')"
   ]
  },
  {
   "cell_type": "code",
   "execution_count": null,
   "metadata": {},
   "outputs": [],
   "source": []
  }
 ],
 "metadata": {
  "kernelspec": {
   "display_name": "Python 3",
   "language": "python",
   "name": "python3"
  },
  "language_info": {
   "codemirror_mode": {
    "name": "ipython",
    "version": 3
   },
   "file_extension": ".py",
   "mimetype": "text/x-python",
   "name": "python",
   "nbconvert_exporter": "python",
   "pygments_lexer": "ipython3",
   "version": "3.6.8"
  }
 },
 "nbformat": 4,
 "nbformat_minor": 4
}
