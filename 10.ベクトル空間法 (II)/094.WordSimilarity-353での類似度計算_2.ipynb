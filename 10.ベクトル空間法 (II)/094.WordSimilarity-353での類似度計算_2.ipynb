{
 "cells": [
  {
   "cell_type": "markdown",
   "metadata": {},
   "source": [
    "[The WordSimilarity-353 Test Collection](http://www.cs.technion.ac.il/~gabr/resources/data/wordsim353/)の評価データを入力とし，1列目と2列目の単語の類似度を計算し，各行の末尾に類似度の値を追加するプログラムを作成せよ．このプログラムを85で作成した単語ベクトル，90で作成した単語ベクトルに対して適用せよ．"
   ]
  },
  {
   "cell_type": "code",
   "execution_count": 1,
   "metadata": {},
   "outputs": [],
   "source": [
    "import csv\n",
    "\n",
    "import numpy as np\n",
    "from gensim.models import Word2Vec"
   ]
  },
  {
   "cell_type": "code",
   "execution_count": 2,
   "metadata": {},
   "outputs": [
    {
     "name": "stdout",
     "output_type": "stream",
     "text": [
      "Word2Vec(vocab=85456, size=300, alpha=0.025)\n",
      "CPU times: user 830 ms, sys: 614 ms, total: 1.44 s\n",
      "Wall time: 1.45 s\n"
     ]
    }
   ],
   "source": [
    "%%time\n",
    "model = Word2Vec.load('./090.word2vec.model')\n",
    "\n",
    "print(model)"
   ]
  },
  {
   "cell_type": "code",
   "execution_count": 3,
   "metadata": {},
   "outputs": [],
   "source": [
    "# コサイン類似度計算\n",
    "def get_cos_similarity(line):\n",
    "       \n",
    "    try:    \n",
    "        v1 = model.wv[line[0]]\n",
    "        v2 = model.wv[line[1]]\n",
    "\n",
    "        # ベクトルが全てゼロの場合は-1を返す\n",
    "        if  np.count_nonzero(v1) == 0 \\\n",
    "         or np.count_nonzero(v2) == 0:\n",
    "            line.extend([-1])\n",
    "        else:\n",
    "            line.extend([np.dot(v1, v2) / (np.linalg.norm(v1) * np.linalg.norm(v2))])\n",
    "    except KeyError:\n",
    "        line.extend([-1])\n",
    "    return line"
   ]
  },
  {
   "cell_type": "code",
   "execution_count": 4,
   "metadata": {},
   "outputs": [
    {
     "name": "stdout",
     "output_type": "stream",
     "text": [
      "CPU times: user 28.1 ms, sys: 19.4 ms, total: 47.5 ms\n",
      "Wall time: 77.8 ms\n"
     ]
    }
   ],
   "source": [
    "%%time\n",
    "# 評価データ読み込み\n",
    "with open('./combined.tab') as file_in:\n",
    "    reader = csv.reader(file_in, delimiter='\\t')\n",
    "    header = next(reader)\n",
    "    \n",
    "    result = [get_cos_similarity(line) for line in reader]"
   ]
  },
  {
   "cell_type": "code",
   "execution_count": 5,
   "metadata": {},
   "outputs": [],
   "source": [
    "with open('094.combine_2.txt', 'w') as file_out:\n",
    "    writer = csv.writer(file_out, delimiter='\\t', lineterminator='\\n')\n",
    "    writer.writerows(result)"
   ]
  },
  {
   "cell_type": "code",
   "execution_count": null,
   "metadata": {},
   "outputs": [],
   "source": []
  }
 ],
 "metadata": {
  "kernelspec": {
   "display_name": "Python 3",
   "language": "python",
   "name": "python3"
  },
  "language_info": {
   "codemirror_mode": {
    "name": "ipython",
    "version": 3
   },
   "file_extension": ".py",
   "mimetype": "text/x-python",
   "name": "python",
   "nbconvert_exporter": "python",
   "pygments_lexer": "ipython3",
   "version": "3.6.8"
  }
 },
 "nbformat": 4,
 "nbformat_minor": 4
}
