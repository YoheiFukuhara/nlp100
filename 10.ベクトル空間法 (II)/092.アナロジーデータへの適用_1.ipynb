{
 "cells": [
  {
   "cell_type": "markdown",
   "metadata": {},
   "source": [
    "91で作成した評価データの各事例に対して，vec(2列目の単語) - vec(1列目の単語) + vec(3列目の単語)を計算し，そのベクトルと類似度が最も高い単語と，その類似度を求めよ．求めた単語と類似度は，各事例の末尾に追記せよ．このプログラムを85で作成した単語ベクトル，90で作成した単語ベクトルに対して適用せよ．"
   ]
  },
  {
   "cell_type": "code",
   "execution_count": 1,
   "metadata": {},
   "outputs": [],
   "source": [
    "import csv\n",
    "\n",
    "import numpy as np\n",
    "import pandas as pd"
   ]
  },
  {
   "cell_type": "code",
   "execution_count": 2,
   "metadata": {},
   "outputs": [
    {
     "name": "stdout",
     "output_type": "stream",
     "text": [
      "matrix_x300 Shape: (388836, 300)\n"
     ]
    }
   ],
   "source": [
    "# 保存時に引数を指定しなかったので'arr_0'に格納されている\n",
    "matrix_x300 = np.load('./../09.ベクトル空間法 (I)/085.matrix_x300.npz')['arr_0']\n",
    "\n",
    "print('matrix_x300 Shape:', matrix_x300.shape)"
   ]
  },
  {
   "cell_type": "code",
   "execution_count": 3,
   "metadata": {},
   "outputs": [],
   "source": [
    "group_t = pd.read_pickle('./../09.ベクトル空間法 (I)/083_group_t.zip')"
   ]
  },
  {
   "cell_type": "code",
   "execution_count": 4,
   "metadata": {},
   "outputs": [],
   "source": [
    "# コサイン類似度計算\n",
    "def get_cos_similarity(v1, v1_norm, v2):\n",
    "    \n",
    "    # ベクトルが全てゼロの場合は-1を返す\n",
    "    if np.count_nonzero(v2) == 0:\n",
    "        return -1\n",
    "    else:\n",
    "        return np.dot(v1, v2) / (v1_norm * np.linalg.norm(v2))"
   ]
  },
  {
   "cell_type": "code",
   "execution_count": 5,
   "metadata": {},
   "outputs": [],
   "source": [
    "# 類似度が高い単語取得\n",
    "def get_similar_word(cols):\n",
    "    \n",
    "    try:        \n",
    "        vec = matrix_x300[group_t.index.get_loc(cols[1])] \\\n",
    "              - matrix_x300[group_t.index.get_loc(cols[0])] \\\n",
    "              + matrix_x300[group_t.index.get_loc(cols[2])]\n",
    "        vec_norm = np.linalg.norm(vec)\n",
    "        \n",
    "        # 計算に使った自身の3単語は除外\n",
    "        cos_sim = [-1 if group_t.index[i] in cols[:3] else get_cos_similarity(vec, vec_norm, matrix_x300[i]) for i in range(len(group_t))]\n",
    "        index = np.argmax(cos_sim)\n",
    "        \n",
    "        cols.extend([group_t.index[index], cos_sim[index]])\n",
    "        \n",
    "    except KeyError:\n",
    "        cols.extend(['', -1])\n",
    "    return cols"
   ]
  },
  {
   "cell_type": "code",
   "execution_count": 6,
   "metadata": {},
   "outputs": [
    {
     "name": "stderr",
     "output_type": "stream",
     "text": [
      "/home/i348221/Apps/python/venv/py36/lib/python3.6/site-packages/ipykernel_launcher.py:8: RuntimeWarning: invalid value encountered in double_scalars\n",
      "  \n"
     ]
    },
    {
     "name": "stdout",
     "output_type": "stream",
     "text": [
      "CPU times: user 15min 49s, sys: 10.4 s, total: 15min 59s\n",
      "Wall time: 16min 41s\n"
     ]
    }
   ],
   "source": [
    "%%time\n",
    "# 評価データ読み込み\n",
    "with open('./091.analogy_family.txt') as file_in:\n",
    "    result = [get_similar_word(line.split()) for line in file_in]"
   ]
  },
  {
   "cell_type": "code",
   "execution_count": 7,
   "metadata": {},
   "outputs": [],
   "source": [
    "with open('092.analogy_word2vec_1.txt', 'w') as file_out:\n",
    "    writer = csv.writer(file_out, delimiter='\\t', lineterminator='\\n')\n",
    "    writer.writerows(result)"
   ]
  },
  {
   "cell_type": "code",
   "execution_count": null,
   "metadata": {},
   "outputs": [],
   "source": []
  }
 ],
 "metadata": {
  "kernelspec": {
   "display_name": "Python 3",
   "language": "python",
   "name": "python3"
  },
  "language_info": {
   "codemirror_mode": {
    "name": "ipython",
    "version": 3
   },
   "file_extension": ".py",
   "mimetype": "text/x-python",
   "name": "python",
   "nbconvert_exporter": "python",
   "pygments_lexer": "ipython3",
   "version": "3.6.8"
  }
 },
 "nbformat": 4,
 "nbformat_minor": 4
}
