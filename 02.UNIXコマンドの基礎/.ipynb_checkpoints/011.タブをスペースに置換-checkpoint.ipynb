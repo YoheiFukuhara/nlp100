{
 "cells": [
  {
   "cell_type": "markdown",
   "metadata": {},
   "source": [
    "タブ1文字につきスペース1文字に置換せよ．確認にはsedコマンド，trコマンド，もしくはexpandコマンドを用いよ．"
   ]
  },
  {
   "cell_type": "code",
   "execution_count": 5,
   "metadata": {},
   "outputs": [],
   "source": [
    "with open('./hightemp.txt') as f:\n",
    "    replaced = [line.replace('\\t', ' ')for line in f]"
   ]
  },
  {
   "cell_type": "code",
   "execution_count": 6,
   "metadata": {},
   "outputs": [
    {
     "data": {
      "text/plain": [
       "['高知県 江川崎 41 2013-08-12\\n',\n",
       " '埼玉県 熊谷 40.9 2007-08-16\\n',\n",
       " '岐阜県 多治見 40.9 2007-08-16\\n',\n",
       " '山形県 山形 40.8 1933-07-25\\n',\n",
       " '山梨県 甲府 40.7 2013-08-10\\n',\n",
       " '和歌山県 かつらぎ 40.6 1994-08-08\\n',\n",
       " '静岡県 天竜 40.6 1994-08-04\\n',\n",
       " '山梨県 勝沼 40.5 2013-08-10\\n',\n",
       " '埼玉県 越谷 40.4 2007-08-16\\n',\n",
       " '群馬県 館林 40.3 2007-08-16\\n',\n",
       " '群馬県 上里見 40.3 1998-07-04\\n',\n",
       " '愛知県 愛西 40.3 1994-08-05\\n',\n",
       " '千葉県 牛久 40.2 2004-07-20\\n',\n",
       " '静岡県 佐久間 40.2 2001-07-24\\n',\n",
       " '愛媛県 宇和島 40.2 1927-07-22\\n',\n",
       " '山形県 酒田 40.1 1978-08-03\\n',\n",
       " '岐阜県 美濃 40 2007-08-16\\n',\n",
       " '群馬県 前橋 40 2001-07-24\\n',\n",
       " '千葉県 茂原 39.9 2013-08-11\\n',\n",
       " '埼玉県 鳩山 39.9 1997-07-05\\n',\n",
       " '大阪府 豊中 39.9 1994-08-08\\n',\n",
       " '山梨県 大月 39.9 1990-07-19\\n',\n",
       " '山形県 鶴岡 39.9 1978-08-03\\n',\n",
       " '愛知県 名古屋 39.9 1942-08-02\\n']"
      ]
     },
     "execution_count": 6,
     "metadata": {},
     "output_type": "execute_result"
    }
   ],
   "source": [
    "replaced"
   ]
  },
  {
   "cell_type": "code",
   "execution_count": null,
   "metadata": {},
   "outputs": [],
   "source": []
  }
 ],
 "metadata": {
  "kernelspec": {
   "display_name": "Python 3",
   "language": "python",
   "name": "python3"
  },
  "language_info": {
   "codemirror_mode": {
    "name": "ipython",
    "version": 3
   },
   "file_extension": ".py",
   "mimetype": "text/x-python",
   "name": "python",
   "nbconvert_exporter": "python",
   "pygments_lexer": "ipython3",
   "version": "3.6.8"
  }
 },
 "nbformat": 4,
 "nbformat_minor": 4
}
