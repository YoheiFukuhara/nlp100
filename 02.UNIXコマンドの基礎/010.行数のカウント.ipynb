{
 "cells": [
  {
   "cell_type": "markdown",
   "metadata": {},
   "source": [
    "行数をカウントせよ．確認にはwcコマンドを用いよ．"
   ]
  },
  {
   "cell_type": "code",
   "execution_count": 1,
   "metadata": {},
   "outputs": [
    {
     "name": "stdout",
     "output_type": "stream",
     "text": [
      "24\n"
     ]
    }
   ],
   "source": [
    "print(len(open('./hightemp.txt').readlines()))"
   ]
  },
  {
   "cell_type": "code",
   "execution_count": 2,
   "metadata": {},
   "outputs": [
    {
     "name": "stdout",
     "output_type": "stream",
     "text": [
      "24 hightemp.txt\n"
     ]
    }
   ],
   "source": [
    "!wc hightemp.txt -l"
   ]
  },
  {
   "cell_type": "code",
   "execution_count": 3,
   "metadata": {},
   "outputs": [
    {
     "name": "stdout",
     "output_type": "stream",
     "text": [
      "WC(1)                            User Commands                           WC(1)\n",
      "\n",
      "NAME\n",
      "       wc - print newline, word, and byte counts for each file\n",
      "\n",
      "SYNOPSIS\n",
      "       wc [OPTION]... [FILE]...\n",
      "       wc [OPTION]... --files0-from=F\n",
      "\n",
      "DESCRIPTION\n",
      "       Print newline, word, and byte counts for each FILE, and a total line if\n",
      "       more than one FILE is specified.  A word is a non-zero-length  sequence\n",
      "       of characters delimited by white space.\n",
      "\n",
      "       With no FILE, or when FILE is -, read standard input.\n",
      "\n",
      "       The  options  below  may  be  used  to select which counts are printed,\n",
      "       always in the following order: newline, word, character, byte,  maximum\n",
      "       line length.\n",
      "\n",
      "       -c, --bytes\n",
      "              print the byte counts\n",
      "\n",
      "       -m, --chars\n",
      "              print the character counts\n",
      "\n",
      "       -l, --lines\n",
      "              print the newline counts\n",
      "\n",
      "       --files0-from=F\n",
      "              read  input  from the files specified by NUL-terminated names in\n",
      "              file F; If F is - then read names from standard input\n",
      "\n",
      "       -L, --max-line-length\n",
      "              print the maximum display width\n",
      "\n",
      "       -w, --words\n",
      "              print the word counts\n",
      "\n",
      "       --help display this help and exit\n",
      "\n",
      "       --version\n",
      "              output version information and exit\n",
      "\n",
      "AUTHOR\n",
      "       Written by Paul Rubin and David MacKenzie.\n",
      "\n",
      "REPORTING BUGS\n",
      "       GNU coreutils online help: <http://www.gnu.org/software/coreutils/>\n",
      "       Report wc translation bugs to <http://translationproject.org/team/>\n",
      "\n",
      "COPYRIGHT\n",
      "       Copyright © 2017 Free Software Foundation, Inc.   License  GPLv3+:  GNU\n",
      "       GPL version 3 or later <http://gnu.org/licenses/gpl.html>.\n",
      "       This  is  free  software:  you  are free to change and redistribute it.\n",
      "       There is NO WARRANTY, to the extent permitted by law.\n",
      "\n",
      "SEE ALSO\n",
      "       Full documentation at: <http://www.gnu.org/software/coreutils/wc>\n",
      "       or available locally via: info '(coreutils) wc invocation'\n",
      "\n",
      "GNU coreutils 8.28               January 2018                            WC(1)\n"
     ]
    }
   ],
   "source": [
    "!man wc"
   ]
  },
  {
   "cell_type": "code",
   "execution_count": null,
   "metadata": {},
   "outputs": [],
   "source": []
  }
 ],
 "metadata": {
  "kernelspec": {
   "display_name": "Python 3",
   "language": "python",
   "name": "python3"
  },
  "language_info": {
   "codemirror_mode": {
    "name": "ipython",
    "version": 3
   },
   "file_extension": ".py",
   "mimetype": "text/x-python",
   "name": "python",
   "nbconvert_exporter": "python",
   "pygments_lexer": "ipython3",
   "version": "3.6.8"
  }
 },
 "nbformat": 4,
 "nbformat_minor": 4
}
