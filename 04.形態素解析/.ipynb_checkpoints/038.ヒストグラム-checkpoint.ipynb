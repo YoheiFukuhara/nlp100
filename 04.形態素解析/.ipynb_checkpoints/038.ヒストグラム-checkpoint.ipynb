{
 "cells": [
  {
   "cell_type": "markdown",
   "metadata": {},
   "source": [
    "単語の出現頻度のヒストグラム（横軸に出現頻度，縦軸に出現頻度をとる単語の種類数を棒グラフで表したもの）を描け．"
   ]
  },
  {
   "cell_type": "code",
   "execution_count": 1,
   "metadata": {},
   "outputs": [],
   "source": [
    "import pandas as pd\n",
    "import re\n",
    "import matplotlib"
   ]
  },
  {
   "cell_type": "code",
   "execution_count": 2,
   "metadata": {},
   "outputs": [
    {
     "name": "stdout",
     "output_type": "stream",
     "text": [
      "(10001, 5)\n"
     ]
    }
   ],
   "source": [
    "count_sentence = 1\n",
    "neko_df = pd.DataFrame(index=[], columns=['sentence','surface','base','pos','pos1'])\n",
    "\n",
    "with open('./neko.txt.mecab', encoding='utf-8') as neko_base:\n",
    "    for i, neko_line in enumerate(neko_base):\n",
    "        neko_word = re.split(',|\\t', neko_line)\n",
    "\n",
    "#記号があると名詞連接に記号をはさんでいるかがわかりにくいのでIF文除去\n",
    "#        if neko_word[1] != '記号':\n",
    "        neko_s = pd.Series([count_sentence, neko_word[0], neko_word[7], neko_word[1], neko_word[2]], index = neko_df.columns)\n",
    "        neko_df = neko_df.append(neko_s, ignore_index = True)\n",
    "\n",
    "        if neko_word[2] == '句点':\n",
    "            count_sentence = count_sentence + 1\n",
    "        \n",
    "        #多いので制限\n",
    "        if i == 1000:\n",
    "            break\n",
    "print(neko_df.shape)"
   ]
  },
  {
   "cell_type": "code",
   "execution_count": 3,
   "metadata": {},
   "outputs": [
    {
     "name": "stdout",
     "output_type": "stream",
     "text": [
      "  sentence surface base  pos pos1\n",
      "0        1       一    一   名詞    数\n",
      "1        1       　    　   記号   空白\n",
      "2        1      吾輩   吾輩   名詞  代名詞\n",
      "3        1       は    は   助詞  係助詞\n",
      "4        1       猫    猫   名詞   一般\n",
      "5        1       で    だ  助動詞    *\n",
      "6        1      ある   ある  助動詞    *\n",
      "7        1       。    。   記号   句点\n",
      "8        2      名前   名前   名詞   一般\n",
      "9        2       は    は   助詞  係助詞\n"
     ]
    }
   ],
   "source": [
    "print(neko_df.head(10))"
   ]
  },
  {
   "cell_type": "code",
   "execution_count": 11,
   "metadata": {},
   "outputs": [
    {
     "data": {
      "text/plain": [
       "<matplotlib.axes._subplots.AxesSubplot at 0x255b4bc0cc0>"
      ]
     },
     "execution_count": 11,
     "metadata": {},
     "output_type": "execute_result"
    },
    {
     "data": {
      "image/png": "[encoded data removed]",
      "text/plain": [
       "<Figure size 432x288 with 1 Axes>"
      ]
     },
     "metadata": {},
     "output_type": "display_data"
    }
   ],
   "source": [
    "#少しだけ出現する単語が非常に多い\n",
    "neko_df['surface'].value_counts().plot.hist()"
   ]
  },
  {
   "cell_type": "code",
   "execution_count": 12,
   "metadata": {},
   "outputs": [
    {
     "data": {
      "text/plain": [
       "<matplotlib.axes._subplots.AxesSubplot at 0x255b4c8e780>"
      ]
     },
     "execution_count": 12,
     "metadata": {},
     "output_type": "execute_result"
    },
    {
     "data": {
      "image/png": "[encoded data removed]",
      "text/plain": [
       "<Figure size 432x288 with 1 Axes>"
      ]
     },
     "metadata": {},
     "output_type": "display_data"
    }
   ],
   "source": [
    "#100件くらいに絞ると見やすい\n",
    "neko_df['surface'].value_counts().head(100).plot.hist()"
   ]
  },
  {
   "cell_type": "code",
   "execution_count": null,
   "metadata": {},
   "outputs": [],
   "source": []
  }
 ],
 "metadata": {
  "kernelspec": {
   "display_name": "Python 3",
   "language": "python",
   "name": "python3"
  },
  "language_info": {
   "codemirror_mode": {
    "name": "ipython",
    "version": 3
   },
   "file_extension": ".py",
   "mimetype": "text/x-python",
   "name": "python",
   "nbconvert_exporter": "python",
   "pygments_lexer": "ipython3",
   "version": "3.6.5"
  }
 },
 "nbformat": 4,
 "nbformat_minor": 2
}
