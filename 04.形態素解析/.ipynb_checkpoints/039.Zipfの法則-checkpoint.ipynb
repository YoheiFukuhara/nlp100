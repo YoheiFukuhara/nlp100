{
 "cells": [
  {
   "cell_type": "markdown",
   "metadata": {},
   "source": [
    "単語の出現頻度順位を横軸，その出現頻度を縦軸として，両対数グラフをプロットせよ．"
   ]
  },
  {
   "cell_type": "code",
   "execution_count": 55,
   "metadata": {},
   "outputs": [],
   "source": [
    "import pandas as pd\n",
    "import re\n",
    "import matplotlib.pyplot as plt"
   ]
  },
  {
   "cell_type": "code",
   "execution_count": 2,
   "metadata": {},
   "outputs": [
    {
     "name": "stdout",
     "output_type": "stream",
     "text": [
      "(10001, 5)\n"
     ]
    }
   ],
   "source": [
    "count_sentence = 1\n",
    "neko_df = pd.DataFrame(index=[], columns=['sentence','surface','base','pos','pos1'])\n",
    "\n",
    "with open('./neko.txt.mecab', encoding='utf-8') as neko_base:\n",
    "    for i, neko_line in enumerate(neko_base):\n",
    "        neko_word = re.split(',|\\t', neko_line)\n",
    "\n",
    "# 記号除去しない\n",
    "#        if neko_word[1] != '記号':\n",
    "        neko_s = pd.Series([count_sentence, neko_word[0], neko_word[7], neko_word[1], neko_word[2]], index = neko_df.columns)\n",
    "        neko_df = neko_df.append(neko_s, ignore_index = True)\n",
    "\n",
    "        if neko_word[2] == '句点':\n",
    "            count_sentence = count_sentence + 1\n",
    "        \n",
    "        #多いので制限\n",
    "        if i == 10000:\n",
    "            break\n",
    "print(neko_df.shape)"
   ]
  },
  {
   "cell_type": "code",
   "execution_count": 3,
   "metadata": {},
   "outputs": [
    {
     "name": "stdout",
     "output_type": "stream",
     "text": [
      "  sentence surface base  pos pos1\n",
      "0        1       一    一   名詞    数\n",
      "1        1       　    　   記号   空白\n",
      "2        1      吾輩   吾輩   名詞  代名詞\n",
      "3        1       は    は   助詞  係助詞\n",
      "4        1       猫    猫   名詞   一般\n",
      "5        1       で    だ  助動詞    *\n",
      "6        1      ある   ある  助動詞    *\n",
      "7        1       。    。   記号   句点\n",
      "8        2      名前   名前   名詞   一般\n",
      "9        2       は    は   助詞  係助詞\n"
     ]
    }
   ],
   "source": [
    "print(neko_df.head(10))"
   ]
  },
  {
   "cell_type": "code",
   "execution_count": 58,
   "metadata": {},
   "outputs": [
    {
     "data": {
      "text/plain": [
       "<matplotlib.collections.PathCollection at 0x27f1ce1d5c0>"
      ]
     },
     "execution_count": 58,
     "metadata": {},
     "output_type": "execute_result"
    },
    {
     "data": {
      "image/png": "[encoded data removed]",
      "text/plain": [
       "<Figure size 432x288 with 1 Axes>"
      ]
     },
     "metadata": {},
     "output_type": "display_data"
    }
   ],
   "source": [
    "plt.xscale('log')\n",
    "plt.yscale('log')\n",
    "\n",
    "plt.scatter(x = neko_df['surface'].value_counts().values.tolist(), y = range(1, len(test) + 1))"
   ]
  },
  {
   "cell_type": "code",
   "execution_count": null,
   "metadata": {},
   "outputs": [],
   "source": []
  }
 ],
 "metadata": {
  "kernelspec": {
   "display_name": "Python 3",
   "language": "python",
   "name": "python3"
  },
  "language_info": {
   "codemirror_mode": {
    "name": "ipython",
    "version": 3
   },
   "file_extension": ".py",
   "mimetype": "text/x-python",
   "name": "python",
   "nbconvert_exporter": "python",
   "pygments_lexer": "ipython3",
   "version": "3.6.5"
  }
 },
 "nbformat": 4,
 "nbformat_minor": 2
}
