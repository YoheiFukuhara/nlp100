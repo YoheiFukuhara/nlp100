{
 "cells": [
  {
   "cell_type": "markdown",
   "metadata": {
    "colab_type": "text",
    "id": "uT80IBWh_RyE"
   },
   "source": [
    "名詞の連接（連続して出現する名詞）を最長一致で抽出せよ．"
   ]
  },
  {
   "cell_type": "code",
   "execution_count": 1,
   "metadata": {
    "colab": {
     "autoexec": {
      "startup": false,
      "wait_interval": 0
     }
    },
    "colab_type": "code",
    "id": "y-ivZ1-l_d41"
   },
   "outputs": [],
   "source": [
    "import pandas as pd"
   ]
  },
  {
   "cell_type": "code",
   "execution_count": 2,
   "metadata": {
    "colab": {
     "autoexec": {
      "startup": false,
      "wait_interval": 0
     },
     "base_uri": "https://localhost:8080/",
     "height": 78
    },
    "colab_type": "code",
    "id": "Ql2gCPcX_i06",
    "outputId": "fe130220-3118-40d8-d0fc-b1be3996a583"
   },
   "outputs": [],
   "source": [
    "def read_text():\n",
    "    # 0:表層形(surface)\n",
    "    # 1:品詞(pos)\n",
    "    # 2:品詞細分類1(pos1)\n",
    "    # 7:基本形(base)\n",
    "    df = pd.read_table('./neko.txt.mecab', sep='\\t|,', header=None, \n",
    "                       usecols=[0, 1, 2, 7], names=['surface', 'pos', 'pos1', 'base'], \n",
    "                       skiprows=4, skipfooter=1 ,engine='python')\n",
    "    return df[df['pos'] == '名詞']"
   ]
  },
  {
   "cell_type": "code",
   "execution_count": 3,
   "metadata": {
    "colab": {
     "autoexec": {
      "startup": false,
      "wait_interval": 0
     }
    },
    "colab_type": "code",
    "id": "s2cj3OSwXnrj"
   },
   "outputs": [],
   "source": [
    "df = read_text()"
   ]
  },
  {
   "cell_type": "code",
   "execution_count": 4,
   "metadata": {},
   "outputs": [
    {
     "name": "stdout",
     "output_type": "stream",
     "text": [
      "2 \t 28 \t した所\n",
      "2 \t 66 \t 人間中\n",
      "2 \t 69 \t 一番獰悪\n",
      "2 \t 172 \t 時妙\n",
      "2 \t 190 \t 一毛\n",
      "2 \t 209 \t その後猫\n",
      "2 \t 222 \t 一度\n",
      "2 \t 688 \t 邸内\n",
      "2 \t 860 \t 書生以外\n",
      "3 \t 1001 \t 四五遍\n",
      "2 \t 1028 \t この間おさん\n",
      "2 \t 1031 \t 三馬\n",
      "2 \t 1106 \t 御台所\n",
      "2 \t 1150 \t まま奥\n",
      "2 \t 1235 \t 終日書斎\n",
      "2 \t 1255 \t 勉強家\n",
      "2 \t 1266 \t 勉強家\n",
      "2 \t 1288 \t 勤勉家\n",
      "3 \t 1392 \t 二三ページ\n",
      "2 \t 1515 \t 主人以外\n",
      "2 \t 1581 \t 限り吾輩\n",
      "2 \t 1599 \t 朝主人\n",
      "2 \t 1690 \t 一番心持\n",
      "2 \t 1733 \t 一つ床\n",
      "2 \t 1781 \t 最後大変\n",
      "3 \t 1829 \t 神経胃弱性\n",
      "2 \t 1913 \t 言語同断\n",
      "2 \t 1961 \t しようもの\n",
      "3 \t 1965 \t 家内総がかり\n"
     ]
    }
   ],
   "source": [
    "nouns = []\n",
    "for index in df['surface'].index:\n",
    "    nouns.append(df['surface'][index])\n",
    "    \n",
    "    # ひとつ先のインデックスがない場合は名詞連接の終端\n",
    "    if (index + 1) not in df.index:\n",
    "        \n",
    "        # 複数(連接)の場合\n",
    "        if len(nouns) > 1:\n",
    "            print(len(nouns), '\\t', index, '\\t', ''.join(nouns))\n",
    "        nouns = []\n",
    "    \n",
    "    # 多いので制限\n",
    "    if index > 2000:\n",
    "        break"
   ]
  },
  {
   "cell_type": "code",
   "execution_count": null,
   "metadata": {
    "colab": {
     "autoexec": {
      "startup": false,
      "wait_interval": 0
     }
    },
    "colab_type": "code",
    "id": "mMsx2kjOTYRL"
   },
   "outputs": [],
   "source": []
  }
 ],
 "metadata": {
  "colab": {
   "collapsed_sections": [],
   "default_view": {},
   "name": "035.名詞の連接.ipynb",
   "provenance": [
    {
     "file_id": "1PxJW1ykhSKRKQdF01CB9rNq-AQ0dWCae",
     "timestamp": 1532010164731
    },
    {
     "file_id": "1Did_tcUOZKQpjOrd2tny3Fb6I6yQxMCI",
     "timestamp": 1531863368559
    },
    {
     "file_id": "1NXyP-YSHrhtu4NyYwTxFJ5dfVyADTxHu",
     "timestamp": 1531862903771
    },
    {
     "file_id": "1i9CCycHbIxCBTEeo7KxcrkImoP3IzjBh",
     "timestamp": 1531862742077
    },
    {
     "file_id": "1jxDCewZmxJbSwFG0y0mAx3VlLUPZ9Cw4",
     "timestamp": 1531727665219
    }
   ],
   "version": "0.3.2",
   "views": {}
  },
  "kernelspec": {
   "display_name": "Python 3",
   "language": "python",
   "name": "python3"
  },
  "language_info": {
   "codemirror_mode": {
    "name": "ipython",
    "version": 3
   },
   "file_extension": ".py",
   "mimetype": "text/x-python",
   "name": "python",
   "nbconvert_exporter": "python",
   "pygments_lexer": "ipython3",
   "version": "3.8.1"
  }
 },
 "nbformat": 4,
 "nbformat_minor": 4
}
