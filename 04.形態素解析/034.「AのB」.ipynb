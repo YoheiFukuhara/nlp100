{
 "cells": [
  {
   "cell_type": "markdown",
   "metadata": {
    "colab_type": "text",
    "id": "uT80IBWh_RyE"
   },
   "source": [
    "2つの名詞が「の」で連結されている名詞句を抽出せよ．"
   ]
  },
  {
   "cell_type": "code",
   "execution_count": 1,
   "metadata": {
    "colab": {
     "autoexec": {
      "startup": false,
      "wait_interval": 0
     }
    },
    "colab_type": "code",
    "id": "y-ivZ1-l_d41"
   },
   "outputs": [],
   "source": [
    "import pandas as pd"
   ]
  },
  {
   "cell_type": "code",
   "execution_count": 2,
   "metadata": {
    "colab": {
     "autoexec": {
      "startup": false,
      "wait_interval": 0
     },
     "base_uri": "https://localhost:8080/",
     "height": 73
    },
    "colab_type": "code",
    "executionInfo": {
     "elapsed": 181070,
     "status": "ok",
     "timestamp": 1532049826563,
     "user": {
      "displayName": "fuku2986",
      "photoUrl": "https://lh3.googleusercontent.com/a/default-user=s128",
      "userId": "111229342394766192341"
     },
     "user_tz": -540
    },
    "id": "Ql2gCPcX_i06",
    "outputId": "20a72d58-d0eb-4297-cce7-eed4caff535e"
   },
   "outputs": [],
   "source": [
    "def read_text():\n",
    "    # 0:表層形(surface)\n",
    "    # 1:品詞(pos)\n",
    "    # 2:品詞細分類1(pos1)\n",
    "    # 7:基本形(base)\n",
    "    df = pd.read_table('./neko.txt.mecab', sep='\\t|,', header=None, \n",
    "                       usecols=[0, 1, 2, 7], names=['surface', 'pos', 'pos1', 'base'], \n",
    "                       skiprows=4, skipfooter=1 ,engine='python')\n",
    "    # EOS, 記号, 空白を残す\n",
    "    return df"
   ]
  },
  {
   "cell_type": "code",
   "execution_count": 3,
   "metadata": {},
   "outputs": [],
   "source": [
    "df = read_text()"
   ]
  },
  {
   "cell_type": "code",
   "execution_count": 4,
   "metadata": {
    "colab": {
     "autoexec": {
      "startup": false,
      "wait_interval": 0
     }
    },
    "colab_type": "code",
    "id": "1Bum7nP62K0t"
   },
   "outputs": [],
   "source": [
    "POS_TARGET = '名詞'"
   ]
  },
  {
   "cell_type": "code",
   "execution_count": 5,
   "metadata": {},
   "outputs": [
    {
     "name": "stdout",
     "output_type": "stream",
     "text": [
      "彼の掌\n",
      "掌の上\n",
      "書生の顔\n",
      "はずの顔\n",
      "顔の真中\n",
      "穴の中\n",
      "書生の掌\n",
      "掌の裏\n",
      "何の事\n",
      "肝心の母親\n",
      "藁の上\n",
      "笹原の中\n",
      "ようやくの思い\n",
      "池の前\n",
      "ようやくの事\n",
      "一樹の蔭\n",
      "垣根の穴\n",
      "隣家の三毛\n",
      "時の通路\n",
      "一刻の猶予\n",
      "家の内\n",
      "彼の書生\n",
      "以外の人間\n",
      "前の書生\n",
      "おさんの隙\n",
      "おさんの三\n",
      "胸の痞\n",
      "家の主人\n",
      "主人の方\n",
      "鼻の下\n",
      "吾輩の顔\n",
      "自分の住家\n",
      "吾輩の主人\n",
      "家のもの\n",
      "うちのもの\n",
      "彼の書斎\n",
      "本の上\n",
      "皮膚の色\n",
      "本の上\n",
      "彼の毎夜\n",
      "以外のもの\n",
      "主人の傍\n",
      "彼の膝\n",
      "膝の上\n",
      "経験の上\n",
      "飯櫃の上\n",
      "炬燵の上\n",
      "ここのうち\n",
      "うちの小供\n",
      "小供の寝床\n",
      "彼等の中間\n",
      "小供の一人\n",
      "例の神経\n",
      "性の主人\n",
      "次の部屋\n",
      "自分の勝手\n",
      "吾輩の方\n",
      "台所の板の間\n"
     ]
    }
   ],
   "source": [
    "for index in df['surface'].index:\n",
    "    \n",
    "    # 1行目・最終行に特別なロジックなし\n",
    "    if df['surface'][index] == 'の' \\\n",
    "     and df['pos'][index-1] == POS_TARGET \\\n",
    "     and df['pos'][index+1] == POS_TARGET:\n",
    "        print(df['surface'][index-1] + 'の' + df['surface'][index+1])\n",
    "    \n",
    "    # 多いので制限\n",
    "    if index > 2000:\n",
    "        break"
   ]
  },
  {
   "cell_type": "code",
   "execution_count": null,
   "metadata": {
    "colab": {
     "autoexec": {
      "startup": false,
      "wait_interval": 0
     }
    },
    "colab_type": "code",
    "id": "7OWSaCvl6dHh"
   },
   "outputs": [],
   "source": []
  }
 ],
 "metadata": {
  "colab": {
   "collapsed_sections": [],
   "default_view": {},
   "name": "034.「AのB」.ipynb",
   "provenance": [
    {
     "file_id": "1Did_tcUOZKQpjOrd2tny3Fb6I6yQxMCI",
     "timestamp": 1531863368559
    },
    {
     "file_id": "1NXyP-YSHrhtu4NyYwTxFJ5dfVyADTxHu",
     "timestamp": 1531862903771
    },
    {
     "file_id": "1i9CCycHbIxCBTEeo7KxcrkImoP3IzjBh",
     "timestamp": 1531862742077
    },
    {
     "file_id": "1jxDCewZmxJbSwFG0y0mAx3VlLUPZ9Cw4",
     "timestamp": 1531727665219
    }
   ],
   "version": "0.3.2",
   "views": {}
  },
  "kernelspec": {
   "display_name": "Python 3",
   "language": "python",
   "name": "python3"
  },
  "language_info": {
   "codemirror_mode": {
    "name": "ipython",
    "version": 3
   },
   "file_extension": ".py",
   "mimetype": "text/x-python",
   "name": "python",
   "nbconvert_exporter": "python",
   "pygments_lexer": "ipython3",
   "version": "3.8.1"
  }
 },
 "nbformat": 4,
 "nbformat_minor": 4
}
