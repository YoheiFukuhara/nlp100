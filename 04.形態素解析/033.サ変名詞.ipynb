{
 "cells": [
  {
   "cell_type": "markdown",
   "metadata": {
    "colab_type": "text",
    "id": "uT80IBWh_RyE"
   },
   "source": [
    "サ変接続の名詞をすべて抽出せよ．"
   ]
  },
  {
   "cell_type": "code",
   "execution_count": 1,
   "metadata": {
    "colab": {
     "autoexec": {
      "startup": false,
      "wait_interval": 0
     }
    },
    "colab_type": "code",
    "id": "y-ivZ1-l_d41"
   },
   "outputs": [],
   "source": [
    "import pandas as pd"
   ]
  },
  {
   "cell_type": "code",
   "execution_count": 2,
   "metadata": {
    "colab": {
     "autoexec": {
      "startup": false,
      "wait_interval": 0
     },
     "base_uri": "https://localhost:8080/",
     "height": 43
    },
    "colab_type": "code",
    "executionInfo": {
     "elapsed": 23744,
     "status": "ok",
     "timestamp": 1531862820751,
     "user": {
      "displayName": "fuku2986",
      "photoUrl": "https://lh3.googleusercontent.com/a/default-user=s128",
      "userId": "111229342394766192341"
     },
     "user_tz": -540
    },
    "id": "Ql2gCPcX_i06",
    "outputId": "0c04a28c-97d7-444e-f68f-f9d49b4778e5"
   },
   "outputs": [],
   "source": [
    "def read_text():\n",
    "    # 0:表層形(surface)\n",
    "    # 1:品詞(pos)\n",
    "    # 2:品詞細分類1(pos1)\n",
    "    # 7:基本形(base)\n",
    "    df = pd.read_table('./neko.txt.mecab', sep='\\t|,', header=None, \n",
    "                       usecols=[0, 1, 2, 7], names=['surface', 'pos', 'pos1', 'base'], \n",
    "                       skiprows=4, skipfooter=1 ,engine='python')\n",
    "    return df[(df['pos'] != '空白') & (df['surface'] != 'EOS') & (df['pos'] != '記号')]"
   ]
  },
  {
   "cell_type": "code",
   "execution_count": 3,
   "metadata": {
    "colab": {
     "autoexec": {
      "startup": false,
      "wait_interval": 0
     },
     "base_uri": "https://localhost:8080/",
     "height": 35
    },
    "colab_type": "code",
    "executionInfo": {
     "elapsed": 7453,
     "status": "ok",
     "timestamp": 1531996724602,
     "user": {
      "displayName": "fuku2986",
      "photoUrl": "https://lh3.googleusercontent.com/a/default-user=s128",
      "userId": "111229342394766192341"
     },
     "user_tz": -540
    },
    "id": "0fL3IJcN_vSK",
    "outputId": "58d9c48f-c1d5-450f-e7b3-dabc8971a2fe"
   },
   "outputs": [],
   "source": [
    "df = read_text()"
   ]
  },
  {
   "cell_type": "code",
   "execution_count": 4,
   "metadata": {
    "colab": {
     "autoexec": {
      "startup": false,
      "wait_interval": 0
     },
     "base_uri": "https://localhost:8080/",
     "height": 1092
    },
    "colab_type": "code",
    "executionInfo": {
     "elapsed": 623,
     "status": "ok",
     "timestamp": 1531996732242,
     "user": {
      "displayName": "fuku2986",
      "photoUrl": "https://lh3.googleusercontent.com/a/default-user=s128",
      "userId": "111229342394766192341"
     },
     "user_tz": -540
    },
    "id": "AYfXwWZ2A5n2",
    "outputId": "9698b14d-00b7-4d12-a250-e13715140739"
   },
   "outputs": [
    {
     "name": "stdout",
     "output_type": "stream",
     "text": [
      "CPU times: user 25.7 ms, sys: 4.67 ms, total: 30.4 ms\n",
      "Wall time: 28.6 ms\n"
     ]
    },
    {
     "data": {
      "text/html": [
       "<div>\n",
       "<style scoped>\n",
       "    .dataframe tbody tr th:only-of-type {\n",
       "        vertical-align: middle;\n",
       "    }\n",
       "\n",
       "    .dataframe tbody tr th {\n",
       "        vertical-align: top;\n",
       "    }\n",
       "\n",
       "    .dataframe thead th {\n",
       "        text-align: right;\n",
       "    }\n",
       "</style>\n",
       "<table border=\"1\" class=\"dataframe\">\n",
       "  <thead>\n",
       "    <tr style=\"text-align: right;\">\n",
       "      <th></th>\n",
       "      <th>surface</th>\n",
       "      <th>pos</th>\n",
       "      <th>pos1</th>\n",
       "      <th>base</th>\n",
       "    </tr>\n",
       "  </thead>\n",
       "  <tbody>\n",
       "    <tr>\n",
       "      <th>17</th>\n",
       "      <td>見当</td>\n",
       "      <td>名詞</td>\n",
       "      <td>サ変接続</td>\n",
       "      <td>見当</td>\n",
       "    </tr>\n",
       "    <tr>\n",
       "      <th>36</th>\n",
       "      <td>記憶</td>\n",
       "      <td>名詞</td>\n",
       "      <td>サ変接続</td>\n",
       "      <td>記憶</td>\n",
       "    </tr>\n",
       "    <tr>\n",
       "      <th>75</th>\n",
       "      <td>そうだ</td>\n",
       "      <td>名詞</td>\n",
       "      <td>サ変接続</td>\n",
       "      <td>そうだ</td>\n",
       "    </tr>\n",
       "    <tr>\n",
       "      <th>92</th>\n",
       "      <td>話</td>\n",
       "      <td>名詞</td>\n",
       "      <td>サ変接続</td>\n",
       "      <td>話</td>\n",
       "    </tr>\n",
       "    <tr>\n",
       "      <th>192</th>\n",
       "      <td>装飾</td>\n",
       "      <td>名詞</td>\n",
       "      <td>サ変接続</td>\n",
       "      <td>装飾</td>\n",
       "    </tr>\n",
       "    <tr>\n",
       "      <th>...</th>\n",
       "      <td>...</td>\n",
       "      <td>...</td>\n",
       "      <td>...</td>\n",
       "      <td>...</td>\n",
       "    </tr>\n",
       "    <tr>\n",
       "      <th>212046</th>\n",
       "      <td>行水</td>\n",
       "      <td>名詞</td>\n",
       "      <td>サ変接続</td>\n",
       "      <td>行水</td>\n",
       "    </tr>\n",
       "    <tr>\n",
       "      <th>212369</th>\n",
       "      <td>拷問</td>\n",
       "      <td>名詞</td>\n",
       "      <td>サ変接続</td>\n",
       "      <td>拷問</td>\n",
       "    </tr>\n",
       "    <tr>\n",
       "      <th>212422</th>\n",
       "      <td>抵抗</td>\n",
       "      <td>名詞</td>\n",
       "      <td>サ変接続</td>\n",
       "      <td>抵抗</td>\n",
       "    </tr>\n",
       "    <tr>\n",
       "      <th>212449</th>\n",
       "      <td>見当</td>\n",
       "      <td>名詞</td>\n",
       "      <td>サ変接続</td>\n",
       "      <td>見当</td>\n",
       "    </tr>\n",
       "    <tr>\n",
       "      <th>212473</th>\n",
       "      <td>判然</td>\n",
       "      <td>名詞</td>\n",
       "      <td>サ変接続</td>\n",
       "      <td>判然</td>\n",
       "    </tr>\n",
       "  </tbody>\n",
       "</table>\n",
       "<p>4847 rows × 4 columns</p>\n",
       "</div>"
      ],
      "text/plain": [
       "       surface pos  pos1 base\n",
       "17          見当  名詞  サ変接続   見当\n",
       "36          記憶  名詞  サ変接続   記憶\n",
       "75         そうだ  名詞  サ変接続  そうだ\n",
       "92           話  名詞  サ変接続    話\n",
       "192         装飾  名詞  サ変接続   装飾\n",
       "...        ...  ..   ...  ...\n",
       "212046      行水  名詞  サ変接続   行水\n",
       "212369      拷問  名詞  サ変接続   拷問\n",
       "212422      抵抗  名詞  サ変接続   抵抗\n",
       "212449      見当  名詞  サ変接続   見当\n",
       "212473      判然  名詞  サ変接続   判然\n",
       "\n",
       "[4847 rows x 4 columns]"
      ]
     },
     "execution_count": 4,
     "metadata": {},
     "output_type": "execute_result"
    }
   ],
   "source": [
    "%%time\n",
    "# 75「そうだ」はMecabの間違え\n",
    "df[(df['pos'] == '名詞') & (df['pos1'] == 'サ変接続')]"
   ]
  },
  {
   "cell_type": "code",
   "execution_count": null,
   "metadata": {},
   "outputs": [],
   "source": []
  }
 ],
 "metadata": {
  "colab": {
   "collapsed_sections": [],
   "default_view": {},
   "name": "033.サ変名詞.ipynb",
   "provenance": [
    {
     "file_id": "1NXyP-YSHrhtu4NyYwTxFJ5dfVyADTxHu",
     "timestamp": 1531862903771
    },
    {
     "file_id": "1i9CCycHbIxCBTEeo7KxcrkImoP3IzjBh",
     "timestamp": 1531862742077
    },
    {
     "file_id": "1jxDCewZmxJbSwFG0y0mAx3VlLUPZ9Cw4",
     "timestamp": 1531727665219
    }
   ],
   "version": "0.3.2",
   "views": {}
  },
  "kernelspec": {
   "display_name": "Python 3",
   "language": "python",
   "name": "python3"
  },
  "language_info": {
   "codemirror_mode": {
    "name": "ipython",
    "version": 3
   },
   "file_extension": ".py",
   "mimetype": "text/x-python",
   "name": "python",
   "nbconvert_exporter": "python",
   "pygments_lexer": "ipython3",
   "version": "3.8.1"
  }
 },
 "nbformat": 4,
 "nbformat_minor": 4
}
