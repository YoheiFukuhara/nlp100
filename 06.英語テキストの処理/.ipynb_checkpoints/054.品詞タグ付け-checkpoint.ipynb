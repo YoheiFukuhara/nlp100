{
 "cells": [
  {
   "cell_type": "markdown",
   "metadata": {},
   "source": [
    "Stanford Core NLPの解析結果XMLを読み込み，単語，レンマ，品詞をタブ区切り形式で出力せよ．"
   ]
  },
  {
   "cell_type": "code",
   "execution_count": 1,
   "metadata": {},
   "outputs": [],
   "source": [
    "import os\n",
    "import subprocess\n",
    "import xml.etree.ElementTree as ET"
   ]
  },
  {
   "cell_type": "code",
   "execution_count": 2,
   "metadata": {},
   "outputs": [],
   "source": [
    "fname = './nlp.txt'\n",
    "fname_parsed = './nlp.txt.xml'"
   ]
  },
  {
   "cell_type": "code",
   "execution_count": 5,
   "metadata": {},
   "outputs": [],
   "source": [
    "def parse_nlp():\n",
    "    '''nlp.txtをStanford Core NLPで解析しxmlファイルへ出力\n",
    "    すでに結果ファイルが存在する場合は実行しない\n",
    "    '''\n",
    "    if not os.path.exists(fname_parsed):\n",
    "\n",
    "        # StanfordCoreNLP実行、標準エラーはparse.outへ出力\n",
    "        subprocess.run(\n",
    "            'java -cp \"/usr/local/lib/stanford-corenlp-full-2018-10-05/*\"'\n",
    "            ' -Xmx2g'\n",
    "            ' edu.stanford.nlp.pipeline.StanfordCoreNLP'\n",
    "            ' -annotators tokenize,ssplit,pos,lemma,ner,parse,dcoref'\n",
    "            ' -file ' + fname + ' 2>parse.out',\n",
    "            shell=True,     # shellで実行\n",
    "            check=True      # エラーチェックあり\n",
    "        )"
   ]
  },
  {
   "cell_type": "code",
   "execution_count": null,
   "metadata": {},
   "outputs": [],
   "source": [
    "# nlp.txtを解析\n",
    "parse_nlp()"
   ]
  },
  {
   "cell_type": "code",
   "execution_count": null,
   "metadata": {},
   "outputs": [],
   "source": [
    "# 解析結果のxmlをパース\n",
    "root = ET.parse(fname_parsed)"
   ]
  },
  {
   "cell_type": "code",
   "execution_count": null,
   "metadata": {},
   "outputs": [],
   "source": [
    "# wordのみ取り出し\n",
    "for word in root.iter('word'):\n",
    "    print(word.text)"
   ]
  },
  {
   "cell_type": "code",
   "execution_count": null,
   "metadata": {},
   "outputs": [],
   "source": []
  }
 ],
 "metadata": {
  "kernelspec": {
   "display_name": "Python 3",
   "language": "python",
   "name": "python3"
  },
  "language_info": {
   "codemirror_mode": {
    "name": "ipython",
    "version": 3
   },
   "file_extension": ".py",
   "mimetype": "text/x-python",
   "name": "python",
   "nbconvert_exporter": "python",
   "pygments_lexer": "ipython3",
   "version": "3.7.2"
  }
 },
 "nbformat": 4,
 "nbformat_minor": 2
}
