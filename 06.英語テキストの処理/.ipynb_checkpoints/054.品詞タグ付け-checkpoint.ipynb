{
 "cells": [
  {
   "cell_type": "markdown",
   "metadata": {},
   "source": [
    "Stanford Core NLPの解析結果XMLを読み込み，単語，レンマ，品詞をタブ区切り形式で出力せよ．"
   ]
  },
  {
   "cell_type": "code",
   "execution_count": 1,
   "metadata": {},
   "outputs": [],
   "source": [
    "import xml.etree.ElementTree as ET"
   ]
  },
  {
   "cell_type": "code",
   "execution_count": 2,
   "metadata": {},
   "outputs": [
    {
     "name": "stdout",
     "output_type": "stream",
     "text": [
      "0\tNatural\tnatural\tJJ\n",
      "1\tlanguage\tlanguage\tNN\n",
      "2\tprocessing\tprocessing\tNN\n",
      "3\tFrom\tfrom\tIN\n",
      "4\tWikipedia\tWikipedia\tNNP\n",
      "5\t,\t,\t,\n",
      "6\tthe\tthe\tDT\n",
      "7\tfree\tfree\tJJ\n",
      "8\tencyclopedia\tencyclopedia\tNN\n",
      "9\tNatural\tnatural\tJJ\n",
      "10\tlanguage\tlanguage\tNN\n",
      "11\tprocessing\tprocessing\tNN\n",
      "12\t-LRB-\t-lrb-\t-LRB-\n",
      "13\tNLP\tnlp\tNN\n",
      "14\t-RRB-\t-rrb-\t-RRB-\n",
      "15\tis\tbe\tVBZ\n",
      "16\ta\ta\tDT\n",
      "17\tfield\tfield\tNN\n",
      "18\tof\tof\tIN\n",
      "19\tcomputer\tcomputer\tNN\n",
      "20\tscience\tscience\tNN\n",
      "21\t,\t,\t,\n",
      "22\tartificial\tartificial\tJJ\n",
      "23\tintelligence\tintelligence\tNN\n",
      "24\t,\t,\t,\n",
      "25\tand\tand\tCC\n",
      "26\tlinguistics\tlinguistics\tNNS\n",
      "27\tconcerned\tconcern\tVBN\n",
      "28\twith\twith\tIN\n",
      "29\tthe\tthe\tDT\n",
      "30\tinteractions\tinteraction\tNNS\n",
      "31\tbetween\tbetween\tIN\n"
     ]
    }
   ],
   "source": [
    "for i, token in enumerate(ET.parse('./nlp.txt.xml').iter('token')):\n",
    "    print('{}\\t{}\\t{}\\t{}'.format(i, token.findtext('word'), \n",
    "                                  token.findtext('lemma'), token.findtext('POS')))\n",
    "    \n",
    "    # 多いので制限\n",
    "    if i > 30:\n",
    "        break    "
   ]
  },
  {
   "cell_type": "code",
   "execution_count": null,
   "metadata": {},
   "outputs": [],
   "source": []
  }
 ],
 "metadata": {
  "kernelspec": {
   "display_name": "Python 3",
   "language": "python",
   "name": "python3"
  },
  "language_info": {
   "codemirror_mode": {
    "name": "ipython",
    "version": 3
   },
   "file_extension": ".py",
   "mimetype": "text/x-python",
   "name": "python",
   "nbconvert_exporter": "python",
   "pygments_lexer": "ipython3",
   "version": "3.8.1"
  }
 },
 "nbformat": 4,
 "nbformat_minor": 4
}
