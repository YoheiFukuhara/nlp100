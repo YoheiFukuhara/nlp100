{
 "cells": [
  {
   "cell_type": "markdown",
   "metadata": {},
   "source": [
    "Stanford Core NLPの係り受け解析の結果（collapsed-dependencies）に基づき，「主語 述語 目的語」の組をタブ区切り形式で出力せよ．ただし，主語，述語，目的語の定義は以下を参考にせよ．\n",
    "- 述語: nsubj関係とdobj関係の子（dependant）を持つ単語\n",
    "- 主語: 述語からnsubj関係にある子（dependent）\n",
    "- 目的語: 述語からdobj関係にある子（dependent）"
   ]
  },
  {
   "cell_type": "code",
   "execution_count": 1,
   "metadata": {},
   "outputs": [],
   "source": [
    "import xml.etree.ElementTree as ET"
   ]
  },
  {
   "cell_type": "code",
   "execution_count": 2,
   "metadata": {},
   "outputs": [
    {
     "name": "stdout",
     "output_type": "stream",
     "text": [
      "3 \t involve\tunderstanding\tgeneration\n",
      "5 \t published\tTuring\tarticle\n",
      "6 \t involved\texperiment\ttranslation\n",
      "11 \t provided\tELIZA\tinteraction\n",
      "12 \t exceeded\tpatient\tbase\n",
      "12 \t provide\tELIZA\tresponse\n",
      "14 \t structured\twhich\tinformation\n",
      "19 \t discouraged\tunderpinnings\tsort\n",
      "19 \t underlies\tthat\tapproach\n",
      "20 \t produced\tSome\tsystems\n",
      "21 \t make\twhich\tdecisions\n",
      "23 \t contains\tthat\terrors\n",
      "34 \t involved\timplementations\tcoding\n",
      "38 \t take\talgorithms\tset\n",
      "39 \t produced\tSome\tsystems\n",
      "40 \t make\twhich\tdecisions\n",
      "41 \t have\tmodels\tadvantage\n",
      "41 \t express\tthey\tcertainty\n",
      "42 \t have\tSystems\tadvantages\n",
      "43 \t make\tprocedures\tuse\n",
      "44 \t make\tthat\tdecisions\n"
     ]
    }
   ],
   "source": [
    "texts = []\n",
    "# sentence列挙、1文ずつ処理\n",
    "for sentence in ET.parse('./nlp.txt.xml').iterfind('./document/sentences/sentence'):\n",
    "\n",
    "    output = {}\n",
    "    \n",
    "    # dependencies列挙\n",
    "    for dep in sentence.iterfind('./dependencies[@type=\"collapsed-dependencies\"]/dep'):\n",
    "\n",
    "        # 関係チェック\n",
    "        dep_type = dep.get('type')\n",
    "        if dep_type == 'nsubj' or dep_type == 'dobj':\n",
    "\n",
    "            # 述語の辞書に追加\n",
    "            governor = dep.find('./governor')\n",
    "            index = governor.get('idx')\n",
    "            if index in output:\n",
    "                texts = output[index]\n",
    "            else:\n",
    "                texts = [governor.text, '', '']\n",
    "\n",
    "            # 主語 or目的語に追加(同じ述語なら後勝ち)\n",
    "            if dep_type == 'nsubj':\n",
    "                texts[1] = dep.find('./dependent').text\n",
    "            else:\n",
    "                texts[2] = dep.find('./dependent').text\n",
    "            output[index] = texts\n",
    "\n",
    "    for key, texts in output.items():\n",
    "        if texts[1] != '' and texts[2] != '':\n",
    "            print(sentence.get('id'), '\\t', '\\t'.join(texts))"
   ]
  },
  {
   "cell_type": "code",
   "execution_count": null,
   "metadata": {},
   "outputs": [],
   "source": []
  }
 ],
 "metadata": {
  "kernelspec": {
   "display_name": "Python 3",
   "language": "python",
   "name": "python3"
  },
  "language_info": {
   "codemirror_mode": {
    "name": "ipython",
    "version": 3
   },
   "file_extension": ".py",
   "mimetype": "text/x-python",
   "name": "python",
   "nbconvert_exporter": "python",
   "pygments_lexer": "ipython3",
   "version": "3.8.1"
  }
 },
 "nbformat": 4,
 "nbformat_minor": 4
}
