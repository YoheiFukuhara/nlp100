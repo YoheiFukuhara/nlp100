{
 "cells": [
  {
   "cell_type": "code",
   "execution_count": 1,
   "metadata": {},
   "outputs": [],
   "source": [
    "def test(i):\n",
    "    yield i + 1\n",
    "    yield i + 2\n",
    "    yield i + 3"
   ]
  },
  {
   "cell_type": "code",
   "execution_count": 5,
   "metadata": {},
   "outputs": [
    {
     "name": "stdout",
     "output_type": "stream",
     "text": [
      "2\n"
     ]
    }
   ],
   "source": [
    "gen = test(1)\n",
    "\n",
    "for i in gen:\n",
    "    print(i)"
   ]
  },
  {
   "cell_type": "code",
   "execution_count": 2,
   "metadata": {},
   "outputs": [
    {
     "data": {
      "text/plain": [
       "['Words', ', ', 'words', ', ', 'words', '.', '']"
      ]
     },
     "execution_count": 2,
     "metadata": {},
     "output_type": "execute_result"
    }
   ],
   "source": [
    "import re\n",
    "re.split(r'(\\W+)', 'Words, words, words.')"
   ]
  },
  {
   "cell_type": "code",
   "execution_count": 14,
   "metadata": {},
   "outputs": [
    {
     "data": {
      "text/plain": [
       "['Words', 'words', 'words', '']"
      ]
     },
     "execution_count": 14,
     "metadata": {},
     "output_type": "execute_result"
    }
   ],
   "source": [
    "re.split(r'\\W+', 'Words, words, words....')"
   ]
  },
  {
   "cell_type": "code",
   "execution_count": 8,
   "metadata": {},
   "outputs": [
    {
     "data": {
      "text/plain": [
       "['Words', 'words, words.']"
      ]
     },
     "execution_count": 8,
     "metadata": {},
     "output_type": "execute_result"
    }
   ],
   "source": [
    "re.split(r'\\W+', 'Words, words, words.', 1)"
   ]
  },
  {
   "cell_type": "code",
   "execution_count": 10,
   "metadata": {},
   "outputs": [],
   "source": [
    "text = '(ROOT (S (PP (IN As) (NP (JJ such))) (, ,) (NP (NN NLP)) (VP (VBZ is) (ADJP (VBN related) (PP (TO to) (NP (NP (DT the) (NN area)) (PP (IN of) (NP (JJ humani-computer) (NN interaction))))))) (. .))) '"
   ]
  },
  {
   "cell_type": "code",
   "execution_count": 11,
   "metadata": {},
   "outputs": [
    {
     "name": "stdout",
     "output_type": "stream",
     "text": [
      "(ROOT(S(PP(IN As)(NP(JJ such)))(, ,)(NP(NN NLP))(VP(VBZ is)(ADJP(VBN related)(PP(TO to)(NP(NP(DT the)(NN area))(PP(IN of)(NP(JJ humani-computer)(NN interaction)))))))(. .))) \n"
     ]
    },
    {
     "data": {
      "text/plain": [
       "['',\n",
       " '(',\n",
       " 'ROOT',\n",
       " '(',\n",
       " 'S',\n",
       " '(',\n",
       " 'PP',\n",
       " '(',\n",
       " 'IN As',\n",
       " ')',\n",
       " '',\n",
       " '(',\n",
       " 'NP',\n",
       " '(',\n",
       " 'JJ such',\n",
       " ')',\n",
       " '',\n",
       " ')',\n",
       " '',\n",
       " ')',\n",
       " '',\n",
       " '(',\n",
       " ', ,',\n",
       " ')',\n",
       " '',\n",
       " '(',\n",
       " 'NP',\n",
       " '(',\n",
       " 'NN NLP',\n",
       " ')',\n",
       " '',\n",
       " ')',\n",
       " '',\n",
       " '(',\n",
       " 'VP',\n",
       " '(',\n",
       " 'VBZ is',\n",
       " ')',\n",
       " '',\n",
       " '(',\n",
       " 'ADJP',\n",
       " '(',\n",
       " 'VBN related',\n",
       " ')',\n",
       " '',\n",
       " '(',\n",
       " 'PP',\n",
       " '(',\n",
       " 'TO to',\n",
       " ')',\n",
       " '',\n",
       " '(',\n",
       " 'NP',\n",
       " '(',\n",
       " 'NP',\n",
       " '(',\n",
       " 'DT the',\n",
       " ')',\n",
       " '',\n",
       " '(',\n",
       " 'NN area',\n",
       " ')',\n",
       " '',\n",
       " ')',\n",
       " '',\n",
       " '(',\n",
       " 'PP',\n",
       " '(',\n",
       " 'IN of',\n",
       " ')',\n",
       " '',\n",
       " '(',\n",
       " 'NP',\n",
       " '(',\n",
       " 'JJ humani-computer',\n",
       " ')',\n",
       " '',\n",
       " '(',\n",
       " 'NN interaction',\n",
       " ')',\n",
       " '',\n",
       " ')',\n",
       " '',\n",
       " ')',\n",
       " '',\n",
       " ')',\n",
       " '',\n",
       " ')',\n",
       " '',\n",
       " ')',\n",
       " '',\n",
       " ')',\n",
       " '',\n",
       " '(',\n",
       " '. .',\n",
       " ')',\n",
       " '',\n",
       " ')',\n",
       " '',\n",
       " ')',\n",
       " ' ']"
      ]
     },
     "execution_count": 11,
     "metadata": {},
     "output_type": "execute_result"
    }
   ],
   "source": [
    "text = re.sub(r'\\s\\(', r'(', text)\n",
    "print(text)\n",
    "re.split(r'(\\(|\\))', text)"
   ]
  },
  {
   "cell_type": "code",
   "execution_count": null,
   "metadata": {},
   "outputs": [],
   "source": []
  }
 ],
 "metadata": {
  "kernelspec": {
   "display_name": "Python 3",
   "language": "python",
   "name": "python3"
  },
  "language_info": {
   "codemirror_mode": {
    "name": "ipython",
    "version": 3
   },
   "file_extension": ".py",
   "mimetype": "text/x-python",
   "name": "python",
   "nbconvert_exporter": "python",
   "pygments_lexer": "ipython3",
   "version": "3.8.1"
  }
 },
 "nbformat": 4,
 "nbformat_minor": 4
}
