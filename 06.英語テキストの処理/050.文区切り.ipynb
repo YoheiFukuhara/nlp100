{
 "cells": [
  {
   "cell_type": "markdown",
   "metadata": {},
   "source": [
    "(. or ; or : or ? or !) → 空白文字 → 英大文字というパターンを文の区切りと見なし，入力された文書を1行1文の形式で出力せよ．"
   ]
  },
  {
   "cell_type": "code",
   "execution_count": 1,
   "metadata": {},
   "outputs": [],
   "source": [
    "import re"
   ]
  },
  {
   "cell_type": "code",
   "execution_count": 2,
   "metadata": {},
   "outputs": [],
   "source": [
    "with open('./nlp.txt') as file_in, \\\n",
    "     open('./050.result.txt', 'w') as file_out:\n",
    "    for line in file_in:\n",
    "        if line != '\\n':\n",
    "            line = re.sub(r'''\n",
    "                         (?<=[\\.|;|:|\\?|!]) # 肯定の後読みで . or ; or : or ? or !\n",
    "                         \\s                 # 空白(改行への置換対象)\n",
    "                         (?=[A-Z])          # 肯定の先読みで英大文字\n",
    "                       ''', '\\n', line, flags = re.VERBOSE)\n",
    "            print(line.rstrip(), file=file_out)"
   ]
  },
  {
   "cell_type": "code",
   "execution_count": null,
   "metadata": {},
   "outputs": [],
   "source": []
  }
 ],
 "metadata": {
  "kernelspec": {
   "display_name": "Python 3",
   "language": "python",
   "name": "python3"
  },
  "language_info": {
   "codemirror_mode": {
    "name": "ipython",
    "version": 3
   },
   "file_extension": ".py",
   "mimetype": "text/x-python",
   "name": "python",
   "nbconvert_exporter": "python",
   "pygments_lexer": "ipython3",
   "version": "3.8.1"
  }
 },
 "nbformat": 4,
 "nbformat_minor": 4
}
