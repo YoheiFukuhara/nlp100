{
 "cells": [
  {
   "cell_type": "markdown",
   "metadata": {},
   "source": [
    "Stanford Core NLPを用い，入力テキストの解析結果をXML形式で得よ．また，このXMLファイルを読み込み，入力テキストを1行1単語の形式で出力せよ．"
   ]
  },
  {
   "cell_type": "markdown",
   "metadata": {},
   "source": [
    "https://stanfordnlp.github.io/CoreNLP/#download\n",
    "からダウンロード(あまり更新されていない模様)\n",
    "2020年現在も201810-05\n",
    "\n",
    "java -versionで\n",
    "\n",
    "```\n",
    "openjdk version \"1.8.0_242\"\n",
    "OpenJDK Runtime Environment (build 1.8.0_242-8u242-b08-0ubuntu3~18.04-b08)\n",
    "OpenJDK 64-Bit Server VM (build 25.242-b08, mixed mode)\n",
    "```"
   ]
  },
  {
   "cell_type": "code",
   "execution_count": 1,
   "metadata": {},
   "outputs": [],
   "source": [
    "import xml.etree.ElementTree as ET"
   ]
  },
  {
   "cell_type": "code",
   "execution_count": 2,
   "metadata": {},
   "outputs": [
    {
     "name": "stdout",
     "output_type": "stream",
     "text": [
      "0 \t Natural\n",
      "1 \t language\n",
      "2 \t processing\n",
      "3 \t From\n",
      "4 \t Wikipedia\n",
      "5 \t ,\n",
      "6 \t the\n",
      "7 \t free\n",
      "8 \t encyclopedia\n",
      "9 \t Natural\n",
      "10 \t language\n",
      "11 \t processing\n",
      "12 \t -LRB-\n",
      "13 \t NLP\n",
      "14 \t -RRB-\n",
      "15 \t is\n",
      "16 \t a\n",
      "17 \t field\n",
      "18 \t of\n",
      "19 \t computer\n",
      "20 \t science\n",
      "21 \t ,\n",
      "22 \t artificial\n",
      "23 \t intelligence\n",
      "24 \t ,\n",
      "25 \t and\n",
      "26 \t linguistics\n",
      "27 \t concerned\n",
      "28 \t with\n",
      "29 \t the\n",
      "30 \t interactions\n",
      "31 \t between\n"
     ]
    }
   ],
   "source": [
    "# wordのみ取り出し\n",
    "for i, word in enumerate(ET.parse('./nlp.txt.xml').iter('word')):\n",
    "    print(i, '\\t' ,word.text)\n",
    "    \n",
    "    # 多いので制限\n",
    "    if i > 30:\n",
    "        break"
   ]
  },
  {
   "cell_type": "code",
   "execution_count": null,
   "metadata": {},
   "outputs": [],
   "source": []
  }
 ],
 "metadata": {
  "kernelspec": {
   "display_name": "Python 3",
   "language": "python",
   "name": "python3"
  },
  "language_info": {
   "codemirror_mode": {
    "name": "ipython",
    "version": 3
   },
   "file_extension": ".py",
   "mimetype": "text/x-python",
   "name": "python",
   "nbconvert_exporter": "python",
   "pygments_lexer": "ipython3",
   "version": "3.8.1"
  }
 },
 "nbformat": 4,
 "nbformat_minor": 4
}
