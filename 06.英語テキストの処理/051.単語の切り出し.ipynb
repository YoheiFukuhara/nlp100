{
 "cells": [
  {
   "cell_type": "markdown",
   "metadata": {},
   "source": [
    "空白を単語の区切りとみなし，50の出力を入力として受け取り，1行1単語の形式で出力せよ．ただし，文の終端では空行を出力せよ．"
   ]
  },
  {
   "cell_type": "code",
   "execution_count": 1,
   "metadata": {},
   "outputs": [],
   "source": [
    "import re"
   ]
  },
  {
   "cell_type": "code",
   "execution_count": 2,
   "metadata": {},
   "outputs": [],
   "source": [
    "with open('./050.result.txt') as file_in, \\\n",
    "     open('./051.result.txt', 'w') as file_out:\n",
    "    for line in file_in:\n",
    "        if line != '\\n':\n",
    "            line = re.sub(r'''\n",
    "                         [\\.|;|:|\\?|!|,]*  # . or ; or : or ? or ! or , が0回以上\n",
    "                         \\s                 # 空白\n",
    "                       ''', '\\n', line, flags = re.VERBOSE)\n",
    "            print(line, file=file_out)"
   ]
  },
  {
   "cell_type": "code",
   "execution_count": null,
   "metadata": {},
   "outputs": [],
   "source": []
  }
 ],
 "metadata": {
  "kernelspec": {
   "display_name": "Python 3",
   "language": "python",
   "name": "python3"
  },
  "language_info": {
   "codemirror_mode": {
    "name": "ipython",
    "version": 3
   },
   "file_extension": ".py",
   "mimetype": "text/x-python",
   "name": "python",
   "nbconvert_exporter": "python",
   "pygments_lexer": "ipython3",
   "version": "3.8.1"
  }
 },
 "nbformat": 4,
 "nbformat_minor": 4
}
