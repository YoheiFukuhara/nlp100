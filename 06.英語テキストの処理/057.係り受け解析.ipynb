{
 "cells": [
  {
   "cell_type": "markdown",
   "metadata": {},
   "source": [
    "Stanford Core NLPの係り受け解析の結果（collapsed-dependencies）を有向グラフとして可視化せよ．可視化には，係り受け木をDOT言語に変換し，Graphvizを用いるとよい．また，Pythonから有向グラフを直接的に可視化するには，pydotを使うとよい．"
   ]
  },
  {
   "cell_type": "code",
   "execution_count": 1,
   "metadata": {},
   "outputs": [],
   "source": [
    "import xml.etree.ElementTree as ET\n",
    "\n",
    "import pydot"
   ]
  },
  {
   "cell_type": "code",
   "execution_count": 2,
   "metadata": {},
   "outputs": [],
   "source": [
    "for i, sentence in enumerate(ET.parse('./nlp.txt.xml').iterfind('./document/sentences/sentence')):\n",
    "    edges = []\n",
    "    for dependency in sentence.iterfind('./dependencies[@type=\"collapsed-dependencies\"]/dep'):\n",
    "        \n",
    "        # 句読点除外\n",
    "        if dependency.get('type') != 'punct':\n",
    "            governor = dependency.find('./governor')\n",
    "            dependent = dependency.find('./dependent')\n",
    "            edges.append(((governor.get('idx'), governor.text), \n",
    "                          (dependent.get('idx'), dependent.text)))\n",
    "    if len(edges) > 0:\n",
    "        graph = pydot.graph_from_edges(edges, directed=True)\n",
    "        graph.write_jpeg('057.graph_{}.jpeg'.format(i))\n",
    "    \n",
    "    if i > 5:\n",
    "        break"
   ]
  },
  {
   "cell_type": "markdown",
   "metadata": {},
   "source": [
    "https://nlp.stanford.edu/software/stanford-dependencies.shtml\n",
    "\n",
    "networkxかgraphviz使えばよかったな\n",
    "https://programgenjin.hatenablog.com/entry/2019/02/26/075121\n",
    "https://cppx.hatenablog.com/entry/2018/12/11/025430"
   ]
  },
  {
   "cell_type": "code",
   "execution_count": null,
   "metadata": {},
   "outputs": [],
   "source": []
  }
 ],
 "metadata": {
  "kernelspec": {
   "display_name": "Python 3",
   "language": "python",
   "name": "python3"
  },
  "language_info": {
   "codemirror_mode": {
    "name": "ipython",
    "version": 3
   },
   "file_extension": ".py",
   "mimetype": "text/x-python",
   "name": "python",
   "nbconvert_exporter": "python",
   "pygments_lexer": "ipython3",
   "version": "3.8.1"
  }
 },
 "nbformat": 4,
 "nbformat_minor": 4
}
