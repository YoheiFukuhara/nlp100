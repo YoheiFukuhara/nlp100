{
 "cells": [
  {
   "cell_type": "code",
   "execution_count": 1,
   "metadata": {},
   "outputs": [],
   "source": [
    "import re"
   ]
  },
  {
   "cell_type": "code",
   "execution_count": 7,
   "metadata": {},
   "outputs": [
    {
     "data": {
      "text/plain": [
       "<re.Match object; span=(0, 3), match=', ,'>"
      ]
     },
     "execution_count": 7,
     "metadata": {},
     "output_type": "execute_result"
    }
   ],
   "source": [
    "text = ', ,'\n",
    "reg_set = re.compile(r'''\n",
    "                         \\S+\n",
    "                         \\s\n",
    "                         \\S+\n",
    "                         ''', re.VERBOSE)\n",
    "reg_set.match(text)"
   ]
  },
  {
   "cell_type": "code",
   "execution_count": 10,
   "metadata": {},
   "outputs": [
    {
     "name": "stdout",
     "output_type": "stream",
     "text": [
      "[0, 1, 2, 3, 4]\n",
      "[1, 2, 3, 4]\n",
      "[2, 3, 4]\n",
      "[3, 4]\n",
      "[4]\n"
     ]
    }
   ],
   "source": [
    "list_ = [0, 1, 2, 3, 4]\n",
    "for i, num in enumerate(list_):\n",
    "    print(list_[i:])"
   ]
  },
  {
   "cell_type": "code",
   "execution_count": 11,
   "metadata": {},
   "outputs": [],
   "source": [
    "def test(i, reccur=False):\n",
    "    print(i, reccur)\n",
    "    if i == 3 and reccur == False:\n",
    "        test(i, True)"
   ]
  },
  {
   "cell_type": "code",
   "execution_count": 12,
   "metadata": {},
   "outputs": [
    {
     "name": "stdout",
     "output_type": "stream",
     "text": [
      "0 False\n",
      "1 False\n",
      "2 False\n",
      "3 False\n",
      "3 True\n",
      "4 False\n"
     ]
    }
   ],
   "source": [
    "for i, num in enumerate(list_):\n",
    "    test(i)"
   ]
  },
  {
   "cell_type": "code",
   "execution_count": 13,
   "metadata": {},
   "outputs": [],
   "source": [
    "text = '(ROOT (S (PP (IN As) (NP (JJ such))) (, ,) (NP (NN NLP)) (VP (VBZ is) (ADJP (VBN related) (PP (TO to) (NP (NP (DT the) (NN area)) (PP (IN of) (NP (JJ humani-computer) (NN interaction))))))) (. .))) '"
   ]
  },
  {
   "cell_type": "code",
   "execution_count": 17,
   "metadata": {},
   "outputs": [
    {
     "name": "stdout",
     "output_type": "stream",
     "text": [
      "(ROOT(S(PP(IN As)(NP(JJ such)))(, ,)(NP(NN NLP))(VP(VBZ is)(ADJP(VBN related)(PP(TO to)(NP(NP(DT the)(NN area))(PP(IN of)(NP(JJ humani-computer)(NN interaction)))))))(. .))) \n"
     ]
    },
    {
     "data": {
      "text/plain": [
       "['(',\n",
       " 'ROOT',\n",
       " '(',\n",
       " 'S',\n",
       " '(',\n",
       " 'PP',\n",
       " '(',\n",
       " 'IN As',\n",
       " ')',\n",
       " '(',\n",
       " 'NP',\n",
       " '(',\n",
       " 'JJ such',\n",
       " ')',\n",
       " ')',\n",
       " ')',\n",
       " '(',\n",
       " ', ,',\n",
       " ')',\n",
       " '(',\n",
       " 'NP',\n",
       " '(',\n",
       " 'NN NLP',\n",
       " ')',\n",
       " ')',\n",
       " '(',\n",
       " 'VP',\n",
       " '(',\n",
       " 'VBZ is',\n",
       " ')',\n",
       " '(',\n",
       " 'ADJP',\n",
       " '(',\n",
       " 'VBN related',\n",
       " ')',\n",
       " '(',\n",
       " 'PP',\n",
       " '(',\n",
       " 'TO to',\n",
       " ')',\n",
       " '(',\n",
       " 'NP',\n",
       " '(',\n",
       " 'NP',\n",
       " '(',\n",
       " 'DT the',\n",
       " ')',\n",
       " '(',\n",
       " 'NN area',\n",
       " ')',\n",
       " ')',\n",
       " '(',\n",
       " 'PP',\n",
       " '(',\n",
       " 'IN of',\n",
       " ')',\n",
       " '(',\n",
       " 'NP',\n",
       " '(',\n",
       " 'JJ humani-computer',\n",
       " ')',\n",
       " '(',\n",
       " 'NN interaction',\n",
       " ')',\n",
       " ')',\n",
       " ')',\n",
       " ')',\n",
       " ')',\n",
       " ')',\n",
       " ')',\n",
       " '(',\n",
       " '. .',\n",
       " ')',\n",
       " ')',\n",
       " ')',\n",
       " ' ']"
      ]
     },
     "execution_count": 17,
     "metadata": {},
     "output_type": "execute_result"
    }
   ],
   "source": [
    "text = re.sub(r'\\s\\(', r'(', text)\n",
    "print(text)\n",
    "[element for element in re.split(r'(\\(|\\))', text) if element != '']\n",
    "#l = [x.strip() for x in s.split(',') if not x.strip() == '']"
   ]
  },
  {
   "cell_type": "code",
   "execution_count": null,
   "metadata": {},
   "outputs": [],
   "source": []
  }
 ],
 "metadata": {
  "kernelspec": {
   "display_name": "Python 3",
   "language": "python",
   "name": "python3"
  },
  "language_info": {
   "codemirror_mode": {
    "name": "ipython",
    "version": 3
   },
   "file_extension": ".py",
   "mimetype": "text/x-python",
   "name": "python",
   "nbconvert_exporter": "python",
   "pygments_lexer": "ipython3",
   "version": "3.8.1"
  }
 },
 "nbformat": 4,
 "nbformat_minor": 4
}
