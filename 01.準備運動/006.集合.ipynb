{
 "cells": [
  {
   "cell_type": "markdown",
   "metadata": {
    "colab_type": "text",
    "id": "yO1rVF0jALux"
   },
   "source": [
    "\"paraparaparadise\"と\"paragraph\"に含まれる文字bi-gramの集合を，それぞれ, XとYとして求め，XとYの和集合，積集合，差集合を求めよ．さらに，'se'というbi-gramがXおよびYに含まれるかどうかを調べよ．"
   ]
  },
  {
   "cell_type": "code",
   "execution_count": 1,
   "metadata": {},
   "outputs": [],
   "source": [
    "def generate_ngram(sentence):\n",
    "    \n",
    "    # 空白除去\n",
    "    chars = sentence.replace(' ','')\n",
    "    \n",
    "    # 文字bi-gram生成\n",
    "    bigram_char = [chars[i-1] + chars[i] for i in range(len(chars)) if i > 0]\n",
    "    \n",
    "    return bigram_char"
   ]
  },
  {
   "cell_type": "code",
   "execution_count": 2,
   "metadata": {},
   "outputs": [
    {
     "name": "stdout",
     "output_type": "stream",
     "text": [
      "{'ag', 'ap', 'se', 'ra', 'is', 'pa', 'ad', 'ph', 'di', 'ar', 'gr'}\n",
      "{'pa', 'ar', 'ap', 'ra'}\n",
      "{'ad', 'se', 'di', 'is'}\n"
     ]
    }
   ],
   "source": [
    "bigram_x = set(generate_ngram('paraparaparadise'))\n",
    "bigram_y = set(generate_ngram('paragraph'))\n",
    "\n",
    "#和集合\n",
    "print(bigram_x.union(bigram_y))\n",
    "\n",
    "#積集合\n",
    "print(bigram_x.intersection(bigram_y))\n",
    "\n",
    "#差集合\n",
    "print(bigram_x.difference(bigram_y))"
   ]
  },
  {
   "cell_type": "code",
   "execution_count": 3,
   "metadata": {},
   "outputs": [
    {
     "name": "stdout",
     "output_type": "stream",
     "text": [
      "{'se'}\n",
      "set()\n"
     ]
    }
   ],
   "source": [
    "search_word = {'se'}\n",
    "print(search_word.intersection(bigram_x))\n",
    "print(search_word.intersection(bigram_y))"
   ]
  },
  {
   "cell_type": "code",
   "execution_count": null,
   "metadata": {},
   "outputs": [],
   "source": []
  }
 ],
 "metadata": {
  "colab": {
   "collapsed_sections": [],
   "default_view": {},
   "name": "006.集合.ipynb",
   "provenance": [],
   "version": "0.3.2",
   "views": {}
  },
  "kernelspec": {
   "display_name": "Python 3",
   "language": "python",
   "name": "python3"
  },
  "language_info": {
   "codemirror_mode": {
    "name": "ipython",
    "version": 3
   },
   "file_extension": ".py",
   "mimetype": "text/x-python",
   "name": "python",
   "nbconvert_exporter": "python",
   "pygments_lexer": "ipython3",
   "version": "3.6.8"
  }
 },
 "nbformat": 4,
 "nbformat_minor": 4
}
