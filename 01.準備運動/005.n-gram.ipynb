{
 "cells": [
  {
   "cell_type": "markdown",
   "metadata": {
    "colab_type": "text",
    "id": "WrU9wq0wybwb"
   },
   "source": [
    "与えられたシーケンス（文字列やリストなど）からn-gramを作る関数を作成せよ．この関数を用い，\"I am an NLPer\"という文から単語bi-gram，文字bi-gramを得よ．\n"
   ]
  },
  {
   "cell_type": "code",
   "execution_count": 1,
   "metadata": {
    "colab": {
     "autoexec": {
      "startup": false,
      "wait_interval": 0
     }
    },
    "colab_type": "code",
    "id": "ThnBSeANy0Fw"
   },
   "outputs": [],
   "source": [
    "def generate_ngram(sentence):\n",
    "    \n",
    "    # 空白で分割してリスト化\n",
    "    words = sentence.split()\n",
    "    \n",
    "    # 空白除去\n",
    "    chars = sentence.replace(' ','')\n",
    "    \n",
    "    # 単語bi-gram生成\n",
    "    bigram_word = [words[i-1] + ' ' + words[i] for i in range(len(words)) if i > 0]\n",
    "    \n",
    "    # 文字bi-gram生成\n",
    "    bigram_char = [chars[i-1] + chars[i] for i in range(len(chars)) if i > 0]\n",
    "    \n",
    "    return bigram_word, bigram_char"
   ]
  },
  {
   "cell_type": "code",
   "execution_count": 2,
   "metadata": {},
   "outputs": [
    {
     "name": "stdout",
     "output_type": "stream",
     "text": [
      "(['I am', 'am an', 'an NLPer'], ['Ia', 'am', 'ma', 'an', 'nN', 'NL', 'LP', 'Pe', 'er'])\n"
     ]
    }
   ],
   "source": [
    "print(generate_ngram('I am an NLPer'))"
   ]
  }
 ],
 "metadata": {
  "colab": {
   "collapsed_sections": [],
   "default_view": {},
   "name": "005.n-gram.ipynb",
   "provenance": [],
   "version": "0.3.2",
   "views": {}
  },
  "kernelspec": {
   "display_name": "Python 3",
   "language": "python",
   "name": "python3"
  },
  "language_info": {
   "codemirror_mode": {
    "name": "ipython",
    "version": 3
   },
   "file_extension": ".py",
   "mimetype": "text/x-python",
   "name": "python",
   "nbconvert_exporter": "python",
   "pygments_lexer": "ipython3",
   "version": "3.6.8"
  }
 },
 "nbformat": 4,
 "nbformat_minor": 4
}
